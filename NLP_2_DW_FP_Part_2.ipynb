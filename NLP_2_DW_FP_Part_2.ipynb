{
  "cells": [
    {
      "cell_type": "code",
      "execution_count": null,
      "metadata": {
        "id": "XUKkGDHjLznd"
      },
      "outputs": [],
      "source": [
        "import pandas as pd\n",
        "!pip install contractions\n",
        "!pip install textsearch\n",
        "!pip install tqdm\n",
        "import nltk\n",
        "nltk.download('punkt')"
      ]
    },
    {
      "cell_type": "code",
      "execution_count": null,
      "metadata": {
        "colab": {
          "base_uri": "https://localhost:8080/",
          "height": 206
        },
        "id": "Vl8lz3v3YTOR",
        "outputId": "4eaeb13e-3405-4076-b5ce-61fb31f50778"
      },
      "outputs": [
        {
          "data": {
            "text/html": [
              "\n",
              "  <div id=\"df-fcd5fc85-4b54-417f-a336-b53ea174e7e8\">\n",
              "    <div class=\"colab-df-container\">\n",
              "      <div>\n",
              "<style scoped>\n",
              "    .dataframe tbody tr th:only-of-type {\n",
              "        vertical-align: middle;\n",
              "    }\n",
              "\n",
              "    .dataframe tbody tr th {\n",
              "        vertical-align: top;\n",
              "    }\n",
              "\n",
              "    .dataframe thead th {\n",
              "        text-align: right;\n",
              "    }\n",
              "</style>\n",
              "<table border=\"1\" class=\"dataframe\">\n",
              "  <thead>\n",
              "    <tr style=\"text-align: right;\">\n",
              "      <th></th>\n",
              "      <th>Clothing ID</th>\n",
              "      <th>Age</th>\n",
              "      <th>Title</th>\n",
              "      <th>Review Text</th>\n",
              "      <th>Rating</th>\n",
              "      <th>Recommended IND</th>\n",
              "      <th>Positive Feedback Count</th>\n",
              "      <th>Division Name</th>\n",
              "      <th>Department Name</th>\n",
              "      <th>Class Name</th>\n",
              "    </tr>\n",
              "  </thead>\n",
              "  <tbody>\n",
              "    <tr>\n",
              "      <th>0</th>\n",
              "      <td>767</td>\n",
              "      <td>33</td>\n",
              "      <td></td>\n",
              "      <td>Absolutely wonderful - silky and sexy and comf...</td>\n",
              "      <td>4</td>\n",
              "      <td>1</td>\n",
              "      <td>0</td>\n",
              "      <td>Initmates</td>\n",
              "      <td>Intimate</td>\n",
              "      <td>Intimates</td>\n",
              "    </tr>\n",
              "    <tr>\n",
              "      <th>1</th>\n",
              "      <td>1080</td>\n",
              "      <td>34</td>\n",
              "      <td></td>\n",
              "      <td>Love this dress!  it's sooo pretty.  i happene...</td>\n",
              "      <td>5</td>\n",
              "      <td>1</td>\n",
              "      <td>4</td>\n",
              "      <td>General</td>\n",
              "      <td>Dresses</td>\n",
              "      <td>Dresses</td>\n",
              "    </tr>\n",
              "    <tr>\n",
              "      <th>2</th>\n",
              "      <td>1077</td>\n",
              "      <td>60</td>\n",
              "      <td>Some major design flaws</td>\n",
              "      <td>I had such high hopes for this dress and reall...</td>\n",
              "      <td>3</td>\n",
              "      <td>0</td>\n",
              "      <td>0</td>\n",
              "      <td>General</td>\n",
              "      <td>Dresses</td>\n",
              "      <td>Dresses</td>\n",
              "    </tr>\n",
              "    <tr>\n",
              "      <th>3</th>\n",
              "      <td>1049</td>\n",
              "      <td>50</td>\n",
              "      <td>My favorite buy!</td>\n",
              "      <td>I love, love, love this jumpsuit. it's fun, fl...</td>\n",
              "      <td>5</td>\n",
              "      <td>1</td>\n",
              "      <td>0</td>\n",
              "      <td>General Petite</td>\n",
              "      <td>Bottoms</td>\n",
              "      <td>Pants</td>\n",
              "    </tr>\n",
              "    <tr>\n",
              "      <th>4</th>\n",
              "      <td>847</td>\n",
              "      <td>47</td>\n",
              "      <td>Flattering shirt</td>\n",
              "      <td>This shirt is very flattering to all due to th...</td>\n",
              "      <td>5</td>\n",
              "      <td>1</td>\n",
              "      <td>6</td>\n",
              "      <td>General</td>\n",
              "      <td>Tops</td>\n",
              "      <td>Blouses</td>\n",
              "    </tr>\n",
              "  </tbody>\n",
              "</table>\n",
              "</div>\n",
              "      <button class=\"colab-df-convert\" onclick=\"convertToInteractive('df-fcd5fc85-4b54-417f-a336-b53ea174e7e8')\"\n",
              "              title=\"Convert this dataframe to an interactive table.\"\n",
              "              style=\"display:none;\">\n",
              "        \n",
              "  <svg xmlns=\"http://www.w3.org/2000/svg\" height=\"24px\"viewBox=\"0 0 24 24\"\n",
              "       width=\"24px\">\n",
              "    <path d=\"M0 0h24v24H0V0z\" fill=\"none\"/>\n",
              "    <path d=\"M18.56 5.44l.94 2.06.94-2.06 2.06-.94-2.06-.94-.94-2.06-.94 2.06-2.06.94zm-11 1L8.5 8.5l.94-2.06 2.06-.94-2.06-.94L8.5 2.5l-.94 2.06-2.06.94zm10 10l.94 2.06.94-2.06 2.06-.94-2.06-.94-.94-2.06-.94 2.06-2.06.94z\"/><path d=\"M17.41 7.96l-1.37-1.37c-.4-.4-.92-.59-1.43-.59-.52 0-1.04.2-1.43.59L10.3 9.45l-7.72 7.72c-.78.78-.78 2.05 0 2.83L4 21.41c.39.39.9.59 1.41.59.51 0 1.02-.2 1.41-.59l7.78-7.78 2.81-2.81c.8-.78.8-2.07 0-2.86zM5.41 20L4 18.59l7.72-7.72 1.47 1.35L5.41 20z\"/>\n",
              "  </svg>\n",
              "      </button>\n",
              "      \n",
              "  <style>\n",
              "    .colab-df-container {\n",
              "      display:flex;\n",
              "      flex-wrap:wrap;\n",
              "      gap: 12px;\n",
              "    }\n",
              "\n",
              "    .colab-df-convert {\n",
              "      background-color: #E8F0FE;\n",
              "      border: none;\n",
              "      border-radius: 50%;\n",
              "      cursor: pointer;\n",
              "      display: none;\n",
              "      fill: #1967D2;\n",
              "      height: 32px;\n",
              "      padding: 0 0 0 0;\n",
              "      width: 32px;\n",
              "    }\n",
              "\n",
              "    .colab-df-convert:hover {\n",
              "      background-color: #E2EBFA;\n",
              "      box-shadow: 0px 1px 2px rgba(60, 64, 67, 0.3), 0px 1px 3px 1px rgba(60, 64, 67, 0.15);\n",
              "      fill: #174EA6;\n",
              "    }\n",
              "\n",
              "    [theme=dark] .colab-df-convert {\n",
              "      background-color: #3B4455;\n",
              "      fill: #D2E3FC;\n",
              "    }\n",
              "\n",
              "    [theme=dark] .colab-df-convert:hover {\n",
              "      background-color: #434B5C;\n",
              "      box-shadow: 0px 1px 3px 1px rgba(0, 0, 0, 0.15);\n",
              "      filter: drop-shadow(0px 1px 2px rgba(0, 0, 0, 0.3));\n",
              "      fill: #FFFFFF;\n",
              "    }\n",
              "  </style>\n",
              "\n",
              "      <script>\n",
              "        const buttonEl =\n",
              "          document.querySelector('#df-fcd5fc85-4b54-417f-a336-b53ea174e7e8 button.colab-df-convert');\n",
              "        buttonEl.style.display =\n",
              "          google.colab.kernel.accessAllowed ? 'block' : 'none';\n",
              "\n",
              "        async function convertToInteractive(key) {\n",
              "          const element = document.querySelector('#df-fcd5fc85-4b54-417f-a336-b53ea174e7e8');\n",
              "          const dataTable =\n",
              "            await google.colab.kernel.invokeFunction('convertToInteractive',\n",
              "                                                     [key], {});\n",
              "          if (!dataTable) return;\n",
              "\n",
              "          const docLinkHtml = 'Like what you see? Visit the ' +\n",
              "            '<a target=\"_blank\" href=https://colab.research.google.com/notebooks/data_table.ipynb>data table notebook</a>'\n",
              "            + ' to learn more about interactive tables.';\n",
              "          element.innerHTML = '';\n",
              "          dataTable['output_type'] = 'display_data';\n",
              "          await google.colab.output.renderOutput(dataTable, element);\n",
              "          const docLink = document.createElement('div');\n",
              "          docLink.innerHTML = docLinkHtml;\n",
              "          element.appendChild(docLink);\n",
              "        }\n",
              "      </script>\n",
              "    </div>\n",
              "  </div>\n",
              "  "
            ],
            "text/plain": [
              "   Clothing ID  Age  ... Department Name Class Name\n",
              "0          767   33  ...        Intimate  Intimates\n",
              "1         1080   34  ...         Dresses    Dresses\n",
              "2         1077   60  ...         Dresses    Dresses\n",
              "3         1049   50  ...         Bottoms      Pants\n",
              "4          847   47  ...            Tops    Blouses\n",
              "\n",
              "[5 rows x 10 columns]"
            ]
          },
          "execution_count": 3,
          "metadata": {},
          "output_type": "execute_result"
        }
      ],
      "source": [
        "df = pd.read_csv('Womens Clothing E-Commerce Reviews - NLP.csv', keep_default_na=False)\n",
        "df.head()"
      ]
    },
    {
      "cell_type": "code",
      "execution_count": null,
      "metadata": {
        "id": "IIRj3Od2uOEU"
      },
      "outputs": [],
      "source": [
        "df['full_review'] = df['Title'] + df['Review Text']"
      ]
    },
    {
      "cell_type": "code",
      "execution_count": null,
      "metadata": {
        "id": "8sqitg-KudtC"
      },
      "outputs": [],
      "source": [
        "df.drop(df[df['full_review'] == ''].index, inplace = True)"
      ]
    },
    {
      "cell_type": "code",
      "execution_count": null,
      "metadata": {
        "id": "jcMWP6RWaGiQ"
      },
      "outputs": [],
      "source": [
        "df = df[['full_review', 'Recommended IND']]"
      ]
    },
    {
      "cell_type": "code",
      "execution_count": null,
      "metadata": {
        "colab": {
          "base_uri": "https://localhost:8080/",
          "height": 206
        },
        "id": "lKz5f5EouHL7",
        "outputId": "9cd7193c-631e-4b5e-9823-9b768b314066"
      },
      "outputs": [
        {
          "data": {
            "text/html": [
              "\n",
              "  <div id=\"df-c3bd8eb5-e652-42a2-b815-65c69c2781e2\">\n",
              "    <div class=\"colab-df-container\">\n",
              "      <div>\n",
              "<style scoped>\n",
              "    .dataframe tbody tr th:only-of-type {\n",
              "        vertical-align: middle;\n",
              "    }\n",
              "\n",
              "    .dataframe tbody tr th {\n",
              "        vertical-align: top;\n",
              "    }\n",
              "\n",
              "    .dataframe thead th {\n",
              "        text-align: right;\n",
              "    }\n",
              "</style>\n",
              "<table border=\"1\" class=\"dataframe\">\n",
              "  <thead>\n",
              "    <tr style=\"text-align: right;\">\n",
              "      <th></th>\n",
              "      <th>full_review</th>\n",
              "      <th>Recommended IND</th>\n",
              "    </tr>\n",
              "  </thead>\n",
              "  <tbody>\n",
              "    <tr>\n",
              "      <th>0</th>\n",
              "      <td>Absolutely wonderful - silky and sexy and comf...</td>\n",
              "      <td>1</td>\n",
              "    </tr>\n",
              "    <tr>\n",
              "      <th>1</th>\n",
              "      <td>Love this dress!  it's sooo pretty.  i happene...</td>\n",
              "      <td>1</td>\n",
              "    </tr>\n",
              "    <tr>\n",
              "      <th>2</th>\n",
              "      <td>Some major design flawsI had such high hopes f...</td>\n",
              "      <td>0</td>\n",
              "    </tr>\n",
              "    <tr>\n",
              "      <th>3</th>\n",
              "      <td>My favorite buy!I love, love, love this jumpsu...</td>\n",
              "      <td>1</td>\n",
              "    </tr>\n",
              "    <tr>\n",
              "      <th>4</th>\n",
              "      <td>Flattering shirtThis shirt is very flattering ...</td>\n",
              "      <td>1</td>\n",
              "    </tr>\n",
              "  </tbody>\n",
              "</table>\n",
              "</div>\n",
              "      <button class=\"colab-df-convert\" onclick=\"convertToInteractive('df-c3bd8eb5-e652-42a2-b815-65c69c2781e2')\"\n",
              "              title=\"Convert this dataframe to an interactive table.\"\n",
              "              style=\"display:none;\">\n",
              "        \n",
              "  <svg xmlns=\"http://www.w3.org/2000/svg\" height=\"24px\"viewBox=\"0 0 24 24\"\n",
              "       width=\"24px\">\n",
              "    <path d=\"M0 0h24v24H0V0z\" fill=\"none\"/>\n",
              "    <path d=\"M18.56 5.44l.94 2.06.94-2.06 2.06-.94-2.06-.94-.94-2.06-.94 2.06-2.06.94zm-11 1L8.5 8.5l.94-2.06 2.06-.94-2.06-.94L8.5 2.5l-.94 2.06-2.06.94zm10 10l.94 2.06.94-2.06 2.06-.94-2.06-.94-.94-2.06-.94 2.06-2.06.94z\"/><path d=\"M17.41 7.96l-1.37-1.37c-.4-.4-.92-.59-1.43-.59-.52 0-1.04.2-1.43.59L10.3 9.45l-7.72 7.72c-.78.78-.78 2.05 0 2.83L4 21.41c.39.39.9.59 1.41.59.51 0 1.02-.2 1.41-.59l7.78-7.78 2.81-2.81c.8-.78.8-2.07 0-2.86zM5.41 20L4 18.59l7.72-7.72 1.47 1.35L5.41 20z\"/>\n",
              "  </svg>\n",
              "      </button>\n",
              "      \n",
              "  <style>\n",
              "    .colab-df-container {\n",
              "      display:flex;\n",
              "      flex-wrap:wrap;\n",
              "      gap: 12px;\n",
              "    }\n",
              "\n",
              "    .colab-df-convert {\n",
              "      background-color: #E8F0FE;\n",
              "      border: none;\n",
              "      border-radius: 50%;\n",
              "      cursor: pointer;\n",
              "      display: none;\n",
              "      fill: #1967D2;\n",
              "      height: 32px;\n",
              "      padding: 0 0 0 0;\n",
              "      width: 32px;\n",
              "    }\n",
              "\n",
              "    .colab-df-convert:hover {\n",
              "      background-color: #E2EBFA;\n",
              "      box-shadow: 0px 1px 2px rgba(60, 64, 67, 0.3), 0px 1px 3px 1px rgba(60, 64, 67, 0.15);\n",
              "      fill: #174EA6;\n",
              "    }\n",
              "\n",
              "    [theme=dark] .colab-df-convert {\n",
              "      background-color: #3B4455;\n",
              "      fill: #D2E3FC;\n",
              "    }\n",
              "\n",
              "    [theme=dark] .colab-df-convert:hover {\n",
              "      background-color: #434B5C;\n",
              "      box-shadow: 0px 1px 3px 1px rgba(0, 0, 0, 0.15);\n",
              "      filter: drop-shadow(0px 1px 2px rgba(0, 0, 0, 0.3));\n",
              "      fill: #FFFFFF;\n",
              "    }\n",
              "  </style>\n",
              "\n",
              "      <script>\n",
              "        const buttonEl =\n",
              "          document.querySelector('#df-c3bd8eb5-e652-42a2-b815-65c69c2781e2 button.colab-df-convert');\n",
              "        buttonEl.style.display =\n",
              "          google.colab.kernel.accessAllowed ? 'block' : 'none';\n",
              "\n",
              "        async function convertToInteractive(key) {\n",
              "          const element = document.querySelector('#df-c3bd8eb5-e652-42a2-b815-65c69c2781e2');\n",
              "          const dataTable =\n",
              "            await google.colab.kernel.invokeFunction('convertToInteractive',\n",
              "                                                     [key], {});\n",
              "          if (!dataTable) return;\n",
              "\n",
              "          const docLinkHtml = 'Like what you see? Visit the ' +\n",
              "            '<a target=\"_blank\" href=https://colab.research.google.com/notebooks/data_table.ipynb>data table notebook</a>'\n",
              "            + ' to learn more about interactive tables.';\n",
              "          element.innerHTML = '';\n",
              "          dataTable['output_type'] = 'display_data';\n",
              "          await google.colab.output.renderOutput(dataTable, element);\n",
              "          const docLink = document.createElement('div');\n",
              "          docLink.innerHTML = docLinkHtml;\n",
              "          element.appendChild(docLink);\n",
              "        }\n",
              "      </script>\n",
              "    </div>\n",
              "  </div>\n",
              "  "
            ],
            "text/plain": [
              "                                         full_review  Recommended IND\n",
              "0  Absolutely wonderful - silky and sexy and comf...                1\n",
              "1  Love this dress!  it's sooo pretty.  i happene...                1\n",
              "2  Some major design flawsI had such high hopes f...                0\n",
              "3  My favorite buy!I love, love, love this jumpsu...                1\n",
              "4  Flattering shirtThis shirt is very flattering ...                1"
            ]
          },
          "execution_count": 7,
          "metadata": {},
          "output_type": "execute_result"
        }
      ],
      "source": [
        "df.head()"
      ]
    },
    {
      "cell_type": "code",
      "execution_count": null,
      "metadata": {
        "id": "FmKjClTgup0H"
      },
      "outputs": [],
      "source": [
        "from sklearn.model_selection import train_test_split"
      ]
    },
    {
      "cell_type": "code",
      "execution_count": null,
      "metadata": {
        "id": "i0oMO4ATuwIr"
      },
      "outputs": [],
      "source": [
        "train_reviews, test_reviews, train_labels, test_labels = train_test_split(df.full_review.values,\n",
        "                                                                          df['Recommended IND'].values,\n",
        "                                                                          test_size=0.2, random_state=42)"
      ]
    },
    {
      "cell_type": "code",
      "execution_count": null,
      "metadata": {
        "colab": {
          "base_uri": "https://localhost:8080/"
        },
        "id": "ik_IhUoyu8J8",
        "outputId": "42c5066f-9649-4ffd-cd5a-f10f402e0c2e"
      },
      "outputs": [
        {
          "data": {
            "text/plain": [
              "(18113, 4529)"
            ]
          },
          "execution_count": 10,
          "metadata": {},
          "output_type": "execute_result"
        }
      ],
      "source": [
        "len(train_reviews), len(test_reviews)"
      ]
    },
    {
      "cell_type": "code",
      "execution_count": null,
      "metadata": {
        "id": "ZxE8IZUtvC2P"
      },
      "outputs": [],
      "source": [
        "import contractions\n",
        "from bs4 import BeautifulSoup\n",
        "import numpy as np\n",
        "import re\n",
        "from tqdm import tqdm\n",
        "import unicodedata\n",
        "\n",
        "\n",
        "def strip_html_tags(text):\n",
        "    soup = BeautifulSoup(text, \"html.parser\")\n",
        "    [s.extract() for s in soup(['iframe', 'script'])]\n",
        "    stripped_text = soup.get_text()\n",
        "    stripped_text = re.sub(r'[\\r|\\n|\\r\\n]+', '\\n', stripped_text)\n",
        "    return stripped_text\n",
        "\n",
        "def remove_accented_chars(text):\n",
        "    text = unicodedata.normalize('NFKD', text).encode('ascii', 'ignore').decode('utf-8', 'ignore')\n",
        "    return text\n",
        "\n",
        "def pre_process_corpus(docs):\n",
        "    norm_docs = []\n",
        "    for doc in tqdm(docs):\n",
        "        doc = strip_html_tags(doc)\n",
        "        doc = doc.translate(doc.maketrans(\"\\n\\t\\r\", \"   \"))\n",
        "        doc = doc.lower()\n",
        "        doc = remove_accented_chars(doc)\n",
        "        doc = contractions.fix(doc)\n",
        "        doc = re.sub(r'[^a-zA-Z0-9\\s]', '', doc, flags=re.I|re.A)\n",
        "        doc = re.sub(' +', ' ', doc)\n",
        "        doc = doc.strip()  \n",
        "\n",
        "        norm_docs.append(doc)\n",
        "  \n",
        "    return norm_docs"
      ]
    },
    {
      "cell_type": "code",
      "execution_count": null,
      "metadata": {
        "colab": {
          "base_uri": "https://localhost:8080/"
        },
        "id": "nfA9xuCLvSYz",
        "outputId": "b6a23db0-0a6d-4c99-cbfd-f1f388563ed2"
      },
      "outputs": [
        {
          "name": "stderr",
          "output_type": "stream",
          "text": [
            "100%|██████████| 18113/18113 [00:06<00:00, 2821.79it/s]\n",
            "100%|██████████| 4529/4529 [00:02<00:00, 2053.77it/s]"
          ]
        },
        {
          "name": "stdout",
          "output_type": "stream",
          "text": [
            "CPU times: user 6.32 s, sys: 254 ms, total: 6.57 s\n",
            "Wall time: 8.66 s\n"
          ]
        },
        {
          "name": "stderr",
          "output_type": "stream",
          "text": [
            "\n"
          ]
        }
      ],
      "source": [
        "%%time\n",
        "\n",
        "norm_train_reviews = pre_process_corpus(train_reviews)\n",
        "norm_test_reviews = pre_process_corpus(test_reviews)"
      ]
    },
    {
      "cell_type": "code",
      "execution_count": null,
      "metadata": {
        "id": "x0JczRoEvlQN"
      },
      "outputs": [],
      "source": [
        "import gensim\n",
        "from tensorflow import keras\n",
        "from tensorflow.keras.models import Sequential\n",
        "from tensorflow.keras.layers import Dropout, Activation, Dense\n",
        "from sklearn.preprocessing import LabelEncoder"
      ]
    },
    {
      "cell_type": "code",
      "execution_count": null,
      "metadata": {
        "colab": {
          "base_uri": "https://localhost:8080/"
        },
        "id": "W7wrWcqFvo-V",
        "outputId": "2f7866c3-0e36-4bbf-9028-79874bf758a3"
      },
      "outputs": [
        {
          "name": "stderr",
          "output_type": "stream",
          "text": [
            "100%|██████████| 18113/18113 [00:12<00:00, 1399.68it/s]\n",
            "100%|██████████| 4529/4529 [00:03<00:00, 1493.63it/s]\n"
          ]
        }
      ],
      "source": [
        "le = LabelEncoder()\n",
        "tokenized_train = [nltk.word_tokenize(text)\n",
        "                       for text in tqdm(norm_train_reviews)]\n",
        "y_train = le.fit_transform(train_labels)\n",
        "tokenized_test = [nltk.word_tokenize(text)\n",
        "                       for text in tqdm(norm_test_reviews)]\n",
        "y_test = le.transform(test_labels)"
      ]
    },
    {
      "cell_type": "code",
      "execution_count": null,
      "metadata": {
        "id": "JIQd8K8pvslc"
      },
      "outputs": [],
      "source": [
        "import logging\n",
        "logging.basicConfig(format='%(asctime)s : %(levelname)s : %(message)s', level=logging.INFO)"
      ]
    },
    {
      "cell_type": "code",
      "execution_count": null,
      "metadata": {
        "colab": {
          "base_uri": "https://localhost:8080/"
        },
        "id": "HSodsVv7vwF7",
        "outputId": "f89f478f-fe4a-41c7-c4e4-12eb2b1d4f38"
      },
      "outputs": [
        {
          "name": "stderr",
          "output_type": "stream",
          "text": [
            "2021-12-26 22:09:40,277 : INFO : collecting all words and their counts\n",
            "2021-12-26 22:09:40,283 : INFO : PROGRESS: at sentence #0, processed 0 words, keeping 0 word types\n",
            "2021-12-26 22:09:40,697 : INFO : PROGRESS: at sentence #10000, processed 634287 words, keeping 16745 word types\n",
            "2021-12-26 22:09:40,920 : INFO : collected 23315 word types from a corpus of 1146044 raw words and 18113 sentences\n",
            "2021-12-26 22:09:40,927 : INFO : Loading a fresh vocabulary\n",
            "2021-12-26 22:09:41,006 : INFO : effective_min_count=2 retains 9845 unique words (42% of original 23315, drops 13470)\n",
            "2021-12-26 22:09:41,008 : INFO : effective_min_count=2 leaves 1132574 word corpus (98% of original 1146044, drops 13470)\n",
            "2021-12-26 22:09:41,092 : INFO : deleting the raw counts dictionary of 23315 items\n",
            "2021-12-26 22:09:41,100 : INFO : sample=0.001 downsamples 57 most-common words\n",
            "2021-12-26 22:09:41,108 : INFO : downsampling leaves estimated 770433 word corpus (68.0% of prior 1132574)\n",
            "2021-12-26 22:09:41,232 : INFO : estimated required memory for 9845 words and 300 dimensions: 28550500 bytes\n",
            "2021-12-26 22:09:41,240 : INFO : resetting layer weights\n",
            "2021-12-26 22:09:45,820 : INFO : training model with 4 workers on 9845 vocabulary and 300 features, using sg=0 hs=0 sample=0.001 negative=5 window=150\n",
            "2021-12-26 22:09:46,842 : INFO : EPOCH 1 - PROGRESS: at 21.66% examples, 165195 words/s, in_qsize 8, out_qsize 0\n",
            "2021-12-26 22:09:47,848 : INFO : EPOCH 1 - PROGRESS: at 44.26% examples, 169013 words/s, in_qsize 7, out_qsize 0\n",
            "2021-12-26 22:09:48,857 : INFO : EPOCH 1 - PROGRESS: at 67.00% examples, 170239 words/s, in_qsize 7, out_qsize 0\n",
            "2021-12-26 22:09:49,907 : INFO : EPOCH 1 - PROGRESS: at 90.59% examples, 170820 words/s, in_qsize 7, out_qsize 0\n",
            "2021-12-26 22:09:50,233 : INFO : worker thread finished; awaiting finish of 3 more threads\n",
            "2021-12-26 22:09:50,237 : INFO : worker thread finished; awaiting finish of 2 more threads\n",
            "2021-12-26 22:09:50,262 : INFO : worker thread finished; awaiting finish of 1 more threads\n",
            "2021-12-26 22:09:50,278 : INFO : worker thread finished; awaiting finish of 0 more threads\n",
            "2021-12-26 22:09:50,281 : INFO : EPOCH - 1 : training on 1146044 raw words (770464 effective words) took 4.5s, 173051 effective words/s\n",
            "2021-12-26 22:09:51,294 : INFO : EPOCH 2 - PROGRESS: at 20.78% examples, 159722 words/s, in_qsize 7, out_qsize 0\n",
            "2021-12-26 22:09:52,396 : INFO : EPOCH 2 - PROGRESS: at 45.14% examples, 165243 words/s, in_qsize 7, out_qsize 0\n",
            "2021-12-26 22:09:53,468 : INFO : EPOCH 2 - PROGRESS: at 70.57% examples, 170594 words/s, in_qsize 7, out_qsize 0\n",
            "2021-12-26 22:09:54,518 : INFO : EPOCH 2 - PROGRESS: at 94.80% examples, 172647 words/s, in_qsize 7, out_qsize 0\n",
            "2021-12-26 22:09:54,616 : INFO : worker thread finished; awaiting finish of 3 more threads\n",
            "2021-12-26 22:09:54,658 : INFO : worker thread finished; awaiting finish of 2 more threads\n",
            "2021-12-26 22:09:54,674 : INFO : worker thread finished; awaiting finish of 1 more threads\n",
            "2021-12-26 22:09:54,694 : INFO : worker thread finished; awaiting finish of 0 more threads\n",
            "2021-12-26 22:09:54,695 : INFO : EPOCH - 2 : training on 1146044 raw words (770661 effective words) took 4.4s, 174862 effective words/s\n",
            "2021-12-26 22:09:55,721 : INFO : EPOCH 3 - PROGRESS: at 21.66% examples, 164645 words/s, in_qsize 7, out_qsize 0\n",
            "2021-12-26 22:09:56,753 : INFO : EPOCH 3 - PROGRESS: at 45.14% examples, 170215 words/s, in_qsize 7, out_qsize 0\n",
            "2021-12-26 22:09:57,754 : INFO : EPOCH 3 - PROGRESS: at 68.81% examples, 173493 words/s, in_qsize 7, out_qsize 0\n",
            "2021-12-26 22:09:58,793 : INFO : EPOCH 3 - PROGRESS: at 92.30% examples, 173711 words/s, in_qsize 7, out_qsize 0\n",
            "2021-12-26 22:09:58,998 : INFO : worker thread finished; awaiting finish of 3 more threads\n",
            "2021-12-26 22:09:59,023 : INFO : worker thread finished; awaiting finish of 2 more threads\n",
            "2021-12-26 22:09:59,058 : INFO : worker thread finished; awaiting finish of 1 more threads\n",
            "2021-12-26 22:09:59,081 : INFO : worker thread finished; awaiting finish of 0 more threads\n",
            "2021-12-26 22:09:59,083 : INFO : EPOCH - 3 : training on 1146044 raw words (770588 effective words) took 4.4s, 175992 effective words/s\n",
            "2021-12-26 22:10:00,117 : INFO : EPOCH 4 - PROGRESS: at 22.53% examples, 169677 words/s, in_qsize 7, out_qsize 0\n",
            "2021-12-26 22:10:01,143 : INFO : EPOCH 4 - PROGRESS: at 45.14% examples, 169626 words/s, in_qsize 7, out_qsize 0\n",
            "2021-12-26 22:10:02,187 : INFO : EPOCH 4 - PROGRESS: at 68.81% examples, 170911 words/s, in_qsize 7, out_qsize 0\n",
            "2021-12-26 22:10:03,232 : INFO : EPOCH 4 - PROGRESS: at 91.44% examples, 169872 words/s, in_qsize 8, out_qsize 1\n",
            "2021-12-26 22:10:03,426 : INFO : worker thread finished; awaiting finish of 3 more threads\n",
            "2021-12-26 22:10:03,509 : INFO : worker thread finished; awaiting finish of 2 more threads\n",
            "2021-12-26 22:10:03,524 : INFO : worker thread finished; awaiting finish of 1 more threads\n",
            "2021-12-26 22:10:03,536 : INFO : worker thread finished; awaiting finish of 0 more threads\n",
            "2021-12-26 22:10:03,537 : INFO : EPOCH - 4 : training on 1146044 raw words (770554 effective words) took 4.4s, 173320 effective words/s\n",
            "2021-12-26 22:10:04,571 : INFO : EPOCH 5 - PROGRESS: at 21.66% examples, 163512 words/s, in_qsize 7, out_qsize 0\n",
            "2021-12-26 22:10:05,623 : INFO : EPOCH 5 - PROGRESS: at 45.16% examples, 167671 words/s, in_qsize 7, out_qsize 0\n",
            "2021-12-26 22:10:06,679 : INFO : EPOCH 5 - PROGRESS: at 69.72% examples, 171010 words/s, in_qsize 7, out_qsize 0\n",
            "2021-12-26 22:10:07,742 : INFO : EPOCH 5 - PROGRESS: at 93.95% examples, 172409 words/s, in_qsize 7, out_qsize 0\n",
            "2021-12-26 22:10:07,890 : INFO : worker thread finished; awaiting finish of 3 more threads\n",
            "2021-12-26 22:10:07,918 : INFO : worker thread finished; awaiting finish of 2 more threads\n",
            "2021-12-26 22:10:07,925 : INFO : worker thread finished; awaiting finish of 1 more threads\n",
            "2021-12-26 22:10:07,941 : INFO : worker thread finished; awaiting finish of 0 more threads\n",
            "2021-12-26 22:10:07,945 : INFO : EPOCH - 5 : training on 1146044 raw words (770264 effective words) took 4.4s, 175105 effective words/s\n",
            "2021-12-26 22:10:09,005 : INFO : EPOCH 6 - PROGRESS: at 21.66% examples, 159734 words/s, in_qsize 7, out_qsize 0\n",
            "2021-12-26 22:10:10,095 : INFO : EPOCH 6 - PROGRESS: at 46.97% examples, 168734 words/s, in_qsize 7, out_qsize 0\n",
            "2021-12-26 22:10:11,203 : INFO : EPOCH 6 - PROGRESS: at 72.28% examples, 171070 words/s, in_qsize 6, out_qsize 1\n",
            "2021-12-26 22:10:12,227 : INFO : EPOCH 6 - PROGRESS: at 95.64% examples, 172425 words/s, in_qsize 6, out_qsize 0\n",
            "2021-12-26 22:10:12,245 : INFO : worker thread finished; awaiting finish of 3 more threads\n",
            "2021-12-26 22:10:12,283 : INFO : worker thread finished; awaiting finish of 2 more threads\n",
            "2021-12-26 22:10:12,329 : INFO : worker thread finished; awaiting finish of 1 more threads\n",
            "2021-12-26 22:10:12,335 : INFO : worker thread finished; awaiting finish of 0 more threads\n",
            "2021-12-26 22:10:12,337 : INFO : EPOCH - 6 : training on 1146044 raw words (770561 effective words) took 4.4s, 175791 effective words/s\n",
            "2021-12-26 22:10:13,371 : INFO : EPOCH 7 - PROGRESS: at 21.66% examples, 163086 words/s, in_qsize 7, out_qsize 0\n",
            "2021-12-26 22:10:14,376 : INFO : EPOCH 7 - PROGRESS: at 44.26% examples, 167994 words/s, in_qsize 7, out_qsize 0\n",
            "2021-12-26 22:10:15,421 : INFO : EPOCH 7 - PROGRESS: at 68.83% examples, 171902 words/s, in_qsize 6, out_qsize 1\n",
            "2021-12-26 22:10:16,440 : INFO : EPOCH 7 - PROGRESS: at 92.30% examples, 173271 words/s, in_qsize 7, out_qsize 0\n",
            "2021-12-26 22:10:16,659 : INFO : worker thread finished; awaiting finish of 3 more threads\n",
            "2021-12-26 22:10:16,665 : INFO : worker thread finished; awaiting finish of 2 more threads\n",
            "2021-12-26 22:10:16,695 : INFO : worker thread finished; awaiting finish of 1 more threads\n",
            "2021-12-26 22:10:16,709 : INFO : worker thread finished; awaiting finish of 0 more threads\n",
            "2021-12-26 22:10:16,711 : INFO : EPOCH - 7 : training on 1146044 raw words (770026 effective words) took 4.4s, 176365 effective words/s\n",
            "2021-12-26 22:10:17,726 : INFO : EPOCH 8 - PROGRESS: at 21.66% examples, 166106 words/s, in_qsize 7, out_qsize 0\n",
            "2021-12-26 22:10:18,777 : INFO : EPOCH 8 - PROGRESS: at 46.05% examples, 172256 words/s, in_qsize 7, out_qsize 0\n",
            "2021-12-26 22:10:19,807 : INFO : EPOCH 8 - PROGRESS: at 68.81% examples, 171200 words/s, in_qsize 6, out_qsize 1\n",
            "2021-12-26 22:10:20,855 : INFO : EPOCH 8 - PROGRESS: at 93.12% examples, 173211 words/s, in_qsize 7, out_qsize 0\n",
            "2021-12-26 22:10:21,038 : INFO : worker thread finished; awaiting finish of 3 more threads\n",
            "2021-12-26 22:10:21,052 : INFO : worker thread finished; awaiting finish of 2 more threads\n",
            "2021-12-26 22:10:21,081 : INFO : worker thread finished; awaiting finish of 1 more threads\n",
            "2021-12-26 22:10:21,103 : INFO : worker thread finished; awaiting finish of 0 more threads\n",
            "2021-12-26 22:10:21,105 : INFO : EPOCH - 8 : training on 1146044 raw words (770426 effective words) took 4.4s, 175630 effective words/s\n",
            "2021-12-26 22:10:22,170 : INFO : EPOCH 9 - PROGRESS: at 21.66% examples, 158566 words/s, in_qsize 7, out_qsize 0\n",
            "2021-12-26 22:10:23,233 : INFO : EPOCH 9 - PROGRESS: at 46.05% examples, 167428 words/s, in_qsize 7, out_qsize 0\n",
            "2021-12-26 22:10:24,244 : INFO : EPOCH 9 - PROGRESS: at 69.72% examples, 171054 words/s, in_qsize 7, out_qsize 0\n",
            "2021-12-26 22:10:25,254 : INFO : EPOCH 9 - PROGRESS: at 92.30% examples, 171466 words/s, in_qsize 7, out_qsize 0\n",
            "2021-12-26 22:10:25,433 : INFO : worker thread finished; awaiting finish of 3 more threads\n",
            "2021-12-26 22:10:25,477 : INFO : worker thread finished; awaiting finish of 2 more threads\n",
            "2021-12-26 22:10:25,521 : INFO : worker thread finished; awaiting finish of 1 more threads\n",
            "2021-12-26 22:10:25,528 : INFO : worker thread finished; awaiting finish of 0 more threads\n",
            "2021-12-26 22:10:25,530 : INFO : EPOCH - 9 : training on 1146044 raw words (770389 effective words) took 4.4s, 174463 effective words/s\n",
            "2021-12-26 22:10:26,636 : INFO : EPOCH 10 - PROGRESS: at 22.53% examples, 159179 words/s, in_qsize 8, out_qsize 2\n",
            "2021-12-26 22:10:27,676 : INFO : EPOCH 10 - PROGRESS: at 46.97% examples, 169350 words/s, in_qsize 7, out_qsize 0\n",
            "2021-12-26 22:10:28,693 : INFO : EPOCH 10 - PROGRESS: at 69.69% examples, 169950 words/s, in_qsize 7, out_qsize 0\n",
            "2021-12-26 22:10:29,719 : INFO : EPOCH 10 - PROGRESS: at 93.95% examples, 173106 words/s, in_qsize 7, out_qsize 0\n",
            "2021-12-26 22:10:29,872 : INFO : worker thread finished; awaiting finish of 3 more threads\n",
            "2021-12-26 22:10:29,892 : INFO : worker thread finished; awaiting finish of 2 more threads\n",
            "2021-12-26 22:10:29,922 : INFO : worker thread finished; awaiting finish of 1 more threads\n",
            "2021-12-26 22:10:29,928 : INFO : worker thread finished; awaiting finish of 0 more threads\n",
            "2021-12-26 22:10:29,929 : INFO : EPOCH - 10 : training on 1146044 raw words (770200 effective words) took 4.4s, 175500 effective words/s\n",
            "2021-12-26 22:10:29,931 : INFO : training on a 11460440 raw words (7704133 effective words) took 44.1s, 174660 effective words/s\n"
          ]
        },
        {
          "name": "stdout",
          "output_type": "stream",
          "text": [
            "CPU times: user 1min 29s, sys: 370 ms, total: 1min 29s\n",
            "Wall time: 49.7 s\n"
          ]
        }
      ],
      "source": [
        "%%time\n",
        "w2v_num_features = 300\n",
        "w2v_model = gensim.models.Word2Vec(tokenized_train, size=w2v_num_features, window=150,\n",
        "                                   min_count=2, workers=4, iter=10)    "
      ]
    },
    {
      "cell_type": "code",
      "execution_count": null,
      "metadata": {
        "id": "9P50wDt9vzhl"
      },
      "outputs": [],
      "source": [
        "def averaged_doc_vectorizer(corpus, model, num_features):\n",
        "    vocabulary = set(model.wv.index2word)\n",
        "    \n",
        "    def average_word_vectors(words, model, vocabulary, num_features):\n",
        "        feature_vector = np.zeros((num_features,), dtype=\"float64\")\n",
        "        nwords = 0.\n",
        "        \n",
        "        for word in words:\n",
        "            if word in vocabulary: \n",
        "                nwords = nwords + 1.\n",
        "                feature_vector = np.add(feature_vector, model.wv[word])\n",
        "        if nwords:\n",
        "            feature_vector = np.divide(feature_vector, nwords)\n",
        "\n",
        "        return feature_vector\n",
        "\n",
        "    features = [average_word_vectors(tokenized_sentence, model, vocabulary, num_features)\n",
        "                    for tokenized_sentence in corpus]\n",
        "    return np.array(features)"
      ]
    },
    {
      "cell_type": "code",
      "execution_count": null,
      "metadata": {
        "id": "NGw-d2SCwUaN"
      },
      "outputs": [],
      "source": [
        "avg_w2v_train_features = averaged_doc_vectorizer(corpus=tokenized_train, model=w2v_model,\n",
        "                                                     num_features=w2v_num_features)\n",
        "avg_w2v_test_features = averaged_doc_vectorizer(corpus=tokenized_test, model=w2v_model,\n",
        "                                                    num_features=w2v_num_features)"
      ]
    },
    {
      "cell_type": "code",
      "execution_count": null,
      "metadata": {
        "colab": {
          "base_uri": "https://localhost:8080/"
        },
        "id": "625Jt3bJwVtG",
        "outputId": "4ffecba2-cde6-4629-aabd-7b89e02449af"
      },
      "outputs": [
        {
          "name": "stdout",
          "output_type": "stream",
          "text": [
            "Word2Vec model:> Train features shape: (18113, 300)  Test features shape: (4529, 300)\n"
          ]
        }
      ],
      "source": [
        "print('Word2Vec model:> Train features shape:', avg_w2v_train_features.shape, \n",
        "      ' Test features shape:', avg_w2v_test_features.shape)"
      ]
    },
    {
      "cell_type": "code",
      "execution_count": null,
      "metadata": {
        "id": "qJRO8BOSwX1j"
      },
      "outputs": [],
      "source": [
        "def construct_deepnn_architecture(num_input_features):\n",
        "    dnn_model = Sequential()\n",
        "    dnn_model.add(Dense(512, input_shape=(num_input_features,)))\n",
        "    dnn_model.add(Activation('relu'))\n",
        "    dnn_model.add(Dropout(0.2))\n",
        "    \n",
        "    dnn_model.add(Dense(256))\n",
        "    dnn_model.add(Activation('relu'))\n",
        "    dnn_model.add(Dropout(0.2))\n",
        "    \n",
        "    dnn_model.add(Dense(256))\n",
        "    dnn_model.add(Activation('relu'))\n",
        "    dnn_model.add(Dropout(0.2))\n",
        "    \n",
        "    dnn_model.add(Dense(1))\n",
        "    dnn_model.add(Activation('sigmoid'))\n",
        "\n",
        "    dnn_model.compile(loss='binary_crossentropy', optimizer='adam',                 \n",
        "                      metrics=['accuracy'])\n",
        "    return dnn_model"
      ]
    },
    {
      "cell_type": "code",
      "execution_count": null,
      "metadata": {
        "id": "YURz6bnywaKS"
      },
      "outputs": [],
      "source": [
        "w2v_dnn = construct_deepnn_architecture(num_input_features=w2v_num_features)"
      ]
    },
    {
      "cell_type": "code",
      "execution_count": null,
      "metadata": {
        "colab": {
          "base_uri": "https://localhost:8080/"
        },
        "id": "ahQYoI7owb04",
        "outputId": "9c530956-e39a-42d7-e132-af7b7dab6e6c"
      },
      "outputs": [
        {
          "name": "stdout",
          "output_type": "stream",
          "text": [
            "Model: \"sequential\"\n",
            "_________________________________________________________________\n",
            " Layer (type)                Output Shape              Param #   \n",
            "=================================================================\n",
            " dense (Dense)               (None, 512)               154112    \n",
            "                                                                 \n",
            " activation (Activation)     (None, 512)               0         \n",
            "                                                                 \n",
            " dropout (Dropout)           (None, 512)               0         \n",
            "                                                                 \n",
            " dense_1 (Dense)             (None, 256)               131328    \n",
            "                                                                 \n",
            " activation_1 (Activation)   (None, 256)               0         \n",
            "                                                                 \n",
            " dropout_1 (Dropout)         (None, 256)               0         \n",
            "                                                                 \n",
            " dense_2 (Dense)             (None, 256)               65792     \n",
            "                                                                 \n",
            " activation_2 (Activation)   (None, 256)               0         \n",
            "                                                                 \n",
            " dropout_2 (Dropout)         (None, 256)               0         \n",
            "                                                                 \n",
            " dense_3 (Dense)             (None, 1)                 257       \n",
            "                                                                 \n",
            " activation_3 (Activation)   (None, 1)                 0         \n",
            "                                                                 \n",
            "=================================================================\n",
            "Total params: 351,489\n",
            "Trainable params: 351,489\n",
            "Non-trainable params: 0\n",
            "_________________________________________________________________\n"
          ]
        }
      ],
      "source": [
        "w2v_dnn.summary()"
      ]
    },
    {
      "cell_type": "code",
      "execution_count": null,
      "metadata": {
        "colab": {
          "base_uri": "https://localhost:8080/"
        },
        "id": "MkmWAri_wc4T",
        "outputId": "8a85a876-412c-4da3-8e29-ab1418e45246"
      },
      "outputs": [
        {
          "name": "stdout",
          "output_type": "stream",
          "text": [
            "Epoch 1/15\n",
            "255/255 [==============================] - 3s 10ms/step - loss: 0.2660 - accuracy: 0.8817 - val_loss: 0.2776 - val_accuracy: 0.8813\n",
            "Epoch 2/15\n",
            "255/255 [==============================] - 2s 9ms/step - loss: 0.2394 - accuracy: 0.8967 - val_loss: 0.2594 - val_accuracy: 0.8896\n",
            "Epoch 3/15\n",
            "255/255 [==============================] - 2s 9ms/step - loss: 0.2310 - accuracy: 0.9017 - val_loss: 0.2524 - val_accuracy: 0.8924\n",
            "Epoch 4/15\n",
            "255/255 [==============================] - 2s 9ms/step - loss: 0.2273 - accuracy: 0.8996 - val_loss: 0.2573 - val_accuracy: 0.8880\n",
            "Epoch 5/15\n",
            "255/255 [==============================] - 2s 9ms/step - loss: 0.2215 - accuracy: 0.9023 - val_loss: 0.2578 - val_accuracy: 0.8924\n",
            "Epoch 6/15\n",
            "255/255 [==============================] - 2s 9ms/step - loss: 0.2143 - accuracy: 0.9064 - val_loss: 0.2546 - val_accuracy: 0.8869\n",
            "Epoch 7/15\n",
            "255/255 [==============================] - 2s 9ms/step - loss: 0.2108 - accuracy: 0.9058 - val_loss: 0.2615 - val_accuracy: 0.8858\n",
            "Epoch 8/15\n",
            "255/255 [==============================] - 2s 9ms/step - loss: 0.2001 - accuracy: 0.9126 - val_loss: 0.2757 - val_accuracy: 0.8902\n",
            "Epoch 9/15\n",
            "255/255 [==============================] - 2s 9ms/step - loss: 0.1926 - accuracy: 0.9144 - val_loss: 0.2681 - val_accuracy: 0.8847\n",
            "Epoch 10/15\n",
            "255/255 [==============================] - 2s 9ms/step - loss: 0.1867 - accuracy: 0.9168 - val_loss: 0.2870 - val_accuracy: 0.8813\n",
            "Epoch 11/15\n",
            "255/255 [==============================] - 2s 9ms/step - loss: 0.1836 - accuracy: 0.9200 - val_loss: 0.2763 - val_accuracy: 0.8874\n",
            "Epoch 12/15\n",
            "255/255 [==============================] - 2s 9ms/step - loss: 0.1742 - accuracy: 0.9241 - val_loss: 0.3086 - val_accuracy: 0.8758\n",
            "Epoch 13/15\n",
            "255/255 [==============================] - 2s 9ms/step - loss: 0.1681 - accuracy: 0.9262 - val_loss: 0.2938 - val_accuracy: 0.8841\n",
            "Epoch 14/15\n",
            "255/255 [==============================] - 4s 15ms/step - loss: 0.1609 - accuracy: 0.9280 - val_loss: 0.3086 - val_accuracy: 0.8869\n",
            "Epoch 15/15\n",
            "255/255 [==============================] - 3s 14ms/step - loss: 0.1563 - accuracy: 0.9309 - val_loss: 0.3199 - val_accuracy: 0.8841\n"
          ]
        },
        {
          "data": {
            "text/plain": [
              "<keras.callbacks.History at 0x7f3097dd70d0>"
            ]
          },
          "execution_count": 23,
          "metadata": {},
          "output_type": "execute_result"
        }
      ],
      "source": [
        "batch_size = 64\n",
        "w2v_dnn.fit(avg_w2v_train_features, y_train, epochs=15, batch_size=batch_size, \n",
        "            shuffle=True, validation_split=0.1, verbose=1)"
      ]
    },
    {
      "cell_type": "code",
      "execution_count": null,
      "metadata": {
        "id": "SooNvrhIwep2"
      },
      "outputs": [],
      "source": [
        "from sklearn.metrics import confusion_matrix, classification_report"
      ]
    },
    {
      "cell_type": "code",
      "execution_count": null,
      "metadata": {
        "id": "_rlnUjEiwrMW"
      },
      "outputs": [],
      "source": [
        "predict_probas = w2v_dnn.predict(avg_w2v_test_features).ravel()\n",
        "predictions = [1 if proba > 0.5 else 0 for proba in predict_probas]\n",
        "predictions = le.inverse_transform(predictions)"
      ]
    },
    {
      "cell_type": "code",
      "execution_count": null,
      "metadata": {
        "colab": {
          "base_uri": "https://localhost:8080/",
          "height": 268
        },
        "id": "DYa55hX5wtmE",
        "outputId": "f2ba7839-ca20-4c63-b7ed-70e96805191a"
      },
      "outputs": [
        {
          "name": "stdout",
          "output_type": "stream",
          "text": [
            "              precision    recall  f1-score   support\n",
            "\n",
            "           0       0.71      0.73      0.72       819\n",
            "           1       0.94      0.94      0.94      3710\n",
            "\n",
            "    accuracy                           0.90      4529\n",
            "   macro avg       0.83      0.83      0.83      4529\n",
            "weighted avg       0.90      0.90      0.90      4529\n",
            "\n"
          ]
        },
        {
          "data": {
            "text/html": [
              "\n",
              "  <div id=\"df-7d10148c-d58f-4008-9cd6-abce74c359e0\">\n",
              "    <div class=\"colab-df-container\">\n",
              "      <div>\n",
              "<style scoped>\n",
              "    .dataframe tbody tr th:only-of-type {\n",
              "        vertical-align: middle;\n",
              "    }\n",
              "\n",
              "    .dataframe tbody tr th {\n",
              "        vertical-align: top;\n",
              "    }\n",
              "\n",
              "    .dataframe thead th {\n",
              "        text-align: right;\n",
              "    }\n",
              "</style>\n",
              "<table border=\"1\" class=\"dataframe\">\n",
              "  <thead>\n",
              "    <tr style=\"text-align: right;\">\n",
              "      <th></th>\n",
              "      <th>0</th>\n",
              "      <th>1</th>\n",
              "    </tr>\n",
              "  </thead>\n",
              "  <tbody>\n",
              "    <tr>\n",
              "      <th>0</th>\n",
              "      <td>598</td>\n",
              "      <td>221</td>\n",
              "    </tr>\n",
              "    <tr>\n",
              "      <th>1</th>\n",
              "      <td>240</td>\n",
              "      <td>3470</td>\n",
              "    </tr>\n",
              "  </tbody>\n",
              "</table>\n",
              "</div>\n",
              "      <button class=\"colab-df-convert\" onclick=\"convertToInteractive('df-7d10148c-d58f-4008-9cd6-abce74c359e0')\"\n",
              "              title=\"Convert this dataframe to an interactive table.\"\n",
              "              style=\"display:none;\">\n",
              "        \n",
              "  <svg xmlns=\"http://www.w3.org/2000/svg\" height=\"24px\"viewBox=\"0 0 24 24\"\n",
              "       width=\"24px\">\n",
              "    <path d=\"M0 0h24v24H0V0z\" fill=\"none\"/>\n",
              "    <path d=\"M18.56 5.44l.94 2.06.94-2.06 2.06-.94-2.06-.94-.94-2.06-.94 2.06-2.06.94zm-11 1L8.5 8.5l.94-2.06 2.06-.94-2.06-.94L8.5 2.5l-.94 2.06-2.06.94zm10 10l.94 2.06.94-2.06 2.06-.94-2.06-.94-.94-2.06-.94 2.06-2.06.94z\"/><path d=\"M17.41 7.96l-1.37-1.37c-.4-.4-.92-.59-1.43-.59-.52 0-1.04.2-1.43.59L10.3 9.45l-7.72 7.72c-.78.78-.78 2.05 0 2.83L4 21.41c.39.39.9.59 1.41.59.51 0 1.02-.2 1.41-.59l7.78-7.78 2.81-2.81c.8-.78.8-2.07 0-2.86zM5.41 20L4 18.59l7.72-7.72 1.47 1.35L5.41 20z\"/>\n",
              "  </svg>\n",
              "      </button>\n",
              "      \n",
              "  <style>\n",
              "    .colab-df-container {\n",
              "      display:flex;\n",
              "      flex-wrap:wrap;\n",
              "      gap: 12px;\n",
              "    }\n",
              "\n",
              "    .colab-df-convert {\n",
              "      background-color: #E8F0FE;\n",
              "      border: none;\n",
              "      border-radius: 50%;\n",
              "      cursor: pointer;\n",
              "      display: none;\n",
              "      fill: #1967D2;\n",
              "      height: 32px;\n",
              "      padding: 0 0 0 0;\n",
              "      width: 32px;\n",
              "    }\n",
              "\n",
              "    .colab-df-convert:hover {\n",
              "      background-color: #E2EBFA;\n",
              "      box-shadow: 0px 1px 2px rgba(60, 64, 67, 0.3), 0px 1px 3px 1px rgba(60, 64, 67, 0.15);\n",
              "      fill: #174EA6;\n",
              "    }\n",
              "\n",
              "    [theme=dark] .colab-df-convert {\n",
              "      background-color: #3B4455;\n",
              "      fill: #D2E3FC;\n",
              "    }\n",
              "\n",
              "    [theme=dark] .colab-df-convert:hover {\n",
              "      background-color: #434B5C;\n",
              "      box-shadow: 0px 1px 3px 1px rgba(0, 0, 0, 0.15);\n",
              "      filter: drop-shadow(0px 1px 2px rgba(0, 0, 0, 0.3));\n",
              "      fill: #FFFFFF;\n",
              "    }\n",
              "  </style>\n",
              "\n",
              "      <script>\n",
              "        const buttonEl =\n",
              "          document.querySelector('#df-7d10148c-d58f-4008-9cd6-abce74c359e0 button.colab-df-convert');\n",
              "        buttonEl.style.display =\n",
              "          google.colab.kernel.accessAllowed ? 'block' : 'none';\n",
              "\n",
              "        async function convertToInteractive(key) {\n",
              "          const element = document.querySelector('#df-7d10148c-d58f-4008-9cd6-abce74c359e0');\n",
              "          const dataTable =\n",
              "            await google.colab.kernel.invokeFunction('convertToInteractive',\n",
              "                                                     [key], {});\n",
              "          if (!dataTable) return;\n",
              "\n",
              "          const docLinkHtml = 'Like what you see? Visit the ' +\n",
              "            '<a target=\"_blank\" href=https://colab.research.google.com/notebooks/data_table.ipynb>data table notebook</a>'\n",
              "            + ' to learn more about interactive tables.';\n",
              "          element.innerHTML = '';\n",
              "          dataTable['output_type'] = 'display_data';\n",
              "          await google.colab.output.renderOutput(dataTable, element);\n",
              "          const docLink = document.createElement('div');\n",
              "          docLink.innerHTML = docLinkHtml;\n",
              "          element.appendChild(docLink);\n",
              "        }\n",
              "      </script>\n",
              "    </div>\n",
              "  </div>\n",
              "  "
            ],
            "text/plain": [
              "     0     1\n",
              "0  598   221\n",
              "1  240  3470"
            ]
          },
          "execution_count": 26,
          "metadata": {},
          "output_type": "execute_result"
        }
      ],
      "source": [
        "labels = le.classes_.tolist()\n",
        "print(classification_report(test_labels, predictions))\n",
        "pd.DataFrame(confusion_matrix(test_labels, predictions), index=labels, columns=labels)"
      ]
    },
    {
      "cell_type": "code",
      "execution_count": null,
      "metadata": {
        "id": "o4f0SohrxDr-"
      },
      "outputs": [],
      "source": [
        "import numpy as np\n",
        "import pandas as pd\n",
        "from tensorflow.keras.models import Sequential\n",
        "from tensorflow.keras.layers import Dense\n",
        "from tensorflow.keras.layers import Flatten\n",
        "from tensorflow.keras.layers import Conv1D\n",
        "from tensorflow.keras.layers import MaxPooling1D\n",
        "from tensorflow.keras.layers import Embedding\n",
        "from tensorflow.keras.preprocessing.text import Tokenizer\n",
        "from tensorflow.keras.preprocessing import sequence\n",
        "from sklearn.preprocessing import LabelEncoder\n",
        "import tensorflow as tf\n",
        "\n",
        "seed = 42\n",
        "np.random.seed(seed)"
      ]
    },
    {
      "cell_type": "code",
      "execution_count": null,
      "metadata": {
        "id": "EmFfMXlPzqKS"
      },
      "outputs": [],
      "source": [
        "t = Tokenizer(oov_token='<UNK>')\n",
        "t.fit_on_texts(norm_train_reviews)\n",
        "t.word_index['<PAD>'] = 0"
      ]
    },
    {
      "cell_type": "code",
      "execution_count": null,
      "metadata": {
        "id": "yaa3lCUB0Rnb"
      },
      "outputs": [],
      "source": [
        "train_sequences = t.texts_to_sequences(norm_train_reviews)"
      ]
    },
    {
      "cell_type": "code",
      "execution_count": null,
      "metadata": {
        "id": "FieMMMIG0TS-"
      },
      "outputs": [],
      "source": [
        "test_sequences = t.texts_to_sequences(norm_test_reviews)"
      ]
    },
    {
      "cell_type": "code",
      "execution_count": null,
      "metadata": {
        "colab": {
          "base_uri": "https://localhost:8080/"
        },
        "id": "MDOOUHF50UvG",
        "outputId": "1673014a-e6d4-427d-9ab0-348ff2ce6444"
      },
      "outputs": [
        {
          "name": "stdout",
          "output_type": "stream",
          "text": [
            "Vocabulary size=23230\n",
            "Number of Documents=18113\n"
          ]
        }
      ],
      "source": [
        "print(\"Vocabulary size={}\".format(len(t.word_index)))\n",
        "print(\"Number of Documents={}\".format(t.document_count))"
      ]
    },
    {
      "cell_type": "code",
      "execution_count": null,
      "metadata": {
        "id": "i_8brESs0WHl"
      },
      "outputs": [],
      "source": [
        "MAX_SEQUENCE_LENGTH = 250"
      ]
    },
    {
      "cell_type": "code",
      "execution_count": null,
      "metadata": {
        "colab": {
          "base_uri": "https://localhost:8080/"
        },
        "id": "JfFF5bu10aLV",
        "outputId": "ab881996-15b9-44da-e5e9-6b12172eb4e8"
      },
      "outputs": [
        {
          "data": {
            "text/plain": [
              "((18113, 250), (4529, 250))"
            ]
          },
          "execution_count": 33,
          "metadata": {},
          "output_type": "execute_result"
        }
      ],
      "source": [
        "X_train = sequence.pad_sequences(train_sequences, maxlen=MAX_SEQUENCE_LENGTH)\n",
        "X_test = sequence.pad_sequences(test_sequences, maxlen=MAX_SEQUENCE_LENGTH)\n",
        "X_train.shape, X_test.shape"
      ]
    },
    {
      "cell_type": "code",
      "execution_count": null,
      "metadata": {
        "id": "HWBCnLfi0bqB"
      },
      "outputs": [],
      "source": [
        "num_classes=2 "
      ]
    },
    {
      "cell_type": "code",
      "execution_count": null,
      "metadata": {
        "id": "N5DR0Kjz0ggl"
      },
      "outputs": [],
      "source": [
        "y_train = le.fit_transform(train_labels)\n",
        "y_test = le.transform(test_labels)"
      ]
    },
    {
      "cell_type": "code",
      "execution_count": null,
      "metadata": {
        "id": "orOcCmLg0iAR"
      },
      "outputs": [],
      "source": [
        "VOCAB_SIZE = len(t.word_index)"
      ]
    },
    {
      "cell_type": "code",
      "execution_count": null,
      "metadata": {
        "id": "NO8j0nZV0jHR"
      },
      "outputs": [],
      "source": [
        "EMBED_SIZE = 300\n",
        "EPOCHS=10\n",
        "BATCH_SIZE=128"
      ]
    },
    {
      "cell_type": "code",
      "execution_count": null,
      "metadata": {
        "colab": {
          "base_uri": "https://localhost:8080/"
        },
        "id": "eerQjTpv0kho",
        "outputId": "bff5a074-6366-414c-d33a-bd607f1fd8b5"
      },
      "outputs": [
        {
          "name": "stdout",
          "output_type": "stream",
          "text": [
            "Model: \"sequential_1\"\n",
            "_________________________________________________________________\n",
            " Layer (type)                Output Shape              Param #   \n",
            "=================================================================\n",
            " embedding (Embedding)       (None, 250, 300)          6969000   \n",
            "                                                                 \n",
            " conv1d (Conv1D)             (None, 250, 128)          153728    \n",
            "                                                                 \n",
            " max_pooling1d (MaxPooling1D  (None, 125, 128)         0         \n",
            " )                                                               \n",
            "                                                                 \n",
            " conv1d_1 (Conv1D)           (None, 125, 64)           32832     \n",
            "                                                                 \n",
            " max_pooling1d_1 (MaxPooling  (None, 62, 64)           0         \n",
            " 1D)                                                             \n",
            "                                                                 \n",
            " conv1d_2 (Conv1D)           (None, 62, 32)            8224      \n",
            "                                                                 \n",
            " max_pooling1d_2 (MaxPooling  (None, 31, 32)           0         \n",
            " 1D)                                                             \n",
            "                                                                 \n",
            " flatten (Flatten)           (None, 992)               0         \n",
            "                                                                 \n",
            " dense_4 (Dense)             (None, 256)               254208    \n",
            "                                                                 \n",
            " dense_5 (Dense)             (None, 1)                 257       \n",
            "                                                                 \n",
            "=================================================================\n",
            "Total params: 7,418,249\n",
            "Trainable params: 7,418,249\n",
            "Non-trainable params: 0\n",
            "_________________________________________________________________\n"
          ]
        }
      ],
      "source": [
        "model = Sequential()\n",
        "model.add(Embedding(VOCAB_SIZE, EMBED_SIZE, input_length=MAX_SEQUENCE_LENGTH))\n",
        "model.add(Conv1D(filters=128, kernel_size=4, padding='same', activation='relu'))\n",
        "model.add(MaxPooling1D(pool_size=2))\n",
        "model.add(Conv1D(filters=64, kernel_size=4, padding='same', activation='relu'))\n",
        "model.add(MaxPooling1D(pool_size=2))\n",
        "model.add(Conv1D(filters=32, kernel_size=4, padding='same', activation='relu'))\n",
        "model.add(MaxPooling1D(pool_size=2))\n",
        "model.add(Flatten())\n",
        "model.add(Dense(256, activation='relu'))\n",
        "model.add(Dense(1, activation='sigmoid'))\n",
        "model.compile(loss='binary_crossentropy', optimizer='adam', metrics=['accuracy'])\n",
        "model.summary()"
      ]
    },
    {
      "cell_type": "code",
      "execution_count": null,
      "metadata": {
        "colab": {
          "base_uri": "https://localhost:8080/"
        },
        "id": "2GQLxQ0i0mUg",
        "outputId": "bf70d8a1-d742-48ea-9a61-69cbcaa48aab"
      },
      "outputs": [
        {
          "name": "stdout",
          "output_type": "stream",
          "text": [
            "Epoch 1/10\n",
            "128/128 [==============================] - 103s 797ms/step - loss: 0.3280 - accuracy: 0.8531 - val_loss: 0.2293 - val_accuracy: 0.8974\n",
            "Epoch 2/10\n",
            "128/128 [==============================] - 102s 801ms/step - loss: 0.1700 - accuracy: 0.9307 - val_loss: 0.2223 - val_accuracy: 0.9062\n",
            "Epoch 3/10\n",
            "128/128 [==============================] - 110s 859ms/step - loss: 0.0924 - accuracy: 0.9661 - val_loss: 0.2658 - val_accuracy: 0.9067\n",
            "Epoch 4/10\n",
            "128/128 [==============================] - ETA: 0s - loss: 0.0453 - accuracy: 0.9861Restoring model weights from the end of the best epoch: 2.\n",
            "128/128 [==============================] - 105s 818ms/step - loss: 0.0453 - accuracy: 0.9861 - val_loss: 0.3349 - val_accuracy: 0.9023\n",
            "Epoch 00004: early stopping\n"
          ]
        },
        {
          "data": {
            "text/plain": [
              "<keras.callbacks.History at 0x7f3099eb6410>"
            ]
          },
          "execution_count": 39,
          "metadata": {},
          "output_type": "execute_result"
        }
      ],
      "source": [
        "es = tf.keras.callbacks.EarlyStopping(monitor='val_loss', \n",
        "                                      patience=2,\n",
        "                                      restore_best_weights=True,\n",
        "                                      verbose=1)\n",
        "\n",
        "model.fit(X_train, y_train, \n",
        "          validation_split=0.1,\n",
        "          epochs=EPOCHS, \n",
        "          batch_size=BATCH_SIZE,\n",
        "          callbacks=[es], \n",
        "          verbose=1)"
      ]
    },
    {
      "cell_type": "code",
      "execution_count": null,
      "metadata": {
        "colab": {
          "base_uri": "https://localhost:8080/"
        },
        "id": "3FT55r_m0o8u",
        "outputId": "49ba9037-82de-4833-826a-6b356d85f16f"
      },
      "outputs": [
        {
          "name": "stdout",
          "output_type": "stream",
          "text": [
            "142/142 [==============================] - 8s 57ms/step\n"
          ]
        },
        {
          "data": {
            "text/plain": [
              "[1, 1, 1, 1, 1, 1, 1, 1, 1, 1]"
            ]
          },
          "execution_count": 40,
          "metadata": {},
          "output_type": "execute_result"
        }
      ],
      "source": [
        "prediction_probs = model.predict(X_test, verbose=1).ravel()\n",
        "predictions = [1 if prob > 0.5 else 0 for prob in prediction_probs]\n",
        "predictions[:10]"
      ]
    },
    {
      "cell_type": "code",
      "execution_count": null,
      "metadata": {
        "colab": {
          "base_uri": "https://localhost:8080/",
          "height": 268
        },
        "id": "GvLktSQr0t2H",
        "outputId": "b04f4e26-1e98-40c1-82c4-304c5d043bda"
      },
      "outputs": [
        {
          "name": "stdout",
          "output_type": "stream",
          "text": [
            "              precision    recall  f1-score   support\n",
            "\n",
            "           0       0.72      0.79      0.75       819\n",
            "           1       0.95      0.93      0.94      3710\n",
            "\n",
            "    accuracy                           0.91      4529\n",
            "   macro avg       0.84      0.86      0.85      4529\n",
            "weighted avg       0.91      0.91      0.91      4529\n",
            "\n"
          ]
        },
        {
          "data": {
            "text/html": [
              "\n",
              "  <div id=\"df-665a6367-eeff-4ebf-a1ef-1b11a04a1c2b\">\n",
              "    <div class=\"colab-df-container\">\n",
              "      <div>\n",
              "<style scoped>\n",
              "    .dataframe tbody tr th:only-of-type {\n",
              "        vertical-align: middle;\n",
              "    }\n",
              "\n",
              "    .dataframe tbody tr th {\n",
              "        vertical-align: top;\n",
              "    }\n",
              "\n",
              "    .dataframe thead th {\n",
              "        text-align: right;\n",
              "    }\n",
              "</style>\n",
              "<table border=\"1\" class=\"dataframe\">\n",
              "  <thead>\n",
              "    <tr style=\"text-align: right;\">\n",
              "      <th></th>\n",
              "      <th>0</th>\n",
              "      <th>1</th>\n",
              "    </tr>\n",
              "  </thead>\n",
              "  <tbody>\n",
              "    <tr>\n",
              "      <th>0</th>\n",
              "      <td>644</td>\n",
              "      <td>175</td>\n",
              "    </tr>\n",
              "    <tr>\n",
              "      <th>1</th>\n",
              "      <td>246</td>\n",
              "      <td>3464</td>\n",
              "    </tr>\n",
              "  </tbody>\n",
              "</table>\n",
              "</div>\n",
              "      <button class=\"colab-df-convert\" onclick=\"convertToInteractive('df-665a6367-eeff-4ebf-a1ef-1b11a04a1c2b')\"\n",
              "              title=\"Convert this dataframe to an interactive table.\"\n",
              "              style=\"display:none;\">\n",
              "        \n",
              "  <svg xmlns=\"http://www.w3.org/2000/svg\" height=\"24px\"viewBox=\"0 0 24 24\"\n",
              "       width=\"24px\">\n",
              "    <path d=\"M0 0h24v24H0V0z\" fill=\"none\"/>\n",
              "    <path d=\"M18.56 5.44l.94 2.06.94-2.06 2.06-.94-2.06-.94-.94-2.06-.94 2.06-2.06.94zm-11 1L8.5 8.5l.94-2.06 2.06-.94-2.06-.94L8.5 2.5l-.94 2.06-2.06.94zm10 10l.94 2.06.94-2.06 2.06-.94-2.06-.94-.94-2.06-.94 2.06-2.06.94z\"/><path d=\"M17.41 7.96l-1.37-1.37c-.4-.4-.92-.59-1.43-.59-.52 0-1.04.2-1.43.59L10.3 9.45l-7.72 7.72c-.78.78-.78 2.05 0 2.83L4 21.41c.39.39.9.59 1.41.59.51 0 1.02-.2 1.41-.59l7.78-7.78 2.81-2.81c.8-.78.8-2.07 0-2.86zM5.41 20L4 18.59l7.72-7.72 1.47 1.35L5.41 20z\"/>\n",
              "  </svg>\n",
              "      </button>\n",
              "      \n",
              "  <style>\n",
              "    .colab-df-container {\n",
              "      display:flex;\n",
              "      flex-wrap:wrap;\n",
              "      gap: 12px;\n",
              "    }\n",
              "\n",
              "    .colab-df-convert {\n",
              "      background-color: #E8F0FE;\n",
              "      border: none;\n",
              "      border-radius: 50%;\n",
              "      cursor: pointer;\n",
              "      display: none;\n",
              "      fill: #1967D2;\n",
              "      height: 32px;\n",
              "      padding: 0 0 0 0;\n",
              "      width: 32px;\n",
              "    }\n",
              "\n",
              "    .colab-df-convert:hover {\n",
              "      background-color: #E2EBFA;\n",
              "      box-shadow: 0px 1px 2px rgba(60, 64, 67, 0.3), 0px 1px 3px 1px rgba(60, 64, 67, 0.15);\n",
              "      fill: #174EA6;\n",
              "    }\n",
              "\n",
              "    [theme=dark] .colab-df-convert {\n",
              "      background-color: #3B4455;\n",
              "      fill: #D2E3FC;\n",
              "    }\n",
              "\n",
              "    [theme=dark] .colab-df-convert:hover {\n",
              "      background-color: #434B5C;\n",
              "      box-shadow: 0px 1px 3px 1px rgba(0, 0, 0, 0.15);\n",
              "      filter: drop-shadow(0px 1px 2px rgba(0, 0, 0, 0.3));\n",
              "      fill: #FFFFFF;\n",
              "    }\n",
              "  </style>\n",
              "\n",
              "      <script>\n",
              "        const buttonEl =\n",
              "          document.querySelector('#df-665a6367-eeff-4ebf-a1ef-1b11a04a1c2b button.colab-df-convert');\n",
              "        buttonEl.style.display =\n",
              "          google.colab.kernel.accessAllowed ? 'block' : 'none';\n",
              "\n",
              "        async function convertToInteractive(key) {\n",
              "          const element = document.querySelector('#df-665a6367-eeff-4ebf-a1ef-1b11a04a1c2b');\n",
              "          const dataTable =\n",
              "            await google.colab.kernel.invokeFunction('convertToInteractive',\n",
              "                                                     [key], {});\n",
              "          if (!dataTable) return;\n",
              "\n",
              "          const docLinkHtml = 'Like what you see? Visit the ' +\n",
              "            '<a target=\"_blank\" href=https://colab.research.google.com/notebooks/data_table.ipynb>data table notebook</a>'\n",
              "            + ' to learn more about interactive tables.';\n",
              "          element.innerHTML = '';\n",
              "          dataTable['output_type'] = 'display_data';\n",
              "          await google.colab.output.renderOutput(dataTable, element);\n",
              "          const docLink = document.createElement('div');\n",
              "          docLink.innerHTML = docLinkHtml;\n",
              "          element.appendChild(docLink);\n",
              "        }\n",
              "      </script>\n",
              "    </div>\n",
              "  </div>\n",
              "  "
            ],
            "text/plain": [
              "     0     1\n",
              "0  644   175\n",
              "1  246  3464"
            ]
          },
          "execution_count": 41,
          "metadata": {},
          "output_type": "execute_result"
        }
      ],
      "source": [
        "from sklearn.metrics import classification_report, confusion_matrix\n",
        "\n",
        "labels = le.classes_.tolist()\n",
        "print(classification_report(test_labels, predictions))\n",
        "pd.DataFrame(confusion_matrix(test_labels, predictions), index=labels, columns=labels)"
      ]
    },
    {
      "cell_type": "code",
      "execution_count": null,
      "metadata": {
        "colab": {
          "base_uri": "https://localhost:8080/"
        },
        "id": "f2avJqxD0wPm",
        "outputId": "f8a9669d-4380-4737-e304-04bd2de4bf22"
      },
      "outputs": [
        {
          "name": "stdout",
          "output_type": "stream",
          "text": [
            "Model: \"sequential_2\"\n",
            "_________________________________________________________________\n",
            " Layer (type)                Output Shape              Param #   \n",
            "=================================================================\n",
            " embedding_1 (Embedding)     (None, 250, 300)          6969000   \n",
            "                                                                 \n",
            " spatial_dropout1d (SpatialD  (None, 250, 300)         0         \n",
            " ropout1D)                                                       \n",
            "                                                                 \n",
            " lstm (LSTM)                 (None, 128)               219648    \n",
            "                                                                 \n",
            " dense_6 (Dense)             (None, 256)               33024     \n",
            "                                                                 \n",
            " dense_7 (Dense)             (None, 1)                 257       \n",
            "                                                                 \n",
            "=================================================================\n",
            "Total params: 7,221,929\n",
            "Trainable params: 7,221,929\n",
            "Non-trainable params: 0\n",
            "_________________________________________________________________\n"
          ]
        }
      ],
      "source": [
        "EMBEDDING_DIM = 300 \n",
        "LSTM_DIM = 128 \n",
        "\n",
        "model2 = tf.keras.models.Sequential()\n",
        "model2.add(tf.keras.layers.Embedding(input_dim=VOCAB_SIZE, output_dim=EMBEDDING_DIM, input_length=MAX_SEQUENCE_LENGTH))\n",
        "model2.add(tf.keras.layers.SpatialDropout1D(0.1))\n",
        "model2.add(tf.keras.layers.LSTM(LSTM_DIM, return_sequences=False))\n",
        "model2.add(tf.keras.layers.Dense(256, activation='relu'))\n",
        "model2.add(tf.keras.layers.Dense(1, activation=\"sigmoid\"))\n",
        "\n",
        "model2.compile(loss=\"binary_crossentropy\", optimizer=\"adam\",\n",
        "              metrics=[\"accuracy\"])\n",
        "model2.summary()"
      ]
    },
    {
      "cell_type": "code",
      "execution_count": null,
      "metadata": {
        "colab": {
          "base_uri": "https://localhost:8080/"
        },
        "id": "jh74SzYf4yly",
        "outputId": "eaef25fc-3e28-4f32-c5ba-15730f4a63c3"
      },
      "outputs": [
        {
          "name": "stdout",
          "output_type": "stream",
          "text": [
            "Epoch 1/10\n",
            "128/128 [==============================] - 178s 1s/step - loss: 0.3330 - accuracy: 0.8623 - val_loss: 0.2623 - val_accuracy: 0.8896\n",
            "Epoch 2/10\n",
            "128/128 [==============================] - 175s 1s/step - loss: 0.1929 - accuracy: 0.9215 - val_loss: 0.2504 - val_accuracy: 0.8902\n",
            "Epoch 3/10\n",
            "128/128 [==============================] - 175s 1s/step - loss: 0.1300 - accuracy: 0.9498 - val_loss: 0.2646 - val_accuracy: 0.8979\n",
            "Epoch 4/10\n",
            "128/128 [==============================] - ETA: 0s - loss: 0.0882 - accuracy: 0.9656Restoring model weights from the end of the best epoch: 2.\n",
            "128/128 [==============================] - 191s 1s/step - loss: 0.0882 - accuracy: 0.9656 - val_loss: 0.3566 - val_accuracy: 0.8858\n",
            "Epoch 00004: early stopping\n"
          ]
        },
        {
          "data": {
            "text/plain": [
              "<keras.callbacks.History at 0x7f3094f74bd0>"
            ]
          },
          "execution_count": 43,
          "metadata": {},
          "output_type": "execute_result"
        }
      ],
      "source": [
        "batch_size = 128\n",
        "EPOCHS = 10\n",
        "\n",
        "es = tf.keras.callbacks.EarlyStopping(monitor='val_loss', \n",
        "                                      patience=2,\n",
        "                                      restore_best_weights=True,\n",
        "                                      verbose=1)\n",
        "\n",
        "model2.fit(X_train, y_train, epochs=EPOCHS, batch_size=batch_size, \n",
        "          callbacks=[es],\n",
        "          shuffle=True, validation_split=0.1, verbose=1)"
      ]
    },
    {
      "cell_type": "code",
      "execution_count": null,
      "metadata": {
        "colab": {
          "base_uri": "https://localhost:8080/"
        },
        "id": "Ws8StE8B40k7",
        "outputId": "304a12e3-d68a-47f6-9b85-76110b3f2063"
      },
      "outputs": [
        {
          "name": "stdout",
          "output_type": "stream",
          "text": [
            "142/142 [==============================] - 20s 134ms/step\n"
          ]
        },
        {
          "data": {
            "text/plain": [
              "[1, 1, 1, 1, 1, 1, 1, 1, 1, 1]"
            ]
          },
          "execution_count": 44,
          "metadata": {},
          "output_type": "execute_result"
        }
      ],
      "source": [
        "prediction_probs = model2.predict(X_test, verbose=1).ravel()\n",
        "predictions = [1 if prob > 0.5 else 0 for prob in prediction_probs]\n",
        "predictions[:10]"
      ]
    },
    {
      "cell_type": "code",
      "execution_count": null,
      "metadata": {
        "colab": {
          "base_uri": "https://localhost:8080/",
          "height": 268
        },
        "id": "iIGMjwp04-A3",
        "outputId": "a74c21d9-424b-45f3-8e83-4f3c7618e128"
      },
      "outputs": [
        {
          "name": "stdout",
          "output_type": "stream",
          "text": [
            "              precision    recall  f1-score   support\n",
            "\n",
            "           0       0.71      0.72      0.71       819\n",
            "           1       0.94      0.94      0.94      3710\n",
            "\n",
            "    accuracy                           0.90      4529\n",
            "   macro avg       0.83      0.83      0.83      4529\n",
            "weighted avg       0.90      0.90      0.90      4529\n",
            "\n"
          ]
        },
        {
          "data": {
            "text/html": [
              "\n",
              "  <div id=\"df-194e24e1-0c25-4f0e-a71e-ff167824a5fc\">\n",
              "    <div class=\"colab-df-container\">\n",
              "      <div>\n",
              "<style scoped>\n",
              "    .dataframe tbody tr th:only-of-type {\n",
              "        vertical-align: middle;\n",
              "    }\n",
              "\n",
              "    .dataframe tbody tr th {\n",
              "        vertical-align: top;\n",
              "    }\n",
              "\n",
              "    .dataframe thead th {\n",
              "        text-align: right;\n",
              "    }\n",
              "</style>\n",
              "<table border=\"1\" class=\"dataframe\">\n",
              "  <thead>\n",
              "    <tr style=\"text-align: right;\">\n",
              "      <th></th>\n",
              "      <th>0</th>\n",
              "      <th>1</th>\n",
              "    </tr>\n",
              "  </thead>\n",
              "  <tbody>\n",
              "    <tr>\n",
              "      <th>0</th>\n",
              "      <td>586</td>\n",
              "      <td>233</td>\n",
              "    </tr>\n",
              "    <tr>\n",
              "      <th>1</th>\n",
              "      <td>236</td>\n",
              "      <td>3474</td>\n",
              "    </tr>\n",
              "  </tbody>\n",
              "</table>\n",
              "</div>\n",
              "      <button class=\"colab-df-convert\" onclick=\"convertToInteractive('df-194e24e1-0c25-4f0e-a71e-ff167824a5fc')\"\n",
              "              title=\"Convert this dataframe to an interactive table.\"\n",
              "              style=\"display:none;\">\n",
              "        \n",
              "  <svg xmlns=\"http://www.w3.org/2000/svg\" height=\"24px\"viewBox=\"0 0 24 24\"\n",
              "       width=\"24px\">\n",
              "    <path d=\"M0 0h24v24H0V0z\" fill=\"none\"/>\n",
              "    <path d=\"M18.56 5.44l.94 2.06.94-2.06 2.06-.94-2.06-.94-.94-2.06-.94 2.06-2.06.94zm-11 1L8.5 8.5l.94-2.06 2.06-.94-2.06-.94L8.5 2.5l-.94 2.06-2.06.94zm10 10l.94 2.06.94-2.06 2.06-.94-2.06-.94-.94-2.06-.94 2.06-2.06.94z\"/><path d=\"M17.41 7.96l-1.37-1.37c-.4-.4-.92-.59-1.43-.59-.52 0-1.04.2-1.43.59L10.3 9.45l-7.72 7.72c-.78.78-.78 2.05 0 2.83L4 21.41c.39.39.9.59 1.41.59.51 0 1.02-.2 1.41-.59l7.78-7.78 2.81-2.81c.8-.78.8-2.07 0-2.86zM5.41 20L4 18.59l7.72-7.72 1.47 1.35L5.41 20z\"/>\n",
              "  </svg>\n",
              "      </button>\n",
              "      \n",
              "  <style>\n",
              "    .colab-df-container {\n",
              "      display:flex;\n",
              "      flex-wrap:wrap;\n",
              "      gap: 12px;\n",
              "    }\n",
              "\n",
              "    .colab-df-convert {\n",
              "      background-color: #E8F0FE;\n",
              "      border: none;\n",
              "      border-radius: 50%;\n",
              "      cursor: pointer;\n",
              "      display: none;\n",
              "      fill: #1967D2;\n",
              "      height: 32px;\n",
              "      padding: 0 0 0 0;\n",
              "      width: 32px;\n",
              "    }\n",
              "\n",
              "    .colab-df-convert:hover {\n",
              "      background-color: #E2EBFA;\n",
              "      box-shadow: 0px 1px 2px rgba(60, 64, 67, 0.3), 0px 1px 3px 1px rgba(60, 64, 67, 0.15);\n",
              "      fill: #174EA6;\n",
              "    }\n",
              "\n",
              "    [theme=dark] .colab-df-convert {\n",
              "      background-color: #3B4455;\n",
              "      fill: #D2E3FC;\n",
              "    }\n",
              "\n",
              "    [theme=dark] .colab-df-convert:hover {\n",
              "      background-color: #434B5C;\n",
              "      box-shadow: 0px 1px 3px 1px rgba(0, 0, 0, 0.15);\n",
              "      filter: drop-shadow(0px 1px 2px rgba(0, 0, 0, 0.3));\n",
              "      fill: #FFFFFF;\n",
              "    }\n",
              "  </style>\n",
              "\n",
              "      <script>\n",
              "        const buttonEl =\n",
              "          document.querySelector('#df-194e24e1-0c25-4f0e-a71e-ff167824a5fc button.colab-df-convert');\n",
              "        buttonEl.style.display =\n",
              "          google.colab.kernel.accessAllowed ? 'block' : 'none';\n",
              "\n",
              "        async function convertToInteractive(key) {\n",
              "          const element = document.querySelector('#df-194e24e1-0c25-4f0e-a71e-ff167824a5fc');\n",
              "          const dataTable =\n",
              "            await google.colab.kernel.invokeFunction('convertToInteractive',\n",
              "                                                     [key], {});\n",
              "          if (!dataTable) return;\n",
              "\n",
              "          const docLinkHtml = 'Like what you see? Visit the ' +\n",
              "            '<a target=\"_blank\" href=https://colab.research.google.com/notebooks/data_table.ipynb>data table notebook</a>'\n",
              "            + ' to learn more about interactive tables.';\n",
              "          element.innerHTML = '';\n",
              "          dataTable['output_type'] = 'display_data';\n",
              "          await google.colab.output.renderOutput(dataTable, element);\n",
              "          const docLink = document.createElement('div');\n",
              "          docLink.innerHTML = docLinkHtml;\n",
              "          element.appendChild(docLink);\n",
              "        }\n",
              "      </script>\n",
              "    </div>\n",
              "  </div>\n",
              "  "
            ],
            "text/plain": [
              "     0     1\n",
              "0  586   233\n",
              "1  236  3474"
            ]
          },
          "execution_count": 45,
          "metadata": {},
          "output_type": "execute_result"
        }
      ],
      "source": [
        "from sklearn.metrics import classification_report, confusion_matrix\n",
        "\n",
        "labels = le.classes_.tolist()\n",
        "print(classification_report(test_labels, predictions))\n",
        "pd.DataFrame(confusion_matrix(test_labels, predictions), index=labels, columns=labels)"
      ]
    },
    {
      "cell_type": "code",
      "execution_count": null,
      "metadata": {
        "colab": {
          "base_uri": "https://localhost:8080/"
        },
        "id": "HFbE5qaM5Bxz",
        "outputId": "613580c8-2e5d-4996-c3b7-ecfb2f565271"
      },
      "outputs": [
        {
          "name": "stdout",
          "output_type": "stream",
          "text": [
            "Model: \"model\"\n",
            "_________________________________________________________________\n",
            " Layer (type)                Output Shape              Param #   \n",
            "=================================================================\n",
            " input_1 (InputLayer)        [(None, 250)]             0         \n",
            "                                                                 \n",
            " embedding_2 (Embedding)     (None, 250, 300)          6969000   \n",
            "                                                                 \n",
            " bidirectional (Bidirectiona  (None, 250, 256)         439296    \n",
            " l)                                                              \n",
            "                                                                 \n",
            " bidirectional_1 (Bidirectio  (None, 256)              394240    \n",
            " nal)                                                            \n",
            "                                                                 \n",
            " dense_8 (Dense)             (None, 256)               65792     \n",
            "                                                                 \n",
            " dropout_3 (Dropout)         (None, 256)               0         \n",
            "                                                                 \n",
            " dense_9 (Dense)             (None, 256)               65792     \n",
            "                                                                 \n",
            " dropout_4 (Dropout)         (None, 256)               0         \n",
            "                                                                 \n",
            " dense_10 (Dense)            (None, 1)                 257       \n",
            "                                                                 \n",
            "=================================================================\n",
            "Total params: 7,934,377\n",
            "Trainable params: 7,934,377\n",
            "Non-trainable params: 0\n",
            "_________________________________________________________________\n"
          ]
        }
      ],
      "source": [
        "EMBEDDING_DIM = 300 \n",
        "LSTM_DIM = 128 \n",
        "inp = tf.keras.layers.Input(shape=(MAX_SEQUENCE_LENGTH,))\n",
        "x = tf.keras.layers.Embedding(VOCAB_SIZE, EMBEDDING_DIM, trainable=True)(inp)\n",
        "x = tf.keras.layers.Bidirectional(tf.keras.layers.LSTM(LSTM_DIM, return_sequences=True))(x)\n",
        "x = tf.keras.layers.Bidirectional(tf.keras.layers.LSTM(LSTM_DIM, return_sequences=False))(x)\n",
        "x = tf.keras.layers.Dense(256, activation='relu')(x)\n",
        "x = tf.keras.layers.Dropout(rate=0.2)(x)\n",
        "x = tf.keras.layers.Dense(256, activation='relu')(x)\n",
        "x = tf.keras.layers.Dropout(rate=0.2)(x)\n",
        "\n",
        "outp = tf.keras.layers.Dense(1, activation='sigmoid')(x)\n",
        "model3 = tf.keras.models.Model(inputs=inp, outputs=outp)\n",
        "\n",
        "    \n",
        "model3.compile(loss='binary_crossentropy', optimizer=tf.keras.optimizers.Adam(), metrics=['accuracy'])\n",
        "model3.summary()"
      ]
    },
    {
      "cell_type": "code",
      "execution_count": null,
      "metadata": {
        "colab": {
          "base_uri": "https://localhost:8080/"
        },
        "id": "3ig6NwFCfNnR",
        "outputId": "8b2f7174-0537-4f18-8fcb-1729bfc843e2"
      },
      "outputs": [
        {
          "name": "stdout",
          "output_type": "stream",
          "text": [
            "Epoch 1/5\n",
            "164/164 [==============================] - 721s 4s/step - loss: 0.3168 - accuracy: 0.8658 - val_loss: 0.2688 - val_accuracy: 0.8780\n",
            "Epoch 2/5\n",
            "164/164 [==============================] - 699s 4s/step - loss: 0.1797 - accuracy: 0.9290 - val_loss: 0.2549 - val_accuracy: 0.8858\n",
            "Epoch 3/5\n",
            "164/164 [==============================] - 702s 4s/step - loss: 0.1145 - accuracy: 0.9588 - val_loss: 0.3150 - val_accuracy: 0.8962\n",
            "Epoch 4/5\n",
            "164/164 [==============================] - 705s 4s/step - loss: 0.0817 - accuracy: 0.9720 - val_loss: 0.4348 - val_accuracy: 0.8819\n",
            "Epoch 5/5\n",
            "164/164 [==============================] - 701s 4s/step - loss: 0.0572 - accuracy: 0.9809 - val_loss: 0.4175 - val_accuracy: 0.8830\n"
          ]
        },
        {
          "data": {
            "text/plain": [
              "<keras.callbacks.History at 0x7f30915d6d90>"
            ]
          },
          "execution_count": 47,
          "metadata": {},
          "output_type": "execute_result"
        }
      ],
      "source": [
        "batch_size = 100\n",
        "model3.fit(X_train, y_train, epochs=5, batch_size=batch_size, \n",
        "           shuffle=True, validation_split=0.1, verbose=1)"
      ]
    },
    {
      "cell_type": "code",
      "execution_count": null,
      "metadata": {
        "colab": {
          "base_uri": "https://localhost:8080/"
        },
        "id": "El7b5-fvfRQ7",
        "outputId": "2fd441e9-6f08-4576-dcc1-a740e7910129"
      },
      "outputs": [
        {
          "name": "stdout",
          "output_type": "stream",
          "text": [
            "142/142 [==============================] - 69s 473ms/step\n"
          ]
        },
        {
          "data": {
            "text/plain": [
              "[1, 1, 1, 1, 1, 1, 0, 1, 1, 1]"
            ]
          },
          "execution_count": 48,
          "metadata": {},
          "output_type": "execute_result"
        }
      ],
      "source": [
        "prediction_probs = model3.predict(X_test, verbose=1).ravel()\n",
        "predictions = [1 if prob > 0.5 else 0 for prob in prediction_probs]\n",
        "predictions[:10]"
      ]
    },
    {
      "cell_type": "code",
      "execution_count": null,
      "metadata": {
        "colab": {
          "base_uri": "https://localhost:8080/",
          "height": 268
        },
        "id": "4J_pezf8fUx-",
        "outputId": "7618629d-4487-454c-a7dd-b9d3ee24cdc4"
      },
      "outputs": [
        {
          "name": "stdout",
          "output_type": "stream",
          "text": [
            "              precision    recall  f1-score   support\n",
            "\n",
            "           0       0.68      0.72      0.70       819\n",
            "           1       0.94      0.92      0.93      3710\n",
            "\n",
            "    accuracy                           0.89      4529\n",
            "   macro avg       0.81      0.82      0.81      4529\n",
            "weighted avg       0.89      0.89      0.89      4529\n",
            "\n"
          ]
        },
        {
          "data": {
            "text/html": [
              "\n",
              "  <div id=\"df-a01abd0a-0af0-4bd9-880e-194fd2a0afa5\">\n",
              "    <div class=\"colab-df-container\">\n",
              "      <div>\n",
              "<style scoped>\n",
              "    .dataframe tbody tr th:only-of-type {\n",
              "        vertical-align: middle;\n",
              "    }\n",
              "\n",
              "    .dataframe tbody tr th {\n",
              "        vertical-align: top;\n",
              "    }\n",
              "\n",
              "    .dataframe thead th {\n",
              "        text-align: right;\n",
              "    }\n",
              "</style>\n",
              "<table border=\"1\" class=\"dataframe\">\n",
              "  <thead>\n",
              "    <tr style=\"text-align: right;\">\n",
              "      <th></th>\n",
              "      <th>0</th>\n",
              "      <th>1</th>\n",
              "    </tr>\n",
              "  </thead>\n",
              "  <tbody>\n",
              "    <tr>\n",
              "      <th>0</th>\n",
              "      <td>587</td>\n",
              "      <td>232</td>\n",
              "    </tr>\n",
              "    <tr>\n",
              "      <th>1</th>\n",
              "      <td>279</td>\n",
              "      <td>3431</td>\n",
              "    </tr>\n",
              "  </tbody>\n",
              "</table>\n",
              "</div>\n",
              "      <button class=\"colab-df-convert\" onclick=\"convertToInteractive('df-a01abd0a-0af0-4bd9-880e-194fd2a0afa5')\"\n",
              "              title=\"Convert this dataframe to an interactive table.\"\n",
              "              style=\"display:none;\">\n",
              "        \n",
              "  <svg xmlns=\"http://www.w3.org/2000/svg\" height=\"24px\"viewBox=\"0 0 24 24\"\n",
              "       width=\"24px\">\n",
              "    <path d=\"M0 0h24v24H0V0z\" fill=\"none\"/>\n",
              "    <path d=\"M18.56 5.44l.94 2.06.94-2.06 2.06-.94-2.06-.94-.94-2.06-.94 2.06-2.06.94zm-11 1L8.5 8.5l.94-2.06 2.06-.94-2.06-.94L8.5 2.5l-.94 2.06-2.06.94zm10 10l.94 2.06.94-2.06 2.06-.94-2.06-.94-.94-2.06-.94 2.06-2.06.94z\"/><path d=\"M17.41 7.96l-1.37-1.37c-.4-.4-.92-.59-1.43-.59-.52 0-1.04.2-1.43.59L10.3 9.45l-7.72 7.72c-.78.78-.78 2.05 0 2.83L4 21.41c.39.39.9.59 1.41.59.51 0 1.02-.2 1.41-.59l7.78-7.78 2.81-2.81c.8-.78.8-2.07 0-2.86zM5.41 20L4 18.59l7.72-7.72 1.47 1.35L5.41 20z\"/>\n",
              "  </svg>\n",
              "      </button>\n",
              "      \n",
              "  <style>\n",
              "    .colab-df-container {\n",
              "      display:flex;\n",
              "      flex-wrap:wrap;\n",
              "      gap: 12px;\n",
              "    }\n",
              "\n",
              "    .colab-df-convert {\n",
              "      background-color: #E8F0FE;\n",
              "      border: none;\n",
              "      border-radius: 50%;\n",
              "      cursor: pointer;\n",
              "      display: none;\n",
              "      fill: #1967D2;\n",
              "      height: 32px;\n",
              "      padding: 0 0 0 0;\n",
              "      width: 32px;\n",
              "    }\n",
              "\n",
              "    .colab-df-convert:hover {\n",
              "      background-color: #E2EBFA;\n",
              "      box-shadow: 0px 1px 2px rgba(60, 64, 67, 0.3), 0px 1px 3px 1px rgba(60, 64, 67, 0.15);\n",
              "      fill: #174EA6;\n",
              "    }\n",
              "\n",
              "    [theme=dark] .colab-df-convert {\n",
              "      background-color: #3B4455;\n",
              "      fill: #D2E3FC;\n",
              "    }\n",
              "\n",
              "    [theme=dark] .colab-df-convert:hover {\n",
              "      background-color: #434B5C;\n",
              "      box-shadow: 0px 1px 3px 1px rgba(0, 0, 0, 0.15);\n",
              "      filter: drop-shadow(0px 1px 2px rgba(0, 0, 0, 0.3));\n",
              "      fill: #FFFFFF;\n",
              "    }\n",
              "  </style>\n",
              "\n",
              "      <script>\n",
              "        const buttonEl =\n",
              "          document.querySelector('#df-a01abd0a-0af0-4bd9-880e-194fd2a0afa5 button.colab-df-convert');\n",
              "        buttonEl.style.display =\n",
              "          google.colab.kernel.accessAllowed ? 'block' : 'none';\n",
              "\n",
              "        async function convertToInteractive(key) {\n",
              "          const element = document.querySelector('#df-a01abd0a-0af0-4bd9-880e-194fd2a0afa5');\n",
              "          const dataTable =\n",
              "            await google.colab.kernel.invokeFunction('convertToInteractive',\n",
              "                                                     [key], {});\n",
              "          if (!dataTable) return;\n",
              "\n",
              "          const docLinkHtml = 'Like what you see? Visit the ' +\n",
              "            '<a target=\"_blank\" href=https://colab.research.google.com/notebooks/data_table.ipynb>data table notebook</a>'\n",
              "            + ' to learn more about interactive tables.';\n",
              "          element.innerHTML = '';\n",
              "          dataTable['output_type'] = 'display_data';\n",
              "          await google.colab.output.renderOutput(dataTable, element);\n",
              "          const docLink = document.createElement('div');\n",
              "          docLink.innerHTML = docLinkHtml;\n",
              "          element.appendChild(docLink);\n",
              "        }\n",
              "      </script>\n",
              "    </div>\n",
              "  </div>\n",
              "  "
            ],
            "text/plain": [
              "     0     1\n",
              "0  587   232\n",
              "1  279  3431"
            ]
          },
          "execution_count": 49,
          "metadata": {},
          "output_type": "execute_result"
        }
      ],
      "source": [
        "labels = le.classes_.tolist()\n",
        "print(classification_report(test_labels, predictions))\n",
        "pd.DataFrame(confusion_matrix(test_labels, predictions), index=labels, columns=labels)"
      ]
    },
    {
      "cell_type": "code",
      "execution_count": null,
      "metadata": {
        "id": "1sn46VQmfeqB"
      },
      "outputs": [],
      "source": [
        "t = tf.keras.preprocessing.text.Tokenizer(oov_token='<UNK>')\n",
        "t.fit_on_texts(norm_train_reviews)\n",
        "t.word_index['<PAD>'] = 0"
      ]
    },
    {
      "cell_type": "code",
      "execution_count": null,
      "metadata": {
        "id": "UQEk5iAYwRYp"
      },
      "outputs": [],
      "source": [
        "train_sequences = t.texts_to_sequences(norm_train_reviews)\n",
        "test_sequences = t.texts_to_sequences(norm_test_reviews)"
      ]
    },
    {
      "cell_type": "code",
      "execution_count": null,
      "metadata": {
        "colab": {
          "base_uri": "https://localhost:8080/"
        },
        "id": "Bb2MkX1c0DMY",
        "outputId": "8efaf55d-1cc8-4e64-ab75-dbd0ccbdadb7"
      },
      "outputs": [
        {
          "data": {
            "text/plain": [
              "((18113, 250), (4529, 250))"
            ]
          },
          "execution_count": 52,
          "metadata": {},
          "output_type": "execute_result"
        }
      ],
      "source": [
        "MAX_SEQUENCE_LENGTH = 250\n",
        "X_train = tf.keras.preprocessing.sequence.pad_sequences(train_sequences, maxlen=MAX_SEQUENCE_LENGTH)\n",
        "X_test = tf.keras.preprocessing.sequence.pad_sequences(test_sequences, maxlen=MAX_SEQUENCE_LENGTH)\n",
        "X_train.shape, X_test.shape"
      ]
    },
    {
      "cell_type": "code",
      "execution_count": null,
      "metadata": {
        "colab": {
          "base_uri": "https://localhost:8080/"
        },
        "id": "oqQm0joS0F1O",
        "outputId": "8c1503e1-6457-4df0-c6ac-3f46d9c3cd02"
      },
      "outputs": [
        {
          "name": "stdout",
          "output_type": "stream",
          "text": [
            "--2021-12-26 23:32:19--  https://dl.fbaipublicfiles.com/fasttext/vectors-english/wiki-news-300d-1M.vec.zip\n",
            "Resolving dl.fbaipublicfiles.com (dl.fbaipublicfiles.com)... 172.67.9.4, 104.22.75.142, 104.22.74.142, ...\n",
            "Connecting to dl.fbaipublicfiles.com (dl.fbaipublicfiles.com)|172.67.9.4|:443... connected.\n",
            "HTTP request sent, awaiting response... 200 OK\n",
            "Length: 681808098 (650M) [application/zip]\n",
            "Saving to: ‘wiki-news-300d-1M.vec.zip.1’\n",
            "\n",
            "wiki-news-300d-1M.v 100%[===================>] 650.22M  22.3MB/s    in 30s     \n",
            "\n",
            "2021-12-26 23:32:49 (21.9 MB/s) - ‘wiki-news-300d-1M.vec.zip.1’ saved [681808098/681808098]\n",
            "\n"
          ]
        }
      ],
      "source": [
        "!wget https://dl.fbaipublicfiles.com/fasttext/vectors-english/wiki-news-300d-1M.vec.zip"
      ]
    },
    {
      "cell_type": "code",
      "execution_count": null,
      "metadata": {
        "colab": {
          "background_save": true,
          "base_uri": "https://localhost:8080/"
        },
        "id": "5sGQu9Yw2CR2",
        "outputId": "3603d5c5-23f3-478f-e675-1fce04254439"
      },
      "outputs": [
        {
          "name": "stdout",
          "output_type": "stream",
          "text": [
            "Archive:  wiki-news-300d-1M.vec.zip\n",
            "replace wiki-news-300d-1M.vec? [y]es, [n]o, [A]ll, [N]one, [r]ename: yes\n",
            "  inflating: wiki-news-300d-1M.vec   \n"
          ]
        }
      ],
      "source": [
        "!unzip wiki-news-300d-1M.vec.zip"
      ]
    },
    {
      "cell_type": "code",
      "execution_count": null,
      "metadata": {
        "colab": {
          "background_save": true
        },
        "id": "VMSFOkfO2MXZ"
      },
      "outputs": [],
      "source": [
        "VOCAB_SIZE = len(t.word_index)\n",
        "EMBED_SIZE = 300"
      ]
    },
    {
      "cell_type": "code",
      "execution_count": null,
      "metadata": {
        "colab": {
          "background_save": true
        },
        "id": "NgplsrKt2OAt"
      },
      "outputs": [],
      "source": [
        "word2idx = t.word_index\n",
        "FASTTEXT_INIT_EMBEDDINGS_FILE = './wiki-news-300d-1M.vec'\n",
        "\n",
        "\n",
        "def load_pretrained_embeddings(word_to_index, max_features, embedding_size, embedding_file_path):  \n",
        "    \"\"\"\n",
        "    Utility function to load the pre-trained embeddings\n",
        "    \"\"\"  \n",
        "    \n",
        "    def get_coefs(word,*arr): \n",
        "        return word, np.asarray(arr, dtype='float32')\n",
        "    \n",
        "    embeddings_index = dict(get_coefs(*row.split(\" \")) \n",
        "                                for row in open(embedding_file_path, encoding=\"utf8\", errors='ignore') \n",
        "                                    if len(row)>100)\n",
        "\n",
        "    all_embs = np.stack(embeddings_index.values())\n",
        "    emb_mean, emb_std = all_embs.mean(), all_embs.std()\n",
        "    embed_size = all_embs.shape[1]\n",
        "\n",
        "    nb_words = min(max_features, len(word_to_index))\n",
        "    embedding_matrix = np.random.normal(emb_mean, emb_std, (nb_words, embedding_size))\n",
        "    \n",
        "    for word, idx in word_to_index.items():\n",
        "        if idx >= max_features: \n",
        "            continue\n",
        "        embedding_vector = embeddings_index.get(word)\n",
        "        if embedding_vector is not None: \n",
        "            embedding_matrix[idx] = embedding_vector\n",
        "\n",
        "    return embedding_matrix"
      ]
    },
    {
      "cell_type": "code",
      "execution_count": null,
      "metadata": {
        "id": "DhStgqko2Pbz"
      },
      "outputs": [],
      "source": [
        "ft_embeddings = load_pretrained_embeddings(word_to_index=word2idx, \n",
        "                                           max_features=VOCAB_SIZE, \n",
        "                                           embedding_size=EMBED_SIZE, \n",
        "                                           embedding_file_path=FASTTEXT_INIT_EMBEDDINGS_FILE)\n",
        "ft_embeddings.shape"
      ]
    },
    {
      "cell_type": "code",
      "execution_count": null,
      "metadata": {
        "id": "LkoUeT6i2Rmf"
      },
      "outputs": [],
      "source": [
        "model = tf.keras.models.Sequential()\n",
        "\n",
        "model.add(tf.keras.layers.Embedding(VOCAB_SIZE, EMBED_SIZE,\n",
        "                                    weights=[ft_embeddings],\n",
        "                                    trainable=True,\n",
        "                                    input_length=MAX_SEQUENCE_LENGTH))\n",
        "\n",
        "model.add(tf.keras.layers.Conv1D(filters=256, kernel_size=4, padding='same', activation='relu'))\n",
        "model.add(tf.keras.layers.MaxPooling1D(pool_size=2))\n",
        "\n",
        "model.add(tf.keras.layers.Conv1D(filters=128, kernel_size=4, padding='same', activation='relu'))\n",
        "model.add(tf.keras.layers.MaxPooling1D(pool_size=2))\n",
        "\n",
        "model.add(tf.keras.layers.Conv1D(filters=64, kernel_size=4, padding='same', activation='relu'))\n",
        "model.add(tf.keras.layers.MaxPooling1D(pool_size=2))\n",
        "\n",
        "model.add(tf.keras.layers.Flatten())\n",
        "\n",
        "model.add(tf.keras.layers.Dense(256, activation='relu'))\n",
        "model.add(tf.keras.layers.Dropout(0.25))\n",
        "model.add(tf.keras.layers.Dense(256, activation='relu'))\n",
        "model.add(tf.keras.layers.Dropout(0.25))\n",
        "model.add(tf.keras.layers.Dense(1, activation='sigmoid'))\n",
        "\n",
        "model.compile(loss='binary_crossentropy', optimizer='adam', metrics=['accuracy'])\n",
        "model.summary()"
      ]
    },
    {
      "cell_type": "code",
      "execution_count": null,
      "metadata": {
        "id": "w60ynenW2VZz"
      },
      "outputs": [],
      "source": [
        "EPOCHS=5\n",
        "BATCH_SIZE=128"
      ]
    },
    {
      "cell_type": "code",
      "execution_count": null,
      "metadata": {
        "id": "2y_CFqz82XIV",
        "colab": {
          "base_uri": "https://localhost:8080/"
        },
        "outputId": "38c4f5b2-f74b-4466-83c4-eab5d967442a"
      },
      "outputs": [
        {
          "output_type": "stream",
          "name": "stdout",
          "text": [
            "Epoch 1/5\n",
            " 67/139 [=============>................] - ETA: 1:49 - loss: 0.4306 - accuracy: 0.8076"
          ]
        }
      ],
      "source": [
        "model.fit(X_train, y_train, \n",
        "          validation_split=0.02,\n",
        "          epochs=EPOCHS, \n",
        "          batch_size=BATCH_SIZE, \n",
        "          shuffle=True,\n",
        "          verbose=1)"
      ]
    },
    {
      "cell_type": "code",
      "execution_count": null,
      "metadata": {
        "id": "NO4Qr-6H2YKZ"
      },
      "outputs": [],
      "source": [
        "prediction_probs = model3.predict(X_test, verbose=1).ravel()\n",
        "predictions = [1 if prob > 0.5 else 0 for prob in prediction_probs]\n",
        "predictions[:10]"
      ]
    },
    {
      "cell_type": "code",
      "execution_count": null,
      "metadata": {
        "id": "HHCECsMY2dZh"
      },
      "outputs": [],
      "source": [
        "labels = le.classes_.tolist()\n",
        "print(classification_report(test_labels, predictions))\n",
        "pd.DataFrame(confusion_matrix(test_labels, predictions), index=labels, columns=labels)"
      ]
    },
    {
      "cell_type": "code",
      "execution_count": null,
      "metadata": {
        "id": "j5ReiLVo2fqO"
      },
      "outputs": [],
      "source": [
        "!pip install transformers"
      ]
    },
    {
      "cell_type": "code",
      "execution_count": null,
      "metadata": {
        "id": "U0ynimHvD4gY"
      },
      "outputs": [],
      "source": [
        "import transformers\n",
        "transformers.__version__"
      ]
    },
    {
      "cell_type": "code",
      "execution_count": null,
      "metadata": {
        "id": "AUBQ7TivD602"
      },
      "outputs": [],
      "source": [
        "import tqdm\n",
        "from sklearn.metrics import confusion_matrix, classification_report, accuracy_score\n",
        "\n",
        "%matplotlib inline\n",
        "seed = 42\n",
        "np.random.seed(seed)\n",
        "tf.random.set_seed(seed)"
      ]
    },
    {
      "cell_type": "code",
      "execution_count": null,
      "metadata": {
        "id": "HeGz0-YEEdlg"
      },
      "outputs": [],
      "source": [
        "import tensorflow_hub as hub\n",
        "print(\"TF Version: \", tf.__version__)\n",
        "print(\"Eager mode: \", tf.executing_eagerly())\n",
        "print(\"TF Hub version: \", hub.__version__)\n",
        "print(\"GPU is\", \"available\" if tf.test.is_gpu_available() else \"NOT AVAILABLE\")"
      ]
    },
    {
      "cell_type": "code",
      "execution_count": null,
      "metadata": {
        "id": "1SSMHL4-EfBU"
      },
      "outputs": [],
      "source": [
        "tokenizer = transformers.BertTokenizer.from_pretrained('bert-base-uncased')"
      ]
    },
    {
      "cell_type": "code",
      "execution_count": null,
      "metadata": {
        "id": "TQflB0xjEneo"
      },
      "outputs": [],
      "source": [
        "def create_bert_input_features(tokenizer, docs, max_seq_length):\n",
        "    \n",
        "    all_ids, all_masks, all_segments= [], [], []\n",
        "    for doc in tqdm.tqdm(docs, desc=\"Converting docs to features\"):\n",
        "        \n",
        "        tokens = tokenizer.tokenize(doc)\n",
        "        \n",
        "        if len(tokens) > max_seq_length-2:\n",
        "            tokens = tokens[0 : (max_seq_length-2)]\n",
        "        tokens = ['[CLS]'] + tokens + ['[SEP]']\n",
        "        ids = tokenizer.convert_tokens_to_ids(tokens)\n",
        "        masks = [1] * len(ids) \n",
        "\n",
        "        while len(ids) < max_seq_length:\n",
        "            ids.append(0)\n",
        "            masks.append(0)\n",
        "            \n",
        "        segments = [0] * max_seq_length \n",
        "        all_ids.append(ids)\n",
        "        all_masks.append(masks)\n",
        "        all_segments.append(segments)\n",
        "        \n",
        "    encoded = np.array([all_ids, all_masks, all_segments])\n",
        "    \n",
        "    return encoded"
      ]
    },
    {
      "cell_type": "code",
      "execution_count": null,
      "metadata": {
        "id": "O6Z8oO9NEpgi"
      },
      "outputs": [],
      "source": [
        "MAX_SEQ_LENGTH = 500\n",
        "\n",
        "inp_id = tf.keras.layers.Input(shape=(MAX_SEQ_LENGTH,), dtype='int32', name=\"bert_input_ids\")\n",
        "inp_mask = tf.keras.layers.Input(shape=(MAX_SEQ_LENGTH,), dtype='int32', name=\"bert_input_masks\")\n",
        "inp_segment = tf.keras.layers.Input(shape=(MAX_SEQ_LENGTH,), dtype='int32', name=\"bert_segment_ids\")\n",
        "inputs = [inp_id, inp_mask, inp_segment]\n",
        "\n",
        "hidden_state = transformers.TFBertModel.from_pretrained('bert-base-uncased')(inputs)\n",
        "pooled_output = hidden_state[1]\n",
        "\n",
        "dense1 = tf.keras.layers.Dense(256, activation='relu')(pooled_output)\n",
        "drop1 = tf.keras.layers.Dropout(0.25)(dense1)\n",
        "dense2 = tf.keras.layers.Dense(256, activation='relu')(drop1)\n",
        "drop2 = tf.keras.layers.Dropout(0.25)(dense2)\n",
        "\n",
        "output = tf.keras.layers.Dense(1, activation='sigmoid')(drop2)\n",
        "\n",
        "model = tf.keras.Model(inputs=inputs, outputs=output)\n",
        "\n",
        "model.compile(optimizer=tf.optimizers.Adam(learning_rate=2e-5, \n",
        "                                           epsilon=1e-08), \n",
        "              loss='binary_crossentropy', metrics=['accuracy'])\n",
        "\n",
        "model.summary()"
      ]
    },
    {
      "cell_type": "code",
      "execution_count": null,
      "metadata": {
        "id": "dbMnOol2EsaY"
      },
      "outputs": [],
      "source": [
        "train_features_ids, train_features_masks, train_features_segments = create_bert_input_features(tokenizer, \n",
        "                                                                                               train_reviews, \n",
        "                                                                                               max_seq_length=MAX_SEQ_LENGTH)\n",
        "\n",
        "test_features_ids, test_features_masks, test_features_segments = create_bert_input_features(tokenizer, \n",
        "                                                                                         test_reviews, \n",
        "                                                                                         max_seq_length=MAX_SEQ_LENGTH)\n",
        "\n",
        "print('Train Features:', train_features_ids.shape, train_features_masks.shape, train_features_segments.shape)\n",
        "print('Test Features:', test_features_ids.shape, test_features_masks.shape, test_features_segments.shape)"
      ]
    },
    {
      "cell_type": "code",
      "execution_count": null,
      "metadata": {
        "id": "MBf3vdetEvF-"
      },
      "outputs": [],
      "source": [
        "model.fit([train_features_ids, \n",
        "           train_features_masks, \n",
        "           train_features_segments], y_train, \n",
        "          validation_data=([test_features_ids, \n",
        "                            test_features_masks, \n",
        "                            test_features_segments], y_test),\n",
        "          epochs=3, \n",
        "          batch_size=12, \n",
        "          shuffle=True,\n",
        "          verbose=1)"
      ]
    },
    {
      "cell_type": "code",
      "execution_count": null,
      "metadata": {
        "id": "5iNBe-R2E1kw"
      },
      "outputs": [],
      "source": [
        "predictions = [1 if pr > 0.5 else 0 \n",
        "                   for pr in model.predict([test_features_ids, \n",
        "                                            test_features_masks, \n",
        "                                            test_features_segments], verbose=0).ravel()]"
      ]
    },
    {
      "cell_type": "code",
      "execution_count": null,
      "metadata": {
        "id": "eS5UK6FyE3Uq"
      },
      "outputs": [],
      "source": [
        "print(\"Accuracy: %.2f%%\" % (accuracy_score(y_test, predictions)*100))\n",
        "print(classification_report(y_test, predictions))\n",
        "pd.DataFrame(confusion_matrix(y_test, predictions))"
      ]
    },
    {
      "cell_type": "code",
      "execution_count": null,
      "metadata": {
        "id": "tWA8N883E4bm"
      },
      "outputs": [],
      "source": [
        ""
      ]
    }
  ],
  "metadata": {
    "colab": {
      "name": "NLP 2 DW FP Part 2.ipynb",
      "provenance": []
    },
    "kernelspec": {
      "display_name": "Python 3",
      "name": "python3"
    },
    "language_info": {
      "name": "python"
    }
  },
  "nbformat": 4,
  "nbformat_minor": 0
}