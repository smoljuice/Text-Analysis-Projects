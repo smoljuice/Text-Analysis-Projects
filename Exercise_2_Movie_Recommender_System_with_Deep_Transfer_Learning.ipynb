{
 "cells": [
  {
   "cell_type": "markdown",
   "metadata": {
    "id": "k-dEJCiV3ORm"
   },
   "source": [
    "# Exercise 2 - Movie Recommender System\n",
    "\n",
    "## Text Similarity\n",
    "\n",
    "Recommender systems are one of the popular and most adopted applications of machine learning. They are typically used to recommend entities to users and these entites can be anything like products, movies, services and so on.\n",
    "\n",
    "Popular examples of recommendations include,\n",
    "\n",
    "- Amazon suggesting products on its website\n",
    "- Amazon Prime, Netflix, Hotstar recommending movies\\shows\n",
    "- YouTube recommending videos to watch\n",
    "\n",
    "Typically recommender systems can be implemented in three ways:\n",
    "\n",
    "- Simple Rule-based Recommenders: Typically based on specific global metrics and thresholds like movie popularity, global ratings etc.\n",
    "- Content-based Recommenders: This is based on providing similar entities based on a specific entity of interest. Content metadata can be used here like movie descriptions, genre, cast, director and so on\n",
    "- Collaborative filtering Recommenders: Here we don't need metadata but we try to predict recommendations and ratings based on past ratings of different users and specific items.\n",
    "\n",
    "__We will be building a movie recommendation system here where based on data\\metadata pertaining to different movies, we try and recommend similar movies of interest!__\n",
    "\n",
    "With this exercise we will learn how to apply concepts learnt through tutorials of week1. Let's get started"
   ]
  },
  {
   "cell_type": "code",
   "execution_count": null,
   "metadata": {
    "id": "O-bzlCEwG2Kw"
   },
   "outputs": [],
   "source": [
    "!nvidia-smi"
   ]
  },
  {
   "cell_type": "markdown",
   "metadata": {
    "id": "GEWxRVzJ3VNb"
   },
   "source": [
    "## Load Data\n",
    "If you are using google colab please use the upload file button option from the 'Files' icon on the left pane to upload the tmdb_5000_movies.csv.gz dataset."
   ]
  },
  {
   "cell_type": "code",
   "execution_count": null,
   "metadata": {
    "id": "vRore2TE3Df8"
   },
   "outputs": [],
   "source": [
    "import pandas as pd\n",
    "\n",
    "df = pd.read_csv('tmdb_5000_movies.csv.gz', compression='gzip')\n",
    "df.info()"
   ]
  },
  {
   "cell_type": "markdown",
   "metadata": {
    "id": "8kPf5QmC6c35"
   },
   "source": [
    "## **View** top few rows of the dataframe"
   ]
  },
  {
   "cell_type": "code",
   "execution_count": null,
   "metadata": {
    "id": "8PG4z8La3Zyw"
   },
   "outputs": [],
   "source": [
    "df.head()"
   ]
  },
  {
   "cell_type": "code",
   "execution_count": null,
   "metadata": {
    "id": "XECe-LDD3Zvu"
   },
   "outputs": [],
   "source": [
    "column_list = ['title', 'tagline', 'overview', 'genres', 'popularity']\n",
    "df = df[column_list]\n",
    "df.tagline.fillna('', inplace=True)"
   ]
  },
  {
   "cell_type": "code",
   "execution_count": null,
   "metadata": {
    "id": "FSRjHB1X3ZtD"
   },
   "outputs": [],
   "source": [
    "df['description'] = df['tagline'].map(str) + ' ' + df['overview'].map(str)"
   ]
  },
  {
   "cell_type": "code",
   "execution_count": null,
   "metadata": {
    "id": "IdckXJN93ZqI"
   },
   "outputs": [],
   "source": [
    "df.dropna(inplace=True)\n",
    "df.info()"
   ]
  },
  {
   "cell_type": "markdown",
   "metadata": {
    "id": "yoLZl7YO6l0L"
   },
   "source": [
    "# __Question 1:__ Simple Text Preprocessing (2 points)\n",
    "\n",
    "First step is to prepare the text columns for analysis. In this section we will prepare textual columns before we extract features from them"
   ]
  },
  {
   "cell_type": "code",
   "execution_count": null,
   "metadata": {
    "id": "i7w1o-wd3jJI"
   },
   "outputs": [],
   "source": [
    "from tqdm import tqdm\n",
    "import re\n",
    "\n",
    "def normalize_corpus(docs):\n",
    "    norm_docs = []\n",
    "    for doc in tqdm(docs):\n",
    "        # use regex to remove special characters\\whitespaces\n",
    "        doc = <YOUR CODE HERE>\n",
    "\n",
    "        # lower case  \n",
    "        doc = <YOUR CODE HERE>\n",
    "\n",
    "        # store in new list\n",
    "        <YOUR CODE HERE>\n",
    "\n",
    "    return norm_docs"
   ]
  },
  {
   "cell_type": "markdown",
   "metadata": {
    "id": "LhGiNPNTIPL2"
   },
   "source": [
    "### Preprocess the __description__ column"
   ]
  },
  {
   "cell_type": "code",
   "execution_count": null,
   "metadata": {
    "id": "GKGPJSy93jGe"
   },
   "outputs": [],
   "source": [
    "norm_corpus = <YOUR CODE HERE>\n",
    "len(norm_corpus)"
   ]
  },
  {
   "cell_type": "code",
   "execution_count": null,
   "metadata": {
    "id": "C6r18EB33tfY"
   },
   "outputs": [],
   "source": [
    "movies_list = df['title'].values\n",
    "movies_list, movies_list.shape"
   ]
  },
  {
   "cell_type": "markdown",
   "metadata": {
    "id": "POq_higY63L6"
   },
   "source": [
    "## Movie Recommendation with Embeddings\n",
    "Let us use sentence level embeddings and then compute movie similarity. Here we will use the **USE model** and use the pretrained weights.\n"
   ]
  },
  {
   "cell_type": "markdown",
   "metadata": {
    "id": "dgKTBi6O66Ih"
   },
   "source": [
    "# __Question 2:__  Use ``TensorFlow Hub`` to get embeddings using Universal Sentence Encoder for the normalized corpus (1 point)"
   ]
  },
  {
   "cell_type": "code",
   "execution_count": null,
   "metadata": {
    "id": "5Kxh_nxC5Yvm"
   },
   "outputs": [],
   "source": [
    "import tensorflow_hub as hub"
   ]
  },
  {
   "cell_type": "markdown",
   "metadata": {
    "id": "zJHPCqrRJS0D"
   },
   "source": [
    "### The following may take some time to load"
   ]
  },
  {
   "cell_type": "code",
   "execution_count": null,
   "metadata": {
    "id": "jfrIEuTr3tZh"
   },
   "outputs": [],
   "source": [
    "module_url = \"https://tfhub.dev/google/universal-sentence-encoder/4\"\n",
    "embed = hub.load(module_url)"
   ]
  },
  {
   "cell_type": "code",
   "execution_count": null,
   "metadata": {
    "id": "bgSMVPK73tWy"
   },
   "outputs": [],
   "source": [
    "movie_embeddings = <YOUR CODE HERE>\n",
    "\n",
    "movie_embeddings, movie_embeddings.shape"
   ]
  },
  {
   "cell_type": "markdown",
   "metadata": {
    "id": "_ALNSeF37NDp"
   },
   "source": [
    "# __Question 3:__ Get Movie Similarity Scores (1 point)\n",
    "\n",
    "We will leverage cosine similarity again to generate similarity scores based on universal embeddings for each movie description"
   ]
  },
  {
   "cell_type": "code",
   "execution_count": null,
   "metadata": {
    "id": "qUTbq-oJ4cEN"
   },
   "outputs": [],
   "source": [
    "from sklearn.metrics.pairwise import cosine_similarity"
   ]
  },
  {
   "cell_type": "markdown",
   "metadata": {
    "id": "B-bD1aPC7N6_"
   },
   "source": [
    "### Complete the following snippet to prepare a dataframe of pair-wise similarity of different movies"
   ]
  },
  {
   "cell_type": "code",
   "execution_count": null,
   "metadata": {
    "id": "aFhGQQcR4cBB"
   },
   "outputs": [],
   "source": [
    "doc_sim = <YOUR CODE HERE>\n",
    "doc_sim_df = <YOUR CODE HERE>\n",
    "doc_sim_df.head()"
   ]
  },
  {
   "cell_type": "markdown",
   "metadata": {
    "id": "wKT305SF6vAk"
   },
   "source": [
    "# __Question 4:__  Movie Recommender (2 points)\n",
    "\n",
    "Build a recommendation utility function to find top 5 movies similar to what you did in Week 1"
   ]
  },
  {
   "cell_type": "code",
   "execution_count": null,
   "metadata": {
    "id": "FBvAD9Er3tcR"
   },
   "outputs": [],
   "source": [
    "import numpy as np\n",
    "\n",
    "def movie_recommender(movie_title, movies=movies_list, doc_sims=None):\n",
    "    # find movie id\n",
    "    movie_idx = <YOUR CODE HERE>\n",
    "\n",
    "    # get movie similarities. \n",
    "    #Hint: movie index helps find the exact row\n",
    "    movie_similarities = <YOUR CODE HERE>\n",
    "    \n",
    "    # get top 5 similar movie IDs\n",
    "    # Hint: use numpy utility to do a sort\n",
    "    similar_movie_idxs = <YOUR CODE HERE>\n",
    "    \n",
    "    # get top 5 movies\n",
    "    similar_movies = <YOUR CODE HERE>\n",
    "    \n",
    "    # return the top 5 movies\n",
    "    return similar_movies"
   ]
  },
  {
   "cell_type": "markdown",
   "metadata": {
    "id": "ErgLqhdA7alo"
   },
   "source": [
    "# __Question 5:__ : Complete the following snippet to get movie recommendations (1 point)"
   ]
  },
  {
   "cell_type": "code",
   "execution_count": null,
   "metadata": {
    "id": "txkujGBY4b-5"
   },
   "outputs": [],
   "source": [
    "popular_movies = ['Interstellar', 'Deadpool', 'Jurassic World', 'Pirates of the Caribbean: The Curse of the Black Pearl',\n",
    "              'Dawn of the Planet of the Apes', 'The Hunger Games: Mockingjay - Part 1', 'Terminator Genisys', \n",
    "              'Captain America: Civil War', 'The Dark Knight', 'The Martian', 'Batman v Superman: Dawn of Justice', \n",
    "              'Pulp Fiction', 'The Godfather', 'The Shawshank Redemption', 'The Lord of the Rings: The Fellowship of the Ring',  \n",
    "              'Harry Potter and the Chamber of Secrets', 'Star Wars', 'The Hobbit: The Battle of the Five Armies',\n",
    "              'Iron Man']"
   ]
  },
  {
   "cell_type": "code",
   "execution_count": null,
   "metadata": {
    "id": "cb7Q7i5V4b7s"
   },
   "outputs": [],
   "source": [
    "for movie in popular_movies:\n",
    "    <YOUR CODE HERE>"
   ]
  }
 ],
 "metadata": {
  "accelerator": "GPU",
  "colab": {
   "collapsed_sections": [],
   "name": "Exercise 2 - Movie Recommender System with Deep Transfer Learning.ipynb",
   "provenance": []
  },
  "kernelspec": {
   "display_name": "Python 3",
   "language": "python",
   "name": "python3"
  },
  "language_info": {
   "codemirror_mode": {
    "name": "ipython",
    "version": 3
   },
   "file_extension": ".py",
   "mimetype": "text/x-python",
   "name": "python",
   "nbconvert_exporter": "python",
   "pygments_lexer": "ipython3",
   "version": "3.8.3"
  }
 },
 "nbformat": 4,
 "nbformat_minor": 1
}
