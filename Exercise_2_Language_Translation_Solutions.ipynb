{
 "cells": [
  {
   "cell_type": "markdown",
   "metadata": {
    "id": "Kq2zfPShu_-k"
   },
   "source": [
    "# Exercise 2 - Language Translation with Word Level seq2seq DL Models\n",
    "The objective is to convert a German sentence (sequence of words) to English using a Neural Machine Translation (NMT) system based on word level encoder-decoder models.\n",
    "\n",
    "We will use __Spanish-English__ sentence pairs data from http://www.manythings.org/anki/\n",
    "\n",
    "Sequence-to-Sequence (seq2seq) models are used for a variety of NLP tasks, such as text summarization, speech recognition, language translation, text-to-speech, speech-to-text among others. Our aim is to translate german to english sentences.\n",
    "\n",
    "Here, both, the input and output are sentences. In other words, these sentences are a sequence of words going in and out of our model.\n",
    "\n",
    "<img src=\"https://i.imgur.com/Uk1tCPo.png\">\n",
    "\n",
    "A typical seq2seq model is also known as an encoder-decoder model and has 2 major components:\n",
    "\n",
    "+ The encoder\n",
    "+ The decoder\n",
    "\n",
    "Both these parts are essentially two different sequential models like RNNs\\LSTMs which are combined together.\n",
    "\n",
    "<img src=\"https://i.imgur.com/bT6PAtv.png\">"
   ]
  },
  {
   "cell_type": "markdown",
   "metadata": {
    "id": "HTOPpFv4vQZ2"
   },
   "source": [
    "## Download the Dataset"
   ]
  },
  {
   "cell_type": "code",
   "execution_count": null,
   "metadata": {
    "colab": {
     "base_uri": "https://localhost:8080/"
    },
    "id": "SZjoxDjWXJbn",
    "outputId": "a48a293c-02db-4ffb-8790-c883c175d10c"
   },
   "outputs": [
    {
     "name": "stdout",
     "output_type": "stream",
     "text": [
      "--2021-03-17 16:35:59--  http://www.manythings.org/anki/spa-eng.zip\n",
      "Resolving www.manythings.org (www.manythings.org)... 104.21.55.222, 172.67.173.198, 2606:4700:3036::ac43:adc6, ...\n",
      "Connecting to www.manythings.org (www.manythings.org)|104.21.55.222|:80... connected.\n",
      "HTTP request sent, awaiting response... 200 OK\n",
      "Length: 4934182 (4.7M) [application/zip]\n",
      "Saving to: ‘spa-eng.zip’\n",
      "\n",
      "spa-eng.zip         100%[===================>]   4.71M  3.60MB/s    in 1.3s    \n",
      "\n",
      "2021-03-17 16:36:01 (3.60 MB/s) - ‘spa-eng.zip’ saved [4934182/4934182]\n",
      "\n",
      "Archive:  spa-eng.zip\n",
      "  inflating: _about.txt              \n",
      "  inflating: spa.txt                 \n",
      "total 23472\n",
      "-rw-r--r-- 1 root root     1441 Jan 24 02:56 _about.txt\n",
      "drwxr-xr-x 1 root root     4096 Mar  5 14:37 sample_data\n",
      "-rw-r--r-- 1 root root  4934182 Jan 23 17:56 spa-eng.zip\n",
      "-rw-r--r-- 1 root root 19088939 Jan 24 02:56 spa.txt\n"
     ]
    }
   ],
   "source": [
    "!wget http://www.manythings.org/anki/spa-eng.zip\n",
    "!unzip spa-eng.zip\n",
    "!ls -l"
   ]
  },
  {
   "cell_type": "markdown",
   "metadata": {
    "id": "55sPB5nyvUcL"
   },
   "source": [
    "## Load the Dataset"
   ]
  },
  {
   "cell_type": "code",
   "execution_count": null,
   "metadata": {
    "colab": {
     "base_uri": "https://localhost:8080/"
    },
    "id": "eAtQsFBFX9g8",
    "outputId": "2642411c-f63b-445f-e6b8-c90d05bf0ea7"
   },
   "outputs": [
    {
     "data": {
      "text/plain": [
       "array([['Go.', 'Ve.',\n",
       "        'CC-BY 2.0 (France) Attribution: tatoeba.org #2877272 (CM) & #4986655 (cueyayotl)'],\n",
       "       ['Go.', 'Vete.',\n",
       "        'CC-BY 2.0 (France) Attribution: tatoeba.org #2877272 (CM) & #4986656 (cueyayotl)'],\n",
       "       ['Go.', 'Vaya.',\n",
       "        'CC-BY 2.0 (France) Attribution: tatoeba.org #2877272 (CM) & #4986657 (cueyayotl)'],\n",
       "       ...,\n",
       "       ['Please turn off the radio.', 'Por favor, apague la radio.',\n",
       "        'CC-BY 2.0 (France) Attribution: tatoeba.org #1197303 (waeltken) & #1198501 (cueyayotl)'],\n",
       "       ['Please turn off the radio.', 'Apagá la radio, por favor.',\n",
       "        'CC-BY 2.0 (France) Attribution: tatoeba.org #1197303 (waeltken) & #1215556 (El_mas_capo)'],\n",
       "       ['Please wake me up at 6:30.',\n",
       "        'Por favor despiértame a las seis y media.',\n",
       "        'CC-BY 2.0 (France) Attribution: tatoeba.org #2429736 (CK) & #2429789 (kuma)']],\n",
       "      dtype='<U278')"
      ]
     },
     "execution_count": 2,
     "metadata": {
      "tags": []
     },
     "output_type": "execute_result"
    }
   ],
   "source": [
    "import numpy as np\n",
    "\n",
    "FILE_NAME = './spa.txt'\n",
    "with open(FILE_NAME, mode='rt', encoding='utf-8') as infile:\n",
    "  data = infile.read()\n",
    "  sentences = data.strip().split('\\n')\n",
    "  sentences = [item.split('\\t') for item in sentences]\n",
    "  eng_spa = np.array(sentences)\n",
    "\n",
    "eng_spa = eng_spa[:50000]\n",
    "eng_spa"
   ]
  },
  {
   "cell_type": "code",
   "execution_count": null,
   "metadata": {
    "colab": {
     "base_uri": "https://localhost:8080/"
    },
    "id": "VoEsx43UX9eU",
    "outputId": "e0a28110-c373-4627-ab85-221815f852c3"
   },
   "outputs": [
    {
     "data": {
      "text/plain": [
       "(array(['Go.', 'Go.', 'Go.', ..., 'Please turn off the radio.',\n",
       "        'Please turn off the radio.', 'Please wake me up at 6:30.'],\n",
       "       dtype='<U278'),\n",
       " array(['Ve.', 'Vete.', 'Vaya.', ..., 'Por favor, apague la radio.',\n",
       "        'Apagá la radio, por favor.',\n",
       "        'Por favor despiértame a las seis y media.'], dtype='<U278'))"
      ]
     },
     "execution_count": 3,
     "metadata": {
      "tags": []
     },
     "output_type": "execute_result"
    }
   ],
   "source": [
    "spa = eng_spa[:,1]\n",
    "eng = eng_spa[:,0]\n",
    "eng, spa"
   ]
  },
  {
   "cell_type": "markdown",
   "metadata": {
    "id": "vKR5RqfQva1R"
   },
   "source": [
    "## Basic Preprocessing"
   ]
  },
  {
   "cell_type": "code",
   "execution_count": null,
   "metadata": {
    "colab": {
     "base_uri": "https://localhost:8080/"
    },
    "id": "8SvzsJw7X9bt",
    "outputId": "9a443270-bdaa-427b-db89-e183e7e4054b"
   },
   "outputs": [
    {
     "data": {
      "text/plain": [
       "(array(['go', 'go', 'go', ..., 'please turn off the radio',\n",
       "        'please turn off the radio', 'please wake me up at 630'],\n",
       "       dtype='<U25'),\n",
       " array(['ve', 'vete', 'vaya', ..., 'por favor apague la radio',\n",
       "        'apagá la radio por favor',\n",
       "        'por favor despiértame a las seis y media'], dtype='<U74'))"
      ]
     },
     "execution_count": 4,
     "metadata": {
      "tags": []
     },
     "output_type": "execute_result"
    }
   ],
   "source": [
    "import string\n",
    "\n",
    "# Remove punctuation and lowercase\n",
    "eng = np.array([s.translate(str.maketrans('', '', string.punctuation)).lower() for s in eng])\n",
    "spa = np.array([s.translate(str.maketrans('', '', string.punctuation)).lower() for s in spa])\n",
    "eng, spa"
   ]
  },
  {
   "cell_type": "markdown",
   "metadata": {
    "id": "cRoKA94HveAJ"
   },
   "source": [
    "## Analyze Sentences"
   ]
  },
  {
   "cell_type": "markdown",
   "metadata": {
    "id": "5Q8fHZiLwQjm"
   },
   "source": [
    "### **Question 1**: Get maximum sentence length for both __English__ and __Spanish__\n"
   ]
  },
  {
   "cell_type": "code",
   "execution_count": null,
   "metadata": {
    "colab": {
     "base_uri": "https://localhost:8080/"
    },
    "id": "djWZJln6X9ZK",
    "outputId": "9ecc7074-6ff0-4cbc-a653-fef20ac0f675"
   },
   "outputs": [
    {
     "data": {
      "text/plain": [
       "(8, 15)"
      ]
     },
     "execution_count": 5,
     "metadata": {
      "tags": []
     },
     "output_type": "execute_result"
    }
   ],
   "source": [
    "eng_len = [len(s.split()) for s in eng]\n",
    "spa_len = [len(s.split()) for s in spa]\n",
    "\n",
    "max(eng_len), max(spa_len)"
   ]
  },
  {
   "cell_type": "code",
   "execution_count": null,
   "metadata": {
    "colab": {
     "base_uri": "https://localhost:8080/",
     "height": 332
    },
    "id": "_us22QO3X9Wc",
    "outputId": "bbfe2641-3773-4c3d-b8f0-c79302056c1f"
   },
   "outputs": [
    {
     "data": {
      "text/plain": [
       "array([[<matplotlib.axes._subplots.AxesSubplot object at 0x7f9f082e4490>,\n",
       "        <matplotlib.axes._subplots.AxesSubplot object at 0x7f9f085027d0>]],\n",
       "      dtype=object)"
      ]
     },
     "execution_count": 6,
     "metadata": {
      "tags": []
     },
     "output_type": "execute_result"
    },
    {
     "data": {
      "image/png": "[encoded data removed]",
      "text/plain": [
       "<Figure size 432x288 with 2 Axes>"
      ]
     },
     "metadata": {
      "needs_background": "light",
      "tags": []
     },
     "output_type": "display_data"
    }
   ],
   "source": [
    "import pandas as pd\n",
    "%matplotlib inline\n",
    "\n",
    "length_df = pd.DataFrame({'eng':eng_len, 'spa':spa_len})\n",
    "length_df.hist(bins=30)"
   ]
  },
  {
   "cell_type": "markdown",
   "metadata": {
    "id": "7drStS73viT5"
   },
   "source": [
    "## Transform Text to Sequence of Numbers"
   ]
  },
  {
   "cell_type": "markdown",
   "metadata": {
    "id": "L3NlxRpOwdyy"
   },
   "source": [
    "### **Question 2**: Use **``tensorflow.keras.tokenizer``** to tokenize and prepare a text to number mapping\n"
   ]
  },
  {
   "cell_type": "code",
   "execution_count": null,
   "metadata": {
    "id": "nWjSGrUiYbL8"
   },
   "outputs": [],
   "source": [
    "from tensorflow import keras\n",
    "\n",
    "eng_tokenizer = keras.preprocessing.text.Tokenizer()\n",
    "eng_tokenizer.fit_on_texts(eng)\n",
    "eng_vocab_size = len(eng_tokenizer.word_index) + 1\n",
    "eng_length = max(eng_len)"
   ]
  },
  {
   "cell_type": "code",
   "execution_count": null,
   "metadata": {
    "colab": {
     "base_uri": "https://localhost:8080/"
    },
    "id": "8TDQO_iBYbI_",
    "outputId": "6cd0859d-22cb-44f0-fec6-7cd09835012c"
   },
   "outputs": [
    {
     "name": "stdout",
     "output_type": "stream",
     "text": [
      "Max eng text length: 8\n",
      "English Vocabulary Size: 6861\n"
     ]
    }
   ],
   "source": [
    "print('Max eng text length:', eng_length)\n",
    "print('English Vocabulary Size:', eng_vocab_size)"
   ]
  },
  {
   "cell_type": "code",
   "execution_count": null,
   "metadata": {
    "id": "g1UOMDq5YbGT"
   },
   "outputs": [],
   "source": [
    "spa_tokenizer = keras.preprocessing.text.Tokenizer()\n",
    "spa_tokenizer.fit_on_texts(spa)\n",
    "spa_vocab_size = len(spa_tokenizer.word_index) + 1\n",
    "spa_length = max(spa_len)"
   ]
  },
  {
   "cell_type": "code",
   "execution_count": null,
   "metadata": {
    "colab": {
     "base_uri": "https://localhost:8080/"
    },
    "id": "2SF2A1m2YbDm",
    "outputId": "52004a7d-3141-42af-a00e-6c41dc97a871"
   },
   "outputs": [
    {
     "name": "stdout",
     "output_type": "stream",
     "text": [
      "Max deu text length: 15\n",
      "Spanish Vocabulary Size: 14058\n"
     ]
    }
   ],
   "source": [
    "print('Max deu text length:', spa_length)\n",
    "print('Spanish Vocabulary Size:', spa_vocab_size)"
   ]
  },
  {
   "cell_type": "markdown",
   "metadata": {
    "id": "H58tl2CBvmCA"
   },
   "source": [
    "## Prepare Train Test Splits"
   ]
  },
  {
   "cell_type": "code",
   "execution_count": null,
   "metadata": {
    "colab": {
     "base_uri": "https://localhost:8080/"
    },
    "id": "MVHHsuALYbA7",
    "outputId": "4ce8bb44-7af6-451e-c803-d282ede4ad3e"
   },
   "outputs": [
    {
     "data": {
      "text/plain": [
       "((40000,), (10000,), (40000,), (10000,))"
      ]
     },
     "execution_count": 11,
     "metadata": {
      "tags": []
     },
     "output_type": "execute_result"
    }
   ],
   "source": [
    "from sklearn.model_selection import train_test_split\n",
    "\n",
    "train_spa, test_spa, train_eng, test_eng = train_test_split(spa, eng, test_size=0.2, random_state = 42)\n",
    "train_spa.shape, test_spa.shape, train_eng.shape, test_eng.shape"
   ]
  },
  {
   "cell_type": "code",
   "execution_count": null,
   "metadata": {
    "colab": {
     "base_uri": "https://localhost:8080/"
    },
    "id": "QKLJJadVYa-S",
    "outputId": "42acc140-6627-4390-c48d-95269d11ff0a"
   },
   "outputs": [
    {
     "data": {
      "text/plain": [
       "((40000, 15), (40000, 8))"
      ]
     },
     "execution_count": 12,
     "metadata": {
      "tags": []
     },
     "output_type": "execute_result"
    }
   ],
   "source": [
    "train_spa_enc = spa_tokenizer.texts_to_sequences(train_spa)\n",
    "train_spa_enc = keras.preprocessing.sequence.pad_sequences(train_spa_enc, maxlen=spa_length, padding='post')\n",
    "\n",
    "train_eng_enc = eng_tokenizer.texts_to_sequences(train_eng)\n",
    "train_eng_enc = keras.preprocessing.sequence.pad_sequences(train_eng_enc, maxlen=eng_length, padding='post')\n",
    "\n",
    "train_spa_enc.shape, train_eng_enc.shape"
   ]
  },
  {
   "cell_type": "markdown",
   "metadata": {
    "id": "VDuZ02kNvpyI"
   },
   "source": [
    "## Normalize Sequence Lengths\n",
    "We normalize sentence lengths by defining the maximum length. Larger sentences/sequences get truncated while smaller ones are padded."
   ]
  },
  {
   "cell_type": "markdown",
   "metadata": {
    "id": "swgXAAwnwwVf"
   },
   "source": [
    "### **Question 3**: Normalize sentences by defining the max length. **Pad** shorter ones and truncate the longer ones.\n",
    "\n",
    "_Hint: use ``pad_sequences``_\n"
   ]
  },
  {
   "cell_type": "code",
   "execution_count": null,
   "metadata": {
    "colab": {
     "base_uri": "https://localhost:8080/"
    },
    "id": "tbhtwLtFY6jF",
    "outputId": "b2828802-9527-4a0a-a8c5-af10a2e5bd23"
   },
   "outputs": [
    {
     "data": {
      "text/plain": [
       "((10000, 15), (10000, 8))"
      ]
     },
     "execution_count": 13,
     "metadata": {
      "tags": []
     },
     "output_type": "execute_result"
    }
   ],
   "source": [
    "test_spa_enc = spa_tokenizer.texts_to_sequences(test_spa)\n",
    "test_spa_enc = keras.preprocessing.sequence.pad_sequences(test_spa_enc, maxlen=spa_length, padding='post')\n",
    "\n",
    "test_eng_enc = eng_tokenizer.texts_to_sequences(test_eng)\n",
    "test_eng_enc = keras.preprocessing.sequence.pad_sequences(test_eng_enc, maxlen=eng_length, padding='post')\n",
    "\n",
    "test_spa_enc.shape, test_eng_enc.shape"
   ]
  },
  {
   "cell_type": "markdown",
   "metadata": {
    "id": "tmhm-nWvvtck"
   },
   "source": [
    "## Build the Model\n",
    "\n",
    "<img src=\"https://i.imgur.com/3ZVi97s.png\">\n",
    "\n",
    "+ For the encoder, we will use an embedding layer and an LSTM layer\n",
    "+ For the decoder, we will use another LSTM layer followed by a dense layer\n",
    "+ Repeat Vector helps pass the output sequence from encoder to all LSTM cells in the decoder\n",
    "\n",
    "We leverage the full power of GPUs by using the CUDA variant of the LSTM models."
   ]
  },
  {
   "cell_type": "markdown",
   "metadata": {
    "id": "Oh2giIxMxCql"
   },
   "source": [
    "### **Question 4**: Define a **Seq2Seq** model with encoder and decoder components"
   ]
  },
  {
   "cell_type": "code",
   "execution_count": null,
   "metadata": {
    "colab": {
     "base_uri": "https://localhost:8080/"
    },
    "id": "pYOViShiY6go",
    "outputId": "77b39e6f-cd8d-4ecb-8946-08f9ed082761"
   },
   "outputs": [
    {
     "name": "stdout",
     "output_type": "stream",
     "text": [
      "Model: \"model\"\n",
      "_________________________________________________________________\n",
      "Layer (type)                 Output Shape              Param #   \n",
      "=================================================================\n",
      "input_1 (InputLayer)         [(None, 15)]              0         \n",
      "_________________________________________________________________\n",
      "embedding (Embedding)        (None, 15, 512)           7197696   \n",
      "_________________________________________________________________\n",
      "lstm (LSTM)                  (None, 512)               2099200   \n",
      "_________________________________________________________________\n",
      "repeat_vector (RepeatVector) (None, 8, 512)            0         \n",
      "_________________________________________________________________\n",
      "lstm_1 (LSTM)                (None, 8, 512)            2099200   \n",
      "_________________________________________________________________\n",
      "dense (Dense)                (None, 8, 6861)           3519693   \n",
      "=================================================================\n",
      "Total params: 14,915,789\n",
      "Trainable params: 14,915,789\n",
      "Non-trainable params: 0\n",
      "_________________________________________________________________\n"
     ]
    }
   ],
   "source": [
    "EMBEDDING_DIM = 512\n",
    "LSTM_UNITS = 512\n",
    "\n",
    "encoder_inputs = keras.layers.Input(shape=(spa_length,))\n",
    "enc_emb =  keras.layers.Embedding(spa_vocab_size, EMBEDDING_DIM)(encoder_inputs)\n",
    "encoder_lstm = keras.layers.LSTM(LSTM_UNITS)(enc_emb)\n",
    "rp_vec = keras.layers.RepeatVector(eng_length)(encoder_lstm)\n",
    "\n",
    "decoder_lstm = keras.layers.LSTM(LSTM_UNITS, return_sequences=True)(rp_vec)\n",
    "decoder_softmax = keras.layers.Dense(eng_vocab_size, activation='softmax')(decoder_lstm)\n",
    "model = keras.models.Model(inputs=encoder_inputs, outputs=decoder_softmax)\n",
    "\n",
    "model.compile(optimizer=keras.optimizers.RMSprop(lr=0.001), loss='sparse_categorical_crossentropy')\n",
    "model.summary()"
   ]
  },
  {
   "cell_type": "markdown",
   "metadata": {
    "id": "eBf3-ECqvw6W"
   },
   "source": [
    "## Train the Model"
   ]
  },
  {
   "cell_type": "code",
   "execution_count": null,
   "metadata": {
    "colab": {
     "base_uri": "https://localhost:8080/"
    },
    "id": "0pJ5KKmcY6d5",
    "outputId": "94f6ba24-85c5-468d-cc35-e8e613877894"
   },
   "outputs": [
    {
     "name": "stdout",
     "output_type": "stream",
     "text": [
      "Epoch 1/50\n",
      "141/141 [==============================] - 48s 112ms/step - loss: 3.9368 - val_loss: 3.2075\n",
      "Epoch 2/50\n",
      "141/141 [==============================] - 14s 103ms/step - loss: 3.1686 - val_loss: 3.0191\n",
      "Epoch 3/50\n",
      "141/141 [==============================] - 15s 103ms/step - loss: 2.9437 - val_loss: 2.8130\n",
      "Epoch 4/50\n",
      "141/141 [==============================] - 14s 102ms/step - loss: 2.7050 - val_loss: 2.6606\n",
      "Epoch 5/50\n",
      "141/141 [==============================] - 15s 104ms/step - loss: 2.5313 - val_loss: 2.5198\n",
      "Epoch 6/50\n",
      "141/141 [==============================] - 15s 105ms/step - loss: 2.3409 - val_loss: 2.3972\n",
      "Epoch 7/50\n",
      "141/141 [==============================] - 15s 104ms/step - loss: 2.1678 - val_loss: 2.2847\n",
      "Epoch 8/50\n",
      "141/141 [==============================] - 15s 104ms/step - loss: 2.0141 - val_loss: 2.1829\n",
      "Epoch 9/50\n",
      "141/141 [==============================] - 15s 103ms/step - loss: 1.8798 - val_loss: 2.1142\n",
      "Epoch 10/50\n",
      "141/141 [==============================] - 15s 103ms/step - loss: 1.7587 - val_loss: 2.0272\n",
      "Epoch 11/50\n",
      "141/141 [==============================] - 15s 103ms/step - loss: 1.6329 - val_loss: 1.9810\n",
      "Epoch 12/50\n",
      "141/141 [==============================] - 15s 104ms/step - loss: 1.5239 - val_loss: 1.9065\n",
      "Epoch 13/50\n",
      "141/141 [==============================] - 15s 104ms/step - loss: 1.4042 - val_loss: 1.8712\n",
      "Epoch 14/50\n",
      "141/141 [==============================] - 15s 104ms/step - loss: 1.2964 - val_loss: 1.8154\n",
      "Epoch 15/50\n",
      "141/141 [==============================] - 14s 103ms/step - loss: 1.1979 - val_loss: 1.7951\n",
      "Epoch 16/50\n",
      "141/141 [==============================] - 15s 104ms/step - loss: 1.1104 - val_loss: 1.7622\n",
      "Epoch 17/50\n",
      "141/141 [==============================] - 15s 103ms/step - loss: 1.0255 - val_loss: 1.7444\n",
      "Epoch 18/50\n",
      "141/141 [==============================] - 15s 104ms/step - loss: 0.9356 - val_loss: 1.7302\n",
      "Epoch 19/50\n",
      "141/141 [==============================] - 14s 103ms/step - loss: 0.8537 - val_loss: 1.7287\n",
      "Epoch 20/50\n",
      "141/141 [==============================] - 15s 103ms/step - loss: 0.7725 - val_loss: 1.6996\n",
      "Epoch 21/50\n",
      "141/141 [==============================] - 15s 103ms/step - loss: 0.7094 - val_loss: 1.6943\n",
      "Epoch 22/50\n",
      "141/141 [==============================] - 15s 103ms/step - loss: 0.6485 - val_loss: 1.7000\n",
      "Epoch 23/50\n",
      "141/141 [==============================] - 15s 103ms/step - loss: 0.5889 - val_loss: 1.7103\n",
      "Epoch 24/50\n",
      "141/141 [==============================] - 15s 104ms/step - loss: 0.5360 - val_loss: 1.7204\n",
      "Epoch 25/50\n",
      "141/141 [==============================] - 15s 104ms/step - loss: 0.4826 - val_loss: 1.7232\n",
      "Epoch 26/50\n",
      "141/141 [==============================] - 15s 104ms/step - loss: 0.4390 - val_loss: 1.7115\n",
      "Epoch 27/50\n",
      "141/141 [==============================] - 15s 104ms/step - loss: 0.3986 - val_loss: 1.7180\n",
      "Epoch 28/50\n",
      "141/141 [==============================] - 15s 104ms/step - loss: 0.3559 - val_loss: 1.7452\n",
      "Epoch 29/50\n",
      "141/141 [==============================] - 15s 104ms/step - loss: 0.3248 - val_loss: 1.7379\n",
      "Epoch 30/50\n",
      "141/141 [==============================] - 15s 103ms/step - loss: 0.2963 - val_loss: 1.7538\n",
      "Epoch 31/50\n",
      "141/141 [==============================] - 15s 104ms/step - loss: 0.2701 - val_loss: 1.7681\n",
      "Epoch 32/50\n",
      "141/141 [==============================] - 15s 104ms/step - loss: 0.2434 - val_loss: 1.7935\n",
      "Epoch 33/50\n",
      "141/141 [==============================] - 15s 103ms/step - loss: 0.2241 - val_loss: 1.8030\n",
      "Epoch 34/50\n",
      "141/141 [==============================] - 15s 103ms/step - loss: 0.2047 - val_loss: 1.8144\n",
      "Epoch 35/50\n",
      "141/141 [==============================] - 15s 104ms/step - loss: 0.1932 - val_loss: 1.8316\n",
      "Epoch 36/50\n",
      "141/141 [==============================] - 15s 104ms/step - loss: 0.1783 - val_loss: 1.8200\n",
      "Epoch 37/50\n",
      "141/141 [==============================] - 15s 104ms/step - loss: 0.1662 - val_loss: 1.8446\n",
      "Epoch 38/50\n",
      "141/141 [==============================] - 15s 104ms/step - loss: 0.1571 - val_loss: 1.8485\n",
      "Epoch 39/50\n",
      "141/141 [==============================] - 15s 104ms/step - loss: 0.1467 - val_loss: 1.8429\n",
      "Epoch 40/50\n",
      "141/141 [==============================] - 15s 104ms/step - loss: 0.1401 - val_loss: 1.8800\n",
      "Epoch 41/50\n",
      "141/141 [==============================] - 15s 104ms/step - loss: 0.1337 - val_loss: 1.8608\n",
      "Epoch 42/50\n",
      "141/141 [==============================] - 14s 103ms/step - loss: 0.1290 - val_loss: 1.8746\n",
      "Epoch 43/50\n",
      "141/141 [==============================] - 15s 104ms/step - loss: 0.1244 - val_loss: 1.8926\n",
      "Epoch 44/50\n",
      "141/141 [==============================] - 15s 104ms/step - loss: 0.1175 - val_loss: 1.8824\n",
      "Epoch 45/50\n",
      "141/141 [==============================] - 15s 104ms/step - loss: 0.1113 - val_loss: 1.8876\n",
      "Epoch 46/50\n",
      "141/141 [==============================] - 15s 104ms/step - loss: 0.1046 - val_loss: 1.9238\n",
      "Epoch 47/50\n",
      "141/141 [==============================] - 15s 105ms/step - loss: 0.1027 - val_loss: 1.9162\n",
      "Epoch 48/50\n",
      "141/141 [==============================] - 15s 104ms/step - loss: 0.0986 - val_loss: 1.9093\n",
      "Epoch 49/50\n",
      "141/141 [==============================] - 15s 104ms/step - loss: 0.0965 - val_loss: 1.9250\n",
      "Epoch 50/50\n",
      "141/141 [==============================] - 15s 104ms/step - loss: 0.0926 - val_loss: 1.9299\n"
     ]
    }
   ],
   "source": [
    "history = model.fit(train_spa_enc, train_eng_enc.reshape(train_eng_enc.shape[0], train_eng_enc.shape[1], 1), \n",
    "          epochs=50, batch_size=256, \n",
    "          validation_split = 0.1,\n",
    "          verbose=1)"
   ]
  },
  {
   "cell_type": "code",
   "execution_count": null,
   "metadata": {
    "id": "nsFTauzMY6be"
   },
   "outputs": [],
   "source": [
    "model.save('my_nmt_model.h5')"
   ]
  },
  {
   "cell_type": "markdown",
   "metadata": {
    "id": "HSEmm09Tv2UB"
   },
   "source": [
    "## Visualize Training Progress"
   ]
  },
  {
   "cell_type": "code",
   "execution_count": null,
   "metadata": {
    "colab": {
     "base_uri": "https://localhost:8080/",
     "height": 282
    },
    "id": "FrnTmsJMY6Y1",
    "outputId": "6e68beff-99b4-4b54-a779-ed5996bffda1"
   },
   "outputs": [
    {
     "data": {
      "text/plain": [
       "<matplotlib.legend.Legend at 0x7f9e0f06c710>"
      ]
     },
     "execution_count": 17,
     "metadata": {
      "tags": []
     },
     "output_type": "execute_result"
    },
    {
     "data": {
      "image/png": "[encoded data removed]",
      "text/plain": [
       "<Figure size 432x288 with 1 Axes>"
      ]
     },
     "metadata": {
      "needs_background": "light",
      "tags": []
     },
     "output_type": "display_data"
    }
   ],
   "source": [
    "import matplotlib.pyplot as plt\n",
    "\n",
    "plt.plot(history.history['loss'])\n",
    "plt.plot(history.history['val_loss'])\n",
    "plt.legend(['train','validation'])"
   ]
  },
  {
   "cell_type": "markdown",
   "metadata": {
    "id": "VuykkLcKv5IY"
   },
   "source": [
    "## Text Generator\n",
    "We build a utility function to generate text sequences based on the output prediction sequences"
   ]
  },
  {
   "cell_type": "code",
   "execution_count": null,
   "metadata": {
    "id": "yKIE3wknZU1N"
   },
   "outputs": [],
   "source": [
    "from tqdm import tqdm\n",
    "pd.set_option('display.max_colwidth', 500)\n",
    "\n",
    "eng_idx2word = {v:k for k, v in eng_tokenizer.word_index.items()}\n",
    "\n",
    "def generate_prediction_texts(pred_seqs, idx2word_map):\n",
    "  pred_texts = []\n",
    "\n",
    "  for pred in tqdm(preds):\n",
    "    temp = []\n",
    "    for idx in range(len(pred)):\n",
    "      w = eng_idx2word.get(pred[idx], None)\n",
    "      if idx > 0:\n",
    "        if (w == eng_idx2word.get(pred[idx-1], None)) or (w == None):\n",
    "            temp.append('')\n",
    "        else:\n",
    "            temp.append(w)\n",
    "          \n",
    "      else:\n",
    "        if(w == None):\n",
    "            temp.append('')\n",
    "        else:\n",
    "            temp.append(w)            \n",
    "        \n",
    "    pred_texts.append(' '.join(temp))\n",
    "  return pred_texts"
   ]
  },
  {
   "cell_type": "markdown",
   "metadata": {
    "id": "06wIOLokv8Fz"
   },
   "source": [
    "## Translation using seed from Training Data"
   ]
  },
  {
   "cell_type": "code",
   "execution_count": null,
   "metadata": {
    "colab": {
     "base_uri": "https://localhost:8080/"
    },
    "id": "oWJZkPNKZUyi",
    "outputId": "17c390e5-b22f-470b-8d80-2de5fbe00a2a"
   },
   "outputs": [
    {
     "data": {
      "text/plain": [
       "(1000, 15)"
      ]
     },
     "execution_count": 19,
     "metadata": {
      "tags": []
     },
     "output_type": "execute_result"
    }
   ],
   "source": [
    "train_spa_enc[:1000,:].shape"
   ]
  },
  {
   "cell_type": "markdown",
   "metadata": {
    "id": "SVrfdL91xQFx"
   },
   "source": [
    "### **Question 5**: **Evaluate** model predictions using training samples only\n"
   ]
  },
  {
   "cell_type": "code",
   "execution_count": null,
   "metadata": {
    "colab": {
     "base_uri": "https://localhost:8080/"
    },
    "id": "Dzmo-VoMZUv6",
    "outputId": "9ba6974f-bdab-42d5-c616-565d6c11b058"
   },
   "outputs": [
    {
     "name": "stdout",
     "output_type": "stream",
     "text": [
      "32/32 [==============================] - 1s 15ms/step\n"
     ]
    },
    {
     "name": "stderr",
     "output_type": "stream",
     "text": [
      "100%|██████████| 1000/1000 [00:00<00:00, 80537.34it/s]\n"
     ]
    }
   ],
   "source": [
    "pred_probs = model.predict(train_spa_enc[:1000,:].reshape((train_spa_enc[:1000,:].shape[0], \n",
    "                                                           train_spa_enc[:1000,:].shape[1])), verbose=1)\n",
    "preds = [np.argmax(i, axis=1) for i in pred_probs]\n",
    "# convert predictions into text (English)\n",
    "pred_texts = generate_prediction_texts(pred_seqs=preds, idx2word_map=eng_idx2word)\n",
    "pred_df = pd.DataFrame({'source': train_spa[:1000], 'target' : train_eng[:1000], 'predicted' : pred_texts})"
   ]
  },
  {
   "cell_type": "code",
   "execution_count": null,
   "metadata": {
    "colab": {
     "base_uri": "https://localhost:8080/",
     "height": 366
    },
    "id": "CFf3zJiOZUtC",
    "outputId": "8e667e3c-b040-444a-a5f5-82347d91a1d0"
   },
   "outputs": [
    {
     "data": {
      "text/html": [
       "<div>\n",
       "<style scoped>\n",
       "    .dataframe tbody tr th:only-of-type {\n",
       "        vertical-align: middle;\n",
       "    }\n",
       "\n",
       "    .dataframe tbody tr th {\n",
       "        vertical-align: top;\n",
       "    }\n",
       "\n",
       "    .dataframe thead th {\n",
       "        text-align: right;\n",
       "    }\n",
       "</style>\n",
       "<table border=\"1\" class=\"dataframe\">\n",
       "  <thead>\n",
       "    <tr style=\"text-align: right;\">\n",
       "      <th></th>\n",
       "      <th>0</th>\n",
       "      <th>1</th>\n",
       "      <th>2</th>\n",
       "      <th>3</th>\n",
       "      <th>4</th>\n",
       "      <th>5</th>\n",
       "      <th>6</th>\n",
       "      <th>7</th>\n",
       "      <th>8</th>\n",
       "      <th>9</th>\n",
       "      <th>10</th>\n",
       "      <th>11</th>\n",
       "      <th>12</th>\n",
       "      <th>13</th>\n",
       "      <th>14</th>\n",
       "      <th>15</th>\n",
       "      <th>16</th>\n",
       "      <th>17</th>\n",
       "      <th>18</th>\n",
       "      <th>19</th>\n",
       "      <th>20</th>\n",
       "      <th>21</th>\n",
       "      <th>22</th>\n",
       "      <th>23</th>\n",
       "      <th>24</th>\n",
       "      <th>25</th>\n",
       "      <th>26</th>\n",
       "      <th>27</th>\n",
       "      <th>28</th>\n",
       "      <th>29</th>\n",
       "      <th>30</th>\n",
       "      <th>31</th>\n",
       "      <th>32</th>\n",
       "      <th>33</th>\n",
       "      <th>34</th>\n",
       "      <th>35</th>\n",
       "      <th>36</th>\n",
       "      <th>37</th>\n",
       "      <th>38</th>\n",
       "      <th>39</th>\n",
       "      <th>40</th>\n",
       "      <th>41</th>\n",
       "      <th>42</th>\n",
       "      <th>43</th>\n",
       "      <th>44</th>\n",
       "      <th>45</th>\n",
       "      <th>46</th>\n",
       "      <th>47</th>\n",
       "      <th>48</th>\n",
       "      <th>49</th>\n",
       "    </tr>\n",
       "  </thead>\n",
       "  <tbody>\n",
       "    <tr>\n",
       "      <th>source</th>\n",
       "      <td>él se casó con una azafata</td>\n",
       "      <td>le conté todo</td>\n",
       "      <td>quizá deberías preguntarle a tom</td>\n",
       "      <td>tom menosprecia a mary</td>\n",
       "      <td>estamos completamente despiertos</td>\n",
       "      <td>¿cuál es tu tipo</td>\n",
       "      <td>ellos estaban satisfechos</td>\n",
       "      <td>ella está haciendo un dibujo</td>\n",
       "      <td>su historia suena cierta</td>\n",
       "      <td>esto parece demasiado fácil</td>\n",
       "      <td>soy guardés</td>\n",
       "      <td>vive en su coche</td>\n",
       "      <td>¿ves una estrella</td>\n",
       "      <td>¿no estabas de salida</td>\n",
       "      <td>yo los conozco personalmente</td>\n",
       "      <td>yo uso twitter</td>\n",
       "      <td>bajó a desayunar</td>\n",
       "      <td>por favor mantenme informado</td>\n",
       "      <td>¿de cuánto estás embarazada</td>\n",
       "      <td>es un problema</td>\n",
       "      <td>ahora déjanos</td>\n",
       "      <td>¿puedo ir al baño</td>\n",
       "      <td>no salgas sin sombrero</td>\n",
       "      <td>tom estaba curioso</td>\n",
       "      <td>esto está riquísimo</td>\n",
       "      <td>eres genial</td>\n",
       "      <td>preferiría que no</td>\n",
       "      <td>quiero un dólar</td>\n",
       "      <td>hemos perdido el contacto</td>\n",
       "      <td>¿te gustan los robots</td>\n",
       "      <td>he olvidado su nombre</td>\n",
       "      <td>he ganado el primer premio</td>\n",
       "      <td>tengo algo para tom</td>\n",
       "      <td>vete</td>\n",
       "      <td>quiero un trozo de tarta</td>\n",
       "      <td>solía jugar al tenis</td>\n",
       "      <td>quieren esto</td>\n",
       "      <td>sois pequeñas</td>\n",
       "      <td>tom recordará</td>\n",
       "      <td>¡hola tom</td>\n",
       "      <td>tom usa ropa sencilla</td>\n",
       "      <td>lo haré por vosotros</td>\n",
       "      <td>estaré con tom</td>\n",
       "      <td>haz una oferta</td>\n",
       "      <td>sos demasiado modesto</td>\n",
       "      <td>no soy tu niñera</td>\n",
       "      <td>venimos de inmediato</td>\n",
       "      <td>vuelve dentro de un mes</td>\n",
       "      <td>fui engañado por él</td>\n",
       "      <td>no eres la única</td>\n",
       "    </tr>\n",
       "    <tr>\n",
       "      <th>target</th>\n",
       "      <td>he married a stewardess</td>\n",
       "      <td>i told him everything</td>\n",
       "      <td>maybe you should ask tom</td>\n",
       "      <td>tom despises mary</td>\n",
       "      <td>were wide awake</td>\n",
       "      <td>whats your type</td>\n",
       "      <td>they were satisfied</td>\n",
       "      <td>she is drawing a picture</td>\n",
       "      <td>his story sounds true</td>\n",
       "      <td>this seems too easy</td>\n",
       "      <td>im housesitting</td>\n",
       "      <td>he lives in his car</td>\n",
       "      <td>do you see a star</td>\n",
       "      <td>werent you leaving</td>\n",
       "      <td>i know them personally</td>\n",
       "      <td>im using twitter</td>\n",
       "      <td>he came down to breakfast</td>\n",
       "      <td>please keep me updated</td>\n",
       "      <td>how far along are you</td>\n",
       "      <td>its a problem</td>\n",
       "      <td>now leave us</td>\n",
       "      <td>may i go to the toilet</td>\n",
       "      <td>dont go without a hat</td>\n",
       "      <td>tom was curious</td>\n",
       "      <td>this is delicious</td>\n",
       "      <td>youre great</td>\n",
       "      <td>id rather not</td>\n",
       "      <td>i want a dollar</td>\n",
       "      <td>weve lost contact</td>\n",
       "      <td>do you like robots</td>\n",
       "      <td>i forget his name</td>\n",
       "      <td>ive won first prize</td>\n",
       "      <td>i have something for tom</td>\n",
       "      <td>go</td>\n",
       "      <td>i want a piece of cake</td>\n",
       "      <td>i used to play tennis</td>\n",
       "      <td>they want this</td>\n",
       "      <td>youre small</td>\n",
       "      <td>tomll remember</td>\n",
       "      <td>hello tom</td>\n",
       "      <td>tom wears simple clothes</td>\n",
       "      <td>ill do that for you</td>\n",
       "      <td>ill be with tom</td>\n",
       "      <td>make an offer</td>\n",
       "      <td>youre too modest</td>\n",
       "      <td>im not your nanny</td>\n",
       "      <td>were coming at once</td>\n",
       "      <td>come back within a month</td>\n",
       "      <td>he cheated on me</td>\n",
       "      <td>youre not the only one</td>\n",
       "    </tr>\n",
       "    <tr>\n",
       "      <th>predicted</th>\n",
       "      <td>he married a stewardess</td>\n",
       "      <td>i told him everything</td>\n",
       "      <td>maybe you should ask tom</td>\n",
       "      <td>tom despises mary</td>\n",
       "      <td>were wide awake</td>\n",
       "      <td>whats your type</td>\n",
       "      <td>they were satisfied</td>\n",
       "      <td>she is drawing a picture</td>\n",
       "      <td>his story sounds true</td>\n",
       "      <td>this seems too easy</td>\n",
       "      <td>im housesitting</td>\n",
       "      <td>he lives in his car</td>\n",
       "      <td>do you see a star</td>\n",
       "      <td>werent you leaving</td>\n",
       "      <td>i know them personally</td>\n",
       "      <td>im using twitter</td>\n",
       "      <td>he came down to breakfast</td>\n",
       "      <td>please keep me updated</td>\n",
       "      <td>how far along are you</td>\n",
       "      <td>its a problem</td>\n",
       "      <td>now leave us</td>\n",
       "      <td>may i go to the bathroom</td>\n",
       "      <td>dont go without a hat</td>\n",
       "      <td>tom was curious</td>\n",
       "      <td>this is delicious</td>\n",
       "      <td>youre great</td>\n",
       "      <td>id rather not</td>\n",
       "      <td>i want a dollar</td>\n",
       "      <td>weve lost contact</td>\n",
       "      <td>do you like robots</td>\n",
       "      <td>i forget his name</td>\n",
       "      <td>ive won first prize</td>\n",
       "      <td>i have something for tom</td>\n",
       "      <td>go</td>\n",
       "      <td>i want a piece of cake</td>\n",
       "      <td>i used to play tennis</td>\n",
       "      <td>they want this</td>\n",
       "      <td>youre small</td>\n",
       "      <td>tomll remember</td>\n",
       "      <td>hi tom</td>\n",
       "      <td>tom wears clothes</td>\n",
       "      <td>ill do that for you</td>\n",
       "      <td>ill be with tom</td>\n",
       "      <td>make an offer</td>\n",
       "      <td>youre too modest</td>\n",
       "      <td>im not your nanny</td>\n",
       "      <td>were coming at once</td>\n",
       "      <td>come back within a month</td>\n",
       "      <td>i was on by him</td>\n",
       "      <td>youre not the only one</td>\n",
       "    </tr>\n",
       "  </tbody>\n",
       "</table>\n",
       "</div>"
      ],
      "text/plain": [
       "                                    0   ...                         49\n",
       "source      él se casó con una azafata  ...           no eres la única\n",
       "target         he married a stewardess  ...     youre not the only one\n",
       "predicted  he married a stewardess      ...  youre not the only one   \n",
       "\n",
       "[3 rows x 50 columns]"
      ]
     },
     "execution_count": 21,
     "metadata": {
      "tags": []
     },
     "output_type": "execute_result"
    }
   ],
   "source": [
    "pred_df.head(50).T"
   ]
  },
  {
   "cell_type": "markdown",
   "metadata": {
    "id": "1o2v68KSv_NF"
   },
   "source": [
    "## Translation on Test Data"
   ]
  },
  {
   "cell_type": "markdown",
   "metadata": {
    "id": "NJE_t95wxY5m"
   },
   "source": [
    "### **Question *6*: **Evaluate** model performance on test data\n"
   ]
  },
  {
   "cell_type": "code",
   "execution_count": null,
   "metadata": {
    "colab": {
     "base_uri": "https://localhost:8080/"
    },
    "id": "mRXKig2hZl1A",
    "outputId": "c29fbc37-738a-49a4-c31a-46366d749f04"
   },
   "outputs": [
    {
     "name": "stdout",
     "output_type": "stream",
     "text": [
      "32/32 [==============================] - 0s 14ms/step\n"
     ]
    },
    {
     "name": "stderr",
     "output_type": "stream",
     "text": [
      "100%|██████████| 1000/1000 [00:00<00:00, 104941.55it/s]\n"
     ]
    }
   ],
   "source": [
    "pred_probs = model.predict(test_spa_enc[:1000,:].reshape((test_spa_enc[:1000,:].shape[0],\n",
    "                                                          test_spa_enc[:1000,:].shape[1])), verbose=1)\n",
    "preds = [np.argmax(i, axis=1) for i in pred_probs]\n",
    "# convert predictions into text (English)\n",
    "pred_texts = generate_prediction_texts(pred_seqs=preds, idx2word_map=eng_idx2word)\n",
    "pred_df = pd.DataFrame({'source': test_spa[:1000], 'target' : test_eng[:1000], 'predicted' : pred_texts})"
   ]
  },
  {
   "cell_type": "code",
   "execution_count": null,
   "metadata": {
    "colab": {
     "base_uri": "https://localhost:8080/",
     "height": 451
    },
    "id": "P9N9i_MbZlyP",
    "outputId": "295e69c0-9c06-43c8-f958-3540a01265f7"
   },
   "outputs": [
    {
     "data": {
      "text/html": [
       "<div>\n",
       "<style scoped>\n",
       "    .dataframe tbody tr th:only-of-type {\n",
       "        vertical-align: middle;\n",
       "    }\n",
       "\n",
       "    .dataframe tbody tr th {\n",
       "        vertical-align: top;\n",
       "    }\n",
       "\n",
       "    .dataframe thead th {\n",
       "        text-align: right;\n",
       "    }\n",
       "</style>\n",
       "<table border=\"1\" class=\"dataframe\">\n",
       "  <thead>\n",
       "    <tr style=\"text-align: right;\">\n",
       "      <th></th>\n",
       "      <th>0</th>\n",
       "      <th>1</th>\n",
       "      <th>2</th>\n",
       "      <th>3</th>\n",
       "      <th>4</th>\n",
       "      <th>5</th>\n",
       "      <th>6</th>\n",
       "      <th>7</th>\n",
       "      <th>8</th>\n",
       "      <th>9</th>\n",
       "      <th>10</th>\n",
       "      <th>11</th>\n",
       "      <th>12</th>\n",
       "      <th>13</th>\n",
       "      <th>14</th>\n",
       "      <th>15</th>\n",
       "      <th>16</th>\n",
       "      <th>17</th>\n",
       "      <th>18</th>\n",
       "      <th>19</th>\n",
       "      <th>20</th>\n",
       "      <th>21</th>\n",
       "      <th>22</th>\n",
       "      <th>23</th>\n",
       "      <th>24</th>\n",
       "      <th>25</th>\n",
       "      <th>26</th>\n",
       "      <th>27</th>\n",
       "      <th>28</th>\n",
       "      <th>29</th>\n",
       "      <th>30</th>\n",
       "      <th>31</th>\n",
       "      <th>32</th>\n",
       "      <th>33</th>\n",
       "      <th>34</th>\n",
       "      <th>35</th>\n",
       "      <th>36</th>\n",
       "      <th>37</th>\n",
       "      <th>38</th>\n",
       "      <th>39</th>\n",
       "      <th>40</th>\n",
       "      <th>41</th>\n",
       "      <th>42</th>\n",
       "      <th>43</th>\n",
       "      <th>44</th>\n",
       "      <th>45</th>\n",
       "      <th>46</th>\n",
       "      <th>47</th>\n",
       "      <th>48</th>\n",
       "      <th>49</th>\n",
       "    </tr>\n",
       "  </thead>\n",
       "  <tbody>\n",
       "    <tr>\n",
       "      <th>source</th>\n",
       "      <td>debes dar lo mejor</td>\n",
       "      <td>¿está tom farfullando</td>\n",
       "      <td>me helé</td>\n",
       "      <td>sigue hacia la izquierda</td>\n",
       "      <td>no entiendo eso</td>\n",
       "      <td>verdaderamente eres un caso perdido</td>\n",
       "      <td>tú estás farfullando</td>\n",
       "      <td>¿el mercurio es verdaderamente un metal</td>\n",
       "      <td>te ves gordo</td>\n",
       "      <td>están tratando de ayudar</td>\n",
       "      <td>haz lo que yo digo no lo que yo hago</td>\n",
       "      <td>¿sabés la dirección</td>\n",
       "      <td>eres mi hijo</td>\n",
       "      <td>es mi cd</td>\n",
       "      <td>yo hice una muñeca a mary</td>\n",
       "      <td>me has decepcionado tom</td>\n",
       "      <td>quería luchar</td>\n",
       "      <td>él tiene once hijos</td>\n",
       "      <td>no hay nada erróneo</td>\n",
       "      <td>siempre estoy feliz</td>\n",
       "      <td>se equivocan</td>\n",
       "      <td>ella la aterrorizaba</td>\n",
       "      <td>déjelo a tomás</td>\n",
       "      <td>tengo una opinión diferente</td>\n",
       "      <td>tom fue torturado</td>\n",
       "      <td>ahora vivo en boston</td>\n",
       "      <td>la estrategia de tom surtió efecto</td>\n",
       "      <td>él es más inteligente que ella</td>\n",
       "      <td>tom no planea ir</td>\n",
       "      <td>volveremos por la noche</td>\n",
       "      <td>usa toneladas de maquillaje</td>\n",
       "      <td>tom depende de mary</td>\n",
       "      <td>a ella le gusta él</td>\n",
       "      <td>tom dijo que sí</td>\n",
       "      <td>¿ellos también vienen</td>\n",
       "      <td>eres inteligente</td>\n",
       "      <td>déjame pensar un minuto</td>\n",
       "      <td>¡qué lindo auto</td>\n",
       "      <td>tráeme un trozo de tiza</td>\n",
       "      <td>ven a casa a las seis</td>\n",
       "      <td>ellos están esperando afuera</td>\n",
       "      <td>me da tristeza escucharlo</td>\n",
       "      <td>estoy resfriado</td>\n",
       "      <td>¿qué quieres que haga</td>\n",
       "      <td>¿cuántos años tiene vuestro tío</td>\n",
       "      <td>el capitán nos dio la bienvenida</td>\n",
       "      <td>detén el ascensor</td>\n",
       "      <td>tengo dolor de estómago</td>\n",
       "      <td>esta carta es para mí</td>\n",
       "      <td>¿tom parecía feliz</td>\n",
       "    </tr>\n",
       "    <tr>\n",
       "      <th>target</th>\n",
       "      <td>you must do your best</td>\n",
       "      <td>is tom babbling</td>\n",
       "      <td>i froze</td>\n",
       "      <td>keep to the left</td>\n",
       "      <td>i dont understand that</td>\n",
       "      <td>you really are hopeless</td>\n",
       "      <td>youre babbling</td>\n",
       "      <td>is mercury really a metal</td>\n",
       "      <td>you look fat</td>\n",
       "      <td>theyre trying to help</td>\n",
       "      <td>do as i say not as i do</td>\n",
       "      <td>do you know the address</td>\n",
       "      <td>youre my son</td>\n",
       "      <td>its my cd</td>\n",
       "      <td>i made mary a doll</td>\n",
       "      <td>you let me down tom</td>\n",
       "      <td>i wanted to fight</td>\n",
       "      <td>he has eleven children</td>\n",
       "      <td>nothing is wrong</td>\n",
       "      <td>im always happy</td>\n",
       "      <td>you are wrong</td>\n",
       "      <td>she terrified her</td>\n",
       "      <td>leave tom</td>\n",
       "      <td>i think otherwise</td>\n",
       "      <td>tom was tortured</td>\n",
       "      <td>i live in boston now</td>\n",
       "      <td>toms strategy paid off</td>\n",
       "      <td>hes smarter than her</td>\n",
       "      <td>tom has no plans to go</td>\n",
       "      <td>well be back tonight</td>\n",
       "      <td>she wears heavy makeup</td>\n",
       "      <td>tom depends on mary</td>\n",
       "      <td>she loves him</td>\n",
       "      <td>tom said yes</td>\n",
       "      <td>are they coming as well</td>\n",
       "      <td>youre intelligent</td>\n",
       "      <td>let me think for a minute</td>\n",
       "      <td>what a nice looking car</td>\n",
       "      <td>bring me a piece of chalk</td>\n",
       "      <td>come home at six</td>\n",
       "      <td>theyre waiting outside</td>\n",
       "      <td>i am sad to hear it</td>\n",
       "      <td>ive got a cold</td>\n",
       "      <td>you want me to do what</td>\n",
       "      <td>how old is your uncle</td>\n",
       "      <td>the captain welcomed us</td>\n",
       "      <td>hold the elevator</td>\n",
       "      <td>i have a stomachache</td>\n",
       "      <td>this letters for me</td>\n",
       "      <td>did tom seem happy</td>\n",
       "    </tr>\n",
       "    <tr>\n",
       "      <th>predicted</th>\n",
       "      <td>you must do  best</td>\n",
       "      <td>is tom happening</td>\n",
       "      <td>i got myself</td>\n",
       "      <td>keep out the from</td>\n",
       "      <td>i dont do that</td>\n",
       "      <td>you really me</td>\n",
       "      <td>youre lied</td>\n",
       "      <td>is that a or</td>\n",
       "      <td>you look fat</td>\n",
       "      <td>theyre want to help</td>\n",
       "      <td>do  i   do it</td>\n",
       "      <td>do see the</td>\n",
       "      <td>youre my son</td>\n",
       "      <td>this is my cd</td>\n",
       "      <td>i made a broken with tom</td>\n",
       "      <td>ive became youve</td>\n",
       "      <td>i wanted to</td>\n",
       "      <td>he has a children</td>\n",
       "      <td>theres nothing</td>\n",
       "      <td>im always happy</td>\n",
       "      <td>they gone</td>\n",
       "      <td>she went in</td>\n",
       "      <td>leave   tom</td>\n",
       "      <td>i have an terrible</td>\n",
       "      <td>tom was arrogant</td>\n",
       "      <td>im going boston</td>\n",
       "      <td>toms tom toms from</td>\n",
       "      <td>hes smarter than them</td>\n",
       "      <td>tom didnt want to go</td>\n",
       "      <td>she come all night</td>\n",
       "      <td>use it move</td>\n",
       "      <td>tom is on to me</td>\n",
       "      <td>she likes him</td>\n",
       "      <td>tom said yes</td>\n",
       "      <td>are they coming too</td>\n",
       "      <td>youre clever</td>\n",
       "      <td>let me think for a minute</td>\n",
       "      <td>how a boy</td>\n",
       "      <td>give me a piece of chalk</td>\n",
       "      <td>come home at six</td>\n",
       "      <td>theyre are waiting</td>\n",
       "      <td>i dont feel i dont it</td>\n",
       "      <td>i am pretty</td>\n",
       "      <td>what do you want to do</td>\n",
       "      <td>how old is your uncle</td>\n",
       "      <td>he came for</td>\n",
       "      <td>keep out the point</td>\n",
       "      <td>i have full</td>\n",
       "      <td>this song is for me</td>\n",
       "      <td>has tom have</td>\n",
       "    </tr>\n",
       "  </tbody>\n",
       "</table>\n",
       "</div>"
      ],
      "text/plain": [
       "                              0   ...                  49\n",
       "source        debes dar lo mejor  ...  ¿tom parecía feliz\n",
       "target     you must do your best  ...  did tom seem happy\n",
       "predicted   you must do  best     ...   has tom have     \n",
       "\n",
       "[3 rows x 50 columns]"
      ]
     },
     "execution_count": 23,
     "metadata": {
      "tags": []
     },
     "output_type": "execute_result"
    }
   ],
   "source": [
    "pred_df.head(50).T"
   ]
  },
  {
   "cell_type": "code",
   "execution_count": null,
   "metadata": {
    "colab": {
     "base_uri": "https://localhost:8080/",
     "height": 383
    },
    "id": "IglXT7mOZlvV",
    "outputId": "b6cc1bff-f35c-4c86-dd9f-2d6ca443869d"
   },
   "outputs": [
    {
     "data": {
      "text/html": [
       "<div>\n",
       "<style scoped>\n",
       "    .dataframe tbody tr th:only-of-type {\n",
       "        vertical-align: middle;\n",
       "    }\n",
       "\n",
       "    .dataframe tbody tr th {\n",
       "        vertical-align: top;\n",
       "    }\n",
       "\n",
       "    .dataframe thead th {\n",
       "        text-align: right;\n",
       "    }\n",
       "</style>\n",
       "<table border=\"1\" class=\"dataframe\">\n",
       "  <thead>\n",
       "    <tr style=\"text-align: right;\">\n",
       "      <th></th>\n",
       "      <th>500</th>\n",
       "      <th>501</th>\n",
       "      <th>502</th>\n",
       "      <th>503</th>\n",
       "      <th>504</th>\n",
       "      <th>505</th>\n",
       "      <th>506</th>\n",
       "      <th>507</th>\n",
       "      <th>508</th>\n",
       "      <th>509</th>\n",
       "      <th>510</th>\n",
       "      <th>511</th>\n",
       "      <th>512</th>\n",
       "      <th>513</th>\n",
       "      <th>514</th>\n",
       "      <th>515</th>\n",
       "      <th>516</th>\n",
       "      <th>517</th>\n",
       "      <th>518</th>\n",
       "      <th>519</th>\n",
       "      <th>520</th>\n",
       "      <th>521</th>\n",
       "      <th>522</th>\n",
       "      <th>523</th>\n",
       "      <th>524</th>\n",
       "      <th>525</th>\n",
       "      <th>526</th>\n",
       "      <th>527</th>\n",
       "      <th>528</th>\n",
       "      <th>529</th>\n",
       "      <th>530</th>\n",
       "      <th>531</th>\n",
       "      <th>532</th>\n",
       "      <th>533</th>\n",
       "      <th>534</th>\n",
       "      <th>535</th>\n",
       "      <th>536</th>\n",
       "      <th>537</th>\n",
       "      <th>538</th>\n",
       "      <th>539</th>\n",
       "      <th>540</th>\n",
       "      <th>541</th>\n",
       "      <th>542</th>\n",
       "      <th>543</th>\n",
       "      <th>544</th>\n",
       "      <th>545</th>\n",
       "      <th>546</th>\n",
       "      <th>547</th>\n",
       "      <th>548</th>\n",
       "      <th>549</th>\n",
       "    </tr>\n",
       "  </thead>\n",
       "  <tbody>\n",
       "    <tr>\n",
       "      <th>source</th>\n",
       "      <td>quítese los calcetines</td>\n",
       "      <td>tom no es nunca puntual</td>\n",
       "      <td>él es demasiado viejo</td>\n",
       "      <td>estoy haciendo huevos revueltos</td>\n",
       "      <td>ellos nos ayudan</td>\n",
       "      <td>comeré aquí</td>\n",
       "      <td>todos ustedes son diligentes</td>\n",
       "      <td>me gusta teñirme el pelo</td>\n",
       "      <td>tom lleva la delantera</td>\n",
       "      <td>el dinero es malísimo</td>\n",
       "      <td>veo mi barco</td>\n",
       "      <td>no te quiero aquí</td>\n",
       "      <td>necesito un sobre</td>\n",
       "      <td>¿de quién es este portátil</td>\n",
       "      <td>tom está andando en una bicicleta</td>\n",
       "      <td>tom está cavando un agujero</td>\n",
       "      <td>tom ha encontrado a mary</td>\n",
       "      <td>me siento bastante aturdido</td>\n",
       "      <td>somos de segundo</td>\n",
       "      <td>no seas duro con tom</td>\n",
       "      <td>¿tom cenó</td>\n",
       "      <td>¿os gusta nadar</td>\n",
       "      <td>estudió para ser doctor</td>\n",
       "      <td>tengo un montón por hacer</td>\n",
       "      <td>se odiaban</td>\n",
       "      <td>soy adicta</td>\n",
       "      <td>luces fabulosa</td>\n",
       "      <td>nosotros somos humanos</td>\n",
       "      <td>sé que es un desastre</td>\n",
       "      <td>¿se han marchado</td>\n",
       "      <td>quiero advertirte</td>\n",
       "      <td>¡cogedlo</td>\n",
       "      <td>¿puedo comer algo</td>\n",
       "      <td>¿habla inglés</td>\n",
       "      <td>rompe en llanto</td>\n",
       "      <td>tom le subió el volumen al televisor</td>\n",
       "      <td>disculpe la tardanza</td>\n",
       "      <td>lamento llegar tarde</td>\n",
       "      <td>la mitad de ésos son míos</td>\n",
       "      <td>le pedí a tom que condujese</td>\n",
       "      <td>él se escapó</td>\n",
       "      <td>me sentía incluso más pequeño</td>\n",
       "      <td>te lo contaré mañana</td>\n",
       "      <td>los perros pueden ver en la oscuridad</td>\n",
       "      <td>los precios son elevados</td>\n",
       "      <td>¿podéis ir más rápido</td>\n",
       "      <td>¿puedes cantar esta canción</td>\n",
       "      <td>se ha graduado de harvard</td>\n",
       "      <td>por favor tómate algo</td>\n",
       "      <td>soy estudiante</td>\n",
       "    </tr>\n",
       "    <tr>\n",
       "      <th>target</th>\n",
       "      <td>take off your socks</td>\n",
       "      <td>tom is never on time</td>\n",
       "      <td>hes too old</td>\n",
       "      <td>im making scrambled eggs</td>\n",
       "      <td>they help us</td>\n",
       "      <td>ill eat here</td>\n",
       "      <td>you are all diligent</td>\n",
       "      <td>i like to dye my hair</td>\n",
       "      <td>tom is in the lead</td>\n",
       "      <td>the money is terrible</td>\n",
       "      <td>i see my ship</td>\n",
       "      <td>i dont want you here</td>\n",
       "      <td>i need an envelope</td>\n",
       "      <td>whose is that notebook</td>\n",
       "      <td>tom is riding a bicycle</td>\n",
       "      <td>tom is digging a hole</td>\n",
       "      <td>tom has found mary</td>\n",
       "      <td>i feel pretty groggy</td>\n",
       "      <td>were sophomores</td>\n",
       "      <td>dont be hard on tom</td>\n",
       "      <td>did tom eat dinner</td>\n",
       "      <td>do you like swimming</td>\n",
       "      <td>he studied to be a doctor</td>\n",
       "      <td>i have a great deal to do</td>\n",
       "      <td>they hated themselves</td>\n",
       "      <td>im an addict</td>\n",
       "      <td>you look fabulous</td>\n",
       "      <td>were humans</td>\n",
       "      <td>i know its a mess</td>\n",
       "      <td>are they gone</td>\n",
       "      <td>i want to warn you</td>\n",
       "      <td>seize him</td>\n",
       "      <td>may i eat something</td>\n",
       "      <td>does he speak english</td>\n",
       "      <td>hes beginning to cry</td>\n",
       "      <td>tom turned up the tv</td>\n",
       "      <td>im sorry im late</td>\n",
       "      <td>excuse me for being late</td>\n",
       "      <td>half of these are mine</td>\n",
       "      <td>i asked tom to drive</td>\n",
       "      <td>he got away</td>\n",
       "      <td>i felt even smaller</td>\n",
       "      <td>i will tell you tomorrow</td>\n",
       "      <td>dogs can see in the dark</td>\n",
       "      <td>the prices are high</td>\n",
       "      <td>can you go faster</td>\n",
       "      <td>can you sing this song</td>\n",
       "      <td>he graduated from harvard</td>\n",
       "      <td>please have a drink</td>\n",
       "      <td>i am a student</td>\n",
       "    </tr>\n",
       "    <tr>\n",
       "      <th>predicted</th>\n",
       "      <td>take off your socks</td>\n",
       "      <td>tom isnt die</td>\n",
       "      <td>he is too old</td>\n",
       "      <td>im am three eggs</td>\n",
       "      <td>they help us</td>\n",
       "      <td>ill eat here</td>\n",
       "      <td>all are them</td>\n",
       "      <td>i like the hair</td>\n",
       "      <td>tom is out the is</td>\n",
       "      <td>money is important</td>\n",
       "      <td>i see my new</td>\n",
       "      <td>i dont want you here</td>\n",
       "      <td>i need an stand</td>\n",
       "      <td>whose letter is this from</td>\n",
       "      <td>tom is like a bicycle</td>\n",
       "      <td>tom is on a child</td>\n",
       "      <td>tom found mary</td>\n",
       "      <td>i feel awful sometimes</td>\n",
       "      <td>were in stay</td>\n",
       "      <td>dont be hard with tom</td>\n",
       "      <td>does tom enjoy yet</td>\n",
       "      <td>do you like swimming</td>\n",
       "      <td>he found it a</td>\n",
       "      <td>i have a lot to do</td>\n",
       "      <td>they stood lying</td>\n",
       "      <td>i am taller</td>\n",
       "      <td>i get the do</td>\n",
       "      <td>were canadians</td>\n",
       "      <td>i know thats a clever</td>\n",
       "      <td>are they gone</td>\n",
       "      <td>i want to believe you</td>\n",
       "      <td>well it</td>\n",
       "      <td>can i eat some</td>\n",
       "      <td>do you speak english</td>\n",
       "      <td>think meet yourself</td>\n",
       "      <td>tom left the  house</td>\n",
       "      <td>sorry to be late</td>\n",
       "      <td>im sorry for being late</td>\n",
       "      <td>those these are</td>\n",
       "      <td>i asked tom to leave</td>\n",
       "      <td>he is up</td>\n",
       "      <td>i felt even smaller</td>\n",
       "      <td>ill show you there</td>\n",
       "      <td>the can you the</td>\n",
       "      <td>prices are delicious</td>\n",
       "      <td>can you go faster</td>\n",
       "      <td>can you stop this song</td>\n",
       "      <td>he has gone a death</td>\n",
       "      <td>please do something</td>\n",
       "      <td>im am student</td>\n",
       "    </tr>\n",
       "  </tbody>\n",
       "</table>\n",
       "</div>"
      ],
      "text/plain": [
       "                               500  ...                 549\n",
       "source      quítese los calcetines  ...      soy estudiante\n",
       "target         take off your socks  ...      i am a student\n",
       "predicted  take off your socks      ...  im am student     \n",
       "\n",
       "[3 rows x 50 columns]"
      ]
     },
     "execution_count": 24,
     "metadata": {
      "tags": []
     },
     "output_type": "execute_result"
    }
   ],
   "source": [
    "pred_df.iloc[500:550].T"
   ]
  }
 ],
 "metadata": {
  "accelerator": "GPU",
  "colab": {
   "collapsed_sections": [],
   "name": "Exercise 2 - Language Translation - Solutions.ipynb",
   "provenance": []
  },
  "kernelspec": {
   "display_name": "Python 3",
   "language": "python",
   "name": "python3"
  },
  "language_info": {
   "codemirror_mode": {
    "name": "ipython",
    "version": 3
   },
   "file_extension": ".py",
   "mimetype": "text/x-python",
   "name": "python",
   "nbconvert_exporter": "python",
   "pygments_lexer": "ipython3",
   "version": "3.8.5"
  }
 },
 "nbformat": 4,
 "nbformat_minor": 1
}
