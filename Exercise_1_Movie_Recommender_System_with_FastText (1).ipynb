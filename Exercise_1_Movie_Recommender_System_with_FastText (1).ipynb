{
 "cells": [
  {
   "cell_type": "markdown",
   "metadata": {
    "id": "Nu_-xIqcvbuO"
   },
   "source": [
    "# Exercise 1 - Movie Recommender System with FastText Embeddings\n",
    "\n",
    "## Text Similarity\n",
    "\n",
    "Recommender systems are one of the popular and most adopted applications of machine learning. They are typically used to recommend entities to users and these entites can be anything like products, movies, services and so on.\n",
    "\n",
    "Popular examples of recommendations include,\n",
    "\n",
    "- Amazon suggesting products on its website\n",
    "- Amazon Prime, Netflix, Hotstar recommending movies\\shows\n",
    "- YouTube recommending videos to watch\n",
    "\n",
    "Typically recommender systems can be implemented in three ways:\n",
    "\n",
    "- Simple Rule-based Recommenders: Typically based on specific global metrics and thresholds like movie popularity, global ratings etc.\n",
    "- Content-based Recommenders: This is based on providing similar entities based on a specific entity of interest. Content metadata can be used here like movie descriptions, genre, cast, director and so on\n",
    "- Collaborative filtering Recommenders: Here we don't need metadata but we try to predict recommendations and ratings based on past ratings of different users and specific items.\n",
    "\n",
    "__We will be building a movie recommendation system here where based on data\\metadata pertaining to different movies, we try and recommend similar movies of interest!__\n",
    "\n",
    "With this exercise we will learn how to apply concepts learnt through tutorials of week1. Let's get started\n",
    "\n",
    "___Fill in the blanks \\ areas of code snippet with `<YOUR CODE HERE>` in the following code cells___"
   ]
  },
  {
   "cell_type": "markdown",
   "metadata": {
    "id": "TS_vIju4vnQf"
   },
   "source": [
    "## Load Data\n",
    "\n",
    "If you are using google colab please use the upload file button option from the 'Files' icon on the left pane to upload the `tmdb_5000_movies.csv.gz` dataset. "
   ]
  },
  {
   "cell_type": "code",
   "execution_count": 1,
   "metadata": {
    "colab": {
     "base_uri": "https://localhost:8080/"
    },
    "id": "Qr3XMWfJvMiG",
    "outputId": "a87e5765-61ab-4d8d-8c97-cf8d8c8ede9b"
   },
   "outputs": [
    {
     "name": "stdout",
     "output_type": "stream",
     "text": [
      "<class 'pandas.core.frame.DataFrame'>\n",
      "RangeIndex: 4803 entries, 0 to 4802\n",
      "Data columns (total 20 columns):\n",
      " #   Column                Non-Null Count  Dtype  \n",
      "---  ------                --------------  -----  \n",
      " 0   budget                4803 non-null   int64  \n",
      " 1   genres                4803 non-null   object \n",
      " 2   homepage              1712 non-null   object \n",
      " 3   id                    4803 non-null   int64  \n",
      " 4   keywords              4803 non-null   object \n",
      " 5   original_language     4803 non-null   object \n",
      " 6   original_title        4803 non-null   object \n",
      " 7   overview              4800 non-null   object \n",
      " 8   popularity            4803 non-null   float64\n",
      " 9   production_companies  4803 non-null   object \n",
      " 10  production_countries  4803 non-null   object \n",
      " 11  release_date          4802 non-null   object \n",
      " 12  revenue               4803 non-null   int64  \n",
      " 13  runtime               4801 non-null   float64\n",
      " 14  spoken_languages      4803 non-null   object \n",
      " 15  status                4803 non-null   object \n",
      " 16  tagline               3959 non-null   object \n",
      " 17  title                 4803 non-null   object \n",
      " 18  vote_average          4803 non-null   float64\n",
      " 19  vote_count            4803 non-null   int64  \n",
      "dtypes: float64(3), int64(4), object(13)\n",
      "memory usage: 750.6+ KB\n"
     ]
    }
   ],
   "source": [
    "import pandas as pd\n",
    "\n",
    "df = pd.read_csv('tmdb_5000_movies.csv.gz', compression='gzip')\n",
    "df.info()"
   ]
  },
  {
   "cell_type": "markdown",
   "metadata": {
    "id": "OPifQHRjvs7e"
   },
   "source": [
    "### **Question 1**: **View** top few rows of the dataframe (1 point)"
   ]
  },
  {
   "cell_type": "code",
   "execution_count": 2,
   "metadata": {
    "colab": {
     "base_uri": "https://localhost:8080/",
     "height": 730
    },
    "id": "Hn0jo9IHvuGd",
    "outputId": "371084e4-c59d-417e-ce8c-96c1a4a69514"
   },
   "outputs": [
    {
     "data": {
      "text/html": [
       "<div>\n",
       "<style scoped>\n",
       "    .dataframe tbody tr th:only-of-type {\n",
       "        vertical-align: middle;\n",
       "    }\n",
       "\n",
       "    .dataframe tbody tr th {\n",
       "        vertical-align: top;\n",
       "    }\n",
       "\n",
       "    .dataframe thead th {\n",
       "        text-align: right;\n",
       "    }\n",
       "</style>\n",
       "<table border=\"1\" class=\"dataframe\">\n",
       "  <thead>\n",
       "    <tr style=\"text-align: right;\">\n",
       "      <th></th>\n",
       "      <th>budget</th>\n",
       "      <th>genres</th>\n",
       "      <th>homepage</th>\n",
       "      <th>id</th>\n",
       "      <th>keywords</th>\n",
       "      <th>original_language</th>\n",
       "      <th>original_title</th>\n",
       "      <th>overview</th>\n",
       "      <th>popularity</th>\n",
       "      <th>production_companies</th>\n",
       "      <th>production_countries</th>\n",
       "      <th>release_date</th>\n",
       "      <th>revenue</th>\n",
       "      <th>runtime</th>\n",
       "      <th>spoken_languages</th>\n",
       "      <th>status</th>\n",
       "      <th>tagline</th>\n",
       "      <th>title</th>\n",
       "      <th>vote_average</th>\n",
       "      <th>vote_count</th>\n",
       "    </tr>\n",
       "  </thead>\n",
       "  <tbody>\n",
       "    <tr>\n",
       "      <th>0</th>\n",
       "      <td>237000000</td>\n",
       "      <td>[{\"id\": 28, \"name\": \"Action\"}, {\"id\": 12, \"nam...</td>\n",
       "      <td>http://www.avatarmovie.com/</td>\n",
       "      <td>19995</td>\n",
       "      <td>[{\"id\": 1463, \"name\": \"culture clash\"}, {\"id\":...</td>\n",
       "      <td>en</td>\n",
       "      <td>Avatar</td>\n",
       "      <td>In the 22nd century, a paraplegic Marine is di...</td>\n",
       "      <td>150.437577</td>\n",
       "      <td>[{\"name\": \"Ingenious Film Partners\", \"id\": 289...</td>\n",
       "      <td>[{\"iso_3166_1\": \"US\", \"name\": \"United States o...</td>\n",
       "      <td>2009-12-10</td>\n",
       "      <td>2787965087</td>\n",
       "      <td>162.0</td>\n",
       "      <td>[{\"iso_639_1\": \"en\", \"name\": \"English\"}, {\"iso...</td>\n",
       "      <td>Released</td>\n",
       "      <td>Enter the World of Pandora.</td>\n",
       "      <td>Avatar</td>\n",
       "      <td>7.2</td>\n",
       "      <td>11800</td>\n",
       "    </tr>\n",
       "    <tr>\n",
       "      <th>1</th>\n",
       "      <td>300000000</td>\n",
       "      <td>[{\"id\": 12, \"name\": \"Adventure\"}, {\"id\": 14, \"...</td>\n",
       "      <td>http://disney.go.com/disneypictures/pirates/</td>\n",
       "      <td>285</td>\n",
       "      <td>[{\"id\": 270, \"name\": \"ocean\"}, {\"id\": 726, \"na...</td>\n",
       "      <td>en</td>\n",
       "      <td>Pirates of the Caribbean: At World's End</td>\n",
       "      <td>Captain Barbossa, long believed to be dead, ha...</td>\n",
       "      <td>139.082615</td>\n",
       "      <td>[{\"name\": \"Walt Disney Pictures\", \"id\": 2}, {\"...</td>\n",
       "      <td>[{\"iso_3166_1\": \"US\", \"name\": \"United States o...</td>\n",
       "      <td>2007-05-19</td>\n",
       "      <td>961000000</td>\n",
       "      <td>169.0</td>\n",
       "      <td>[{\"iso_639_1\": \"en\", \"name\": \"English\"}]</td>\n",
       "      <td>Released</td>\n",
       "      <td>At the end of the world, the adventure begins.</td>\n",
       "      <td>Pirates of the Caribbean: At World's End</td>\n",
       "      <td>6.9</td>\n",
       "      <td>4500</td>\n",
       "    </tr>\n",
       "    <tr>\n",
       "      <th>2</th>\n",
       "      <td>245000000</td>\n",
       "      <td>[{\"id\": 28, \"name\": \"Action\"}, {\"id\": 12, \"nam...</td>\n",
       "      <td>http://www.sonypictures.com/movies/spectre/</td>\n",
       "      <td>206647</td>\n",
       "      <td>[{\"id\": 470, \"name\": \"spy\"}, {\"id\": 818, \"name...</td>\n",
       "      <td>en</td>\n",
       "      <td>Spectre</td>\n",
       "      <td>A cryptic message from Bond’s past sends him o...</td>\n",
       "      <td>107.376788</td>\n",
       "      <td>[{\"name\": \"Columbia Pictures\", \"id\": 5}, {\"nam...</td>\n",
       "      <td>[{\"iso_3166_1\": \"GB\", \"name\": \"United Kingdom\"...</td>\n",
       "      <td>2015-10-26</td>\n",
       "      <td>880674609</td>\n",
       "      <td>148.0</td>\n",
       "      <td>[{\"iso_639_1\": \"fr\", \"name\": \"Fran\\u00e7ais\"},...</td>\n",
       "      <td>Released</td>\n",
       "      <td>A Plan No One Escapes</td>\n",
       "      <td>Spectre</td>\n",
       "      <td>6.3</td>\n",
       "      <td>4466</td>\n",
       "    </tr>\n",
       "    <tr>\n",
       "      <th>3</th>\n",
       "      <td>250000000</td>\n",
       "      <td>[{\"id\": 28, \"name\": \"Action\"}, {\"id\": 80, \"nam...</td>\n",
       "      <td>http://www.thedarkknightrises.com/</td>\n",
       "      <td>49026</td>\n",
       "      <td>[{\"id\": 849, \"name\": \"dc comics\"}, {\"id\": 853,...</td>\n",
       "      <td>en</td>\n",
       "      <td>The Dark Knight Rises</td>\n",
       "      <td>Following the death of District Attorney Harve...</td>\n",
       "      <td>112.312950</td>\n",
       "      <td>[{\"name\": \"Legendary Pictures\", \"id\": 923}, {\"...</td>\n",
       "      <td>[{\"iso_3166_1\": \"US\", \"name\": \"United States o...</td>\n",
       "      <td>2012-07-16</td>\n",
       "      <td>1084939099</td>\n",
       "      <td>165.0</td>\n",
       "      <td>[{\"iso_639_1\": \"en\", \"name\": \"English\"}]</td>\n",
       "      <td>Released</td>\n",
       "      <td>The Legend Ends</td>\n",
       "      <td>The Dark Knight Rises</td>\n",
       "      <td>7.6</td>\n",
       "      <td>9106</td>\n",
       "    </tr>\n",
       "    <tr>\n",
       "      <th>4</th>\n",
       "      <td>260000000</td>\n",
       "      <td>[{\"id\": 28, \"name\": \"Action\"}, {\"id\": 12, \"nam...</td>\n",
       "      <td>http://movies.disney.com/john-carter</td>\n",
       "      <td>49529</td>\n",
       "      <td>[{\"id\": 818, \"name\": \"based on novel\"}, {\"id\":...</td>\n",
       "      <td>en</td>\n",
       "      <td>John Carter</td>\n",
       "      <td>John Carter is a war-weary, former military ca...</td>\n",
       "      <td>43.926995</td>\n",
       "      <td>[{\"name\": \"Walt Disney Pictures\", \"id\": 2}]</td>\n",
       "      <td>[{\"iso_3166_1\": \"US\", \"name\": \"United States o...</td>\n",
       "      <td>2012-03-07</td>\n",
       "      <td>284139100</td>\n",
       "      <td>132.0</td>\n",
       "      <td>[{\"iso_639_1\": \"en\", \"name\": \"English\"}]</td>\n",
       "      <td>Released</td>\n",
       "      <td>Lost in our world, found in another.</td>\n",
       "      <td>John Carter</td>\n",
       "      <td>6.1</td>\n",
       "      <td>2124</td>\n",
       "    </tr>\n",
       "  </tbody>\n",
       "</table>\n",
       "</div>"
      ],
      "text/plain": [
       "      budget  ... vote_count\n",
       "0  237000000  ...      11800\n",
       "1  300000000  ...       4500\n",
       "2  245000000  ...       4466\n",
       "3  250000000  ...       9106\n",
       "4  260000000  ...       2124\n",
       "\n",
       "[5 rows x 20 columns]"
      ]
     },
     "execution_count": 2,
     "metadata": {},
     "output_type": "execute_result"
    }
   ],
   "source": [
    "df.head()"
   ]
  },
  {
   "cell_type": "code",
   "execution_count": 3,
   "metadata": {
    "colab": {
     "base_uri": "https://localhost:8080/"
    },
    "id": "5h2081STv040",
    "outputId": "c1fb2093-818d-4f50-ac66-18fc094006e5"
   },
   "outputs": [
    {
     "name": "stderr",
     "output_type": "stream",
     "text": [
      "/usr/local/lib/python3.7/dist-packages/pandas/core/series.py:4536: SettingWithCopyWarning: \n",
      "A value is trying to be set on a copy of a slice from a DataFrame\n",
      "\n",
      "See the caveats in the documentation: https://pandas.pydata.org/pandas-docs/stable/user_guide/indexing.html#returning-a-view-versus-a-copy\n",
      "  downcast=downcast,\n"
     ]
    }
   ],
   "source": [
    "column_list = ['title', 'tagline', 'overview', 'genres', 'popularity']\n",
    "df = df[column_list]\n",
    "df.tagline.fillna('', inplace=True)"
   ]
  },
  {
   "cell_type": "markdown",
   "metadata": {
    "id": "u8y8-6tdv3qu"
   },
   "source": [
    "### **Question 2**: Merge text from tagline column with text from overview column (1 point)"
   ]
  },
  {
   "cell_type": "code",
   "execution_count": 4,
   "metadata": {
    "id": "VdBq30zUv2-r"
   },
   "outputs": [],
   "source": [
    "df['description'] = df['tagline'].map(str) + ' ' + df['overview'].map(str)"
   ]
  },
  {
   "cell_type": "code",
   "execution_count": 5,
   "metadata": {
    "colab": {
     "base_uri": "https://localhost:8080/"
    },
    "id": "9YWpp8jLv8Z2",
    "outputId": "0135ea6b-c8ac-4807-d61e-fc7309145da8"
   },
   "outputs": [
    {
     "name": "stdout",
     "output_type": "stream",
     "text": [
      "<class 'pandas.core.frame.DataFrame'>\n",
      "Int64Index: 4800 entries, 0 to 4802\n",
      "Data columns (total 6 columns):\n",
      " #   Column       Non-Null Count  Dtype  \n",
      "---  ------       --------------  -----  \n",
      " 0   title        4800 non-null   object \n",
      " 1   tagline      4800 non-null   object \n",
      " 2   overview     4800 non-null   object \n",
      " 3   genres       4800 non-null   object \n",
      " 4   popularity   4800 non-null   float64\n",
      " 5   description  4800 non-null   object \n",
      "dtypes: float64(1), object(5)\n",
      "memory usage: 262.5+ KB\n"
     ]
    }
   ],
   "source": [
    "df.dropna(inplace=True)\n",
    "df.info()"
   ]
  },
  {
   "cell_type": "markdown",
   "metadata": {
    "id": "yU--WPKcwEBs"
   },
   "source": [
    "## Text Preprocessing\n",
    "\n",
    "First step is to prepare the text columns for analysis. In this section we will prepare textual columns before we extract features from them"
   ]
  },
  {
   "cell_type": "code",
   "execution_count": 6,
   "metadata": {
    "id": "leKwVGhfv8XR"
   },
   "outputs": [],
   "source": [
    "import nltk"
   ]
  },
  {
   "cell_type": "code",
   "execution_count": 7,
   "metadata": {
    "colab": {
     "base_uri": "https://localhost:8080/"
    },
    "id": "oBH6mrhEv8Ud",
    "outputId": "f4e3d233-817f-428f-a381-5a834a5c6496"
   },
   "outputs": [
    {
     "name": "stdout",
     "output_type": "stream",
     "text": [
      "[nltk_data] Downloading package stopwords to /root/nltk_data...\n",
      "[nltk_data]   Unzipping corpora/stopwords.zip.\n",
      "[nltk_data] Downloading package punkt to /root/nltk_data...\n",
      "[nltk_data]   Unzipping tokenizers/punkt.zip.\n"
     ]
    },
    {
     "data": {
      "text/plain": [
       "True"
      ]
     },
     "execution_count": 7,
     "metadata": {},
     "output_type": "execute_result"
    }
   ],
   "source": [
    "nltk.download('stopwords')\n",
    "nltk.download('punkt')"
   ]
  },
  {
   "cell_type": "markdown",
   "metadata": {
    "id": "sQYjzqEnw9HH"
   },
   "source": [
    "### **Question 3**: Complete the text normalization utility function (2 points)"
   ]
  },
  {
   "cell_type": "code",
   "execution_count": 8,
   "metadata": {
    "id": "j42KNzQ8w-Bz"
   },
   "outputs": [],
   "source": [
    "import re\n",
    "import numpy as np\n",
    "\n",
    "stop_words = nltk.corpus.stopwords.words('english')"
   ]
  },
  {
   "cell_type": "code",
   "execution_count": 9,
   "metadata": {
    "id": "cpco9Ed_w9_3"
   },
   "outputs": [],
   "source": [
    "def normalize_document(doc):\n",
    "    # remove special characters\\whitespaces, ignore case\n",
    "    doc = re.sub(r'[^a-zA-Z0-9\\s]', '', doc, re.IGNORECASE|re.A)\n",
    "\n",
    "    # lower case  \n",
    "    doc = doc.lower()\n",
    "\n",
    "    # remove whitespaces\n",
    "    doc = re.sub(' +', ' ', doc)\n",
    "    doc = doc.strip()\n",
    "\n",
    "    # tokenize document\n",
    "    tokens = nltk.word_tokenize(doc)\n",
    "\n",
    "    # filter stopwords out of document\n",
    "    filtered_tokens = [token for token in tokens if token not in stop_words]\n",
    "\n",
    "    # re-create/merge sentences from filtered content\n",
    "    doc = ' '.join(filtered_tokens)\n",
    "    return doc"
   ]
  },
  {
   "cell_type": "code",
   "execution_count": 10,
   "metadata": {
    "colab": {
     "base_uri": "https://localhost:8080/"
    },
    "id": "2vzO416Aw99H",
    "outputId": "ebb7db82-ac60-4ca7-dab9-69b96e708b61"
   },
   "outputs": [
    {
     "data": {
      "text/plain": [
       "4800"
      ]
     },
     "execution_count": 10,
     "metadata": {},
     "output_type": "execute_result"
    }
   ],
   "source": [
    "normalize_corpus = np.vectorize(normalize_document)\n",
    "\n",
    "norm_corpus = normalize_corpus(list(df['description']))\n",
    "len(norm_corpus)"
   ]
  },
  {
   "cell_type": "code",
   "execution_count": 11,
   "metadata": {
    "colab": {
     "base_uri": "https://localhost:8080/"
    },
    "id": "QcfdT6fyfreF",
    "outputId": "54f7fc12-04a1-40c2-d911-a990f986d208"
   },
   "outputs": [
    {
     "data": {
      "text/plain": [
       "(array(['Avatar', \"Pirates of the Caribbean: At World's End\", 'Spectre',\n",
       "        ..., 'Signed, Sealed, Delivered', 'Shanghai Calling',\n",
       "        'My Date with Drew'], dtype=object), (4800,))"
      ]
     },
     "execution_count": 11,
     "metadata": {},
     "output_type": "execute_result"
    }
   ],
   "source": [
    "movies_list = df['title'].values\n",
    "movies_list, movies_list.shape"
   ]
  },
  {
   "cell_type": "markdown",
   "metadata": {
    "id": "vJMe4XzPxk4S"
   },
   "source": [
    "## Movie Recommendation with Embeddings\n",
    "We used count based features in a similar assignment in the first course. Can we use word embeddings and then compute movie similarity? We definitely can! Here we will use the FastText model and train it on our corpus."
   ]
  },
  {
   "cell_type": "markdown",
   "metadata": {
    "id": "r-uyv-bGxwrk"
   },
   "source": [
    "### **Question 4**: Use ``gensim`` to train a FastText model on the normalized corpus (1 point)\n",
    "\n",
    "You can keep:\n",
    "\n",
    "- the embedding size to be 300\n",
    "- context to be around 30\n",
    "- min word count to be 2 (feel free to try more if needed as a filter)\n",
    "- use a skipgram model\n",
    "- iterations can be 50 (reduce it if it takes too long)\n",
    "\n",
    "This might take a while to train!"
   ]
  },
  {
   "cell_type": "code",
   "execution_count": 12,
   "metadata": {
    "id": "hOvj1gP2w9a4"
   },
   "outputs": [],
   "source": [
    "from gensim.models import FastText\n",
    "\n",
    "# iterate normalized corpus and split\n",
    "tokenized_docs = [nltk.word_tokenize(doc) for doc in norm_corpus]\n",
    "\n",
    "# Set values for various parameters\n",
    "feature_size = 300   # Set Word embedding dimensionality \n",
    "window_context = 30  # Set Context window size                                                                                  \n",
    "min_word_count = 2   # Set Minimum word count                    \n",
    "sg = 1               # set skip-gram model flag\n",
    "\n",
    "# train FastText model\n",
    "ft_model = FastText(tokenized_docs, size=feature_size, \n",
    "                     window=window_context, min_count = min_word_count,\n",
    "                     sg=sg, iter=50)"
   ]
  },
  {
   "cell_type": "markdown",
   "metadata": {
    "id": "nfuTtrMmx_2z"
   },
   "source": [
    "##Generate document level embeddings\n",
    "\n",
    "Word embedding models give us an embedding for each word, how can we use it for downstream ML\\DL tasks? one way is to flatten it or use sequential models. A simpler approach is to average all word embeddings for words in a document and generate a fixed-length document level emebdding"
   ]
  },
  {
   "cell_type": "markdown",
   "metadata": {
    "id": "Art_yII9yEh4"
   },
   "source": [
    "### **Question 5**: Complete the following utility to prepare document vectors by averaging word vectors (3 points)"
   ]
  },
  {
   "cell_type": "code",
   "execution_count": 13,
   "metadata": {
    "id": "C-za9YDAyBld"
   },
   "outputs": [],
   "source": [
    "def average_word_vectors(words, model, vocabulary, num_features):\n",
    "    \n",
    "    feature_vector = np.zeros((num_features,),dtype=\"float64\")\n",
    "    nwords = 0.\n",
    "    \n",
    "    for word in words:\n",
    "        if word in vocabulary: \n",
    "            nwords = nwords + 1.\n",
    "            feature_vector = np.add(feature_vector, model[word])\n",
    "    \n",
    "    if nwords:\n",
    "        feature_vector = np.divide(feature_vector, nwords)\n",
    "        \n",
    "    return feature_vector\n",
    "\n",
    "def averaged_word2vec_vectorizer(corpus, model, num_features):\n",
    "    vocabulary = set(model.wv.index2word)\n",
    "    features = [average_word_vectors(tokenized_sentence, model, vocabulary, num_features)\n",
    "                    for tokenized_sentence in corpus]\n",
    "    return np.array(features)"
   ]
  },
  {
   "cell_type": "code",
   "execution_count": 14,
   "metadata": {
    "colab": {
     "base_uri": "https://localhost:8080/"
    },
    "id": "K-ikl1OGyPI2",
    "outputId": "c6cffe0b-db7e-4dcb-8821-217bf4a4cbfe"
   },
   "outputs": [
    {
     "name": "stderr",
     "output_type": "stream",
     "text": [
      "/usr/local/lib/python3.7/dist-packages/ipykernel_launcher.py:9: DeprecationWarning: Call to deprecated `__getitem__` (Method will be removed in 4.0.0, use self.wv.__getitem__() instead).\n",
      "  if __name__ == '__main__':\n"
     ]
    },
    {
     "data": {
      "text/plain": [
       "(4800, 300)"
      ]
     },
     "execution_count": 14,
     "metadata": {},
     "output_type": "execute_result"
    }
   ],
   "source": [
    "doc_vecs_ft = averaged_word2vec_vectorizer(tokenized_docs, ft_model, 300)\n",
    "doc_vecs_ft.shape"
   ]
  },
  {
   "cell_type": "markdown",
   "metadata": {
    "id": "3vsnxIasySJc"
   },
   "source": [
    "## Get Movie Recommendations\n",
    "\n",
    "Recommendations in its most simplest form is a method of identifying items which are most similar to given user's preferences. In this scenario we use a content based recommendation system which tries to find similar movies based on the movie content i.e. description.\n",
    "\n",
    "To identify similar items, we will use pairwise similarity measure called **cosine similarity**\n",
    "\n",
    "We will leverage cosine similarity to generate recommendations"
   ]
  },
  {
   "cell_type": "markdown",
   "metadata": {
    "id": "iiDBoSmCyYpe"
   },
   "source": [
    "### **Question 6**: Complete the following snippet to prepare a dataframe of pair-wise cosine similarity of different movies (1 point)\n",
    "\n",
    "Create pairwise cosine similarity based on the document embeddings"
   ]
  },
  {
   "cell_type": "code",
   "execution_count": 15,
   "metadata": {
    "id": "pkFdzkbw2KpN"
   },
   "outputs": [],
   "source": [
    "from sklearn.metrics.pairwise import cosine_similarity"
   ]
  },
  {
   "cell_type": "code",
   "execution_count": 18,
   "metadata": {
    "colab": {
     "base_uri": "https://localhost:8080/",
     "height": 256
    },
    "id": "VJ0OPwSKyT24",
    "outputId": "c91d3680-3615-43c6-fb7b-4c389373dcd3"
   },
   "outputs": [
    {
     "data": {
      "text/html": [
       "<div>\n",
       "<style scoped>\n",
       "    .dataframe tbody tr th:only-of-type {\n",
       "        vertical-align: middle;\n",
       "    }\n",
       "\n",
       "    .dataframe tbody tr th {\n",
       "        vertical-align: top;\n",
       "    }\n",
       "\n",
       "    .dataframe thead th {\n",
       "        text-align: right;\n",
       "    }\n",
       "</style>\n",
       "<table border=\"1\" class=\"dataframe\">\n",
       "  <thead>\n",
       "    <tr style=\"text-align: right;\">\n",
       "      <th></th>\n",
       "      <th>0</th>\n",
       "      <th>1</th>\n",
       "      <th>2</th>\n",
       "      <th>3</th>\n",
       "      <th>4</th>\n",
       "      <th>5</th>\n",
       "      <th>6</th>\n",
       "      <th>7</th>\n",
       "      <th>8</th>\n",
       "      <th>9</th>\n",
       "      <th>10</th>\n",
       "      <th>11</th>\n",
       "      <th>12</th>\n",
       "      <th>13</th>\n",
       "      <th>14</th>\n",
       "      <th>15</th>\n",
       "      <th>16</th>\n",
       "      <th>17</th>\n",
       "      <th>18</th>\n",
       "      <th>19</th>\n",
       "      <th>20</th>\n",
       "      <th>21</th>\n",
       "      <th>22</th>\n",
       "      <th>23</th>\n",
       "      <th>24</th>\n",
       "      <th>25</th>\n",
       "      <th>26</th>\n",
       "      <th>27</th>\n",
       "      <th>28</th>\n",
       "      <th>29</th>\n",
       "      <th>30</th>\n",
       "      <th>31</th>\n",
       "      <th>32</th>\n",
       "      <th>33</th>\n",
       "      <th>34</th>\n",
       "      <th>35</th>\n",
       "      <th>36</th>\n",
       "      <th>37</th>\n",
       "      <th>38</th>\n",
       "      <th>39</th>\n",
       "      <th>...</th>\n",
       "      <th>4760</th>\n",
       "      <th>4761</th>\n",
       "      <th>4762</th>\n",
       "      <th>4763</th>\n",
       "      <th>4764</th>\n",
       "      <th>4765</th>\n",
       "      <th>4766</th>\n",
       "      <th>4767</th>\n",
       "      <th>4768</th>\n",
       "      <th>4769</th>\n",
       "      <th>4770</th>\n",
       "      <th>4771</th>\n",
       "      <th>4772</th>\n",
       "      <th>4773</th>\n",
       "      <th>4774</th>\n",
       "      <th>4775</th>\n",
       "      <th>4776</th>\n",
       "      <th>4777</th>\n",
       "      <th>4778</th>\n",
       "      <th>4779</th>\n",
       "      <th>4780</th>\n",
       "      <th>4781</th>\n",
       "      <th>4782</th>\n",
       "      <th>4783</th>\n",
       "      <th>4784</th>\n",
       "      <th>4785</th>\n",
       "      <th>4786</th>\n",
       "      <th>4787</th>\n",
       "      <th>4788</th>\n",
       "      <th>4789</th>\n",
       "      <th>4790</th>\n",
       "      <th>4791</th>\n",
       "      <th>4792</th>\n",
       "      <th>4793</th>\n",
       "      <th>4794</th>\n",
       "      <th>4795</th>\n",
       "      <th>4796</th>\n",
       "      <th>4797</th>\n",
       "      <th>4798</th>\n",
       "      <th>4799</th>\n",
       "    </tr>\n",
       "  </thead>\n",
       "  <tbody>\n",
       "    <tr>\n",
       "      <th>0</th>\n",
       "      <td>1.000000</td>\n",
       "      <td>0.544096</td>\n",
       "      <td>0.574028</td>\n",
       "      <td>0.586273</td>\n",
       "      <td>0.586716</td>\n",
       "      <td>0.513154</td>\n",
       "      <td>0.524780</td>\n",
       "      <td>0.585586</td>\n",
       "      <td>0.484311</td>\n",
       "      <td>0.556266</td>\n",
       "      <td>0.516617</td>\n",
       "      <td>0.545262</td>\n",
       "      <td>0.427396</td>\n",
       "      <td>0.474566</td>\n",
       "      <td>0.582865</td>\n",
       "      <td>0.498785</td>\n",
       "      <td>0.545152</td>\n",
       "      <td>0.523390</td>\n",
       "      <td>0.532972</td>\n",
       "      <td>0.519470</td>\n",
       "      <td>0.530975</td>\n",
       "      <td>0.498208</td>\n",
       "      <td>0.475920</td>\n",
       "      <td>0.471106</td>\n",
       "      <td>0.500777</td>\n",
       "      <td>0.494523</td>\n",
       "      <td>0.614883</td>\n",
       "      <td>0.643992</td>\n",
       "      <td>0.461723</td>\n",
       "      <td>0.583654</td>\n",
       "      <td>0.519035</td>\n",
       "      <td>0.557089</td>\n",
       "      <td>0.524650</td>\n",
       "      <td>0.500724</td>\n",
       "      <td>0.488408</td>\n",
       "      <td>0.566384</td>\n",
       "      <td>0.649833</td>\n",
       "      <td>0.429932</td>\n",
       "      <td>0.520832</td>\n",
       "      <td>0.522030</td>\n",
       "      <td>...</td>\n",
       "      <td>0.512999</td>\n",
       "      <td>0.523415</td>\n",
       "      <td>0.520055</td>\n",
       "      <td>0.466202</td>\n",
       "      <td>0.474431</td>\n",
       "      <td>0.438843</td>\n",
       "      <td>0.483846</td>\n",
       "      <td>0.498108</td>\n",
       "      <td>0.502440</td>\n",
       "      <td>0.532637</td>\n",
       "      <td>0.461943</td>\n",
       "      <td>0.555855</td>\n",
       "      <td>0.487958</td>\n",
       "      <td>0.516169</td>\n",
       "      <td>0.545966</td>\n",
       "      <td>0.503349</td>\n",
       "      <td>0.542265</td>\n",
       "      <td>0.528426</td>\n",
       "      <td>0.424817</td>\n",
       "      <td>0.547031</td>\n",
       "      <td>0.609431</td>\n",
       "      <td>0.513883</td>\n",
       "      <td>0.536077</td>\n",
       "      <td>0.501146</td>\n",
       "      <td>0.525510</td>\n",
       "      <td>0.468985</td>\n",
       "      <td>0.455308</td>\n",
       "      <td>0.417074</td>\n",
       "      <td>0.466493</td>\n",
       "      <td>0.524026</td>\n",
       "      <td>0.509253</td>\n",
       "      <td>0.498762</td>\n",
       "      <td>0.549868</td>\n",
       "      <td>0.577909</td>\n",
       "      <td>0.547308</td>\n",
       "      <td>0.494403</td>\n",
       "      <td>0.429733</td>\n",
       "      <td>0.552062</td>\n",
       "      <td>0.482813</td>\n",
       "      <td>0.505799</td>\n",
       "    </tr>\n",
       "    <tr>\n",
       "      <th>1</th>\n",
       "      <td>0.544096</td>\n",
       "      <td>1.000000</td>\n",
       "      <td>0.530780</td>\n",
       "      <td>0.515946</td>\n",
       "      <td>0.623231</td>\n",
       "      <td>0.551669</td>\n",
       "      <td>0.565873</td>\n",
       "      <td>0.612478</td>\n",
       "      <td>0.576520</td>\n",
       "      <td>0.586182</td>\n",
       "      <td>0.512775</td>\n",
       "      <td>0.542721</td>\n",
       "      <td>0.593563</td>\n",
       "      <td>0.571942</td>\n",
       "      <td>0.644757</td>\n",
       "      <td>0.622417</td>\n",
       "      <td>0.609347</td>\n",
       "      <td>0.641814</td>\n",
       "      <td>0.635311</td>\n",
       "      <td>0.521585</td>\n",
       "      <td>0.601757</td>\n",
       "      <td>0.559315</td>\n",
       "      <td>0.549339</td>\n",
       "      <td>0.596379</td>\n",
       "      <td>0.547089</td>\n",
       "      <td>0.614159</td>\n",
       "      <td>0.603092</td>\n",
       "      <td>0.640145</td>\n",
       "      <td>0.533429</td>\n",
       "      <td>0.552545</td>\n",
       "      <td>0.579618</td>\n",
       "      <td>0.545391</td>\n",
       "      <td>0.587102</td>\n",
       "      <td>0.501398</td>\n",
       "      <td>0.532179</td>\n",
       "      <td>0.575488</td>\n",
       "      <td>0.592412</td>\n",
       "      <td>0.618342</td>\n",
       "      <td>0.587590</td>\n",
       "      <td>0.547346</td>\n",
       "      <td>...</td>\n",
       "      <td>0.626331</td>\n",
       "      <td>0.552716</td>\n",
       "      <td>0.529888</td>\n",
       "      <td>0.546989</td>\n",
       "      <td>0.570890</td>\n",
       "      <td>0.532375</td>\n",
       "      <td>0.532692</td>\n",
       "      <td>0.529679</td>\n",
       "      <td>0.551470</td>\n",
       "      <td>0.569802</td>\n",
       "      <td>0.526461</td>\n",
       "      <td>0.466845</td>\n",
       "      <td>0.581284</td>\n",
       "      <td>0.539930</td>\n",
       "      <td>0.613684</td>\n",
       "      <td>0.570754</td>\n",
       "      <td>0.584245</td>\n",
       "      <td>0.524600</td>\n",
       "      <td>0.517972</td>\n",
       "      <td>0.624898</td>\n",
       "      <td>0.593577</td>\n",
       "      <td>0.618915</td>\n",
       "      <td>0.515012</td>\n",
       "      <td>0.561141</td>\n",
       "      <td>0.539312</td>\n",
       "      <td>0.518334</td>\n",
       "      <td>0.505797</td>\n",
       "      <td>0.468164</td>\n",
       "      <td>0.566546</td>\n",
       "      <td>0.529691</td>\n",
       "      <td>0.584704</td>\n",
       "      <td>0.530688</td>\n",
       "      <td>0.585371</td>\n",
       "      <td>0.559174</td>\n",
       "      <td>0.556612</td>\n",
       "      <td>0.550232</td>\n",
       "      <td>0.449113</td>\n",
       "      <td>0.604774</td>\n",
       "      <td>0.555440</td>\n",
       "      <td>0.559372</td>\n",
       "    </tr>\n",
       "    <tr>\n",
       "      <th>2</th>\n",
       "      <td>0.574028</td>\n",
       "      <td>0.530780</td>\n",
       "      <td>1.000000</td>\n",
       "      <td>0.587342</td>\n",
       "      <td>0.536151</td>\n",
       "      <td>0.521857</td>\n",
       "      <td>0.533096</td>\n",
       "      <td>0.592139</td>\n",
       "      <td>0.586232</td>\n",
       "      <td>0.560852</td>\n",
       "      <td>0.531620</td>\n",
       "      <td>0.721949</td>\n",
       "      <td>0.516257</td>\n",
       "      <td>0.556277</td>\n",
       "      <td>0.586271</td>\n",
       "      <td>0.528687</td>\n",
       "      <td>0.592197</td>\n",
       "      <td>0.599767</td>\n",
       "      <td>0.645568</td>\n",
       "      <td>0.555127</td>\n",
       "      <td>0.592534</td>\n",
       "      <td>0.512072</td>\n",
       "      <td>0.555483</td>\n",
       "      <td>0.552103</td>\n",
       "      <td>0.500818</td>\n",
       "      <td>0.487613</td>\n",
       "      <td>0.562732</td>\n",
       "      <td>0.567708</td>\n",
       "      <td>0.485878</td>\n",
       "      <td>0.720686</td>\n",
       "      <td>0.558431</td>\n",
       "      <td>0.556814</td>\n",
       "      <td>0.592571</td>\n",
       "      <td>0.545036</td>\n",
       "      <td>0.522728</td>\n",
       "      <td>0.658379</td>\n",
       "      <td>0.604158</td>\n",
       "      <td>0.536271</td>\n",
       "      <td>0.618803</td>\n",
       "      <td>0.554552</td>\n",
       "      <td>...</td>\n",
       "      <td>0.540455</td>\n",
       "      <td>0.604253</td>\n",
       "      <td>0.541938</td>\n",
       "      <td>0.499872</td>\n",
       "      <td>0.626494</td>\n",
       "      <td>0.477896</td>\n",
       "      <td>0.561558</td>\n",
       "      <td>0.502952</td>\n",
       "      <td>0.516438</td>\n",
       "      <td>0.590364</td>\n",
       "      <td>0.486799</td>\n",
       "      <td>0.476754</td>\n",
       "      <td>0.520751</td>\n",
       "      <td>0.536440</td>\n",
       "      <td>0.580422</td>\n",
       "      <td>0.582873</td>\n",
       "      <td>0.520939</td>\n",
       "      <td>0.580172</td>\n",
       "      <td>0.490341</td>\n",
       "      <td>0.546288</td>\n",
       "      <td>0.625191</td>\n",
       "      <td>0.539644</td>\n",
       "      <td>0.492316</td>\n",
       "      <td>0.551099</td>\n",
       "      <td>0.577029</td>\n",
       "      <td>0.545900</td>\n",
       "      <td>0.506469</td>\n",
       "      <td>0.479482</td>\n",
       "      <td>0.528173</td>\n",
       "      <td>0.556342</td>\n",
       "      <td>0.593440</td>\n",
       "      <td>0.487794</td>\n",
       "      <td>0.564246</td>\n",
       "      <td>0.545383</td>\n",
       "      <td>0.561137</td>\n",
       "      <td>0.514568</td>\n",
       "      <td>0.488869</td>\n",
       "      <td>0.537250</td>\n",
       "      <td>0.543664</td>\n",
       "      <td>0.517098</td>\n",
       "    </tr>\n",
       "    <tr>\n",
       "      <th>3</th>\n",
       "      <td>0.586273</td>\n",
       "      <td>0.515946</td>\n",
       "      <td>0.587342</td>\n",
       "      <td>1.000000</td>\n",
       "      <td>0.553608</td>\n",
       "      <td>0.520636</td>\n",
       "      <td>0.530988</td>\n",
       "      <td>0.589412</td>\n",
       "      <td>0.564539</td>\n",
       "      <td>0.707334</td>\n",
       "      <td>0.529777</td>\n",
       "      <td>0.579560</td>\n",
       "      <td>0.480264</td>\n",
       "      <td>0.571933</td>\n",
       "      <td>0.564332</td>\n",
       "      <td>0.523172</td>\n",
       "      <td>0.536695</td>\n",
       "      <td>0.515065</td>\n",
       "      <td>0.594482</td>\n",
       "      <td>0.540421</td>\n",
       "      <td>0.550373</td>\n",
       "      <td>0.558061</td>\n",
       "      <td>0.505590</td>\n",
       "      <td>0.500313</td>\n",
       "      <td>0.559720</td>\n",
       "      <td>0.514836</td>\n",
       "      <td>0.567616</td>\n",
       "      <td>0.577624</td>\n",
       "      <td>0.467226</td>\n",
       "      <td>0.589679</td>\n",
       "      <td>0.546303</td>\n",
       "      <td>0.608629</td>\n",
       "      <td>0.590335</td>\n",
       "      <td>0.529318</td>\n",
       "      <td>0.467183</td>\n",
       "      <td>0.558114</td>\n",
       "      <td>0.622847</td>\n",
       "      <td>0.483069</td>\n",
       "      <td>0.576161</td>\n",
       "      <td>0.543160</td>\n",
       "      <td>...</td>\n",
       "      <td>0.586504</td>\n",
       "      <td>0.545612</td>\n",
       "      <td>0.571009</td>\n",
       "      <td>0.505770</td>\n",
       "      <td>0.570180</td>\n",
       "      <td>0.502594</td>\n",
       "      <td>0.557176</td>\n",
       "      <td>0.500705</td>\n",
       "      <td>0.531858</td>\n",
       "      <td>0.561728</td>\n",
       "      <td>0.532806</td>\n",
       "      <td>0.456826</td>\n",
       "      <td>0.483590</td>\n",
       "      <td>0.551554</td>\n",
       "      <td>0.562860</td>\n",
       "      <td>0.517786</td>\n",
       "      <td>0.502661</td>\n",
       "      <td>0.578146</td>\n",
       "      <td>0.561386</td>\n",
       "      <td>0.567011</td>\n",
       "      <td>0.601520</td>\n",
       "      <td>0.550621</td>\n",
       "      <td>0.480931</td>\n",
       "      <td>0.534457</td>\n",
       "      <td>0.530166</td>\n",
       "      <td>0.519822</td>\n",
       "      <td>0.521476</td>\n",
       "      <td>0.461086</td>\n",
       "      <td>0.546576</td>\n",
       "      <td>0.545730</td>\n",
       "      <td>0.546552</td>\n",
       "      <td>0.457831</td>\n",
       "      <td>0.613432</td>\n",
       "      <td>0.533750</td>\n",
       "      <td>0.551322</td>\n",
       "      <td>0.508012</td>\n",
       "      <td>0.463044</td>\n",
       "      <td>0.635904</td>\n",
       "      <td>0.563764</td>\n",
       "      <td>0.537014</td>\n",
       "    </tr>\n",
       "    <tr>\n",
       "      <th>4</th>\n",
       "      <td>0.586716</td>\n",
       "      <td>0.623231</td>\n",
       "      <td>0.536151</td>\n",
       "      <td>0.553608</td>\n",
       "      <td>1.000000</td>\n",
       "      <td>0.498991</td>\n",
       "      <td>0.551627</td>\n",
       "      <td>0.623652</td>\n",
       "      <td>0.549274</td>\n",
       "      <td>0.570605</td>\n",
       "      <td>0.592966</td>\n",
       "      <td>0.542204</td>\n",
       "      <td>0.540633</td>\n",
       "      <td>0.576532</td>\n",
       "      <td>0.585191</td>\n",
       "      <td>0.552937</td>\n",
       "      <td>0.644237</td>\n",
       "      <td>0.607651</td>\n",
       "      <td>0.600822</td>\n",
       "      <td>0.562413</td>\n",
       "      <td>0.564523</td>\n",
       "      <td>0.515025</td>\n",
       "      <td>0.510214</td>\n",
       "      <td>0.504371</td>\n",
       "      <td>0.583872</td>\n",
       "      <td>0.564738</td>\n",
       "      <td>0.657242</td>\n",
       "      <td>0.663388</td>\n",
       "      <td>0.527729</td>\n",
       "      <td>0.592478</td>\n",
       "      <td>0.521141</td>\n",
       "      <td>0.553637</td>\n",
       "      <td>0.567834</td>\n",
       "      <td>0.571973</td>\n",
       "      <td>0.494760</td>\n",
       "      <td>0.545182</td>\n",
       "      <td>0.617030</td>\n",
       "      <td>0.445670</td>\n",
       "      <td>0.535554</td>\n",
       "      <td>0.560854</td>\n",
       "      <td>...</td>\n",
       "      <td>0.604689</td>\n",
       "      <td>0.517914</td>\n",
       "      <td>0.533691</td>\n",
       "      <td>0.474049</td>\n",
       "      <td>0.549196</td>\n",
       "      <td>0.465247</td>\n",
       "      <td>0.504387</td>\n",
       "      <td>0.483177</td>\n",
       "      <td>0.542009</td>\n",
       "      <td>0.564051</td>\n",
       "      <td>0.488866</td>\n",
       "      <td>0.462406</td>\n",
       "      <td>0.524149</td>\n",
       "      <td>0.530894</td>\n",
       "      <td>0.592476</td>\n",
       "      <td>0.498320</td>\n",
       "      <td>0.504916</td>\n",
       "      <td>0.545790</td>\n",
       "      <td>0.511028</td>\n",
       "      <td>0.546401</td>\n",
       "      <td>0.602596</td>\n",
       "      <td>0.532607</td>\n",
       "      <td>0.489795</td>\n",
       "      <td>0.561493</td>\n",
       "      <td>0.548034</td>\n",
       "      <td>0.514308</td>\n",
       "      <td>0.485106</td>\n",
       "      <td>0.511092</td>\n",
       "      <td>0.520338</td>\n",
       "      <td>0.534863</td>\n",
       "      <td>0.542865</td>\n",
       "      <td>0.479000</td>\n",
       "      <td>0.563256</td>\n",
       "      <td>0.579525</td>\n",
       "      <td>0.536653</td>\n",
       "      <td>0.502785</td>\n",
       "      <td>0.446601</td>\n",
       "      <td>0.584623</td>\n",
       "      <td>0.522301</td>\n",
       "      <td>0.533792</td>\n",
       "    </tr>\n",
       "  </tbody>\n",
       "</table>\n",
       "<p>5 rows × 4800 columns</p>\n",
       "</div>"
      ],
      "text/plain": [
       "       0         1         2     ...      4797      4798      4799\n",
       "0  1.000000  0.544096  0.574028  ...  0.552062  0.482813  0.505799\n",
       "1  0.544096  1.000000  0.530780  ...  0.604774  0.555440  0.559372\n",
       "2  0.574028  0.530780  1.000000  ...  0.537250  0.543664  0.517098\n",
       "3  0.586273  0.515946  0.587342  ...  0.635904  0.563764  0.537014\n",
       "4  0.586716  0.623231  0.536151  ...  0.584623  0.522301  0.533792\n",
       "\n",
       "[5 rows x 4800 columns]"
      ]
     },
     "execution_count": 18,
     "metadata": {},
     "output_type": "execute_result"
    }
   ],
   "source": [
    "doc_sim = cosine_similarity(doc_vecs_ft)\n",
    "doc_sim_df = pd.DataFrame(doc_sim)\n",
    "doc_sim_df.head()"
   ]
  },
  {
   "cell_type": "markdown",
   "metadata": {
    "id": "MpVoDJNmOPBD"
   },
   "source": [
    "## Step by Step Methodology for Recommendation"
   ]
  },
  {
   "cell_type": "markdown",
   "metadata": {
    "id": "TGGJ_gJFuZ-o"
   },
   "source": [
    "### **Question 7**: Get a list of Movie titles (1 point)"
   ]
  },
  {
   "cell_type": "code",
   "execution_count": 19,
   "metadata": {
    "colab": {
     "base_uri": "https://localhost:8080/"
    },
    "id": "QAMyZTC9ODZU",
    "outputId": "3983fda4-4b99-4168-f4f5-edde89ee04f8"
   },
   "outputs": [
    {
     "data": {
      "text/plain": [
       "0                                         Avatar\n",
       "1       Pirates of the Caribbean: At World's End\n",
       "2                                        Spectre\n",
       "3                          The Dark Knight Rises\n",
       "4                                    John Carter\n",
       "                          ...                   \n",
       "4798                                 El Mariachi\n",
       "4799                                   Newlyweds\n",
       "4800                   Signed, Sealed, Delivered\n",
       "4801                            Shanghai Calling\n",
       "4802                           My Date with Drew\n",
       "Name: title, Length: 4800, dtype: object"
      ]
     },
     "execution_count": 19,
     "metadata": {},
     "output_type": "execute_result"
    }
   ],
   "source": [
    "# movie titles\n",
    "movies_list = df['title']\n",
    "movies_list"
   ]
  },
  {
   "cell_type": "markdown",
   "metadata": {
    "id": "TmMMPq3-ukJV"
   },
   "source": [
    "### **Question 8**: Given a movie title, get its index value (1 point)\n",
    "\n",
    "Here let's get the ID for the movie __Minions__\n",
    "\n",
    "__Hint:__ Numpy has dedicated functions to find the index from a numpy array or you can use list indexing functions also. The output should be a number"
   ]
  },
  {
   "cell_type": "code",
   "execution_count": 20,
   "metadata": {
    "colab": {
     "base_uri": "https://localhost:8080/"
    },
    "id": "Ze84U5EVOUhW",
    "outputId": "fa89bda2-a742-4db5-dacf-f6480d7b419b"
   },
   "outputs": [
    {
     "data": {
      "text/plain": [
       "(array([546]),)"
      ]
     },
     "execution_count": 20,
     "metadata": {},
     "output_type": "execute_result"
    }
   ],
   "source": [
    "## movie ID\n",
    "movie_idx = np.where(movies_list == 'Minions')\n",
    "movie_idx"
   ]
  },
  {
   "cell_type": "markdown",
   "metadata": {
    "id": "MoCHlZl9OYSk"
   },
   "source": [
    "## Get Similar Movies\n",
    "\n",
    "We already calculated pairwise similarity between all movies in our dataset. Next step is to extract moview similar to a given movie.\n",
    "\n",
    "Let us use the movie _Minions_ at index _546_ to find some similar movies using ``doc_sim_df`` dataframe"
   ]
  },
  {
   "cell_type": "markdown",
   "metadata": {
    "id": "egLaZYx9vGP0"
   },
   "source": [
    "### **Question 9**: Extract row of dataframe given an index (1 point)"
   ]
  },
  {
   "cell_type": "code",
   "execution_count": 21,
   "metadata": {
    "colab": {
     "base_uri": "https://localhost:8080/"
    },
    "id": "UmSNFxLxOUYA",
    "outputId": "657dbd79-6377-4c66-dced-44ad17dae81a"
   },
   "outputs": [
    {
     "data": {
      "text/plain": [
       "array([[0.47014731, 0.53810713, 0.53270891, ..., 0.51057078, 0.50204268,\n",
       "        0.54564011]])"
      ]
     },
     "execution_count": 21,
     "metadata": {},
     "output_type": "execute_result"
    }
   ],
   "source": [
    "movie_similarities = doc_sim_df.iloc[movie_idx].values\n",
    "movie_similarities"
   ]
  },
  {
   "cell_type": "markdown",
   "metadata": {
    "id": "HLgaeRlcOeMv"
   },
   "source": [
    "### Top Similar Movies"
   ]
  },
  {
   "cell_type": "markdown",
   "metadata": {
    "id": "Q-Oa0wvlvVVb"
   },
   "source": [
    "### **Question 10**: Get top 5 most similar movies in descending order of similarity (1 point)\n",
    "\n",
    "_hint: In descending order the index 0 represents the movie itself (as a movie description is 100% similar to itself, so it is safe to skip index 0_\n",
    "\n",
    "#### Get top 5 movie IDs"
   ]
  },
  {
   "cell_type": "code",
   "execution_count": 22,
   "metadata": {
    "colab": {
     "base_uri": "https://localhost:8080/"
    },
    "id": "7MipUk82OjRh",
    "outputId": "2e90807c-2986-49e6-f12c-3f023e42a901"
   },
   "outputs": [
    {
     "data": {
      "text/plain": [
       "array([ 614, 2825, 4568, 1358,  506])"
      ]
     },
     "execution_count": 22,
     "metadata": {},
     "output_type": "execute_result"
    }
   ],
   "source": [
    "similar_movie_idxs = np.argsort(movie_similarities)\n",
    "similar_movie_idxs = similar_movie_idxs[0][-6:-1][::-1]\n",
    "similar_movie_idxs"
   ]
  },
  {
   "cell_type": "markdown",
   "metadata": {
    "id": "YvCvqUS1_I5n"
   },
   "source": [
    "#### Get top 5 movie names"
   ]
  },
  {
   "cell_type": "code",
   "execution_count": 23,
   "metadata": {
    "colab": {
     "base_uri": "https://localhost:8080/"
    },
    "id": "kRofKIaaOlc1",
    "outputId": "65e28d56-e10b-405c-cc60-af12cb6a7f59"
   },
   "outputs": [
    {
     "data": {
      "text/plain": [
       "614                               Despicable Me\n",
       "2825                                      Yentl\n",
       "4568    Poultrygeist: Night of the Chicken Dead\n",
       "1358      Austin Powers: The Spy Who Shagged Me\n",
       "506                             Despicable Me 2\n",
       "Name: title, dtype: object"
      ]
     },
     "execution_count": 23,
     "metadata": {},
     "output_type": "execute_result"
    }
   ],
   "source": [
    "similar_movies = movies_list[similar_movie_idxs]\n",
    "similar_movies"
   ]
  },
  {
   "cell_type": "markdown",
   "metadata": {
    "id": "E3GRzdwOxVXa"
   },
   "source": [
    "## Movie Recommender\n",
    "\n",
    "Time to make use of all the smaller steps we have gone through so far to prepare a recommendation utility"
   ]
  },
  {
   "cell_type": "markdown",
   "metadata": {
    "id": "lpB52SSIxbkk"
   },
   "source": [
    "### **Question 11**: Complete the utility function for getting movie recommendations (2 points)"
   ]
  },
  {
   "cell_type": "code",
   "execution_count": 24,
   "metadata": {
    "id": "dL9JZc_Tw96e"
   },
   "outputs": [],
   "source": [
    "def movie_recommender(movie_title, movies=movies_list, doc_sims=None):\n",
    "    # find movie id\n",
    "    movie_idx = np.where(movies_list == movie_title)\n",
    "\n",
    "    # get movie similarities. \n",
    "    #Hint: movie index helps find the exact row\n",
    "    movie_similarities = doc_sim_df.iloc[movie_idx].values\n",
    "    \n",
    "    # get top 5 similar movie IDs\n",
    "    # Hint: use numpy utility to do a sort\n",
    "    similar_movie_idxs = np.argsort(movie_similarities)\n",
    "    similar_movie_idxs = similar_movie_idxs[0][-6:-1][::-1]\n",
    "    \n",
    "    # get top 5 movies\n",
    "    similar_movies = movies_list[similar_movie_idxs]\n",
    "    \n",
    "    # return the top 5 movies\n",
    "    return similar_movies"
   ]
  },
  {
   "cell_type": "markdown",
   "metadata": {
    "id": "vkH9veWqyljn"
   },
   "source": [
    "### Find Similar Movies"
   ]
  },
  {
   "cell_type": "code",
   "execution_count": 25,
   "metadata": {
    "id": "0b2mQR5yyxxY"
   },
   "outputs": [],
   "source": [
    "popular_movies = ['Minions', 'Interstellar', 'Deadpool', 'Jurassic World', 'Pirates of the Caribbean: The Curse of the Black Pearl',\n",
    "              'Dawn of the Planet of the Apes', 'The Hunger Games: Mockingjay - Part 1', 'Terminator Genisys', \n",
    "              'Captain America: Civil War', 'The Dark Knight', 'The Martian', 'Batman v Superman: Dawn of Justice', \n",
    "              'Pulp Fiction', 'The Godfather', 'The Shawshank Redemption', 'The Lord of the Rings: The Fellowship of the Ring',  \n",
    "              'Harry Potter and the Chamber of Secrets', 'Star Wars', 'The Hobbit: The Battle of the Five Armies',\n",
    "              'Iron Man']"
   ]
  },
  {
   "cell_type": "code",
   "execution_count": 26,
   "metadata": {
    "colab": {
     "base_uri": "https://localhost:8080/"
    },
    "id": "xLtf6tM3ymN7",
    "outputId": "43627722-d766-4756-c62e-eecc7f4530b2"
   },
   "outputs": [
    {
     "name": "stdout",
     "output_type": "stream",
     "text": [
      "Movie: Minions\n",
      "Top 5 recommended Movies: 614                               Despicable Me\n",
      "2825                                      Yentl\n",
      "4568    Poultrygeist: Night of the Chicken Dead\n",
      "1358      Austin Powers: The Spy Who Shagged Me\n",
      "506                             Despicable Me 2\n",
      "Name: title, dtype: object\n",
      "\n",
      "Movie: Interstellar\n",
      "Top 5 recommended Movies: 220                     Prometheus\n",
      "1352                       Gattaca\n",
      "3625    Keeping Up with the Steins\n",
      "1645                      The Cave\n",
      "300              Starship Troopers\n",
      "Name: title, dtype: object\n",
      "\n",
      "Movie: Deadpool\n",
      "Top 5 recommended Movies: 4426       A Fine Step\n",
      "242     Fantastic Four\n",
      "1308            Enough\n",
      "30        Spider-Man 2\n",
      "5         Spider-Man 3\n",
      "Name: title, dtype: object\n",
      "\n",
      "Movie: Jurassic World\n",
      "Top 5 recommended Movies: 675                     Jurassic Park\n",
      "508     The Lost World: Jurassic Park\n",
      "334                 Jurassic Park III\n",
      "2527      National Lampoon's Vacation\n",
      "1536                         Vacation\n",
      "Name: title, dtype: object\n",
      "\n",
      "Movie: Pirates of the Caribbean: The Curse of the Black Pearl\n",
      "Top 5 recommended Movies: 17         Pirates of the Caribbean: On Stranger Tides\n",
      "848      The Pirates! In an Adventure with Scientists!\n",
      "12          Pirates of the Caribbean: Dead Man's Chest\n",
      "4596                                            Maniac\n",
      "2590    VeggieTales: The Pirates Who Don't Do Anything\n",
      "Name: title, dtype: object\n",
      "\n",
      "Movie: Dawn of the Planet of the Apes\n",
      "Top 5 recommended Movies: 4174          The Crime of Padre Amaro\n",
      "4191                  Against the Wild\n",
      "335     Rise of the Planet of the Apes\n",
      "3395                     The Extra Man\n",
      "3898             Cat on a Hot Tin Roof\n",
      "Name: title, dtype: object\n",
      "\n",
      "Movie: The Hunger Games: Mockingjay - Part 1\n",
      "Top 5 recommended Movies: 183           The Hunger Games: Catching Fire\n",
      "102     The Hunger Games: Mockingjay - Part 2\n",
      "426                          The Hunger Games\n",
      "4650                                     Exam\n",
      "47                    Star Trek Into Darkness\n",
      "Name: title, dtype: object\n",
      "\n",
      "Movie: Terminator Genisys\n",
      "Top 5 recommended Movies: 279             Terminator 2: Judgment Day\n",
      "43                    Terminator Salvation\n",
      "46              X-Men: Days of Future Past\n",
      "93      Terminator 3: Rise of the Machines\n",
      "3438                               Control\n",
      "Name: title, dtype: object\n",
      "\n",
      "Movie: Captain America: Civil War\n",
      "Top 5 recommended Movies: 85     Captain America: The Winter Soldier\n",
      "7                  Avengers: Age of Ultron\n",
      "79                              Iron Man 2\n",
      "47                 Star Trek Into Darkness\n",
      "342                           Men in Black\n",
      "Name: title, dtype: object\n",
      "\n",
      "Movie: The Dark Knight\n",
      "Top 5 recommended Movies: 3       The Dark Knight Rises\n",
      "428            Batman Returns\n",
      "299            Batman Forever\n",
      "3853                     2:13\n",
      "1359                   Batman\n",
      "Name: title, dtype: object\n",
      "\n",
      "Movie: The Martian\n",
      "Top 5 recommended Movies: 27                         Battleship\n",
      "1959    Star Trek IV: The Voyage Home\n",
      "3157                 Jab Tak Hai Jaan\n",
      "487                        Red Planet\n",
      "541                           Soldier\n",
      "Name: title, dtype: object\n",
      "\n",
      "Movie: Batman v Superman: Dawn of Justice\n",
      "Top 5 recommended Movies: 3818        The House of Sand\n",
      "3853                     2:13\n",
      "65            The Dark Knight\n",
      "3       The Dark Knight Rises\n",
      "119             Batman Begins\n",
      "Name: title, dtype: object\n",
      "\n",
      "Movie: Pulp Fiction\n",
      "Top 5 recommended Movies: 4621          Royal Kill\n",
      "3465        Mystic Pizza\n",
      "3525    Standing Ovation\n",
      "3503        Lake of Fire\n",
      "4450       American Hero\n",
      "Name: title, dtype: object\n",
      "\n",
      "Movie: The Godfather\n",
      "Top 5 recommended Movies: 2730                 Black Swan\n",
      "867     The Godfather: Part III\n",
      "2802               Solitary Man\n",
      "3163                  Detention\n",
      "3787              The Big Tease\n",
      "Name: title, dtype: object\n",
      "\n",
      "Movie: The Shawshank Redemption\n",
      "Top 5 recommended Movies: 4528         Mean Creek\n",
      "609         Escape Plan\n",
      "3784      Shooting Fish\n",
      "1166           Get Hard\n",
      "1187    Bridge of Spies\n",
      "Name: title, dtype: object\n",
      "\n",
      "Movie: The Lord of the Rings: The Fellowship of the Ring\n",
      "Top 5 recommended Movies: 330            The Lord of the Rings: The Two Towers\n",
      "98                 The Hobbit: An Unexpected Journey\n",
      "329    The Lord of the Rings: The Return of the King\n",
      "22               The Hobbit: The Desolation of Smaug\n",
      "19         The Hobbit: The Battle of the Five Armies\n",
      "Name: title, dtype: object\n",
      "\n",
      "Movie: Harry Potter and the Chamber of Secrets\n",
      "Top 5 recommended Movies: 114          Harry Potter and the Goblet of Fire\n",
      "191     Harry Potter and the Prisoner of Azkaban\n",
      "113    Harry Potter and the Order of the Phoenix\n",
      "8         Harry Potter and the Half-Blood Prince\n",
      "197     Harry Potter and the Philosopher's Stone\n",
      "Name: title, dtype: object\n",
      "\n",
      "Movie: Star Wars\n",
      "Top 5 recommended Movies: 1990                         The Empire Strikes Back\n",
      "1490                              Return of the Jedi\n",
      "229     Star Wars: Episode III - Revenge of the Sith\n",
      "230     Star Wars: Episode II - Attack of the Clones\n",
      "352                                            Mulan\n",
      "Name: title, dtype: object\n",
      "\n",
      "Movie: The Hobbit: The Battle of the Five Armies\n",
      "Top 5 recommended Movies: 22               The Hobbit: The Desolation of Smaug\n",
      "98                 The Hobbit: An Unexpected Journey\n",
      "1306                     Dragon Nest: Warriors' Dawn\n",
      "229     Star Wars: Episode III - Revenge of the Sith\n",
      "113        Harry Potter and the Order of the Phoenix\n",
      "Name: title, dtype: object\n",
      "\n",
      "Movie: Iron Man\n",
      "Top 5 recommended Movies: 79                  Iron Man 2\n",
      "7      Avengers: Age of Ultron\n",
      "618                Mystery Men\n",
      "182                    Ant-Man\n",
      "119              Batman Begins\n",
      "Name: title, dtype: object\n",
      "\n"
     ]
    }
   ],
   "source": [
    "for movie in popular_movies:\n",
    "    print('Movie:', movie)\n",
    "    print('Top 5 recommended Movies:', movie_recommender(movie_title=movie, movies=movies_list, doc_sims=doc_sim_df))\n",
    "    print()"
   ]
  },
  {
   "cell_type": "code",
   "execution_count": null,
   "metadata": {
    "id": "xbD2cSU2EQXU"
   },
   "outputs": [],
   "source": []
  }
 ],
 "metadata": {
  "colab": {
   "collapsed_sections": [],
   "name": "Exercise_1_Movie_Recommender_System_with_FastText.ipynb",
   "provenance": []
  },
  "kernelspec": {
   "display_name": "Python 3",
   "language": "python",
   "name": "python3"
  },
  "language_info": {
   "codemirror_mode": {
    "name": "ipython",
    "version": 3
   },
   "file_extension": ".py",
   "mimetype": "text/x-python",
   "name": "python",
   "nbconvert_exporter": "python",
   "pygments_lexer": "ipython3",
   "version": "3.8.5"
  }
 },
 "nbformat": 4,
 "nbformat_minor": 1
}
