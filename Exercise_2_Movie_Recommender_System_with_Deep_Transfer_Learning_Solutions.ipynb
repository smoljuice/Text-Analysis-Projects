{
 "cells": [
  {
   "cell_type": "markdown",
   "metadata": {
    "id": "k-dEJCiV3ORm"
   },
   "source": [
    "# Exercise 2 - Movie Recommender System\n",
    "\n",
    "## Text Similarity\n",
    "\n",
    "Recommender systems are one of the popular and most adopted applications of machine learning. They are typically used to recommend entities to users and these entites can be anything like products, movies, services and so on.\n",
    "\n",
    "Popular examples of recommendations include,\n",
    "\n",
    "- Amazon suggesting products on its website\n",
    "- Amazon Prime, Netflix, Hotstar recommending movies\\shows\n",
    "- YouTube recommending videos to watch\n",
    "\n",
    "Typically recommender systems can be implemented in three ways:\n",
    "\n",
    "- Simple Rule-based Recommenders: Typically based on specific global metrics and thresholds like movie popularity, global ratings etc.\n",
    "- Content-based Recommenders: This is based on providing similar entities based on a specific entity of interest. Content metadata can be used here like movie descriptions, genre, cast, director and so on\n",
    "- Collaborative filtering Recommenders: Here we don't need metadata but we try to predict recommendations and ratings based on past ratings of different users and specific items.\n",
    "\n",
    "__We will be building a movie recommendation system here where based on data\\metadata pertaining to different movies, we try and recommend similar movies of interest!__\n",
    "\n",
    "With this exercise we will learn how to apply concepts learnt through tutorials of week1. Let's get started"
   ]
  },
  {
   "cell_type": "code",
   "execution_count": 1,
   "metadata": {
    "colab": {
     "base_uri": "https://localhost:8080/"
    },
    "id": "O-bzlCEwG2Kw",
    "outputId": "3f9a1379-5786-4694-a6c0-45e2c7ceb9d9"
   },
   "outputs": [
    {
     "name": "stdout",
     "output_type": "stream",
     "text": [
      "Fri Mar 26 01:17:31 2021       \n",
      "+-----------------------------------------------------------------------------+\n",
      "| NVIDIA-SMI 460.56       Driver Version: 460.32.03    CUDA Version: 11.2     |\n",
      "|-------------------------------+----------------------+----------------------+\n",
      "| GPU  Name        Persistence-M| Bus-Id        Disp.A | Volatile Uncorr. ECC |\n",
      "| Fan  Temp  Perf  Pwr:Usage/Cap|         Memory-Usage | GPU-Util  Compute M. |\n",
      "|                               |                      |               MIG M. |\n",
      "|===============================+======================+======================|\n",
      "|   0  Tesla P100-PCIE...  Off  | 00000000:00:04.0 Off |                    0 |\n",
      "| N/A   35C    P0    25W / 250W |      0MiB / 16280MiB |      0%      Default |\n",
      "|                               |                      |                  N/A |\n",
      "+-------------------------------+----------------------+----------------------+\n",
      "                                                                               \n",
      "+-----------------------------------------------------------------------------+\n",
      "| Processes:                                                                  |\n",
      "|  GPU   GI   CI        PID   Type   Process name                  GPU Memory |\n",
      "|        ID   ID                                                   Usage      |\n",
      "|=============================================================================|\n",
      "|  No running processes found                                                 |\n",
      "+-----------------------------------------------------------------------------+\n"
     ]
    }
   ],
   "source": [
    "!nvidia-smi"
   ]
  },
  {
   "cell_type": "markdown",
   "metadata": {
    "id": "GEWxRVzJ3VNb"
   },
   "source": [
    "## Load Data\n",
    "If you are using google colab please use the upload file button option from the 'Files' icon on the left pane to upload the tmdb_5000_movies.csv.gz dataset."
   ]
  },
  {
   "cell_type": "code",
   "execution_count": 2,
   "metadata": {
    "colab": {
     "base_uri": "https://localhost:8080/"
    },
    "id": "vRore2TE3Df8",
    "outputId": "21bceee7-a201-47f1-9438-4d87102aab6a"
   },
   "outputs": [
    {
     "name": "stdout",
     "output_type": "stream",
     "text": [
      "<class 'pandas.core.frame.DataFrame'>\n",
      "RangeIndex: 4803 entries, 0 to 4802\n",
      "Data columns (total 20 columns):\n",
      " #   Column                Non-Null Count  Dtype  \n",
      "---  ------                --------------  -----  \n",
      " 0   budget                4803 non-null   int64  \n",
      " 1   genres                4803 non-null   object \n",
      " 2   homepage              1712 non-null   object \n",
      " 3   id                    4803 non-null   int64  \n",
      " 4   keywords              4803 non-null   object \n",
      " 5   original_language     4803 non-null   object \n",
      " 6   original_title        4803 non-null   object \n",
      " 7   overview              4800 non-null   object \n",
      " 8   popularity            4803 non-null   float64\n",
      " 9   production_companies  4803 non-null   object \n",
      " 10  production_countries  4803 non-null   object \n",
      " 11  release_date          4802 non-null   object \n",
      " 12  revenue               4803 non-null   int64  \n",
      " 13  runtime               4801 non-null   float64\n",
      " 14  spoken_languages      4803 non-null   object \n",
      " 15  status                4803 non-null   object \n",
      " 16  tagline               3959 non-null   object \n",
      " 17  title                 4803 non-null   object \n",
      " 18  vote_average          4803 non-null   float64\n",
      " 19  vote_count            4803 non-null   int64  \n",
      "dtypes: float64(3), int64(4), object(13)\n",
      "memory usage: 750.6+ KB\n"
     ]
    }
   ],
   "source": [
    "import pandas as pd\n",
    "\n",
    "df = pd.read_csv('tmdb_5000_movies.csv.gz', compression='gzip')\n",
    "df.info()"
   ]
  },
  {
   "cell_type": "markdown",
   "metadata": {
    "id": "8kPf5QmC6c35"
   },
   "source": [
    "## **View** top few rows of the dataframe"
   ]
  },
  {
   "cell_type": "code",
   "execution_count": 3,
   "metadata": {
    "colab": {
     "base_uri": "https://localhost:8080/",
     "height": 719
    },
    "id": "8PG4z8La3Zyw",
    "outputId": "817f425b-b54e-45e9-b4d9-90ef5de6a2bf"
   },
   "outputs": [
    {
     "data": {
      "text/html": [
       "<div>\n",
       "<style scoped>\n",
       "    .dataframe tbody tr th:only-of-type {\n",
       "        vertical-align: middle;\n",
       "    }\n",
       "\n",
       "    .dataframe tbody tr th {\n",
       "        vertical-align: top;\n",
       "    }\n",
       "\n",
       "    .dataframe thead th {\n",
       "        text-align: right;\n",
       "    }\n",
       "</style>\n",
       "<table border=\"1\" class=\"dataframe\">\n",
       "  <thead>\n",
       "    <tr style=\"text-align: right;\">\n",
       "      <th></th>\n",
       "      <th>budget</th>\n",
       "      <th>genres</th>\n",
       "      <th>homepage</th>\n",
       "      <th>id</th>\n",
       "      <th>keywords</th>\n",
       "      <th>original_language</th>\n",
       "      <th>original_title</th>\n",
       "      <th>overview</th>\n",
       "      <th>popularity</th>\n",
       "      <th>production_companies</th>\n",
       "      <th>production_countries</th>\n",
       "      <th>release_date</th>\n",
       "      <th>revenue</th>\n",
       "      <th>runtime</th>\n",
       "      <th>spoken_languages</th>\n",
       "      <th>status</th>\n",
       "      <th>tagline</th>\n",
       "      <th>title</th>\n",
       "      <th>vote_average</th>\n",
       "      <th>vote_count</th>\n",
       "    </tr>\n",
       "  </thead>\n",
       "  <tbody>\n",
       "    <tr>\n",
       "      <th>0</th>\n",
       "      <td>237000000</td>\n",
       "      <td>[{\"id\": 28, \"name\": \"Action\"}, {\"id\": 12, \"nam...</td>\n",
       "      <td>http://www.avatarmovie.com/</td>\n",
       "      <td>19995</td>\n",
       "      <td>[{\"id\": 1463, \"name\": \"culture clash\"}, {\"id\":...</td>\n",
       "      <td>en</td>\n",
       "      <td>Avatar</td>\n",
       "      <td>In the 22nd century, a paraplegic Marine is di...</td>\n",
       "      <td>150.437577</td>\n",
       "      <td>[{\"name\": \"Ingenious Film Partners\", \"id\": 289...</td>\n",
       "      <td>[{\"iso_3166_1\": \"US\", \"name\": \"United States o...</td>\n",
       "      <td>2009-12-10</td>\n",
       "      <td>2787965087</td>\n",
       "      <td>162.0</td>\n",
       "      <td>[{\"iso_639_1\": \"en\", \"name\": \"English\"}, {\"iso...</td>\n",
       "      <td>Released</td>\n",
       "      <td>Enter the World of Pandora.</td>\n",
       "      <td>Avatar</td>\n",
       "      <td>7.2</td>\n",
       "      <td>11800</td>\n",
       "    </tr>\n",
       "    <tr>\n",
       "      <th>1</th>\n",
       "      <td>300000000</td>\n",
       "      <td>[{\"id\": 12, \"name\": \"Adventure\"}, {\"id\": 14, \"...</td>\n",
       "      <td>http://disney.go.com/disneypictures/pirates/</td>\n",
       "      <td>285</td>\n",
       "      <td>[{\"id\": 270, \"name\": \"ocean\"}, {\"id\": 726, \"na...</td>\n",
       "      <td>en</td>\n",
       "      <td>Pirates of the Caribbean: At World's End</td>\n",
       "      <td>Captain Barbossa, long believed to be dead, ha...</td>\n",
       "      <td>139.082615</td>\n",
       "      <td>[{\"name\": \"Walt Disney Pictures\", \"id\": 2}, {\"...</td>\n",
       "      <td>[{\"iso_3166_1\": \"US\", \"name\": \"United States o...</td>\n",
       "      <td>2007-05-19</td>\n",
       "      <td>961000000</td>\n",
       "      <td>169.0</td>\n",
       "      <td>[{\"iso_639_1\": \"en\", \"name\": \"English\"}]</td>\n",
       "      <td>Released</td>\n",
       "      <td>At the end of the world, the adventure begins.</td>\n",
       "      <td>Pirates of the Caribbean: At World's End</td>\n",
       "      <td>6.9</td>\n",
       "      <td>4500</td>\n",
       "    </tr>\n",
       "    <tr>\n",
       "      <th>2</th>\n",
       "      <td>245000000</td>\n",
       "      <td>[{\"id\": 28, \"name\": \"Action\"}, {\"id\": 12, \"nam...</td>\n",
       "      <td>http://www.sonypictures.com/movies/spectre/</td>\n",
       "      <td>206647</td>\n",
       "      <td>[{\"id\": 470, \"name\": \"spy\"}, {\"id\": 818, \"name...</td>\n",
       "      <td>en</td>\n",
       "      <td>Spectre</td>\n",
       "      <td>A cryptic message from Bond’s past sends him o...</td>\n",
       "      <td>107.376788</td>\n",
       "      <td>[{\"name\": \"Columbia Pictures\", \"id\": 5}, {\"nam...</td>\n",
       "      <td>[{\"iso_3166_1\": \"GB\", \"name\": \"United Kingdom\"...</td>\n",
       "      <td>2015-10-26</td>\n",
       "      <td>880674609</td>\n",
       "      <td>148.0</td>\n",
       "      <td>[{\"iso_639_1\": \"fr\", \"name\": \"Fran\\u00e7ais\"},...</td>\n",
       "      <td>Released</td>\n",
       "      <td>A Plan No One Escapes</td>\n",
       "      <td>Spectre</td>\n",
       "      <td>6.3</td>\n",
       "      <td>4466</td>\n",
       "    </tr>\n",
       "    <tr>\n",
       "      <th>3</th>\n",
       "      <td>250000000</td>\n",
       "      <td>[{\"id\": 28, \"name\": \"Action\"}, {\"id\": 80, \"nam...</td>\n",
       "      <td>http://www.thedarkknightrises.com/</td>\n",
       "      <td>49026</td>\n",
       "      <td>[{\"id\": 849, \"name\": \"dc comics\"}, {\"id\": 853,...</td>\n",
       "      <td>en</td>\n",
       "      <td>The Dark Knight Rises</td>\n",
       "      <td>Following the death of District Attorney Harve...</td>\n",
       "      <td>112.312950</td>\n",
       "      <td>[{\"name\": \"Legendary Pictures\", \"id\": 923}, {\"...</td>\n",
       "      <td>[{\"iso_3166_1\": \"US\", \"name\": \"United States o...</td>\n",
       "      <td>2012-07-16</td>\n",
       "      <td>1084939099</td>\n",
       "      <td>165.0</td>\n",
       "      <td>[{\"iso_639_1\": \"en\", \"name\": \"English\"}]</td>\n",
       "      <td>Released</td>\n",
       "      <td>The Legend Ends</td>\n",
       "      <td>The Dark Knight Rises</td>\n",
       "      <td>7.6</td>\n",
       "      <td>9106</td>\n",
       "    </tr>\n",
       "    <tr>\n",
       "      <th>4</th>\n",
       "      <td>260000000</td>\n",
       "      <td>[{\"id\": 28, \"name\": \"Action\"}, {\"id\": 12, \"nam...</td>\n",
       "      <td>http://movies.disney.com/john-carter</td>\n",
       "      <td>49529</td>\n",
       "      <td>[{\"id\": 818, \"name\": \"based on novel\"}, {\"id\":...</td>\n",
       "      <td>en</td>\n",
       "      <td>John Carter</td>\n",
       "      <td>John Carter is a war-weary, former military ca...</td>\n",
       "      <td>43.926995</td>\n",
       "      <td>[{\"name\": \"Walt Disney Pictures\", \"id\": 2}]</td>\n",
       "      <td>[{\"iso_3166_1\": \"US\", \"name\": \"United States o...</td>\n",
       "      <td>2012-03-07</td>\n",
       "      <td>284139100</td>\n",
       "      <td>132.0</td>\n",
       "      <td>[{\"iso_639_1\": \"en\", \"name\": \"English\"}]</td>\n",
       "      <td>Released</td>\n",
       "      <td>Lost in our world, found in another.</td>\n",
       "      <td>John Carter</td>\n",
       "      <td>6.1</td>\n",
       "      <td>2124</td>\n",
       "    </tr>\n",
       "  </tbody>\n",
       "</table>\n",
       "</div>"
      ],
      "text/plain": [
       "      budget  ... vote_count\n",
       "0  237000000  ...      11800\n",
       "1  300000000  ...       4500\n",
       "2  245000000  ...       4466\n",
       "3  250000000  ...       9106\n",
       "4  260000000  ...       2124\n",
       "\n",
       "[5 rows x 20 columns]"
      ]
     },
     "execution_count": 3,
     "metadata": {
      "tags": []
     },
     "output_type": "execute_result"
    }
   ],
   "source": [
    "df.head()"
   ]
  },
  {
   "cell_type": "code",
   "execution_count": 4,
   "metadata": {
    "id": "XECe-LDD3Zvu"
   },
   "outputs": [],
   "source": [
    "column_list = ['title', 'tagline', 'overview', 'genres', 'popularity']\n",
    "df = df[column_list]\n",
    "df.tagline.fillna('', inplace=True)"
   ]
  },
  {
   "cell_type": "code",
   "execution_count": 5,
   "metadata": {
    "id": "FSRjHB1X3ZtD"
   },
   "outputs": [],
   "source": [
    "df['description'] = df['tagline'].map(str) + ' ' + df['overview'].map(str)"
   ]
  },
  {
   "cell_type": "code",
   "execution_count": 6,
   "metadata": {
    "colab": {
     "base_uri": "https://localhost:8080/"
    },
    "id": "IdckXJN93ZqI",
    "outputId": "398369e6-da9f-4e5e-865b-bf9a1a5d56de"
   },
   "outputs": [
    {
     "name": "stdout",
     "output_type": "stream",
     "text": [
      "<class 'pandas.core.frame.DataFrame'>\n",
      "Int64Index: 4800 entries, 0 to 4802\n",
      "Data columns (total 6 columns):\n",
      " #   Column       Non-Null Count  Dtype  \n",
      "---  ------       --------------  -----  \n",
      " 0   title        4800 non-null   object \n",
      " 1   tagline      4800 non-null   object \n",
      " 2   overview     4800 non-null   object \n",
      " 3   genres       4800 non-null   object \n",
      " 4   popularity   4800 non-null   float64\n",
      " 5   description  4800 non-null   object \n",
      "dtypes: float64(1), object(5)\n",
      "memory usage: 262.5+ KB\n"
     ]
    }
   ],
   "source": [
    "df.dropna(inplace=True)\n",
    "df.info()"
   ]
  },
  {
   "cell_type": "markdown",
   "metadata": {
    "id": "yoLZl7YO6l0L"
   },
   "source": [
    "# __Question 1:__ Simple Text Preprocessing\n",
    "\n",
    "First step is to prepare the text columns for analysis. In this section we will prepare textual columns before we extract features from them"
   ]
  },
  {
   "cell_type": "code",
   "execution_count": 14,
   "metadata": {
    "id": "i7w1o-wd3jJI"
   },
   "outputs": [],
   "source": [
    "from tqdm import tqdm\n",
    "import re\n",
    "\n",
    "def normalize_corpus(docs):\n",
    "    norm_docs = []\n",
    "    for doc in tqdm(docs):\n",
    "        # use regex to remove special characters\\whitespaces\n",
    "        doc = re.sub(r'[^a-zA-Z0-9\\s]', '', doc, flags=re.I|re.A)\n",
    "\n",
    "        # lower case  \n",
    "        doc = doc.lower()\n",
    "\n",
    "        # store in new list\n",
    "        norm_docs.append(doc)\n",
    "\n",
    "    return norm_docs"
   ]
  },
  {
   "cell_type": "markdown",
   "metadata": {
    "id": "LhGiNPNTIPL2"
   },
   "source": [
    "### Preprocess the __description__ column"
   ]
  },
  {
   "cell_type": "code",
   "execution_count": 15,
   "metadata": {
    "colab": {
     "base_uri": "https://localhost:8080/"
    },
    "id": "GKGPJSy93jGe",
    "outputId": "eb9c26d1-a253-4bc3-ebdd-4faae6ed11ed"
   },
   "outputs": [
    {
     "name": "stderr",
     "output_type": "stream",
     "text": [
      "100%|██████████| 4800/4800 [00:00<00:00, 73428.35it/s]\n"
     ]
    },
    {
     "data": {
      "text/plain": [
       "4800"
      ]
     },
     "execution_count": 15,
     "metadata": {
      "tags": []
     },
     "output_type": "execute_result"
    }
   ],
   "source": [
    "norm_corpus = normalize_corpus(list(df['description']))\n",
    "len(norm_corpus)"
   ]
  },
  {
   "cell_type": "code",
   "execution_count": 16,
   "metadata": {
    "colab": {
     "base_uri": "https://localhost:8080/"
    },
    "id": "C6r18EB33tfY",
    "outputId": "8b105a4b-790e-4a47-a529-85fa10230d00"
   },
   "outputs": [
    {
     "data": {
      "text/plain": [
       "(array(['Avatar', \"Pirates of the Caribbean: At World's End\", 'Spectre',\n",
       "        ..., 'Signed, Sealed, Delivered', 'Shanghai Calling',\n",
       "        'My Date with Drew'], dtype=object), (4800,))"
      ]
     },
     "execution_count": 16,
     "metadata": {
      "tags": []
     },
     "output_type": "execute_result"
    }
   ],
   "source": [
    "movies_list = df['title'].values\n",
    "movies_list, movies_list.shape"
   ]
  },
  {
   "cell_type": "markdown",
   "metadata": {
    "id": "POq_higY63L6"
   },
   "source": [
    "## Movie Recommendation with Embeddings\n",
    "Let us use sentence level embeddings and then compute movie similarity. Here we will use the **USE model** and use the pretrained weights.\n"
   ]
  },
  {
   "cell_type": "markdown",
   "metadata": {
    "id": "dgKTBi6O66Ih"
   },
   "source": [
    "# __Question 2:__  Use ``TensorFlow Hub`` to get embeddings using Universal Sentence Encoder for the normalized corpus"
   ]
  },
  {
   "cell_type": "code",
   "execution_count": 17,
   "metadata": {
    "id": "5Kxh_nxC5Yvm"
   },
   "outputs": [],
   "source": [
    "import tensorflow_hub as hub"
   ]
  },
  {
   "cell_type": "markdown",
   "metadata": {
    "id": "zJHPCqrRJS0D"
   },
   "source": [
    "### The following may take some time to load"
   ]
  },
  {
   "cell_type": "code",
   "execution_count": 18,
   "metadata": {
    "id": "jfrIEuTr3tZh"
   },
   "outputs": [],
   "source": [
    "module_url = \"https://tfhub.dev/google/universal-sentence-encoder/4\"\n",
    "embed = hub.load(module_url)"
   ]
  },
  {
   "cell_type": "code",
   "execution_count": 19,
   "metadata": {
    "colab": {
     "base_uri": "https://localhost:8080/"
    },
    "id": "bgSMVPK73tWy",
    "outputId": "372dfa9b-f39d-4f79-e520-87db0c1e8c6c"
   },
   "outputs": [
    {
     "data": {
      "text/plain": [
       "(<tf.Tensor: shape=(4800, 512), dtype=float32, numpy=\n",
       " array([[-0.05723435, -0.04214483, -0.03309576, ..., -0.04181182,\n",
       "          0.07057297, -0.06043932],\n",
       "        [-0.02595232, -0.05021415, -0.04850538, ...,  0.01649479,\n",
       "          0.09187799,  0.01649959],\n",
       "        [ 0.03469853, -0.00659053, -0.04887958, ..., -0.01806329,\n",
       "          0.0558591 ,  0.04785299],\n",
       "        ...,\n",
       "        [-0.06091747, -0.07319183, -0.05980853, ..., -0.0440587 ,\n",
       "          0.05961612,  0.03807229],\n",
       "        [ 0.02981014, -0.04371533,  0.01389753, ..., -0.06064739,\n",
       "          0.0625461 , -0.07192577],\n",
       "        [ 0.02773671,  0.02169432,  0.01284114, ..., -0.03256613,\n",
       "          0.07879637,  0.00417032]], dtype=float32)>, TensorShape([4800, 512]))"
      ]
     },
     "execution_count": 19,
     "metadata": {
      "tags": []
     },
     "output_type": "execute_result"
    }
   ],
   "source": [
    "movie_embeddings = embed(norm_corpus)\n",
    "\n",
    "movie_embeddings, movie_embeddings.shape"
   ]
  },
  {
   "cell_type": "markdown",
   "metadata": {
    "id": "_ALNSeF37NDp"
   },
   "source": [
    "# __Question 3:__ Get Movie Similarity Scores\n",
    "\n",
    "We will leverage cosine similarity again to generate similarity scores based on universal embeddings for each movie description"
   ]
  },
  {
   "cell_type": "code",
   "execution_count": 20,
   "metadata": {
    "id": "qUTbq-oJ4cEN"
   },
   "outputs": [],
   "source": [
    "from sklearn.metrics.pairwise import cosine_similarity"
   ]
  },
  {
   "cell_type": "markdown",
   "metadata": {
    "id": "B-bD1aPC7N6_"
   },
   "source": [
    "### Complete the following snippet to prepare a dataframe of pair-wise similarity of different movies"
   ]
  },
  {
   "cell_type": "code",
   "execution_count": 21,
   "metadata": {
    "colab": {
     "base_uri": "https://localhost:8080/",
     "height": 247
    },
    "id": "aFhGQQcR4cBB",
    "outputId": "867b9fb5-6862-453e-e30c-2763feceaae3"
   },
   "outputs": [
    {
     "data": {
      "text/html": [
       "<div>\n",
       "<style scoped>\n",
       "    .dataframe tbody tr th:only-of-type {\n",
       "        vertical-align: middle;\n",
       "    }\n",
       "\n",
       "    .dataframe tbody tr th {\n",
       "        vertical-align: top;\n",
       "    }\n",
       "\n",
       "    .dataframe thead th {\n",
       "        text-align: right;\n",
       "    }\n",
       "</style>\n",
       "<table border=\"1\" class=\"dataframe\">\n",
       "  <thead>\n",
       "    <tr style=\"text-align: right;\">\n",
       "      <th></th>\n",
       "      <th>0</th>\n",
       "      <th>1</th>\n",
       "      <th>2</th>\n",
       "      <th>3</th>\n",
       "      <th>4</th>\n",
       "      <th>5</th>\n",
       "      <th>6</th>\n",
       "      <th>7</th>\n",
       "      <th>8</th>\n",
       "      <th>9</th>\n",
       "      <th>10</th>\n",
       "      <th>11</th>\n",
       "      <th>12</th>\n",
       "      <th>13</th>\n",
       "      <th>14</th>\n",
       "      <th>15</th>\n",
       "      <th>16</th>\n",
       "      <th>17</th>\n",
       "      <th>18</th>\n",
       "      <th>19</th>\n",
       "      <th>20</th>\n",
       "      <th>21</th>\n",
       "      <th>22</th>\n",
       "      <th>23</th>\n",
       "      <th>24</th>\n",
       "      <th>25</th>\n",
       "      <th>26</th>\n",
       "      <th>27</th>\n",
       "      <th>28</th>\n",
       "      <th>29</th>\n",
       "      <th>30</th>\n",
       "      <th>31</th>\n",
       "      <th>32</th>\n",
       "      <th>33</th>\n",
       "      <th>34</th>\n",
       "      <th>35</th>\n",
       "      <th>36</th>\n",
       "      <th>37</th>\n",
       "      <th>38</th>\n",
       "      <th>39</th>\n",
       "      <th>...</th>\n",
       "      <th>4760</th>\n",
       "      <th>4761</th>\n",
       "      <th>4762</th>\n",
       "      <th>4763</th>\n",
       "      <th>4764</th>\n",
       "      <th>4765</th>\n",
       "      <th>4766</th>\n",
       "      <th>4767</th>\n",
       "      <th>4768</th>\n",
       "      <th>4769</th>\n",
       "      <th>4770</th>\n",
       "      <th>4771</th>\n",
       "      <th>4772</th>\n",
       "      <th>4773</th>\n",
       "      <th>4774</th>\n",
       "      <th>4775</th>\n",
       "      <th>4776</th>\n",
       "      <th>4777</th>\n",
       "      <th>4778</th>\n",
       "      <th>4779</th>\n",
       "      <th>4780</th>\n",
       "      <th>4781</th>\n",
       "      <th>4782</th>\n",
       "      <th>4783</th>\n",
       "      <th>4784</th>\n",
       "      <th>4785</th>\n",
       "      <th>4786</th>\n",
       "      <th>4787</th>\n",
       "      <th>4788</th>\n",
       "      <th>4789</th>\n",
       "      <th>4790</th>\n",
       "      <th>4791</th>\n",
       "      <th>4792</th>\n",
       "      <th>4793</th>\n",
       "      <th>4794</th>\n",
       "      <th>4795</th>\n",
       "      <th>4796</th>\n",
       "      <th>4797</th>\n",
       "      <th>4798</th>\n",
       "      <th>4799</th>\n",
       "    </tr>\n",
       "  </thead>\n",
       "  <tbody>\n",
       "    <tr>\n",
       "      <th>0</th>\n",
       "      <td>1.000000</td>\n",
       "      <td>0.370310</td>\n",
       "      <td>0.270230</td>\n",
       "      <td>0.303317</td>\n",
       "      <td>0.490067</td>\n",
       "      <td>0.300835</td>\n",
       "      <td>0.216841</td>\n",
       "      <td>0.339045</td>\n",
       "      <td>0.125727</td>\n",
       "      <td>0.359996</td>\n",
       "      <td>0.299888</td>\n",
       "      <td>0.279680</td>\n",
       "      <td>0.268741</td>\n",
       "      <td>0.221823</td>\n",
       "      <td>0.369573</td>\n",
       "      <td>0.217014</td>\n",
       "      <td>0.315118</td>\n",
       "      <td>0.365516</td>\n",
       "      <td>0.296259</td>\n",
       "      <td>0.078290</td>\n",
       "      <td>0.224455</td>\n",
       "      <td>0.242932</td>\n",
       "      <td>0.031772</td>\n",
       "      <td>0.265121</td>\n",
       "      <td>0.319318</td>\n",
       "      <td>0.297341</td>\n",
       "      <td>0.309640</td>\n",
       "      <td>0.535508</td>\n",
       "      <td>0.200572</td>\n",
       "      <td>0.290005</td>\n",
       "      <td>0.171498</td>\n",
       "      <td>0.228860</td>\n",
       "      <td>0.316474</td>\n",
       "      <td>0.219332</td>\n",
       "      <td>0.026685</td>\n",
       "      <td>0.258095</td>\n",
       "      <td>0.409237</td>\n",
       "      <td>0.126592</td>\n",
       "      <td>0.090387</td>\n",
       "      <td>0.221365</td>\n",
       "      <td>...</td>\n",
       "      <td>0.159003</td>\n",
       "      <td>0.210327</td>\n",
       "      <td>0.240855</td>\n",
       "      <td>0.109860</td>\n",
       "      <td>0.147659</td>\n",
       "      <td>0.108712</td>\n",
       "      <td>0.267276</td>\n",
       "      <td>0.153641</td>\n",
       "      <td>0.177927</td>\n",
       "      <td>0.177990</td>\n",
       "      <td>0.149592</td>\n",
       "      <td>0.147655</td>\n",
       "      <td>0.140445</td>\n",
       "      <td>0.283661</td>\n",
       "      <td>0.254252</td>\n",
       "      <td>0.191211</td>\n",
       "      <td>0.227098</td>\n",
       "      <td>0.217724</td>\n",
       "      <td>0.138087</td>\n",
       "      <td>0.155133</td>\n",
       "      <td>0.198775</td>\n",
       "      <td>0.142843</td>\n",
       "      <td>0.119446</td>\n",
       "      <td>0.239787</td>\n",
       "      <td>0.217328</td>\n",
       "      <td>0.243447</td>\n",
       "      <td>0.113469</td>\n",
       "      <td>0.168782</td>\n",
       "      <td>0.176970</td>\n",
       "      <td>0.168851</td>\n",
       "      <td>0.225016</td>\n",
       "      <td>0.158125</td>\n",
       "      <td>0.211958</td>\n",
       "      <td>0.238056</td>\n",
       "      <td>0.334394</td>\n",
       "      <td>0.246990</td>\n",
       "      <td>0.159282</td>\n",
       "      <td>0.337353</td>\n",
       "      <td>0.296578</td>\n",
       "      <td>0.199609</td>\n",
       "    </tr>\n",
       "    <tr>\n",
       "      <th>1</th>\n",
       "      <td>0.370310</td>\n",
       "      <td>1.000000</td>\n",
       "      <td>0.273559</td>\n",
       "      <td>0.269835</td>\n",
       "      <td>0.467660</td>\n",
       "      <td>0.254533</td>\n",
       "      <td>0.205088</td>\n",
       "      <td>0.423249</td>\n",
       "      <td>0.336953</td>\n",
       "      <td>0.277845</td>\n",
       "      <td>0.385039</td>\n",
       "      <td>0.298162</td>\n",
       "      <td>0.514984</td>\n",
       "      <td>0.184884</td>\n",
       "      <td>0.340919</td>\n",
       "      <td>0.338991</td>\n",
       "      <td>0.276438</td>\n",
       "      <td>0.453332</td>\n",
       "      <td>0.456182</td>\n",
       "      <td>0.264194</td>\n",
       "      <td>0.264794</td>\n",
       "      <td>0.411272</td>\n",
       "      <td>0.338335</td>\n",
       "      <td>0.357643</td>\n",
       "      <td>0.338843</td>\n",
       "      <td>0.406974</td>\n",
       "      <td>0.229609</td>\n",
       "      <td>0.437570</td>\n",
       "      <td>0.259389</td>\n",
       "      <td>0.305183</td>\n",
       "      <td>0.224193</td>\n",
       "      <td>0.276285</td>\n",
       "      <td>0.296924</td>\n",
       "      <td>0.159650</td>\n",
       "      <td>0.175197</td>\n",
       "      <td>0.311526</td>\n",
       "      <td>0.352198</td>\n",
       "      <td>0.318858</td>\n",
       "      <td>0.271062</td>\n",
       "      <td>0.321910</td>\n",
       "      <td>...</td>\n",
       "      <td>0.188163</td>\n",
       "      <td>0.120696</td>\n",
       "      <td>0.219630</td>\n",
       "      <td>0.278820</td>\n",
       "      <td>0.159315</td>\n",
       "      <td>0.078154</td>\n",
       "      <td>0.232236</td>\n",
       "      <td>0.212466</td>\n",
       "      <td>0.270001</td>\n",
       "      <td>0.185166</td>\n",
       "      <td>0.126465</td>\n",
       "      <td>0.032557</td>\n",
       "      <td>0.256310</td>\n",
       "      <td>0.109888</td>\n",
       "      <td>0.167769</td>\n",
       "      <td>0.192530</td>\n",
       "      <td>0.195525</td>\n",
       "      <td>0.121543</td>\n",
       "      <td>0.090885</td>\n",
       "      <td>0.149044</td>\n",
       "      <td>0.155588</td>\n",
       "      <td>0.194115</td>\n",
       "      <td>0.092071</td>\n",
       "      <td>0.214344</td>\n",
       "      <td>0.261706</td>\n",
       "      <td>0.161937</td>\n",
       "      <td>0.116368</td>\n",
       "      <td>0.072176</td>\n",
       "      <td>0.193571</td>\n",
       "      <td>0.078899</td>\n",
       "      <td>0.130996</td>\n",
       "      <td>0.124490</td>\n",
       "      <td>0.145686</td>\n",
       "      <td>0.127262</td>\n",
       "      <td>0.171083</td>\n",
       "      <td>0.142741</td>\n",
       "      <td>0.136436</td>\n",
       "      <td>0.206349</td>\n",
       "      <td>0.278405</td>\n",
       "      <td>0.286379</td>\n",
       "    </tr>\n",
       "    <tr>\n",
       "      <th>2</th>\n",
       "      <td>0.270230</td>\n",
       "      <td>0.273559</td>\n",
       "      <td>1.000000</td>\n",
       "      <td>0.361671</td>\n",
       "      <td>0.362316</td>\n",
       "      <td>0.313790</td>\n",
       "      <td>0.410651</td>\n",
       "      <td>0.363400</td>\n",
       "      <td>0.307635</td>\n",
       "      <td>0.337055</td>\n",
       "      <td>0.413040</td>\n",
       "      <td>0.564182</td>\n",
       "      <td>0.328071</td>\n",
       "      <td>0.313736</td>\n",
       "      <td>0.307849</td>\n",
       "      <td>0.306189</td>\n",
       "      <td>0.410696</td>\n",
       "      <td>0.350931</td>\n",
       "      <td>0.405821</td>\n",
       "      <td>0.167056</td>\n",
       "      <td>0.366334</td>\n",
       "      <td>0.327678</td>\n",
       "      <td>0.157384</td>\n",
       "      <td>0.310658</td>\n",
       "      <td>0.295800</td>\n",
       "      <td>0.220914</td>\n",
       "      <td>0.253636</td>\n",
       "      <td>0.365689</td>\n",
       "      <td>0.114588</td>\n",
       "      <td>0.584885</td>\n",
       "      <td>0.284819</td>\n",
       "      <td>0.328625</td>\n",
       "      <td>0.327941</td>\n",
       "      <td>0.170136</td>\n",
       "      <td>0.201661</td>\n",
       "      <td>0.346827</td>\n",
       "      <td>0.318840</td>\n",
       "      <td>0.230602</td>\n",
       "      <td>0.311371</td>\n",
       "      <td>0.378564</td>\n",
       "      <td>...</td>\n",
       "      <td>0.267528</td>\n",
       "      <td>0.297702</td>\n",
       "      <td>0.296950</td>\n",
       "      <td>0.229227</td>\n",
       "      <td>0.352290</td>\n",
       "      <td>0.226862</td>\n",
       "      <td>0.347788</td>\n",
       "      <td>0.146070</td>\n",
       "      <td>0.211539</td>\n",
       "      <td>0.411881</td>\n",
       "      <td>0.108722</td>\n",
       "      <td>0.173397</td>\n",
       "      <td>0.163943</td>\n",
       "      <td>0.266930</td>\n",
       "      <td>0.255895</td>\n",
       "      <td>0.369495</td>\n",
       "      <td>0.212622</td>\n",
       "      <td>0.285534</td>\n",
       "      <td>0.093386</td>\n",
       "      <td>0.319064</td>\n",
       "      <td>0.358788</td>\n",
       "      <td>0.261349</td>\n",
       "      <td>0.217676</td>\n",
       "      <td>0.320932</td>\n",
       "      <td>0.308553</td>\n",
       "      <td>0.331278</td>\n",
       "      <td>0.128674</td>\n",
       "      <td>0.095174</td>\n",
       "      <td>0.195017</td>\n",
       "      <td>0.308913</td>\n",
       "      <td>0.354539</td>\n",
       "      <td>0.013209</td>\n",
       "      <td>0.231663</td>\n",
       "      <td>0.239572</td>\n",
       "      <td>0.247505</td>\n",
       "      <td>0.228359</td>\n",
       "      <td>0.136430</td>\n",
       "      <td>0.391457</td>\n",
       "      <td>0.333736</td>\n",
       "      <td>0.187940</td>\n",
       "    </tr>\n",
       "    <tr>\n",
       "      <th>3</th>\n",
       "      <td>0.303317</td>\n",
       "      <td>0.269835</td>\n",
       "      <td>0.361671</td>\n",
       "      <td>1.000000</td>\n",
       "      <td>0.369392</td>\n",
       "      <td>0.420292</td>\n",
       "      <td>0.312396</td>\n",
       "      <td>0.439125</td>\n",
       "      <td>0.309762</td>\n",
       "      <td>0.604672</td>\n",
       "      <td>0.458128</td>\n",
       "      <td>0.426594</td>\n",
       "      <td>0.330067</td>\n",
       "      <td>0.477312</td>\n",
       "      <td>0.229705</td>\n",
       "      <td>0.324304</td>\n",
       "      <td>0.389298</td>\n",
       "      <td>0.332530</td>\n",
       "      <td>0.395817</td>\n",
       "      <td>0.230356</td>\n",
       "      <td>0.353617</td>\n",
       "      <td>0.415113</td>\n",
       "      <td>0.197593</td>\n",
       "      <td>0.223433</td>\n",
       "      <td>0.378224</td>\n",
       "      <td>0.226113</td>\n",
       "      <td>0.391815</td>\n",
       "      <td>0.305450</td>\n",
       "      <td>0.217988</td>\n",
       "      <td>0.396326</td>\n",
       "      <td>0.437100</td>\n",
       "      <td>0.325928</td>\n",
       "      <td>0.311563</td>\n",
       "      <td>0.220026</td>\n",
       "      <td>0.229926</td>\n",
       "      <td>0.253101</td>\n",
       "      <td>0.298540</td>\n",
       "      <td>0.332662</td>\n",
       "      <td>0.299922</td>\n",
       "      <td>0.357311</td>\n",
       "      <td>...</td>\n",
       "      <td>0.332407</td>\n",
       "      <td>0.365379</td>\n",
       "      <td>0.415144</td>\n",
       "      <td>0.185083</td>\n",
       "      <td>0.345054</td>\n",
       "      <td>0.170273</td>\n",
       "      <td>0.428435</td>\n",
       "      <td>0.237021</td>\n",
       "      <td>0.192488</td>\n",
       "      <td>0.334642</td>\n",
       "      <td>0.167639</td>\n",
       "      <td>0.109335</td>\n",
       "      <td>0.192922</td>\n",
       "      <td>0.245478</td>\n",
       "      <td>0.351271</td>\n",
       "      <td>0.277548</td>\n",
       "      <td>0.299203</td>\n",
       "      <td>0.262908</td>\n",
       "      <td>0.150187</td>\n",
       "      <td>0.286641</td>\n",
       "      <td>0.252908</td>\n",
       "      <td>0.185427</td>\n",
       "      <td>0.196216</td>\n",
       "      <td>0.221006</td>\n",
       "      <td>0.447648</td>\n",
       "      <td>0.351993</td>\n",
       "      <td>0.093106</td>\n",
       "      <td>-0.023532</td>\n",
       "      <td>0.214032</td>\n",
       "      <td>0.408449</td>\n",
       "      <td>0.323629</td>\n",
       "      <td>0.151408</td>\n",
       "      <td>0.314587</td>\n",
       "      <td>0.140397</td>\n",
       "      <td>0.327477</td>\n",
       "      <td>0.349046</td>\n",
       "      <td>0.080062</td>\n",
       "      <td>0.382139</td>\n",
       "      <td>0.365542</td>\n",
       "      <td>0.243153</td>\n",
       "    </tr>\n",
       "    <tr>\n",
       "      <th>4</th>\n",
       "      <td>0.490067</td>\n",
       "      <td>0.467660</td>\n",
       "      <td>0.362316</td>\n",
       "      <td>0.369392</td>\n",
       "      <td>1.000000</td>\n",
       "      <td>0.353694</td>\n",
       "      <td>0.383349</td>\n",
       "      <td>0.540597</td>\n",
       "      <td>0.318960</td>\n",
       "      <td>0.417028</td>\n",
       "      <td>0.468761</td>\n",
       "      <td>0.316004</td>\n",
       "      <td>0.354037</td>\n",
       "      <td>0.291076</td>\n",
       "      <td>0.473860</td>\n",
       "      <td>0.386948</td>\n",
       "      <td>0.432430</td>\n",
       "      <td>0.408520</td>\n",
       "      <td>0.418897</td>\n",
       "      <td>0.336631</td>\n",
       "      <td>0.385106</td>\n",
       "      <td>0.383677</td>\n",
       "      <td>0.283964</td>\n",
       "      <td>0.324472</td>\n",
       "      <td>0.455083</td>\n",
       "      <td>0.371649</td>\n",
       "      <td>0.409955</td>\n",
       "      <td>0.533266</td>\n",
       "      <td>0.305571</td>\n",
       "      <td>0.399661</td>\n",
       "      <td>0.299656</td>\n",
       "      <td>0.428817</td>\n",
       "      <td>0.405242</td>\n",
       "      <td>0.283335</td>\n",
       "      <td>0.187262</td>\n",
       "      <td>0.329307</td>\n",
       "      <td>0.495405</td>\n",
       "      <td>0.324113</td>\n",
       "      <td>0.219140</td>\n",
       "      <td>0.453930</td>\n",
       "      <td>...</td>\n",
       "      <td>0.306446</td>\n",
       "      <td>0.315180</td>\n",
       "      <td>0.376574</td>\n",
       "      <td>0.157780</td>\n",
       "      <td>0.271571</td>\n",
       "      <td>0.164579</td>\n",
       "      <td>0.322216</td>\n",
       "      <td>0.268848</td>\n",
       "      <td>0.198748</td>\n",
       "      <td>0.303838</td>\n",
       "      <td>0.074708</td>\n",
       "      <td>0.172849</td>\n",
       "      <td>0.141996</td>\n",
       "      <td>0.259260</td>\n",
       "      <td>0.399254</td>\n",
       "      <td>0.335308</td>\n",
       "      <td>0.281231</td>\n",
       "      <td>0.252165</td>\n",
       "      <td>0.108472</td>\n",
       "      <td>0.307709</td>\n",
       "      <td>0.299894</td>\n",
       "      <td>0.341389</td>\n",
       "      <td>0.168690</td>\n",
       "      <td>0.323875</td>\n",
       "      <td>0.294609</td>\n",
       "      <td>0.277634</td>\n",
       "      <td>0.137704</td>\n",
       "      <td>0.212714</td>\n",
       "      <td>0.259115</td>\n",
       "      <td>0.242030</td>\n",
       "      <td>0.254525</td>\n",
       "      <td>0.081997</td>\n",
       "      <td>0.184798</td>\n",
       "      <td>0.220947</td>\n",
       "      <td>0.333953</td>\n",
       "      <td>0.337351</td>\n",
       "      <td>0.194649</td>\n",
       "      <td>0.450151</td>\n",
       "      <td>0.394229</td>\n",
       "      <td>0.263465</td>\n",
       "    </tr>\n",
       "  </tbody>\n",
       "</table>\n",
       "<p>5 rows × 4800 columns</p>\n",
       "</div>"
      ],
      "text/plain": [
       "       0         1         2     ...      4797      4798      4799\n",
       "0  1.000000  0.370310  0.270230  ...  0.337353  0.296578  0.199609\n",
       "1  0.370310  1.000000  0.273559  ...  0.206349  0.278405  0.286379\n",
       "2  0.270230  0.273559  1.000000  ...  0.391457  0.333736  0.187940\n",
       "3  0.303317  0.269835  0.361671  ...  0.382139  0.365542  0.243153\n",
       "4  0.490067  0.467660  0.362316  ...  0.450151  0.394229  0.263465\n",
       "\n",
       "[5 rows x 4800 columns]"
      ]
     },
     "execution_count": 21,
     "metadata": {
      "tags": []
     },
     "output_type": "execute_result"
    }
   ],
   "source": [
    "doc_sim = cosine_similarity(movie_embeddings)\n",
    "doc_sim_df = pd.DataFrame(doc_sim)\n",
    "doc_sim_df.head()"
   ]
  },
  {
   "cell_type": "markdown",
   "metadata": {
    "id": "wKT305SF6vAk"
   },
   "source": [
    "# __Question 4:__  Movie Recommender\n",
    "\n",
    "Build a recommendation utility function to find top 5 movies similar to what you did in Week 1"
   ]
  },
  {
   "cell_type": "code",
   "execution_count": 25,
   "metadata": {
    "id": "FBvAD9Er3tcR"
   },
   "outputs": [],
   "source": [
    "import numpy as np\n",
    "\n",
    "def movie_recommender(movie_title, movies=movies_list, doc_sims=None):\n",
    "    # find movie id\n",
    "    movie_idx = np.where(movies == movie_title)[0][0]\n",
    "\n",
    "    # get movie similarities. \n",
    "    #Hint: movie index helps find the exact row\n",
    "    movie_similarities = doc_sims.iloc[movie_idx].values\n",
    "    \n",
    "    # get top 5 similar movie IDs\n",
    "    # Hint: use numpy utility to do a sort\n",
    "    similar_movie_idxs = np.argsort(-movie_similarities)[1:6]\n",
    "    \n",
    "    # get top 5 movies\n",
    "    similar_movies = movies[similar_movie_idxs]\n",
    "    \n",
    "    # return the top 5 movies\n",
    "    return similar_movies"
   ]
  },
  {
   "cell_type": "markdown",
   "metadata": {
    "id": "ErgLqhdA7alo"
   },
   "source": [
    "# __Question 5:__ : Complete the following snippet to get movie recommendations"
   ]
  },
  {
   "cell_type": "code",
   "execution_count": 27,
   "metadata": {
    "id": "txkujGBY4b-5"
   },
   "outputs": [],
   "source": [
    "popular_movies = ['Interstellar', 'Deadpool', 'Jurassic World', 'Pirates of the Caribbean: The Curse of the Black Pearl',\n",
    "              'Dawn of the Planet of the Apes', 'The Hunger Games: Mockingjay - Part 1', 'Terminator Genisys', \n",
    "              'Captain America: Civil War', 'The Dark Knight', 'The Martian', 'Batman v Superman: Dawn of Justice', \n",
    "              'Pulp Fiction', 'The Godfather', 'The Shawshank Redemption', 'The Lord of the Rings: The Fellowship of the Ring',  \n",
    "              'Harry Potter and the Chamber of Secrets', 'Star Wars', 'The Hobbit: The Battle of the Five Armies',\n",
    "              'Iron Man']"
   ]
  },
  {
   "cell_type": "code",
   "execution_count": 28,
   "metadata": {
    "colab": {
     "base_uri": "https://localhost:8080/"
    },
    "id": "cb7Q7i5V4b7s",
    "outputId": "e5c6eee5-4cb9-4534-c706-3fecb90977c5"
   },
   "outputs": [
    {
     "name": "stdout",
     "output_type": "stream",
     "text": [
      "Movie: Interstellar\n",
      "Top 5 recommended Movies: ['Event Horizon' 'Gattaca' 'Space Battleship Yamato' 'Lost in Space'\n",
      " 'Star Trek IV: The Voyage Home']\n",
      "\n",
      "Movie: Deadpool\n",
      "Top 5 recommended Movies: ['American Hero' 'Hancock'\n",
      " 'Teenage Mutant Ninja Turtles: Out of the Shadows'\n",
      " 'X-Men Origins: Wolverine' 'The Expendables 3']\n",
      "\n",
      "Movie: Jurassic World\n",
      "Top 5 recommended Movies: ['Jurassic Park' 'Walking With Dinosaurs'\n",
      " 'Sea Rex 3D: Journey to a Prehistoric World'\n",
      " 'The Lost World: Jurassic Park' 'The Land Before Time']\n",
      "\n",
      "Movie: Pirates of the Caribbean: The Curse of the Black Pearl\n",
      "Top 5 recommended Movies: ['The Pirates! In an Adventure with Scientists!'\n",
      " 'Pirates of the Caribbean: On Stranger Tides' 'Waterworld'\n",
      " \"Pirates of the Caribbean: Dead Man's Chest\"\n",
      " \"VeggieTales: The Pirates Who Don't Do Anything\"]\n",
      "\n",
      "Movie: Dawn of the Planet of the Apes\n",
      "Top 5 recommended Movies: ['Battle for the Planet of the Apes' 'The 5th Wave'\n",
      " 'The Day the Earth Stood Still' 'Beneath the Planet of the Apes'\n",
      " 'Soldier']\n",
      "\n",
      "Movie: The Hunger Games: Mockingjay - Part 1\n",
      "Top 5 recommended Movies: ['The Hunger Games: Catching Fire' 'The Hunger Games: Mockingjay - Part 2'\n",
      " 'The Hunger Games' 'Reign of Fire' 'The Twilight Saga: Eclipse']\n",
      "\n",
      "Movie: Terminator Genisys\n",
      "Top 5 recommended Movies: ['Terminator 3: Rise of the Machines' 'The Terminator'\n",
      " 'Terminator Salvation' 'The Matrix Revolutions'\n",
      " 'Terminator 2: Judgment Day']\n",
      "\n",
      "Movie: Captain America: Civil War\n",
      "Top 5 recommended Movies: ['Avengers: Age of Ultron' 'Captain America: The Winter Soldier'\n",
      " 'Iron Man 2' 'Thor' 'Superman IV: The Quest for Peace']\n",
      "\n",
      "Movie: The Dark Knight\n",
      "Top 5 recommended Movies: ['The Dark Knight Rises' 'Batman' 'Batman Forever' 'Batman Begins'\n",
      " 'Batman Returns']\n",
      "\n",
      "Movie: The Martian\n",
      "Top 5 recommended Movies: ['The Last Days on Mars' 'My Favorite Martian' 'Red Planet'\n",
      " 'Lost in Space' 'Planet 51']\n",
      "\n",
      "Movie: Batman v Superman: Dawn of Justice\n",
      "Top 5 recommended Movies: ['Batman: The Dark Knight Returns, Part 2' 'Defendor' 'Batman Begins'\n",
      " 'Broken City' 'The Dark Knight Rises']\n",
      "\n",
      "Movie: Pulp Fiction\n",
      "Top 5 recommended Movies: ['The Matador' 'Harley Davidson and the Marlboro Man' 'Locker 13' '11:14'\n",
      " 'Murder by Numbers']\n",
      "\n",
      "Movie: The Godfather\n",
      "Top 5 recommended Movies: ['The Godfather: Part II' 'The Last Godfather' 'The Godfather: Part III'\n",
      " 'The Sting' 'GoodFellas']\n",
      "\n",
      "Movie: The Shawshank Redemption\n",
      "Top 5 recommended Movies: ['Prison' 'Lucky Break' 'Mean Machine' 'Civil Brand' 'Escape Plan']\n",
      "\n",
      "Movie: The Lord of the Rings: The Fellowship of the Ring\n",
      "Top 5 recommended Movies: ['The Lord of the Rings: The Two Towers'\n",
      " 'The Lord of the Rings: The Return of the King'\n",
      " 'The Hobbit: The Desolation of Smaug' 'The Hobbit: An Unexpected Journey'\n",
      " 'The Hobbit: The Battle of the Five Armies']\n",
      "\n",
      "Movie: Harry Potter and the Chamber of Secrets\n",
      "Top 5 recommended Movies: ['Harry Potter and the Prisoner of Azkaban'\n",
      " 'Harry Potter and the Goblet of Fire'\n",
      " 'Harry Potter and the Order of the Phoenix'\n",
      " \"Harry Potter and the Philosopher's Stone\"\n",
      " 'Harry Potter and the Half-Blood Prince']\n",
      "\n",
      "Movie: Star Wars\n",
      "Top 5 recommended Movies: ['The Empire Strikes Back' 'Return of the Jedi'\n",
      " 'Star Wars: Episode III - Revenge of the Sith'\n",
      " 'Star Wars: Clone Wars: Volume 1'\n",
      " 'Star Wars: Episode I - The Phantom Menace']\n",
      "\n",
      "Movie: The Hobbit: The Battle of the Five Armies\n",
      "Top 5 recommended Movies: ['The Hobbit: The Desolation of Smaug'\n",
      " 'The Lord of the Rings: The Two Towers'\n",
      " 'The Hobbit: An Unexpected Journey'\n",
      " 'The Lord of the Rings: The Return of the King'\n",
      " 'The Lord of the Rings: The Fellowship of the Ring']\n",
      "\n",
      "Movie: Iron Man\n",
      "Top 5 recommended Movies: ['Iron Man 2' 'Iron Man 3' 'The Lego Movie' 'In the Name of the King III'\n",
      " 'Captain America: The First Avenger']\n",
      "\n"
     ]
    }
   ],
   "source": [
    "for movie in popular_movies:\n",
    "    print('Movie:', movie)\n",
    "    print('Top 5 recommended Movies:', movie_recommender(movie_title=movie, movies=movies_list, doc_sims=doc_sim_df))\n",
    "    print()"
   ]
  }
 ],
 "metadata": {
  "accelerator": "GPU",
  "colab": {
   "collapsed_sections": [],
   "name": "Exercise 2 - Movie Recommender System with Deep Transfer Learning - Solutions.ipynb",
   "provenance": []
  },
  "kernelspec": {
   "display_name": "Python 3",
   "language": "python",
   "name": "python3"
  },
  "language_info": {
   "codemirror_mode": {
    "name": "ipython",
    "version": 3
   },
   "file_extension": ".py",
   "mimetype": "text/x-python",
   "name": "python",
   "nbconvert_exporter": "python",
   "pygments_lexer": "ipython3",
   "version": "3.8.5"
  }
 },
 "nbformat": 4,
 "nbformat_minor": 1
}
