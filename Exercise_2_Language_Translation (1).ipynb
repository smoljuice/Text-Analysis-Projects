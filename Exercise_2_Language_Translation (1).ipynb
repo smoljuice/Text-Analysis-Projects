{
 "cells": [
  {
   "cell_type": "markdown",
   "metadata": {
    "id": "Kq2zfPShu_-k"
   },
   "source": [
    "# Language Translation with Word Level seq2seq DL Models\n",
    "The objective is to convert a German sentence (sequence of words) to English using a Neural Machine Translation (NMT) system based on word level encoder-decoder models.\n",
    "\n",
    "We will use __Spanish-English__ sentence pairs data from http://www.manythings.org/anki/\n",
    "\n",
    "Sequence-to-Sequence (seq2seq) models are used for a variety of NLP tasks, such as text summarization, speech recognition, language translation, text-to-speech, speech-to-text among others. Our aim is to translate german to english sentences.\n",
    "\n",
    "Here, both, the input and output are sentences. In other words, these sentences are a sequence of words going in and out of our model.\n",
    "\n",
    "<img src=\"https://i.imgur.com/Uk1tCPo.png\">\n",
    "\n",
    "A typical seq2seq model is also known as an encoder-decoder model and has 2 major components:\n",
    "\n",
    "+ The encoder\n",
    "+ The decoder\n",
    "\n",
    "Both these parts are essentially two different sequential models like RNNs\\LSTMs which are combined together.\n",
    "\n",
    "<img src=\"https://i.imgur.com/bT6PAtv.png\">"
   ]
  },
  {
   "cell_type": "markdown",
   "metadata": {
    "id": "HTOPpFv4vQZ2"
   },
   "source": [
    "## Download the Dataset"
   ]
  },
  {
   "cell_type": "code",
   "execution_count": 1,
   "metadata": {
    "colab": {
     "base_uri": "https://localhost:8080/"
    },
    "id": "SZjoxDjWXJbn",
    "outputId": "b949f5fc-84ed-4ca3-abd4-e37a7e1eddd6"
   },
   "outputs": [
    {
     "name": "stdout",
     "output_type": "stream",
     "text": [
      "--2021-11-29 17:52:24--  http://www.manythings.org/anki/spa-eng.zip\n",
      "Resolving www.manythings.org (www.manythings.org)... 104.21.92.44, 172.67.186.54, 2606:4700:3030::6815:5c2c, ...\n",
      "Connecting to www.manythings.org (www.manythings.org)|104.21.92.44|:80... connected.\n",
      "HTTP request sent, awaiting response... 200 OK\n",
      "Length: 5326759 (5.1M) [application/zip]\n",
      "Saving to: ‘spa-eng.zip’\n",
      "\n",
      "spa-eng.zip         100%[===================>]   5.08M  7.18MB/s    in 0.7s    \n",
      "\n",
      "2021-11-29 17:52:25 (7.18 MB/s) - ‘spa-eng.zip’ saved [5326759/5326759]\n",
      "\n",
      "Archive:  spa-eng.zip\n",
      "  inflating: _about.txt              \n",
      "  inflating: spa.txt                 \n",
      "total 25332\n",
      "-rw-r--r-- 1 root root     1441 Nov 29 01:09 _about.txt\n",
      "drwxr-xr-x 1 root root     4096 Nov 18 14:36 sample_data\n",
      "-rw-r--r-- 1 root root  5326759 Nov 28 16:09 spa-eng.zip\n",
      "-rw-r--r-- 1 root root 20602192 Nov 29 01:09 spa.txt\n"
     ]
    }
   ],
   "source": [
    "!wget http://www.manythings.org/anki/spa-eng.zip\n",
    "!unzip spa-eng.zip\n",
    "!ls -l"
   ]
  },
  {
   "cell_type": "markdown",
   "metadata": {
    "id": "55sPB5nyvUcL"
   },
   "source": [
    "## Load the Dataset"
   ]
  },
  {
   "cell_type": "code",
   "execution_count": 2,
   "metadata": {
    "colab": {
     "base_uri": "https://localhost:8080/"
    },
    "id": "eAtQsFBFX9g8",
    "outputId": "5536c999-72a7-4b4a-b760-5fd72b79a116"
   },
   "outputs": [
    {
     "data": {
      "text/plain": [
       "array([['Go.', 'Ve.',\n",
       "        'CC-BY 2.0 (France) Attribution: tatoeba.org #2877272 (CM) & #4986655 (cueyayotl)'],\n",
       "       ['Go.', 'Vete.',\n",
       "        'CC-BY 2.0 (France) Attribution: tatoeba.org #2877272 (CM) & #4986656 (cueyayotl)'],\n",
       "       ['Go.', 'Vaya.',\n",
       "        'CC-BY 2.0 (France) Attribution: tatoeba.org #2877272 (CM) & #4986657 (cueyayotl)'],\n",
       "       ...,\n",
       "       [\"That's not what you said.\", 'No es lo que usted dijo.',\n",
       "        'CC-BY 2.0 (France) Attribution: tatoeba.org #2849776 (CK) & #8011524 (Seael)'],\n",
       "       [\"That's not what you said.\", 'Eso no es lo que usted dijo.',\n",
       "        'CC-BY 2.0 (France) Attribution: tatoeba.org #2849776 (CK) & #8011525 (Seael)'],\n",
       "       [\"That's not what you said.\", 'No es lo que ustedes dijeron.',\n",
       "        'CC-BY 2.0 (France) Attribution: tatoeba.org #2849776 (CK) & #8011526 (Seael)']],\n",
       "      dtype='<U332')"
      ]
     },
     "execution_count": 2,
     "metadata": {},
     "output_type": "execute_result"
    }
   ],
   "source": [
    "import numpy as np\n",
    "\n",
    "FILE_NAME = './spa.txt'\n",
    "with open(FILE_NAME, mode='rt', encoding='utf-8') as infile:\n",
    "  data = infile.read()\n",
    "  sentences = data.strip().split('\\n')\n",
    "  sentences = [item.split('\\t') for item in sentences]\n",
    "  eng_spa = np.array(sentences)\n",
    "\n",
    "eng_spa = eng_spa[:50000]\n",
    "eng_spa"
   ]
  },
  {
   "cell_type": "code",
   "execution_count": 3,
   "metadata": {
    "colab": {
     "base_uri": "https://localhost:8080/"
    },
    "id": "VoEsx43UX9eU",
    "outputId": "cd859e57-fd14-49fa-ed41-5bfb808fdef7"
   },
   "outputs": [
    {
     "data": {
      "text/plain": [
       "(array(['Go.', 'Go.', 'Go.', ..., \"That's not what you said.\",\n",
       "        \"That's not what you said.\", \"That's not what you said.\"],\n",
       "       dtype='<U332'),\n",
       " array(['Ve.', 'Vete.', 'Vaya.', ..., 'No es lo que usted dijo.',\n",
       "        'Eso no es lo que usted dijo.', 'No es lo que ustedes dijeron.'],\n",
       "       dtype='<U332'))"
      ]
     },
     "execution_count": 3,
     "metadata": {},
     "output_type": "execute_result"
    }
   ],
   "source": [
    "spa = eng_spa[:,1]\n",
    "eng = eng_spa[:,0]\n",
    "eng, spa"
   ]
  },
  {
   "cell_type": "markdown",
   "metadata": {
    "id": "vKR5RqfQva1R"
   },
   "source": [
    "## Basic Preprocessing"
   ]
  },
  {
   "cell_type": "code",
   "execution_count": 4,
   "metadata": {
    "colab": {
     "base_uri": "https://localhost:8080/"
    },
    "id": "8SvzsJw7X9bt",
    "outputId": "8e753e02-c604-4638-d91a-296af315035c"
   },
   "outputs": [
    {
     "data": {
      "text/plain": [
       "(array(['go', 'go', 'go', ..., 'thats not what you said',\n",
       "        'thats not what you said', 'thats not what you said'], dtype='<U24'),\n",
       " array(['ve', 'vete', 'vaya', ..., 'no es lo que usted dijo',\n",
       "        'eso no es lo que usted dijo', 'no es lo que ustedes dijeron'],\n",
       "       dtype='<U66'))"
      ]
     },
     "execution_count": 4,
     "metadata": {},
     "output_type": "execute_result"
    }
   ],
   "source": [
    "import string\n",
    "\n",
    "# Remove punctuation and lowercase\n",
    "eng = np.array([s.translate(str.maketrans('', '', string.punctuation)).lower() for s in eng])\n",
    "spa = np.array([s.translate(str.maketrans('', '', string.punctuation)).lower() for s in spa])\n",
    "eng, spa"
   ]
  },
  {
   "cell_type": "markdown",
   "metadata": {
    "id": "cRoKA94HveAJ"
   },
   "source": [
    "## Analyze Sentences"
   ]
  },
  {
   "cell_type": "markdown",
   "metadata": {
    "id": "5Q8fHZiLwQjm"
   },
   "source": [
    "### **Question 1**: Get maximum sentence length for both __English__ and __Spanish__ (2 points)\n"
   ]
  },
  {
   "cell_type": "code",
   "execution_count": 5,
   "metadata": {
    "id": "djWZJln6X9ZK"
   },
   "outputs": [],
   "source": [
    "# Add your code here\n",
    "eng_len = [len(s.split()) for s in eng]\n",
    "spa_len = [len(s.split()) for s in spa]"
   ]
  },
  {
   "cell_type": "code",
   "execution_count": 6,
   "metadata": {
    "colab": {
     "base_uri": "https://localhost:8080/",
     "height": 333
    },
    "id": "_us22QO3X9Wc",
    "outputId": "dc028169-58b0-4f85-c734-69c1da690fa6"
   },
   "outputs": [
    {
     "data": {
      "text/plain": [
       "array([[<matplotlib.axes._subplots.AxesSubplot object at 0x7ff84672dc90>,\n",
       "        <matplotlib.axes._subplots.AxesSubplot object at 0x7ff83e13c050>]],\n",
       "      dtype=object)"
      ]
     },
     "execution_count": 6,
     "metadata": {},
     "output_type": "execute_result"
    },
    {
     "data": {
      "image/png": "[encoded data removed]",
      "text/plain": [
       "<Figure size 432x288 with 2 Axes>"
      ]
     },
     "metadata": {
      "needs_background": "light"
     },
     "output_type": "display_data"
    }
   ],
   "source": [
    "import pandas as pd\n",
    "%matplotlib inline\n",
    "\n",
    "length_df = pd.DataFrame({'eng':eng_len, 'spa':spa_len})\n",
    "length_df.hist(bins=30)"
   ]
  },
  {
   "cell_type": "markdown",
   "metadata": {
    "id": "7drStS73viT5"
   },
   "source": [
    "## Transform Text to Sequence of Numbers"
   ]
  },
  {
   "cell_type": "markdown",
   "metadata": {
    "id": "L3NlxRpOwdyy"
   },
   "source": [
    "### **Question 2**: Use **``tensorflow.keras.tokenizer``** to tokenize and prepare a text to number mapping (2 points)\n"
   ]
  },
  {
   "cell_type": "code",
   "execution_count": 7,
   "metadata": {
    "id": "nWjSGrUiYbL8"
   },
   "outputs": [],
   "source": [
    "from tensorflow import keras\n",
    "\n",
    "# Add your code here\n",
    "eng_tokenizer = keras.preprocessing.text.Tokenizer()\n",
    "eng_tokenizer.fit_on_texts(eng)\n",
    "eng_vocab_size = len(eng_tokenizer.word_index) + 1\n",
    "eng_length = max(eng_len)"
   ]
  },
  {
   "cell_type": "code",
   "execution_count": 8,
   "metadata": {
    "colab": {
     "base_uri": "https://localhost:8080/"
    },
    "id": "8TDQO_iBYbI_",
    "outputId": "58ea10b4-17fe-4e51-eec5-3a90dd608910"
   },
   "outputs": [
    {
     "name": "stdout",
     "output_type": "stream",
     "text": [
      "Max eng text length: 8\n",
      "English Vocabulary Size: 6832\n"
     ]
    }
   ],
   "source": [
    "print('Max eng text length:', eng_length)\n",
    "print('English Vocabulary Size:', eng_vocab_size)"
   ]
  },
  {
   "cell_type": "code",
   "execution_count": 9,
   "metadata": {
    "id": "g1UOMDq5YbGT"
   },
   "outputs": [],
   "source": [
    "spa_tokenizer = keras.preprocessing.text.Tokenizer()\n",
    "spa_tokenizer.fit_on_texts(spa)\n",
    "spa_vocab_size = len(spa_tokenizer.word_index) + 1\n",
    "spa_length = max(spa_len)"
   ]
  },
  {
   "cell_type": "code",
   "execution_count": 10,
   "metadata": {
    "colab": {
     "base_uri": "https://localhost:8080/"
    },
    "id": "2SF2A1m2YbDm",
    "outputId": "9451b543-5453-4008-a20c-f2b3ae34cd3b"
   },
   "outputs": [
    {
     "name": "stdout",
     "output_type": "stream",
     "text": [
      "Max deu text length: 12\n",
      "Spanish Vocabulary Size: 14042\n"
     ]
    }
   ],
   "source": [
    "print('Max deu text length:', spa_length)\n",
    "print('Spanish Vocabulary Size:', spa_vocab_size)"
   ]
  },
  {
   "cell_type": "markdown",
   "metadata": {
    "id": "H58tl2CBvmCA"
   },
   "source": [
    "## Prepare Train Test Splits"
   ]
  },
  {
   "cell_type": "code",
   "execution_count": 11,
   "metadata": {
    "colab": {
     "base_uri": "https://localhost:8080/"
    },
    "id": "MVHHsuALYbA7",
    "outputId": "db74612e-a605-4201-c516-3c1da29fce00"
   },
   "outputs": [
    {
     "data": {
      "text/plain": [
       "((40000,), (10000,), (40000,), (10000,))"
      ]
     },
     "execution_count": 11,
     "metadata": {},
     "output_type": "execute_result"
    }
   ],
   "source": [
    "from sklearn.model_selection import train_test_split\n",
    "\n",
    "train_spa, test_spa, train_eng, test_eng = train_test_split(spa, eng, test_size=0.2, random_state = 42)\n",
    "train_spa.shape, test_spa.shape, train_eng.shape, test_eng.shape"
   ]
  },
  {
   "cell_type": "markdown",
   "metadata": {
    "id": "VDuZ02kNvpyI"
   },
   "source": [
    "## Normalize Sequence Lengths\n",
    "We normalize sentence lengths by defining the maximum length. Larger sentences/sequences get truncated while smaller ones are padded."
   ]
  },
  {
   "cell_type": "markdown",
   "metadata": {
    "id": "swgXAAwnwwVf"
   },
   "source": [
    "### **Question 3**: Normalize sentences by defining the max length. **Pad** shorter ones and truncate the longer ones. (2 points)\n",
    "\n",
    "_Hint: use ``pad_sequences``_\n"
   ]
  },
  {
   "cell_type": "code",
   "execution_count": 12,
   "metadata": {
    "colab": {
     "base_uri": "https://localhost:8080/"
    },
    "id": "QKLJJadVYa-S",
    "outputId": "662b8c06-7403-4d0d-f9be-52e57e1ce49e"
   },
   "outputs": [
    {
     "data": {
      "text/plain": [
       "((40000, 12), (40000, 8))"
      ]
     },
     "execution_count": 12,
     "metadata": {},
     "output_type": "execute_result"
    }
   ],
   "source": [
    "# Add your code here\n",
    "train_spa_enc = spa_tokenizer.texts_to_sequences(train_spa)\n",
    "train_spa_enc = keras.preprocessing.sequence.pad_sequences(train_spa_enc, maxlen=spa_length, padding='post')\n",
    "\n",
    "train_eng_enc = eng_tokenizer.texts_to_sequences(train_eng)\n",
    "train_eng_enc = keras.preprocessing.sequence.pad_sequences(train_eng_enc, maxlen=eng_length, padding='post')\n",
    "\n",
    "train_spa_enc.shape, train_eng_enc.shape"
   ]
  },
  {
   "cell_type": "code",
   "execution_count": 13,
   "metadata": {
    "colab": {
     "base_uri": "https://localhost:8080/"
    },
    "id": "tbhtwLtFY6jF",
    "outputId": "2b100118-9582-4a9a-b2a7-f1dcb2e6230b"
   },
   "outputs": [
    {
     "data": {
      "text/plain": [
       "((10000, 12), (10000, 8))"
      ]
     },
     "execution_count": 13,
     "metadata": {},
     "output_type": "execute_result"
    }
   ],
   "source": [
    "# Add your code here\n",
    "test_spa_enc = spa_tokenizer.texts_to_sequences(test_spa)\n",
    "test_spa_enc = keras.preprocessing.sequence.pad_sequences(test_spa_enc, maxlen=spa_length, padding='post')\n",
    "\n",
    "test_eng_enc = eng_tokenizer.texts_to_sequences(test_eng)\n",
    "test_eng_enc = keras.preprocessing.sequence.pad_sequences(test_eng_enc, maxlen=eng_length, padding='post')\n",
    "\n",
    "test_spa_enc.shape, test_eng_enc.shape"
   ]
  },
  {
   "cell_type": "markdown",
   "metadata": {
    "id": "tmhm-nWvvtck"
   },
   "source": [
    "## Build the Model\n",
    "\n",
    "<img src=\"https://i.imgur.com/3ZVi97s.png\">\n",
    "\n",
    "+ For the encoder, we will use an embedding layer and an LSTM layer\n",
    "+ For the decoder, we will use another LSTM layer followed by a dense layer\n",
    "+ Repeat Vector helps pass the output sequence from encoder to all LSTM cells in the decoder\n",
    "\n",
    "We leverage the full power of GPUs by using the CUDA variant of the LSTM models."
   ]
  },
  {
   "cell_type": "markdown",
   "metadata": {
    "id": "Oh2giIxMxCql"
   },
   "source": [
    "### **Question 4**: Define a **Seq2Seq** model with encoder and decoder components (2 points)"
   ]
  },
  {
   "cell_type": "code",
   "execution_count": 14,
   "metadata": {
    "colab": {
     "base_uri": "https://localhost:8080/"
    },
    "id": "pYOViShiY6go",
    "outputId": "cb2ddbb0-0f74-4946-ff79-a92a5f924b0b"
   },
   "outputs": [
    {
     "name": "stdout",
     "output_type": "stream",
     "text": [
      "Model: \"model\"\n",
      "_________________________________________________________________\n",
      " Layer (type)                Output Shape              Param #   \n",
      "=================================================================\n",
      " input_1 (InputLayer)        [(None, 12)]              0         \n",
      "                                                                 \n",
      " embedding (Embedding)       (None, 12, 512)           7189504   \n",
      "                                                                 \n",
      " lstm (LSTM)                 (None, 512)               2099200   \n",
      "                                                                 \n",
      " repeat_vector (RepeatVector  (None, 8, 512)           0         \n",
      " )                                                               \n",
      "                                                                 \n",
      " lstm_1 (LSTM)               (None, 8, 512)            2099200   \n",
      "                                                                 \n",
      " dense (Dense)               (None, 8, 6832)           3504816   \n",
      "                                                                 \n",
      "=================================================================\n",
      "Total params: 14,892,720\n",
      "Trainable params: 14,892,720\n",
      "Non-trainable params: 0\n",
      "_________________________________________________________________\n"
     ]
    },
    {
     "name": "stderr",
     "output_type": "stream",
     "text": [
      "/usr/local/lib/python3.7/dist-packages/keras/optimizer_v2/rmsprop.py:130: UserWarning: The `lr` argument is deprecated, use `learning_rate` instead.\n",
      "  super(RMSprop, self).__init__(name, **kwargs)\n"
     ]
    }
   ],
   "source": [
    "EMBEDDING_DIM = 512\n",
    "LSTM_UNITS = 512\n",
    "\n",
    "# Add your code here\n",
    "encoder_inputs = keras.layers.Input(shape=(spa_length,))\n",
    "enc_emb =  keras.layers.Embedding(spa_vocab_size, EMBEDDING_DIM)(encoder_inputs)\n",
    "encoder_lstm = keras.layers.LSTM(LSTM_UNITS)(enc_emb)\n",
    "rp_vec = keras.layers.RepeatVector(eng_length)(encoder_lstm)\n",
    "\n",
    "decoder_lstm = keras.layers.LSTM(LSTM_UNITS, return_sequences=True)(rp_vec)\n",
    "decoder_softmax = keras.layers.Dense(eng_vocab_size, activation='softmax')(decoder_lstm)\n",
    "model = keras.models.Model(inputs=encoder_inputs, outputs=decoder_softmax)\n",
    "\n",
    "model.compile(optimizer=keras.optimizers.RMSprop(lr=0.001), loss='sparse_categorical_crossentropy')\n",
    "model.summary()"
   ]
  },
  {
   "cell_type": "markdown",
   "metadata": {
    "id": "eBf3-ECqvw6W"
   },
   "source": [
    "## Train the Model"
   ]
  },
  {
   "cell_type": "code",
   "execution_count": 15,
   "metadata": {
    "colab": {
     "base_uri": "https://localhost:8080/"
    },
    "id": "0pJ5KKmcY6d5",
    "outputId": "99c68e40-8c4a-429c-8cf0-ea103b44d0e0"
   },
   "outputs": [
    {
     "name": "stdout",
     "output_type": "stream",
     "text": [
      "Epoch 1/50\n",
      "141/141 [==============================] - 19s 90ms/step - loss: 3.3635 - val_loss: 3.1369\n",
      "Epoch 2/50\n",
      "141/141 [==============================] - 12s 84ms/step - loss: 2.9980 - val_loss: 2.9745\n",
      "Epoch 3/50\n",
      "141/141 [==============================] - 12s 85ms/step - loss: 2.7784 - val_loss: 2.7376\n",
      "Epoch 4/50\n",
      "141/141 [==============================] - 12s 85ms/step - loss: 2.5457 - val_loss: 2.5283\n",
      "Epoch 5/50\n",
      "141/141 [==============================] - 12s 85ms/step - loss: 2.3387 - val_loss: 2.4017\n",
      "Epoch 6/50\n",
      "141/141 [==============================] - 12s 86ms/step - loss: 2.1579 - val_loss: 2.2557\n",
      "Epoch 7/50\n",
      "141/141 [==============================] - 12s 85ms/step - loss: 2.0041 - val_loss: 2.1590\n",
      "Epoch 8/50\n",
      "141/141 [==============================] - 12s 86ms/step - loss: 1.8742 - val_loss: 2.0970\n",
      "Epoch 9/50\n",
      "141/141 [==============================] - 12s 86ms/step - loss: 1.7631 - val_loss: 2.0330\n",
      "Epoch 10/50\n",
      "141/141 [==============================] - 12s 86ms/step - loss: 1.6595 - val_loss: 1.9867\n",
      "Epoch 11/50\n",
      "141/141 [==============================] - 12s 86ms/step - loss: 1.5614 - val_loss: 1.9417\n",
      "Epoch 12/50\n",
      "141/141 [==============================] - 12s 85ms/step - loss: 1.4664 - val_loss: 1.8963\n",
      "Epoch 13/50\n",
      "141/141 [==============================] - 12s 86ms/step - loss: 1.3726 - val_loss: 1.8673\n",
      "Epoch 14/50\n",
      "141/141 [==============================] - 12s 86ms/step - loss: 1.2835 - val_loss: 1.8235\n",
      "Epoch 15/50\n",
      "141/141 [==============================] - 12s 85ms/step - loss: 1.1948 - val_loss: 1.8090\n",
      "Epoch 16/50\n",
      "141/141 [==============================] - 12s 86ms/step - loss: 1.1084 - val_loss: 1.7828\n",
      "Epoch 17/50\n",
      "141/141 [==============================] - 12s 86ms/step - loss: 1.0284 - val_loss: 1.7723\n",
      "Epoch 18/50\n",
      "141/141 [==============================] - 12s 86ms/step - loss: 0.9527 - val_loss: 1.7398\n",
      "Epoch 19/50\n",
      "141/141 [==============================] - 12s 87ms/step - loss: 0.8802 - val_loss: 1.7139\n",
      "Epoch 20/50\n",
      "141/141 [==============================] - 12s 86ms/step - loss: 0.8100 - val_loss: 1.7373\n",
      "Epoch 21/50\n",
      "141/141 [==============================] - 12s 86ms/step - loss: 0.7429 - val_loss: 1.7201\n",
      "Epoch 22/50\n",
      "141/141 [==============================] - 12s 86ms/step - loss: 0.6821 - val_loss: 1.7239\n",
      "Epoch 23/50\n",
      "141/141 [==============================] - 12s 86ms/step - loss: 0.6225 - val_loss: 1.7077\n",
      "Epoch 24/50\n",
      "141/141 [==============================] - 12s 85ms/step - loss: 0.5701 - val_loss: 1.7157\n",
      "Epoch 25/50\n",
      "141/141 [==============================] - 12s 85ms/step - loss: 0.5220 - val_loss: 1.7266\n",
      "Epoch 26/50\n",
      "141/141 [==============================] - 12s 86ms/step - loss: 0.4778 - val_loss: 1.7299\n",
      "Epoch 27/50\n",
      "141/141 [==============================] - 12s 86ms/step - loss: 0.4372 - val_loss: 1.7387\n",
      "Epoch 28/50\n",
      "141/141 [==============================] - 12s 86ms/step - loss: 0.3996 - val_loss: 1.7582\n",
      "Epoch 29/50\n",
      "141/141 [==============================] - 12s 85ms/step - loss: 0.3648 - val_loss: 1.7486\n",
      "Epoch 30/50\n",
      "141/141 [==============================] - 12s 86ms/step - loss: 0.3344 - val_loss: 1.7693\n",
      "Epoch 31/50\n",
      "141/141 [==============================] - 12s 86ms/step - loss: 0.3057 - val_loss: 1.7750\n",
      "Epoch 32/50\n",
      "141/141 [==============================] - 12s 86ms/step - loss: 0.2804 - val_loss: 1.7910\n",
      "Epoch 33/50\n",
      "141/141 [==============================] - 12s 85ms/step - loss: 0.2569 - val_loss: 1.8121\n",
      "Epoch 34/50\n",
      "141/141 [==============================] - 12s 86ms/step - loss: 0.2362 - val_loss: 1.8023\n",
      "Epoch 35/50\n",
      "141/141 [==============================] - 12s 86ms/step - loss: 0.2200 - val_loss: 1.8247\n",
      "Epoch 36/50\n",
      "141/141 [==============================] - 12s 86ms/step - loss: 0.2056 - val_loss: 1.8267\n",
      "Epoch 37/50\n",
      "141/141 [==============================] - 12s 86ms/step - loss: 0.1935 - val_loss: 1.8603\n",
      "Epoch 38/50\n",
      "141/141 [==============================] - 12s 86ms/step - loss: 0.1815 - val_loss: 1.8572\n",
      "Epoch 39/50\n",
      "141/141 [==============================] - 12s 86ms/step - loss: 0.1712 - val_loss: 1.8909\n",
      "Epoch 40/50\n",
      "141/141 [==============================] - 12s 86ms/step - loss: 0.1613 - val_loss: 1.8797\n",
      "Epoch 41/50\n",
      "141/141 [==============================] - 12s 86ms/step - loss: 0.1530 - val_loss: 1.8662\n",
      "Epoch 42/50\n",
      "141/141 [==============================] - 12s 86ms/step - loss: 0.1453 - val_loss: 1.8794\n",
      "Epoch 43/50\n",
      "141/141 [==============================] - 12s 86ms/step - loss: 0.1385 - val_loss: 1.8821\n",
      "Epoch 44/50\n",
      "141/141 [==============================] - 12s 86ms/step - loss: 0.1320 - val_loss: 1.9140\n",
      "Epoch 45/50\n",
      "141/141 [==============================] - 12s 87ms/step - loss: 0.1267 - val_loss: 1.9148\n",
      "Epoch 46/50\n",
      "141/141 [==============================] - 12s 86ms/step - loss: 0.1221 - val_loss: 1.9232\n",
      "Epoch 47/50\n",
      "141/141 [==============================] - 12s 86ms/step - loss: 0.1165 - val_loss: 1.9409\n",
      "Epoch 48/50\n",
      "141/141 [==============================] - 12s 86ms/step - loss: 0.1128 - val_loss: 1.9317\n",
      "Epoch 49/50\n",
      "141/141 [==============================] - 12s 86ms/step - loss: 0.1085 - val_loss: 1.9408\n",
      "Epoch 50/50\n",
      "141/141 [==============================] - 12s 86ms/step - loss: 0.1064 - val_loss: 1.9404\n"
     ]
    }
   ],
   "source": [
    "history = model.fit(train_spa_enc, train_eng_enc.reshape(train_eng_enc.shape[0], train_eng_enc.shape[1], 1), \n",
    "          epochs=50, batch_size=256, \n",
    "          validation_split = 0.1,\n",
    "          verbose=1)"
   ]
  },
  {
   "cell_type": "code",
   "execution_count": 16,
   "metadata": {
    "id": "nsFTauzMY6be"
   },
   "outputs": [],
   "source": [
    "model.save('my_nmt_model.h5')"
   ]
  },
  {
   "cell_type": "markdown",
   "metadata": {
    "id": "HSEmm09Tv2UB"
   },
   "source": [
    "## Visualize Training Progress"
   ]
  },
  {
   "cell_type": "code",
   "execution_count": 17,
   "metadata": {
    "colab": {
     "base_uri": "https://localhost:8080/",
     "height": 285
    },
    "id": "FrnTmsJMY6Y1",
    "outputId": "d1ac43f4-aa3b-423f-c697-0d43536a62ca"
   },
   "outputs": [
    {
     "data": {
      "text/plain": [
       "<matplotlib.legend.Legend at 0x7ff724ae5f50>"
      ]
     },
     "execution_count": 17,
     "metadata": {},
     "output_type": "execute_result"
    },
    {
     "data": {
      "image/png": "[encoded data removed]",
      "text/plain": [
       "<Figure size 432x288 with 1 Axes>"
      ]
     },
     "metadata": {
      "needs_background": "light"
     },
     "output_type": "display_data"
    }
   ],
   "source": [
    "import matplotlib.pyplot as plt\n",
    "\n",
    "plt.plot(history.history['loss'])\n",
    "plt.plot(history.history['val_loss'])\n",
    "plt.legend(['train','validation'])"
   ]
  },
  {
   "cell_type": "markdown",
   "metadata": {
    "id": "VuykkLcKv5IY"
   },
   "source": [
    "## Text Generator\n",
    "We build a utility function to generate text sequences based on the output prediction sequences"
   ]
  },
  {
   "cell_type": "code",
   "execution_count": 18,
   "metadata": {
    "id": "yKIE3wknZU1N"
   },
   "outputs": [],
   "source": [
    "from tqdm import tqdm\n",
    "pd.set_option('display.max_colwidth', 500)\n",
    "\n",
    "eng_idx2word = {v:k for k, v in eng_tokenizer.word_index.items()}\n",
    "\n",
    "def generate_prediction_texts(pred_seqs, idx2word_map):\n",
    "  pred_texts = []\n",
    "\n",
    "  for pred in tqdm(preds):\n",
    "    temp = []\n",
    "    for idx in range(len(pred)):\n",
    "      w = eng_idx2word.get(pred[idx], None)\n",
    "      if idx > 0:\n",
    "        if (w == eng_idx2word.get(pred[idx-1], None)) or (w == None):\n",
    "            temp.append('')\n",
    "        else:\n",
    "            temp.append(w)\n",
    "          \n",
    "      else:\n",
    "        if(w == None):\n",
    "            temp.append('')\n",
    "        else:\n",
    "            temp.append(w)            \n",
    "        \n",
    "    pred_texts.append(' '.join(temp))\n",
    "  return pred_texts"
   ]
  },
  {
   "cell_type": "markdown",
   "metadata": {
    "id": "06wIOLokv8Fz"
   },
   "source": [
    "## Translation using seed from Training Data"
   ]
  },
  {
   "cell_type": "code",
   "execution_count": 19,
   "metadata": {
    "colab": {
     "base_uri": "https://localhost:8080/"
    },
    "id": "oWJZkPNKZUyi",
    "outputId": "e02f5da0-410e-4ec3-80f2-e118c5790ee5"
   },
   "outputs": [
    {
     "data": {
      "text/plain": [
       "(1000, 12)"
      ]
     },
     "execution_count": 19,
     "metadata": {},
     "output_type": "execute_result"
    }
   ],
   "source": [
    "train_spa_enc[:1000,:].shape"
   ]
  },
  {
   "cell_type": "markdown",
   "metadata": {
    "id": "SVrfdL91xQFx"
   },
   "source": [
    "### **Question 5**: **Evaluate** model predictions using training samples only (3 points)\n"
   ]
  },
  {
   "cell_type": "code",
   "execution_count": 22,
   "metadata": {
    "colab": {
     "base_uri": "https://localhost:8080/",
     "height": 372
    },
    "id": "Dzmo-VoMZUv6",
    "outputId": "0609ab84-3134-49e2-da69-f667fb95ab07"
   },
   "outputs": [
    {
     "name": "stdout",
     "output_type": "stream",
     "text": [
      "32/32 [==============================] - 0s 11ms/step\n"
     ]
    },
    {
     "name": "stderr",
     "output_type": "stream",
     "text": [
      "100%|██████████| 1000/1000 [00:00<00:00, 59212.31it/s]\n"
     ]
    },
    {
     "data": {
      "text/html": [
       "<div>\n",
       "<style scoped>\n",
       "    .dataframe tbody tr th:only-of-type {\n",
       "        vertical-align: middle;\n",
       "    }\n",
       "\n",
       "    .dataframe tbody tr th {\n",
       "        vertical-align: top;\n",
       "    }\n",
       "\n",
       "    .dataframe thead th {\n",
       "        text-align: right;\n",
       "    }\n",
       "</style>\n",
       "<table border=\"1\" class=\"dataframe\">\n",
       "  <thead>\n",
       "    <tr style=\"text-align: right;\">\n",
       "      <th></th>\n",
       "      <th>0</th>\n",
       "      <th>1</th>\n",
       "      <th>2</th>\n",
       "      <th>3</th>\n",
       "      <th>4</th>\n",
       "      <th>5</th>\n",
       "      <th>6</th>\n",
       "      <th>7</th>\n",
       "      <th>8</th>\n",
       "      <th>9</th>\n",
       "      <th>10</th>\n",
       "      <th>11</th>\n",
       "      <th>12</th>\n",
       "      <th>13</th>\n",
       "      <th>14</th>\n",
       "      <th>15</th>\n",
       "      <th>16</th>\n",
       "      <th>17</th>\n",
       "      <th>18</th>\n",
       "      <th>19</th>\n",
       "      <th>20</th>\n",
       "      <th>21</th>\n",
       "      <th>22</th>\n",
       "      <th>23</th>\n",
       "      <th>24</th>\n",
       "      <th>25</th>\n",
       "      <th>26</th>\n",
       "      <th>27</th>\n",
       "      <th>28</th>\n",
       "      <th>29</th>\n",
       "      <th>30</th>\n",
       "      <th>31</th>\n",
       "      <th>32</th>\n",
       "      <th>33</th>\n",
       "      <th>34</th>\n",
       "      <th>35</th>\n",
       "      <th>36</th>\n",
       "      <th>37</th>\n",
       "      <th>38</th>\n",
       "      <th>39</th>\n",
       "      <th>40</th>\n",
       "      <th>41</th>\n",
       "      <th>42</th>\n",
       "      <th>43</th>\n",
       "      <th>44</th>\n",
       "      <th>45</th>\n",
       "      <th>46</th>\n",
       "      <th>47</th>\n",
       "      <th>48</th>\n",
       "      <th>49</th>\n",
       "    </tr>\n",
       "  </thead>\n",
       "  <tbody>\n",
       "    <tr>\n",
       "      <th>source</th>\n",
       "      <td>estoy intentando recordar</td>\n",
       "      <td>tom tiene grandes problemas</td>\n",
       "      <td>caminaban de dos en fondo</td>\n",
       "      <td>no te debo nada</td>\n",
       "      <td>estamos ilesos</td>\n",
       "      <td>por favor vuelve a intentarlo</td>\n",
       "      <td>es mi mejor amigo</td>\n",
       "      <td>tom tiene que levantarse temprano</td>\n",
       "      <td>hable más alto por favor</td>\n",
       "      <td>me pone triste escucharlo</td>\n",
       "      <td>no tientes a la suerte</td>\n",
       "      <td>tom se puso serio</td>\n",
       "      <td>tom evitaba a maría</td>\n",
       "      <td>yo era un niño travieso</td>\n",
       "      <td>firme abajo</td>\n",
       "      <td>llama a tu hermano</td>\n",
       "      <td>no me agrada el tráfico</td>\n",
       "      <td>¿qué viste después</td>\n",
       "      <td>toma tu medicación</td>\n",
       "      <td>no siento nada</td>\n",
       "      <td>no estoy muerta</td>\n",
       "      <td>tenemos una ventaja</td>\n",
       "      <td>estoy en el septimo cielo</td>\n",
       "      <td>la vida es injusta</td>\n",
       "      <td>he bloqueado la puerta</td>\n",
       "      <td>tom se lo contó</td>\n",
       "      <td>¡feliz año</td>\n",
       "      <td>¿la conoces</td>\n",
       "      <td>disculpe la tardanza</td>\n",
       "      <td>el perro se alejó</td>\n",
       "      <td>estamos rodeados</td>\n",
       "      <td>nos han vencido</td>\n",
       "      <td>no es tan importante</td>\n",
       "      <td>vete</td>\n",
       "      <td>ellos eran muy estrictos</td>\n",
       "      <td>tom ha madurado</td>\n",
       "      <td>¿tom está celoso</td>\n",
       "      <td>tom lo va a intentar</td>\n",
       "      <td>reúnete conmigo esta noche</td>\n",
       "      <td>¡no esperen</td>\n",
       "      <td>estás manejando demasiado rápido</td>\n",
       "      <td>el pasatiempo de tom es el golf</td>\n",
       "      <td>¿tienes gatos</td>\n",
       "      <td>estaré preparada</td>\n",
       "      <td>ella se sonroja</td>\n",
       "      <td>conoces a todos</td>\n",
       "      <td>yo saltaba</td>\n",
       "      <td>no me gusta la sopa espesa</td>\n",
       "      <td>esperad un segundo</td>\n",
       "      <td>su hija es enfermera</td>\n",
       "    </tr>\n",
       "    <tr>\n",
       "      <th>target</th>\n",
       "      <td>im trying to remember</td>\n",
       "      <td>tom has big problems</td>\n",
       "      <td>they walked two abreast</td>\n",
       "      <td>i owe you nothing</td>\n",
       "      <td>no ones injured</td>\n",
       "      <td>please try again</td>\n",
       "      <td>hes my best friend</td>\n",
       "      <td>tom has to get up early</td>\n",
       "      <td>speak louder please</td>\n",
       "      <td>i am sad to hear it</td>\n",
       "      <td>dont tempt fate</td>\n",
       "      <td>tom became serious</td>\n",
       "      <td>tom avoided mary</td>\n",
       "      <td>i was a naughty boy</td>\n",
       "      <td>sign it at the bottom</td>\n",
       "      <td>call your brother</td>\n",
       "      <td>i dont like the traffic</td>\n",
       "      <td>what did you see next</td>\n",
       "      <td>take your medication</td>\n",
       "      <td>i feel nothing</td>\n",
       "      <td>im not dead</td>\n",
       "      <td>we have one advantage</td>\n",
       "      <td>im in seventh heaven</td>\n",
       "      <td>lifes not fair</td>\n",
       "      <td>i locked the door</td>\n",
       "      <td>tom told him</td>\n",
       "      <td>happy new year</td>\n",
       "      <td>do you know her</td>\n",
       "      <td>im sorry im late</td>\n",
       "      <td>the dog went away</td>\n",
       "      <td>were surrounded</td>\n",
       "      <td>weve been defeated</td>\n",
       "      <td>it isnt that important</td>\n",
       "      <td>go</td>\n",
       "      <td>they were very strict</td>\n",
       "      <td>tom has mellowed out</td>\n",
       "      <td>is tom jealous</td>\n",
       "      <td>tom will try</td>\n",
       "      <td>meet me tonight</td>\n",
       "      <td>dont wait</td>\n",
       "      <td>youre driving too fast</td>\n",
       "      <td>toms hobby is golf</td>\n",
       "      <td>do you have cats</td>\n",
       "      <td>ill be ready</td>\n",
       "      <td>shes turning red</td>\n",
       "      <td>you know everyone</td>\n",
       "      <td>i jumped up and down</td>\n",
       "      <td>i dont like thick soup</td>\n",
       "      <td>wait one second</td>\n",
       "      <td>his daughter is a nurse</td>\n",
       "    </tr>\n",
       "    <tr>\n",
       "      <th>predicted</th>\n",
       "      <td>im trying to remember</td>\n",
       "      <td>tom has big problems</td>\n",
       "      <td>they walked two abreast</td>\n",
       "      <td>i owe you nothing</td>\n",
       "      <td>no ones injured</td>\n",
       "      <td>please try again</td>\n",
       "      <td>hes my best friend</td>\n",
       "      <td>tom has to get up early</td>\n",
       "      <td>louder please</td>\n",
       "      <td>i am sad to hear it</td>\n",
       "      <td>dont tempt fate</td>\n",
       "      <td>tom became serious</td>\n",
       "      <td>tom avoided mary</td>\n",
       "      <td>i was a naughty boy</td>\n",
       "      <td>sign it at the</td>\n",
       "      <td>call your brother</td>\n",
       "      <td>i dont like the traffic</td>\n",
       "      <td>what did you see next</td>\n",
       "      <td>take your medication</td>\n",
       "      <td>i feel nothing</td>\n",
       "      <td>im not dead</td>\n",
       "      <td>we have one advantage</td>\n",
       "      <td>im in seventh heaven</td>\n",
       "      <td>life not unfair</td>\n",
       "      <td>i locked the door</td>\n",
       "      <td>tom told him</td>\n",
       "      <td>happy new year</td>\n",
       "      <td>do you know her</td>\n",
       "      <td>im sorry for being</td>\n",
       "      <td>the dog went away</td>\n",
       "      <td>were in</td>\n",
       "      <td>weve been defeated</td>\n",
       "      <td>its isnt that important</td>\n",
       "      <td>go</td>\n",
       "      <td>they were very strict</td>\n",
       "      <td>tom has mellowed out</td>\n",
       "      <td>is tom jealous</td>\n",
       "      <td>tom will try</td>\n",
       "      <td>meet me tonight</td>\n",
       "      <td>dont wait</td>\n",
       "      <td>youre driving too fast</td>\n",
       "      <td>toms hobby is golf</td>\n",
       "      <td>do you have cats</td>\n",
       "      <td>ill be ready</td>\n",
       "      <td>shes turning red</td>\n",
       "      <td>you know everyone</td>\n",
       "      <td>i jumped up and down</td>\n",
       "      <td>i dont like thick soup</td>\n",
       "      <td>wait one second</td>\n",
       "      <td>his daughter is a nurse</td>\n",
       "    </tr>\n",
       "  </tbody>\n",
       "</table>\n",
       "</div>"
      ],
      "text/plain": [
       "                                  0   ...                          49\n",
       "source     estoy intentando recordar  ...        su hija es enfermera\n",
       "target         im trying to remember  ...     his daughter is a nurse\n",
       "predicted  im trying to remember      ...  his daughter is a nurse   \n",
       "\n",
       "[3 rows x 50 columns]"
      ]
     },
     "execution_count": 22,
     "metadata": {},
     "output_type": "execute_result"
    }
   ],
   "source": [
    "# Add your code here\n",
    "pred_probs = model.predict(train_spa_enc[:1000,:].reshape((train_spa_enc[:1000,:].shape[0], \n",
    "                                                           train_spa_enc[:1000,:].shape[1])), verbose=1)\n",
    "preds = [np.argmax(i, axis=1) for i in pred_probs]\n",
    "pred_texts = generate_prediction_texts(pred_seqs=preds, idx2word_map=eng_idx2word)\n",
    "pred_df = pd.DataFrame({'source': train_spa[:1000], 'target' : train_eng[:1000], 'predicted' : pred_texts})\n",
    "pred_df.head(50).T"
   ]
  },
  {
   "cell_type": "markdown",
   "metadata": {
    "id": "1o2v68KSv_NF"
   },
   "source": [
    "## Translation on Test Data"
   ]
  },
  {
   "cell_type": "markdown",
   "metadata": {
    "id": "NJE_t95wxY5m"
   },
   "source": [
    "### **Question 6**: **Evaluate** model performance on test data (3 points)\n"
   ]
  },
  {
   "cell_type": "code",
   "execution_count": 21,
   "metadata": {
    "colab": {
     "base_uri": "https://localhost:8080/"
    },
    "id": "mRXKig2hZl1A",
    "outputId": "68a9720c-6832-46fb-9e7d-494499e4436c"
   },
   "outputs": [
    {
     "name": "stdout",
     "output_type": "stream",
     "text": [
      "32/32 [==============================] - 0s 10ms/step\n"
     ]
    },
    {
     "name": "stderr",
     "output_type": "stream",
     "text": [
      "100%|██████████| 1000/1000 [00:00<00:00, 92981.53it/s]\n"
     ]
    }
   ],
   "source": [
    "# Add your code here\n",
    "pred_probs = model.predict(test_spa_enc[:1000,:].reshape((test_spa_enc[:1000,:].shape[0],\n",
    "                                                          test_spa_enc[:1000,:].shape[1])), verbose=1)\n",
    "preds = [np.argmax(i, axis=1) for i in pred_probs]\n",
    "# convert predictions into text (English)\n",
    "pred_texts = generate_prediction_texts(pred_seqs=preds, idx2word_map=eng_idx2word)\n",
    "pred_df = pd.DataFrame({'source': test_spa[:1000], 'target' : test_eng[:1000], 'predicted' : pred_texts})"
   ]
  },
  {
   "cell_type": "code",
   "execution_count": 23,
   "metadata": {
    "colab": {
     "base_uri": "https://localhost:8080/",
     "height": 337
    },
    "id": "1dRuDrNV22Qc",
    "outputId": "2dae4b40-11de-4b18-e782-3d13163aa7ec"
   },
   "outputs": [
    {
     "data": {
      "text/html": [
       "<div>\n",
       "<style scoped>\n",
       "    .dataframe tbody tr th:only-of-type {\n",
       "        vertical-align: middle;\n",
       "    }\n",
       "\n",
       "    .dataframe tbody tr th {\n",
       "        vertical-align: top;\n",
       "    }\n",
       "\n",
       "    .dataframe thead th {\n",
       "        text-align: right;\n",
       "    }\n",
       "</style>\n",
       "<table border=\"1\" class=\"dataframe\">\n",
       "  <thead>\n",
       "    <tr style=\"text-align: right;\">\n",
       "      <th></th>\n",
       "      <th>0</th>\n",
       "      <th>1</th>\n",
       "      <th>2</th>\n",
       "      <th>3</th>\n",
       "      <th>4</th>\n",
       "      <th>5</th>\n",
       "      <th>6</th>\n",
       "      <th>7</th>\n",
       "      <th>8</th>\n",
       "      <th>9</th>\n",
       "      <th>10</th>\n",
       "      <th>11</th>\n",
       "      <th>12</th>\n",
       "      <th>13</th>\n",
       "      <th>14</th>\n",
       "      <th>15</th>\n",
       "      <th>16</th>\n",
       "      <th>17</th>\n",
       "      <th>18</th>\n",
       "      <th>19</th>\n",
       "      <th>20</th>\n",
       "      <th>21</th>\n",
       "      <th>22</th>\n",
       "      <th>23</th>\n",
       "      <th>24</th>\n",
       "      <th>25</th>\n",
       "      <th>26</th>\n",
       "      <th>27</th>\n",
       "      <th>28</th>\n",
       "      <th>29</th>\n",
       "      <th>30</th>\n",
       "      <th>31</th>\n",
       "      <th>32</th>\n",
       "      <th>33</th>\n",
       "      <th>34</th>\n",
       "      <th>35</th>\n",
       "      <th>36</th>\n",
       "      <th>37</th>\n",
       "      <th>38</th>\n",
       "      <th>39</th>\n",
       "      <th>40</th>\n",
       "      <th>41</th>\n",
       "      <th>42</th>\n",
       "      <th>43</th>\n",
       "      <th>44</th>\n",
       "      <th>45</th>\n",
       "      <th>46</th>\n",
       "      <th>47</th>\n",
       "      <th>48</th>\n",
       "      <th>49</th>\n",
       "    </tr>\n",
       "  </thead>\n",
       "  <tbody>\n",
       "    <tr>\n",
       "      <th>source</th>\n",
       "      <td>estoy intentando recordar</td>\n",
       "      <td>tom tiene grandes problemas</td>\n",
       "      <td>caminaban de dos en fondo</td>\n",
       "      <td>no te debo nada</td>\n",
       "      <td>estamos ilesos</td>\n",
       "      <td>por favor vuelve a intentarlo</td>\n",
       "      <td>es mi mejor amigo</td>\n",
       "      <td>tom tiene que levantarse temprano</td>\n",
       "      <td>hable más alto por favor</td>\n",
       "      <td>me pone triste escucharlo</td>\n",
       "      <td>no tientes a la suerte</td>\n",
       "      <td>tom se puso serio</td>\n",
       "      <td>tom evitaba a maría</td>\n",
       "      <td>yo era un niño travieso</td>\n",
       "      <td>firme abajo</td>\n",
       "      <td>llama a tu hermano</td>\n",
       "      <td>no me agrada el tráfico</td>\n",
       "      <td>¿qué viste después</td>\n",
       "      <td>toma tu medicación</td>\n",
       "      <td>no siento nada</td>\n",
       "      <td>no estoy muerta</td>\n",
       "      <td>tenemos una ventaja</td>\n",
       "      <td>estoy en el septimo cielo</td>\n",
       "      <td>la vida es injusta</td>\n",
       "      <td>he bloqueado la puerta</td>\n",
       "      <td>tom se lo contó</td>\n",
       "      <td>¡feliz año</td>\n",
       "      <td>¿la conoces</td>\n",
       "      <td>disculpe la tardanza</td>\n",
       "      <td>el perro se alejó</td>\n",
       "      <td>estamos rodeados</td>\n",
       "      <td>nos han vencido</td>\n",
       "      <td>no es tan importante</td>\n",
       "      <td>vete</td>\n",
       "      <td>ellos eran muy estrictos</td>\n",
       "      <td>tom ha madurado</td>\n",
       "      <td>¿tom está celoso</td>\n",
       "      <td>tom lo va a intentar</td>\n",
       "      <td>reúnete conmigo esta noche</td>\n",
       "      <td>¡no esperen</td>\n",
       "      <td>estás manejando demasiado rápido</td>\n",
       "      <td>el pasatiempo de tom es el golf</td>\n",
       "      <td>¿tienes gatos</td>\n",
       "      <td>estaré preparada</td>\n",
       "      <td>ella se sonroja</td>\n",
       "      <td>conoces a todos</td>\n",
       "      <td>yo saltaba</td>\n",
       "      <td>no me gusta la sopa espesa</td>\n",
       "      <td>esperad un segundo</td>\n",
       "      <td>su hija es enfermera</td>\n",
       "    </tr>\n",
       "    <tr>\n",
       "      <th>target</th>\n",
       "      <td>im trying to remember</td>\n",
       "      <td>tom has big problems</td>\n",
       "      <td>they walked two abreast</td>\n",
       "      <td>i owe you nothing</td>\n",
       "      <td>no ones injured</td>\n",
       "      <td>please try again</td>\n",
       "      <td>hes my best friend</td>\n",
       "      <td>tom has to get up early</td>\n",
       "      <td>speak louder please</td>\n",
       "      <td>i am sad to hear it</td>\n",
       "      <td>dont tempt fate</td>\n",
       "      <td>tom became serious</td>\n",
       "      <td>tom avoided mary</td>\n",
       "      <td>i was a naughty boy</td>\n",
       "      <td>sign it at the bottom</td>\n",
       "      <td>call your brother</td>\n",
       "      <td>i dont like the traffic</td>\n",
       "      <td>what did you see next</td>\n",
       "      <td>take your medication</td>\n",
       "      <td>i feel nothing</td>\n",
       "      <td>im not dead</td>\n",
       "      <td>we have one advantage</td>\n",
       "      <td>im in seventh heaven</td>\n",
       "      <td>lifes not fair</td>\n",
       "      <td>i locked the door</td>\n",
       "      <td>tom told him</td>\n",
       "      <td>happy new year</td>\n",
       "      <td>do you know her</td>\n",
       "      <td>im sorry im late</td>\n",
       "      <td>the dog went away</td>\n",
       "      <td>were surrounded</td>\n",
       "      <td>weve been defeated</td>\n",
       "      <td>it isnt that important</td>\n",
       "      <td>go</td>\n",
       "      <td>they were very strict</td>\n",
       "      <td>tom has mellowed out</td>\n",
       "      <td>is tom jealous</td>\n",
       "      <td>tom will try</td>\n",
       "      <td>meet me tonight</td>\n",
       "      <td>dont wait</td>\n",
       "      <td>youre driving too fast</td>\n",
       "      <td>toms hobby is golf</td>\n",
       "      <td>do you have cats</td>\n",
       "      <td>ill be ready</td>\n",
       "      <td>shes turning red</td>\n",
       "      <td>you know everyone</td>\n",
       "      <td>i jumped up and down</td>\n",
       "      <td>i dont like thick soup</td>\n",
       "      <td>wait one second</td>\n",
       "      <td>his daughter is a nurse</td>\n",
       "    </tr>\n",
       "    <tr>\n",
       "      <th>predicted</th>\n",
       "      <td>im trying to remember</td>\n",
       "      <td>tom has big problems</td>\n",
       "      <td>they walked two abreast</td>\n",
       "      <td>i owe you nothing</td>\n",
       "      <td>no ones injured</td>\n",
       "      <td>please try again</td>\n",
       "      <td>hes my best friend</td>\n",
       "      <td>tom has to get up early</td>\n",
       "      <td>louder please</td>\n",
       "      <td>i am sad to hear it</td>\n",
       "      <td>dont tempt fate</td>\n",
       "      <td>tom became serious</td>\n",
       "      <td>tom avoided mary</td>\n",
       "      <td>i was a naughty boy</td>\n",
       "      <td>sign it at the</td>\n",
       "      <td>call your brother</td>\n",
       "      <td>i dont like the traffic</td>\n",
       "      <td>what did you see next</td>\n",
       "      <td>take your medication</td>\n",
       "      <td>i feel nothing</td>\n",
       "      <td>im not dead</td>\n",
       "      <td>we have one advantage</td>\n",
       "      <td>im in seventh heaven</td>\n",
       "      <td>life not unfair</td>\n",
       "      <td>i locked the door</td>\n",
       "      <td>tom told him</td>\n",
       "      <td>happy new year</td>\n",
       "      <td>do you know her</td>\n",
       "      <td>im sorry for being</td>\n",
       "      <td>the dog went away</td>\n",
       "      <td>were in</td>\n",
       "      <td>weve been defeated</td>\n",
       "      <td>its isnt that important</td>\n",
       "      <td>go</td>\n",
       "      <td>they were very strict</td>\n",
       "      <td>tom has mellowed out</td>\n",
       "      <td>is tom jealous</td>\n",
       "      <td>tom will try</td>\n",
       "      <td>meet me tonight</td>\n",
       "      <td>dont wait</td>\n",
       "      <td>youre driving too fast</td>\n",
       "      <td>toms hobby is golf</td>\n",
       "      <td>do you have cats</td>\n",
       "      <td>ill be ready</td>\n",
       "      <td>shes turning red</td>\n",
       "      <td>you know everyone</td>\n",
       "      <td>i jumped up and down</td>\n",
       "      <td>i dont like thick soup</td>\n",
       "      <td>wait one second</td>\n",
       "      <td>his daughter is a nurse</td>\n",
       "    </tr>\n",
       "  </tbody>\n",
       "</table>\n",
       "</div>"
      ],
      "text/plain": [
       "                                  0   ...                          49\n",
       "source     estoy intentando recordar  ...        su hija es enfermera\n",
       "target         im trying to remember  ...     his daughter is a nurse\n",
       "predicted  im trying to remember      ...  his daughter is a nurse   \n",
       "\n",
       "[3 rows x 50 columns]"
      ]
     },
     "execution_count": 23,
     "metadata": {},
     "output_type": "execute_result"
    }
   ],
   "source": [
    "pred_df.head(50).T"
   ]
  },
  {
   "cell_type": "code",
   "execution_count": null,
   "metadata": {
    "id": "QnkPD0lJ5Xcq"
   },
   "outputs": [],
   "source": []
  }
 ],
 "metadata": {
  "accelerator": "GPU",
  "colab": {
   "collapsed_sections": [],
   "name": "Exercise_2_Language_Translation.ipynb",
   "provenance": []
  },
  "kernelspec": {
   "display_name": "Python 3",
   "language": "python",
   "name": "python3"
  },
  "language_info": {
   "codemirror_mode": {
    "name": "ipython",
    "version": 3
   },
   "file_extension": ".py",
   "mimetype": "text/x-python",
   "name": "python",
   "nbconvert_exporter": "python",
   "pygments_lexer": "ipython3",
   "version": "3.8.5"
  }
 },
 "nbformat": 4,
 "nbformat_minor": 1
}
