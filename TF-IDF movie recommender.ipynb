{
 "cells": [
  {
   "cell_type": "markdown",
   "metadata": {
    "id": "R68xaHmANc_9"
   },
   "source": [
    "# Exercise 1 - Movie Recommender System (10 points)\n",
    "\n",
    "## Text Similarity\n",
    "\n",
    "Recommender systems are one of the popular and most adopted applications of machine learning. They are typically used to recommend entities to users and these entites can be anything like products, movies, services and so on.\n",
    "\n",
    "Popular examples of recommendations include,\n",
    "\n",
    "- Amazon suggesting products on its website\n",
    "- Amazon Prime, Netflix, Hotstar recommending movies\\shows\n",
    "- YouTube recommending videos to watch\n",
    "\n",
    "Typically recommender systems can be implemented in three ways:\n",
    "\n",
    "- Simple Rule-based Recommenders: Typically based on specific global metrics and thresholds like movie popularity, global ratings etc.\n",
    "- Content-based Recommenders: This is based on providing similar entities based on a specific entity of interest. Content metadata can be used here like movie descriptions, genre, cast, director and so on\n",
    "- Collaborative filtering Recommenders: Here we don't need metadata but we try to predict recommendations and ratings based on past ratings of different users and specific items.\n",
    "\n",
    "__We will be building a movie recommendation system here where based on data\\metadata pertaining to different movies, we try and recommend similar movies of interest!__\n",
    "\n",
    "With this exercise we will learn how to apply concepts learnt through tutorials of week1 and week2 respectively. Let's get started"
   ]
  },
  {
   "cell_type": "markdown",
   "metadata": {
    "id": "NJGJCzoMNzcV"
   },
   "source": [
    "## Load Data\n",
    "\n",
    "If you are using google colab please use the upload file button option from the 'Files' icon on the left pane to upload the `tmdb_5000_movies.csv.gz` dataset. "
   ]
  },
  {
   "cell_type": "code",
   "execution_count": 1,
   "metadata": {
    "id": "0DSTIovrNX21"
   },
   "outputs": [
    {
     "name": "stdout",
     "output_type": "stream",
     "text": [
      "<class 'pandas.core.frame.DataFrame'>\n",
      "RangeIndex: 4803 entries, 0 to 4802\n",
      "Data columns (total 20 columns):\n",
      " #   Column                Non-Null Count  Dtype  \n",
      "---  ------                --------------  -----  \n",
      " 0   budget                4803 non-null   int64  \n",
      " 1   genres                4803 non-null   object \n",
      " 2   homepage              1712 non-null   object \n",
      " 3   id                    4803 non-null   int64  \n",
      " 4   keywords              4803 non-null   object \n",
      " 5   original_language     4803 non-null   object \n",
      " 6   original_title        4803 non-null   object \n",
      " 7   overview              4800 non-null   object \n",
      " 8   popularity            4803 non-null   float64\n",
      " 9   production_companies  4803 non-null   object \n",
      " 10  production_countries  4803 non-null   object \n",
      " 11  release_date          4802 non-null   object \n",
      " 12  revenue               4803 non-null   int64  \n",
      " 13  runtime               4801 non-null   float64\n",
      " 14  spoken_languages      4803 non-null   object \n",
      " 15  status                4803 non-null   object \n",
      " 16  tagline               3959 non-null   object \n",
      " 17  title                 4803 non-null   object \n",
      " 18  vote_average          4803 non-null   float64\n",
      " 19  vote_count            4803 non-null   int64  \n",
      "dtypes: float64(3), int64(4), object(13)\n",
      "memory usage: 750.6+ KB\n"
     ]
    }
   ],
   "source": [
    "import pandas as pd\n",
    "\n",
    "df = pd.read_csv('tmdb_5000_movies.csv.gz', compression='gzip')\n",
    "df.info()"
   ]
  },
  {
   "cell_type": "markdown",
   "metadata": {
    "id": "M8lnuOLHrrar"
   },
   "source": [
    "### **Question 1**: **View** top few rows of the dataframe (1 point)"
   ]
  },
  {
   "cell_type": "code",
   "execution_count": 2,
   "metadata": {
    "id": "lgoyPLVhN1PJ"
   },
   "outputs": [
    {
     "data": {
      "text/html": [
       "<div>\n",
       "<style scoped>\n",
       "    .dataframe tbody tr th:only-of-type {\n",
       "        vertical-align: middle;\n",
       "    }\n",
       "\n",
       "    .dataframe tbody tr th {\n",
       "        vertical-align: top;\n",
       "    }\n",
       "\n",
       "    .dataframe thead th {\n",
       "        text-align: right;\n",
       "    }\n",
       "</style>\n",
       "<table border=\"1\" class=\"dataframe\">\n",
       "  <thead>\n",
       "    <tr style=\"text-align: right;\">\n",
       "      <th></th>\n",
       "      <th>budget</th>\n",
       "      <th>genres</th>\n",
       "      <th>homepage</th>\n",
       "      <th>id</th>\n",
       "      <th>keywords</th>\n",
       "      <th>original_language</th>\n",
       "      <th>original_title</th>\n",
       "      <th>overview</th>\n",
       "      <th>popularity</th>\n",
       "      <th>production_companies</th>\n",
       "      <th>production_countries</th>\n",
       "      <th>release_date</th>\n",
       "      <th>revenue</th>\n",
       "      <th>runtime</th>\n",
       "      <th>spoken_languages</th>\n",
       "      <th>status</th>\n",
       "      <th>tagline</th>\n",
       "      <th>title</th>\n",
       "      <th>vote_average</th>\n",
       "      <th>vote_count</th>\n",
       "    </tr>\n",
       "  </thead>\n",
       "  <tbody>\n",
       "    <tr>\n",
       "      <th>0</th>\n",
       "      <td>237000000</td>\n",
       "      <td>[{\"id\": 28, \"name\": \"Action\"}, {\"id\": 12, \"nam...</td>\n",
       "      <td>http://www.avatarmovie.com/</td>\n",
       "      <td>19995</td>\n",
       "      <td>[{\"id\": 1463, \"name\": \"culture clash\"}, {\"id\":...</td>\n",
       "      <td>en</td>\n",
       "      <td>Avatar</td>\n",
       "      <td>In the 22nd century, a paraplegic Marine is di...</td>\n",
       "      <td>150.437577</td>\n",
       "      <td>[{\"name\": \"Ingenious Film Partners\", \"id\": 289...</td>\n",
       "      <td>[{\"iso_3166_1\": \"US\", \"name\": \"United States o...</td>\n",
       "      <td>2009-12-10</td>\n",
       "      <td>2787965087</td>\n",
       "      <td>162.0</td>\n",
       "      <td>[{\"iso_639_1\": \"en\", \"name\": \"English\"}, {\"iso...</td>\n",
       "      <td>Released</td>\n",
       "      <td>Enter the World of Pandora.</td>\n",
       "      <td>Avatar</td>\n",
       "      <td>7.2</td>\n",
       "      <td>11800</td>\n",
       "    </tr>\n",
       "    <tr>\n",
       "      <th>1</th>\n",
       "      <td>300000000</td>\n",
       "      <td>[{\"id\": 12, \"name\": \"Adventure\"}, {\"id\": 14, \"...</td>\n",
       "      <td>http://disney.go.com/disneypictures/pirates/</td>\n",
       "      <td>285</td>\n",
       "      <td>[{\"id\": 270, \"name\": \"ocean\"}, {\"id\": 726, \"na...</td>\n",
       "      <td>en</td>\n",
       "      <td>Pirates of the Caribbean: At World's End</td>\n",
       "      <td>Captain Barbossa, long believed to be dead, ha...</td>\n",
       "      <td>139.082615</td>\n",
       "      <td>[{\"name\": \"Walt Disney Pictures\", \"id\": 2}, {\"...</td>\n",
       "      <td>[{\"iso_3166_1\": \"US\", \"name\": \"United States o...</td>\n",
       "      <td>2007-05-19</td>\n",
       "      <td>961000000</td>\n",
       "      <td>169.0</td>\n",
       "      <td>[{\"iso_639_1\": \"en\", \"name\": \"English\"}]</td>\n",
       "      <td>Released</td>\n",
       "      <td>At the end of the world, the adventure begins.</td>\n",
       "      <td>Pirates of the Caribbean: At World's End</td>\n",
       "      <td>6.9</td>\n",
       "      <td>4500</td>\n",
       "    </tr>\n",
       "    <tr>\n",
       "      <th>2</th>\n",
       "      <td>245000000</td>\n",
       "      <td>[{\"id\": 28, \"name\": \"Action\"}, {\"id\": 12, \"nam...</td>\n",
       "      <td>http://www.sonypictures.com/movies/spectre/</td>\n",
       "      <td>206647</td>\n",
       "      <td>[{\"id\": 470, \"name\": \"spy\"}, {\"id\": 818, \"name...</td>\n",
       "      <td>en</td>\n",
       "      <td>Spectre</td>\n",
       "      <td>A cryptic message from Bond’s past sends him o...</td>\n",
       "      <td>107.376788</td>\n",
       "      <td>[{\"name\": \"Columbia Pictures\", \"id\": 5}, {\"nam...</td>\n",
       "      <td>[{\"iso_3166_1\": \"GB\", \"name\": \"United Kingdom\"...</td>\n",
       "      <td>2015-10-26</td>\n",
       "      <td>880674609</td>\n",
       "      <td>148.0</td>\n",
       "      <td>[{\"iso_639_1\": \"fr\", \"name\": \"Fran\\u00e7ais\"},...</td>\n",
       "      <td>Released</td>\n",
       "      <td>A Plan No One Escapes</td>\n",
       "      <td>Spectre</td>\n",
       "      <td>6.3</td>\n",
       "      <td>4466</td>\n",
       "    </tr>\n",
       "    <tr>\n",
       "      <th>3</th>\n",
       "      <td>250000000</td>\n",
       "      <td>[{\"id\": 28, \"name\": \"Action\"}, {\"id\": 80, \"nam...</td>\n",
       "      <td>http://www.thedarkknightrises.com/</td>\n",
       "      <td>49026</td>\n",
       "      <td>[{\"id\": 849, \"name\": \"dc comics\"}, {\"id\": 853,...</td>\n",
       "      <td>en</td>\n",
       "      <td>The Dark Knight Rises</td>\n",
       "      <td>Following the death of District Attorney Harve...</td>\n",
       "      <td>112.312950</td>\n",
       "      <td>[{\"name\": \"Legendary Pictures\", \"id\": 923}, {\"...</td>\n",
       "      <td>[{\"iso_3166_1\": \"US\", \"name\": \"United States o...</td>\n",
       "      <td>2012-07-16</td>\n",
       "      <td>1084939099</td>\n",
       "      <td>165.0</td>\n",
       "      <td>[{\"iso_639_1\": \"en\", \"name\": \"English\"}]</td>\n",
       "      <td>Released</td>\n",
       "      <td>The Legend Ends</td>\n",
       "      <td>The Dark Knight Rises</td>\n",
       "      <td>7.6</td>\n",
       "      <td>9106</td>\n",
       "    </tr>\n",
       "    <tr>\n",
       "      <th>4</th>\n",
       "      <td>260000000</td>\n",
       "      <td>[{\"id\": 28, \"name\": \"Action\"}, {\"id\": 12, \"nam...</td>\n",
       "      <td>http://movies.disney.com/john-carter</td>\n",
       "      <td>49529</td>\n",
       "      <td>[{\"id\": 818, \"name\": \"based on novel\"}, {\"id\":...</td>\n",
       "      <td>en</td>\n",
       "      <td>John Carter</td>\n",
       "      <td>John Carter is a war-weary, former military ca...</td>\n",
       "      <td>43.926995</td>\n",
       "      <td>[{\"name\": \"Walt Disney Pictures\", \"id\": 2}]</td>\n",
       "      <td>[{\"iso_3166_1\": \"US\", \"name\": \"United States o...</td>\n",
       "      <td>2012-03-07</td>\n",
       "      <td>284139100</td>\n",
       "      <td>132.0</td>\n",
       "      <td>[{\"iso_639_1\": \"en\", \"name\": \"English\"}]</td>\n",
       "      <td>Released</td>\n",
       "      <td>Lost in our world, found in another.</td>\n",
       "      <td>John Carter</td>\n",
       "      <td>6.1</td>\n",
       "      <td>2124</td>\n",
       "    </tr>\n",
       "  </tbody>\n",
       "</table>\n",
       "</div>"
      ],
      "text/plain": [
       "      budget                                             genres  \\\n",
       "0  237000000  [{\"id\": 28, \"name\": \"Action\"}, {\"id\": 12, \"nam...   \n",
       "1  300000000  [{\"id\": 12, \"name\": \"Adventure\"}, {\"id\": 14, \"...   \n",
       "2  245000000  [{\"id\": 28, \"name\": \"Action\"}, {\"id\": 12, \"nam...   \n",
       "3  250000000  [{\"id\": 28, \"name\": \"Action\"}, {\"id\": 80, \"nam...   \n",
       "4  260000000  [{\"id\": 28, \"name\": \"Action\"}, {\"id\": 12, \"nam...   \n",
       "\n",
       "                                       homepage      id  \\\n",
       "0                   http://www.avatarmovie.com/   19995   \n",
       "1  http://disney.go.com/disneypictures/pirates/     285   \n",
       "2   http://www.sonypictures.com/movies/spectre/  206647   \n",
       "3            http://www.thedarkknightrises.com/   49026   \n",
       "4          http://movies.disney.com/john-carter   49529   \n",
       "\n",
       "                                            keywords original_language  \\\n",
       "0  [{\"id\": 1463, \"name\": \"culture clash\"}, {\"id\":...                en   \n",
       "1  [{\"id\": 270, \"name\": \"ocean\"}, {\"id\": 726, \"na...                en   \n",
       "2  [{\"id\": 470, \"name\": \"spy\"}, {\"id\": 818, \"name...                en   \n",
       "3  [{\"id\": 849, \"name\": \"dc comics\"}, {\"id\": 853,...                en   \n",
       "4  [{\"id\": 818, \"name\": \"based on novel\"}, {\"id\":...                en   \n",
       "\n",
       "                             original_title  \\\n",
       "0                                    Avatar   \n",
       "1  Pirates of the Caribbean: At World's End   \n",
       "2                                   Spectre   \n",
       "3                     The Dark Knight Rises   \n",
       "4                               John Carter   \n",
       "\n",
       "                                            overview  popularity  \\\n",
       "0  In the 22nd century, a paraplegic Marine is di...  150.437577   \n",
       "1  Captain Barbossa, long believed to be dead, ha...  139.082615   \n",
       "2  A cryptic message from Bond’s past sends him o...  107.376788   \n",
       "3  Following the death of District Attorney Harve...  112.312950   \n",
       "4  John Carter is a war-weary, former military ca...   43.926995   \n",
       "\n",
       "                                production_companies  \\\n",
       "0  [{\"name\": \"Ingenious Film Partners\", \"id\": 289...   \n",
       "1  [{\"name\": \"Walt Disney Pictures\", \"id\": 2}, {\"...   \n",
       "2  [{\"name\": \"Columbia Pictures\", \"id\": 5}, {\"nam...   \n",
       "3  [{\"name\": \"Legendary Pictures\", \"id\": 923}, {\"...   \n",
       "4        [{\"name\": \"Walt Disney Pictures\", \"id\": 2}]   \n",
       "\n",
       "                                production_countries release_date     revenue  \\\n",
       "0  [{\"iso_3166_1\": \"US\", \"name\": \"United States o...   2009-12-10  2787965087   \n",
       "1  [{\"iso_3166_1\": \"US\", \"name\": \"United States o...   2007-05-19   961000000   \n",
       "2  [{\"iso_3166_1\": \"GB\", \"name\": \"United Kingdom\"...   2015-10-26   880674609   \n",
       "3  [{\"iso_3166_1\": \"US\", \"name\": \"United States o...   2012-07-16  1084939099   \n",
       "4  [{\"iso_3166_1\": \"US\", \"name\": \"United States o...   2012-03-07   284139100   \n",
       "\n",
       "   runtime                                   spoken_languages    status  \\\n",
       "0    162.0  [{\"iso_639_1\": \"en\", \"name\": \"English\"}, {\"iso...  Released   \n",
       "1    169.0           [{\"iso_639_1\": \"en\", \"name\": \"English\"}]  Released   \n",
       "2    148.0  [{\"iso_639_1\": \"fr\", \"name\": \"Fran\\u00e7ais\"},...  Released   \n",
       "3    165.0           [{\"iso_639_1\": \"en\", \"name\": \"English\"}]  Released   \n",
       "4    132.0           [{\"iso_639_1\": \"en\", \"name\": \"English\"}]  Released   \n",
       "\n",
       "                                          tagline  \\\n",
       "0                     Enter the World of Pandora.   \n",
       "1  At the end of the world, the adventure begins.   \n",
       "2                           A Plan No One Escapes   \n",
       "3                                 The Legend Ends   \n",
       "4            Lost in our world, found in another.   \n",
       "\n",
       "                                      title  vote_average  vote_count  \n",
       "0                                    Avatar           7.2       11800  \n",
       "1  Pirates of the Caribbean: At World's End           6.9        4500  \n",
       "2                                   Spectre           6.3        4466  \n",
       "3                     The Dark Knight Rises           7.6        9106  \n",
       "4                               John Carter           6.1        2124  "
      ]
     },
     "execution_count": 2,
     "metadata": {},
     "output_type": "execute_result"
    }
   ],
   "source": [
    "df.head()"
   ]
  },
  {
   "cell_type": "code",
   "execution_count": 3,
   "metadata": {
    "id": "KXwSZNO2N1Mt"
   },
   "outputs": [],
   "source": [
    "column_list = ['title', 'tagline', 'overview', 'genres', 'popularity']\n",
    "df = df[column_list]\n",
    "df.tagline.fillna('', inplace=True)"
   ]
  },
  {
   "cell_type": "markdown",
   "metadata": {
    "id": "shzA7Qo7r-p7"
   },
   "source": [
    "### **Question 2**: Merge text from tagline column with text from overview column (1 point)"
   ]
  },
  {
   "cell_type": "code",
   "execution_count": 8,
   "metadata": {
    "id": "zA6-NtKOr8kc"
   },
   "outputs": [],
   "source": [
    "df['description'] = df['tagline'].map(str) + ' ' + df['overview'].map(str)"
   ]
  },
  {
   "cell_type": "code",
   "execution_count": 9,
   "metadata": {
    "id": "bg9w7Xz17mKn"
   },
   "outputs": [
    {
     "name": "stdout",
     "output_type": "stream",
     "text": [
      "<class 'pandas.core.frame.DataFrame'>\n",
      "Int64Index: 4800 entries, 0 to 4802\n",
      "Data columns (total 6 columns):\n",
      " #   Column       Non-Null Count  Dtype  \n",
      "---  ------       --------------  -----  \n",
      " 0   title        4800 non-null   object \n",
      " 1   tagline      4800 non-null   object \n",
      " 2   overview     4800 non-null   object \n",
      " 3   genres       4800 non-null   object \n",
      " 4   popularity   4800 non-null   float64\n",
      " 5   description  4800 non-null   object \n",
      "dtypes: float64(1), object(5)\n",
      "memory usage: 262.5+ KB\n"
     ]
    }
   ],
   "source": [
    "df.dropna(inplace=True)\n",
    "df.info()"
   ]
  },
  {
   "cell_type": "markdown",
   "metadata": {
    "id": "V0EffUOlN-2X"
   },
   "source": [
    "## Text Preprocessing\n",
    "\n",
    "First step is to prepare the text columns for analysis. In this section we will prepare textual columns before we extract features from them"
   ]
  },
  {
   "cell_type": "code",
   "execution_count": 10,
   "metadata": {
    "id": "Jp5owy9PqvO6"
   },
   "outputs": [],
   "source": [
    "import nltk"
   ]
  },
  {
   "cell_type": "code",
   "execution_count": 11,
   "metadata": {
    "id": "KULzsrOfquoU"
   },
   "outputs": [
    {
     "name": "stderr",
     "output_type": "stream",
     "text": [
      "[nltk_data] Downloading package stopwords to C:\\Users\\New\n",
      "[nltk_data]     User\\AppData\\Roaming\\nltk_data...\n",
      "[nltk_data]   Unzipping corpora\\stopwords.zip.\n",
      "[nltk_data] Downloading package punkt to C:\\Users\\New\n",
      "[nltk_data]     User\\AppData\\Roaming\\nltk_data...\n",
      "[nltk_data]   Unzipping tokenizers\\punkt.zip.\n"
     ]
    },
    {
     "data": {
      "text/plain": [
       "True"
      ]
     },
     "execution_count": 11,
     "metadata": {},
     "output_type": "execute_result"
    }
   ],
   "source": [
    "nltk.download('stopwords')\n",
    "nltk.download('punkt')"
   ]
  },
  {
   "cell_type": "markdown",
   "metadata": {
    "id": "CqzSvOawsU2Z"
   },
   "source": [
    "### **Question 3**: Complete the text normalization utility function (1 point)"
   ]
  },
  {
   "cell_type": "code",
   "execution_count": 12,
   "metadata": {
    "id": "3Xqbciot70Ms"
   },
   "outputs": [],
   "source": [
    "import re\n",
    "import numpy as np\n",
    "\n",
    "stop_words = nltk.corpus.stopwords.words('english')"
   ]
  },
  {
   "cell_type": "code",
   "execution_count": 17,
   "metadata": {
    "id": "3d4jQYOoN1Js"
   },
   "outputs": [],
   "source": [
    "def normalize_document(doc):\n",
    "    # remove special characters\\whitespaces, ignore case\n",
    "    doc = re.sub(r'[^a-zA-Z0-9\\s]', '', doc, re.IGNORECASE|re.A)\n",
    "\n",
    "    # lower case  \n",
    "    doc = doc.lower()\n",
    "\n",
    "    # remove whitespaces\n",
    "    doc = re.sub(' +', ' ', doc)\n",
    "    doc = doc.strip()\n",
    "\n",
    "    # tokenize document\n",
    "    tokens = nltk.word_tokenize(doc)\n",
    "\n",
    "    # filter stopwords out of document\n",
    "    filtered_tokens = [token for token in tokens if token not in stop_words]\n",
    "\n",
    "    # re-create/merge sentences from filtered content\n",
    "    doc = ' '.join(filtered_tokens)\n",
    "    return doc"
   ]
  },
  {
   "cell_type": "code",
   "execution_count": 18,
   "metadata": {
    "id": "0XANmdKWOD4l"
   },
   "outputs": [
    {
     "data": {
      "text/plain": [
       "4800"
      ]
     },
     "execution_count": 18,
     "metadata": {},
     "output_type": "execute_result"
    }
   ],
   "source": [
    "normalize_corpus = np.vectorize(normalize_document)\n",
    "\n",
    "norm_corpus = normalize_corpus(list(df['description']))\n",
    "len(norm_corpus)"
   ]
  },
  {
   "cell_type": "markdown",
   "metadata": {
    "id": "OxUL5IhZOGFY"
   },
   "source": [
    "## TF-IDF Features\n",
    "\n",
    "Free text can be vectorized for use in different NLP tasks using a number of methods. TF-IDF is a robust method we covered in week-2 tutorials. \n",
    "\n",
    "Let us use the same to prepare features from description column "
   ]
  },
  {
   "cell_type": "markdown",
   "metadata": {
    "id": "KOk7U_OltnqU"
   },
   "source": [
    "### **Question 4**: Prepare Features based on TF-IDF (1 point)\n",
    "\n",
    "use the TFidfVectorizer module with the following settings\n",
    "\n",
    "- `ngram_range` as `(1, 2)` to use both uni and bi-grams\n",
    "- `min_df` as `2` to remove words which occur only once across all movie descriptions"
   ]
  },
  {
   "cell_type": "code",
   "execution_count": 19,
   "metadata": {
    "id": "wojUlHrYOD1f"
   },
   "outputs": [
    {
     "data": {
      "text/plain": [
       "(4800, 20667)"
      ]
     },
     "execution_count": 19,
     "metadata": {},
     "output_type": "execute_result"
    }
   ],
   "source": [
    "from sklearn.feature_extraction.text import TfidfVectorizer\n",
    "\n",
    "tf = TfidfVectorizer(ngram_range = (1,2), min_df = 2)\n",
    "\n",
    "# fit and transform the text corpus\n",
    "tfidf_matrix = tf.fit_transform(norm_corpus)\n",
    "tfidf_matrix.shape"
   ]
  },
  {
   "cell_type": "markdown",
   "metadata": {
    "id": "zb0F9F0mOKB6"
   },
   "source": [
    "## Pair-wise Similarity\n",
    "\n",
    "Recommendations in its most simplest form is a method of identifying items which are most similar to given user's preferences. In this scenario we use a content based recommendation system which tries to find similar movies based on the movie content i.e. description.\n",
    "\n",
    "To identify similar items, we will use pairwise similarity measure called **cosine similarity**"
   ]
  },
  {
   "cell_type": "code",
   "execution_count": 20,
   "metadata": {
    "id": "UkgmiTlTODy0"
   },
   "outputs": [
    {
     "data": {
      "text/html": [
       "<div>\n",
       "<style scoped>\n",
       "    .dataframe tbody tr th:only-of-type {\n",
       "        vertical-align: middle;\n",
       "    }\n",
       "\n",
       "    .dataframe tbody tr th {\n",
       "        vertical-align: top;\n",
       "    }\n",
       "\n",
       "    .dataframe thead th {\n",
       "        text-align: right;\n",
       "    }\n",
       "</style>\n",
       "<table border=\"1\" class=\"dataframe\">\n",
       "  <thead>\n",
       "    <tr style=\"text-align: right;\">\n",
       "      <th></th>\n",
       "      <th>0</th>\n",
       "      <th>1</th>\n",
       "      <th>2</th>\n",
       "      <th>3</th>\n",
       "      <th>4</th>\n",
       "      <th>5</th>\n",
       "      <th>6</th>\n",
       "      <th>7</th>\n",
       "      <th>8</th>\n",
       "      <th>9</th>\n",
       "      <th>...</th>\n",
       "      <th>4790</th>\n",
       "      <th>4791</th>\n",
       "      <th>4792</th>\n",
       "      <th>4793</th>\n",
       "      <th>4794</th>\n",
       "      <th>4795</th>\n",
       "      <th>4796</th>\n",
       "      <th>4797</th>\n",
       "      <th>4798</th>\n",
       "      <th>4799</th>\n",
       "    </tr>\n",
       "  </thead>\n",
       "  <tbody>\n",
       "    <tr>\n",
       "      <th>0</th>\n",
       "      <td>1.000000</td>\n",
       "      <td>0.010701</td>\n",
       "      <td>0.000000</td>\n",
       "      <td>0.019030</td>\n",
       "      <td>0.028687</td>\n",
       "      <td>0.024901</td>\n",
       "      <td>0.000000</td>\n",
       "      <td>0.026516</td>\n",
       "      <td>0.000000</td>\n",
       "      <td>0.007420</td>\n",
       "      <td>...</td>\n",
       "      <td>0.009702</td>\n",
       "      <td>0.0</td>\n",
       "      <td>0.023336</td>\n",
       "      <td>0.033549</td>\n",
       "      <td>0.000000</td>\n",
       "      <td>0.000000</td>\n",
       "      <td>0.0</td>\n",
       "      <td>0.006892</td>\n",
       "      <td>0.000000</td>\n",
       "      <td>0.000000</td>\n",
       "    </tr>\n",
       "    <tr>\n",
       "      <th>1</th>\n",
       "      <td>0.010701</td>\n",
       "      <td>1.000000</td>\n",
       "      <td>0.011891</td>\n",
       "      <td>0.000000</td>\n",
       "      <td>0.041623</td>\n",
       "      <td>0.000000</td>\n",
       "      <td>0.014564</td>\n",
       "      <td>0.027122</td>\n",
       "      <td>0.034688</td>\n",
       "      <td>0.007614</td>\n",
       "      <td>...</td>\n",
       "      <td>0.009956</td>\n",
       "      <td>0.0</td>\n",
       "      <td>0.004818</td>\n",
       "      <td>0.000000</td>\n",
       "      <td>0.000000</td>\n",
       "      <td>0.012593</td>\n",
       "      <td>0.0</td>\n",
       "      <td>0.022391</td>\n",
       "      <td>0.013724</td>\n",
       "      <td>0.000000</td>\n",
       "    </tr>\n",
       "    <tr>\n",
       "      <th>2</th>\n",
       "      <td>0.000000</td>\n",
       "      <td>0.011891</td>\n",
       "      <td>1.000000</td>\n",
       "      <td>0.000000</td>\n",
       "      <td>0.000000</td>\n",
       "      <td>0.000000</td>\n",
       "      <td>0.000000</td>\n",
       "      <td>0.022242</td>\n",
       "      <td>0.015854</td>\n",
       "      <td>0.004891</td>\n",
       "      <td>...</td>\n",
       "      <td>0.042617</td>\n",
       "      <td>0.0</td>\n",
       "      <td>0.000000</td>\n",
       "      <td>0.000000</td>\n",
       "      <td>0.016519</td>\n",
       "      <td>0.000000</td>\n",
       "      <td>0.0</td>\n",
       "      <td>0.011682</td>\n",
       "      <td>0.000000</td>\n",
       "      <td>0.004000</td>\n",
       "    </tr>\n",
       "    <tr>\n",
       "      <th>3</th>\n",
       "      <td>0.019030</td>\n",
       "      <td>0.000000</td>\n",
       "      <td>0.000000</td>\n",
       "      <td>1.000000</td>\n",
       "      <td>0.008793</td>\n",
       "      <td>0.000000</td>\n",
       "      <td>0.015976</td>\n",
       "      <td>0.023172</td>\n",
       "      <td>0.027452</td>\n",
       "      <td>0.073610</td>\n",
       "      <td>...</td>\n",
       "      <td>0.000000</td>\n",
       "      <td>0.0</td>\n",
       "      <td>0.009667</td>\n",
       "      <td>0.000000</td>\n",
       "      <td>0.000000</td>\n",
       "      <td>0.000000</td>\n",
       "      <td>0.0</td>\n",
       "      <td>0.028354</td>\n",
       "      <td>0.021785</td>\n",
       "      <td>0.027735</td>\n",
       "    </tr>\n",
       "    <tr>\n",
       "      <th>4</th>\n",
       "      <td>0.028687</td>\n",
       "      <td>0.041623</td>\n",
       "      <td>0.000000</td>\n",
       "      <td>0.008793</td>\n",
       "      <td>1.000000</td>\n",
       "      <td>0.000000</td>\n",
       "      <td>0.022912</td>\n",
       "      <td>0.028676</td>\n",
       "      <td>0.000000</td>\n",
       "      <td>0.023538</td>\n",
       "      <td>...</td>\n",
       "      <td>0.014800</td>\n",
       "      <td>0.0</td>\n",
       "      <td>0.000000</td>\n",
       "      <td>0.000000</td>\n",
       "      <td>0.000000</td>\n",
       "      <td>0.010760</td>\n",
       "      <td>0.0</td>\n",
       "      <td>0.010514</td>\n",
       "      <td>0.000000</td>\n",
       "      <td>0.000000</td>\n",
       "    </tr>\n",
       "  </tbody>\n",
       "</table>\n",
       "<p>5 rows × 4800 columns</p>\n",
       "</div>"
      ],
      "text/plain": [
       "       0         1         2         3         4         5         6     \\\n",
       "0  1.000000  0.010701  0.000000  0.019030  0.028687  0.024901  0.000000   \n",
       "1  0.010701  1.000000  0.011891  0.000000  0.041623  0.000000  0.014564   \n",
       "2  0.000000  0.011891  1.000000  0.000000  0.000000  0.000000  0.000000   \n",
       "3  0.019030  0.000000  0.000000  1.000000  0.008793  0.000000  0.015976   \n",
       "4  0.028687  0.041623  0.000000  0.008793  1.000000  0.000000  0.022912   \n",
       "\n",
       "       7         8         9     ...      4790  4791      4792      4793  \\\n",
       "0  0.026516  0.000000  0.007420  ...  0.009702   0.0  0.023336  0.033549   \n",
       "1  0.027122  0.034688  0.007614  ...  0.009956   0.0  0.004818  0.000000   \n",
       "2  0.022242  0.015854  0.004891  ...  0.042617   0.0  0.000000  0.000000   \n",
       "3  0.023172  0.027452  0.073610  ...  0.000000   0.0  0.009667  0.000000   \n",
       "4  0.028676  0.000000  0.023538  ...  0.014800   0.0  0.000000  0.000000   \n",
       "\n",
       "       4794      4795  4796      4797      4798      4799  \n",
       "0  0.000000  0.000000   0.0  0.006892  0.000000  0.000000  \n",
       "1  0.000000  0.012593   0.0  0.022391  0.013724  0.000000  \n",
       "2  0.016519  0.000000   0.0  0.011682  0.000000  0.004000  \n",
       "3  0.000000  0.000000   0.0  0.028354  0.021785  0.027735  \n",
       "4  0.000000  0.010760   0.0  0.010514  0.000000  0.000000  \n",
       "\n",
       "[5 rows x 4800 columns]"
      ]
     },
     "execution_count": 20,
     "metadata": {},
     "output_type": "execute_result"
    }
   ],
   "source": [
    "from sklearn.metrics.pairwise import cosine_similarity\n",
    "\n",
    "doc_sim = cosine_similarity(tfidf_matrix)\n",
    "doc_sim_df = pd.DataFrame(doc_sim)\n",
    "doc_sim_df.head()"
   ]
  },
  {
   "cell_type": "markdown",
   "metadata": {
    "id": "MpVoDJNmOPBD"
   },
   "source": [
    "## Step by Step Methodology for Recommendation"
   ]
  },
  {
   "cell_type": "markdown",
   "metadata": {
    "id": "TGGJ_gJFuZ-o"
   },
   "source": [
    "### **Question 5**: Get a list of Movie titles (1 point)"
   ]
  },
  {
   "cell_type": "code",
   "execution_count": 21,
   "metadata": {
    "id": "QAMyZTC9ODZU"
   },
   "outputs": [
    {
     "data": {
      "text/plain": [
       "array(['Avatar', \"Pirates of the Caribbean: At World's End\", 'Spectre',\n",
       "       ..., 'Signed, Sealed, Delivered', 'Shanghai Calling',\n",
       "       'My Date with Drew'], dtype=object)"
      ]
     },
     "execution_count": 21,
     "metadata": {},
     "output_type": "execute_result"
    }
   ],
   "source": [
    "# movie titles\n",
    "movies_list = df['title'].values\n",
    "movies_list"
   ]
  },
  {
   "cell_type": "markdown",
   "metadata": {
    "id": "TmMMPq3-ukJV"
   },
   "source": [
    "### **Question 6**: Given a movie title, get its index value (1 point)\n",
    "\n",
    "Here let's get the ID for the movie __Minions__\n",
    "\n",
    "__Hint:__ Numpy has dedicated functions to find the index from a numpy array or you can use list indexing functions also. The output should be a number"
   ]
  },
  {
   "cell_type": "code",
   "execution_count": 23,
   "metadata": {
    "id": "Ze84U5EVOUhW"
   },
   "outputs": [
    {
     "data": {
      "text/plain": [
       "(array([546], dtype=int64),)"
      ]
     },
     "execution_count": 23,
     "metadata": {},
     "output_type": "execute_result"
    }
   ],
   "source": [
    "## movie ID for Minions\n",
    "movie_idx = np.where(movies_list == 'Minions')\n",
    "movie_idx"
   ]
  },
  {
   "cell_type": "markdown",
   "metadata": {
    "id": "MoCHlZl9OYSk"
   },
   "source": [
    "## Get Similar Movies\n",
    "\n",
    "We already calculated pairwise similarity between all movies in our dataset. Next step is to extract moview similar to a given movie.\n",
    "\n",
    "Let us use the movie _Minions_ at index _546_ to find some similar movies using ``doc_sim_df`` dataframe"
   ]
  },
  {
   "cell_type": "markdown",
   "metadata": {
    "id": "egLaZYx9vGP0"
   },
   "source": [
    "### **Question 7**: Extract row of dataframe given an index (1 point)"
   ]
  },
  {
   "cell_type": "code",
   "execution_count": 26,
   "metadata": {
    "id": "UmSNFxLxOUYA"
   },
   "outputs": [
    {
     "data": {
      "text/plain": [
       "array([[0.0104544 , 0.01072835, 0.        , ..., 0.00690954, 0.        ,\n",
       "        0.        ]])"
      ]
     },
     "execution_count": 26,
     "metadata": {},
     "output_type": "execute_result"
    }
   ],
   "source": [
    "movie_similarities = doc_sim_df.iloc[movie_idx].values\n",
    "movie_similarities"
   ]
  },
  {
   "cell_type": "markdown",
   "metadata": {
    "id": "HLgaeRlcOeMv"
   },
   "source": [
    "### Top Similar Movies"
   ]
  },
  {
   "cell_type": "markdown",
   "metadata": {
    "id": "Q-Oa0wvlvVVb"
   },
   "source": [
    "### **Question 8**: Get top 5 most similar movies in descending order of similarity (1 point)\n",
    "\n",
    "_hint: In descending order the index 0 represents the movie itself (as a movie description is 100% similar to itself, so it is safe to skip index 0_\n",
    "\n",
    "#### Get top 5 movie IDs"
   ]
  },
  {
   "cell_type": "code",
   "execution_count": 105,
   "metadata": {
    "id": "7MipUk82OjRh"
   },
   "outputs": [
    {
     "data": {
      "text/plain": [
       "array([506, 614, 241, 813, 154], dtype=int64)"
      ]
     },
     "execution_count": 105,
     "metadata": {},
     "output_type": "execute_result"
    }
   ],
   "source": [
    "similar_movie_idxs = np.argsort(movie_similarities)\n",
    "similar_movie_idxs = similar_movie_idxs[0][-6:-1][::-1]\n",
    "similar_movie_idxs"
   ]
  },
  {
   "cell_type": "markdown",
   "metadata": {
    "id": "0Xhfjbkq_LRL"
   },
   "source": [
    "#### Get top 5 movie names"
   ]
  },
  {
   "cell_type": "code",
   "execution_count": 92,
   "metadata": {
    "id": "kRofKIaaOlc1"
   },
   "outputs": [
    {
     "data": {
      "text/plain": [
       "array(['Despicable Me 2', 'Despicable Me',\n",
       "       'Teenage Mutant Ninja Turtles: Out of the Shadows', 'Superman',\n",
       "       'Rise of the Guardians'], dtype=object)"
      ]
     },
     "execution_count": 92,
     "metadata": {},
     "output_type": "execute_result"
    }
   ],
   "source": [
    "similar_movies = movies_list[similar_movie_idxs]\n",
    "similar_movies"
   ]
  },
  {
   "cell_type": "markdown",
   "metadata": {
    "id": "siWmXd9JOpBM"
   },
   "source": [
    "## Movie Recommender\n",
    "\n",
    "Time to make use of all the smaller steps we have gone through so far to prepare a recommendation utility"
   ]
  },
  {
   "cell_type": "markdown",
   "metadata": {
    "id": "mU7uI95Vv1kA"
   },
   "source": [
    "### **Question 9**: Complete the utility function for getting movie recommendations (2 point)"
   ]
  },
  {
   "cell_type": "code",
   "execution_count": 93,
   "metadata": {
    "id": "ekCd9YoFeouy"
   },
   "outputs": [],
   "source": [
    "def movie_recommender(movie_title, movies=movies_list, doc_sims=doc_sim_df):\n",
    "    # find movie id\n",
    "    movie_idx = np.where(movies == movie_title)\n",
    "\n",
    "    # get movie similarities. \n",
    "    #Hint: movie index helps find the exact row number\n",
    "    movie_similarities = doc_sims.iloc[movie_idx].values\n",
    "    \n",
    "    # get top 5 similar movie IDs\n",
    "    # Hint: use numpy utility to do a sort as before\n",
    "    similar_movie_idxs = np.argsort(movie_similarities)\n",
    "    similar_movie_idxs = similar_movie_idxs[0][-6:-1][::-1]\n",
    "    \n",
    "    # get top 5 movies names\n",
    "    similar_movies = movies[similar_movie_idxs]\n",
    "    \n",
    "    # return the top 5 movies\n",
    "    return similar_movies"
   ]
  },
  {
   "cell_type": "markdown",
   "metadata": {
    "id": "ynsmxX0lgoO6"
   },
   "source": [
    "### Find Similar Movies"
   ]
  },
  {
   "cell_type": "code",
   "execution_count": 94,
   "metadata": {
    "id": "fV_o8yYDgnNw"
   },
   "outputs": [],
   "source": [
    "popular_movies = ['Minions', \n",
    "                  'Interstellar', \n",
    "                  'Deadpool', \n",
    "                  'Jurassic World', \n",
    "                  'Pirates of the Caribbean: The Curse of the Black Pearl',\n",
    "                  'The Dark Knight Rises',\n",
    "                  'Dawn of the Planet of the Apes',\n",
    "                  'Iron Man']"
   ]
  },
  {
   "cell_type": "code",
   "execution_count": 95,
   "metadata": {
    "id": "2Eq9d59Pgojf"
   },
   "outputs": [
    {
     "name": "stdout",
     "output_type": "stream",
     "text": [
      "Movie: Minions\n",
      "Top 5 recommended Movies: ['Despicable Me 2' 'Despicable Me'\n",
      " 'Teenage Mutant Ninja Turtles: Out of the Shadows' 'Superman'\n",
      " 'Rise of the Guardians']\n",
      "\n",
      "Movie: Interstellar\n",
      "Top 5 recommended Movies: ['Gattaca' 'Space Pirate Captain Harlock' 'Space Cowboys'\n",
      " 'Starship Troopers' 'Final Destination 2']\n",
      "\n",
      "Movie: Deadpool\n",
      "Top 5 recommended Movies: ['Silent Trigger' 'Underworld: Evolution' 'Bronson' 'Shaft' 'Don Jon']\n",
      "\n",
      "Movie: Jurassic World\n",
      "Top 5 recommended Movies: ['Jurassic Park' 'The Lost World: Jurassic Park' 'The Nut Job'\n",
      " \"National Lampoon's Vacation\" 'Vacation']\n",
      "\n",
      "Movie: Pirates of the Caribbean: The Curse of the Black Pearl\n",
      "Top 5 recommended Movies: [\"Pirates of the Caribbean: Dead Man's Chest\" 'The Pirate'\n",
      " 'Pirates of the Caribbean: On Stranger Tides'\n",
      " 'The Pirates! In an Adventure with Scientists!' 'Joyful Noise']\n",
      "\n",
      "Movie: The Dark Knight Rises\n",
      "Top 5 recommended Movies: ['Batman Forever' 'The Dark Knight' 'Batman Returns' 'Batman'\n",
      " 'Batman: The Dark Knight Returns, Part 2']\n",
      "\n",
      "Movie: Dawn of the Planet of the Apes\n",
      "Top 5 recommended Movies: ['Battle for the Planet of the Apes' 'Groove' 'The Other End of the Line'\n",
      " 'Chicago Overcoat' 'Definitely, Maybe']\n",
      "\n",
      "Movie: Iron Man\n",
      "Top 5 recommended Movies: ['Iron Man 2' 'Avengers: Age of Ultron' 'Hostage' 'Iron Man 3'\n",
      " 'Baahubali: The Beginning']\n",
      "\n"
     ]
    }
   ],
   "source": [
    "for movie in popular_movies:\n",
    "    print('Movie:', movie)\n",
    "    print('Top 5 recommended Movies:', movie_recommender(movie_title=movie))\n",
    "    print()"
   ]
  },
  {
   "cell_type": "markdown",
   "metadata": {
    "id": "0WGTI1aogyVh"
   },
   "source": [
    "##**Bonus**: BM25 Similarity\n",
    "\n",
    "BM25 is a bag-of-words retrieval function that ranks a set of documents based on the query terms appearing in each document, regardless of their proximity within the document. It is a family of scoring functions with slightly different components and parameters.\n",
    "\n",
    "It is widely used in popular text search engine **ElasticSearch**. Get more details here: [link](https://www.elastic.co/blog/practical-bm25-part-2-the-bm25-algorithm-and-its-variables) "
   ]
  },
  {
   "cell_type": "code",
   "execution_count": 96,
   "metadata": {
    "id": "JNKCKaZxg0Ro"
   },
   "outputs": [],
   "source": [
    "import math\n",
    "from six import iteritems\n",
    "from six.moves import xrange"
   ]
  },
  {
   "cell_type": "code",
   "execution_count": 97,
   "metadata": {
    "id": "zcRtP2iKg1Cv"
   },
   "outputs": [],
   "source": [
    "PARAM_K1 = 2.5\n",
    "PARAM_B = 0.85\n",
    "EPSILON = 0.2"
   ]
  },
  {
   "cell_type": "code",
   "execution_count": 98,
   "metadata": {
    "id": "pJIzRcffg28X"
   },
   "outputs": [],
   "source": [
    "class BM25(object):\n",
    "    \"\"\"Implementation of Best Matching 25 ranking function.\n",
    "    Attributes\n",
    "    ----------\n",
    "    corpus_size : int\n",
    "        Size of corpus (number of documents).\n",
    "    avgdl : float\n",
    "        Average length of document in `corpus`.\n",
    "    corpus : list of list of str\n",
    "        Corpus of documents.\n",
    "    f : list of dicts of int\n",
    "        Dictionary with terms frequencies for each document in `corpus`. Words used as keys and frequencies as values.\n",
    "    df : dict\n",
    "        Dictionary with terms frequencies for whole `corpus`. Words used as keys and frequencies as values.\n",
    "    idf : dict\n",
    "        Dictionary with inversed terms frequencies for whole `corpus`. Words used as keys and frequencies as values.\n",
    "    doc_len : list of int\n",
    "        List of document lengths.\n",
    "    \"\"\"\n",
    "\n",
    "    def __init__(self, corpus):\n",
    "        \"\"\"\n",
    "        Parameters\n",
    "        ----------\n",
    "        corpus : list of list of str\n",
    "            Given corpus.\n",
    "        \"\"\"\n",
    "        self.corpus_size = len(corpus)\n",
    "        self.avgdl = sum(float(len(x)) for x in corpus) / self.corpus_size\n",
    "        self.corpus = corpus\n",
    "        self.f = []\n",
    "        self.df = {}\n",
    "        self.idf = {}\n",
    "        self.doc_len = []\n",
    "        self.initialize()\n",
    "\n",
    "    def initialize(self):\n",
    "        \"\"\"Calculates frequencies of terms in documents and in corpus. Also computes inverse document frequencies.\"\"\"\n",
    "        for document in self.corpus:\n",
    "            frequencies = {}\n",
    "            self.doc_len.append(len(document))\n",
    "            for word in document:\n",
    "                if word not in frequencies:\n",
    "                    frequencies[word] = 0\n",
    "                frequencies[word] += 1\n",
    "            self.f.append(frequencies)\n",
    "\n",
    "            for word, freq in iteritems(frequencies):\n",
    "                if word not in self.df:\n",
    "                    self.df[word] = 0\n",
    "                self.df[word] += 1\n",
    "\n",
    "        for word, freq in iteritems(self.df):\n",
    "            self.idf[word] = math.log(self.corpus_size - freq + 0.5) - math.log(freq + 0.5)\n",
    "\n",
    "    def get_score(self, document, index, average_idf):\n",
    "        \"\"\"Computes BM25 score of given `document` in relation to item of corpus selected by `index`.\n",
    "        Parameters\n",
    "        ----------\n",
    "        document : list of str\n",
    "            Document to be scored.\n",
    "        index : int\n",
    "            Index of document in corpus selected to score with `document`.\n",
    "        average_idf : float\n",
    "            Average idf in corpus.\n",
    "        Returns\n",
    "        -------\n",
    "        float\n",
    "            BM25 score.\n",
    "        \"\"\"\n",
    "        score = 0\n",
    "        for word in document:\n",
    "            if word not in self.f[index]:\n",
    "                continue\n",
    "            idf = self.idf[word] if self.idf[word] >= 0 else EPSILON * average_idf\n",
    "            score += (idf * self.f[index][word] * (PARAM_K1 + 1)\n",
    "                      / (self.f[index][word] + PARAM_K1 * (1 - PARAM_B + PARAM_B * self.doc_len[index] / self.avgdl)))\n",
    "        return score\n",
    "\n",
    "    def get_scores(self, document, average_idf):\n",
    "        \"\"\"Computes and returns BM25 scores of given `document` in relation to\n",
    "        every item in corpus.\n",
    "        Parameters\n",
    "        ----------\n",
    "        document : list of str\n",
    "            Document to be scored.\n",
    "        average_idf : float\n",
    "            Average idf in corpus.\n",
    "        Returns\n",
    "        -------\n",
    "        list of float\n",
    "            BM25 scores.\n",
    "        \"\"\"\n",
    "        scores = []\n",
    "        for index in xrange(self.corpus_size):\n",
    "            score = self.get_score(document, index, average_idf)\n",
    "            scores.append(score)\n",
    "        return scores\n",
    "\n",
    "\n",
    "def get_bm25_weights(corpus):\n",
    "    \"\"\"Returns BM25 scores (weights) of documents in corpus.\n",
    "    Each document has to be weighted with every document in given corpus.\n",
    "    Parameters\n",
    "    ----------\n",
    "    corpus : list of list of str\n",
    "        Corpus of documents.\n",
    "    Returns\n",
    "    -------\n",
    "    list of list of float\n",
    "        BM25 scores.\n",
    "    Examples\n",
    "    --------\n",
    "    >>> from gensim.summarization.bm25 import get_bm25_weights\n",
    "    >>> corpus = [\n",
    "    ...     [\"black\", \"cat\", \"white\", \"cat\"],\n",
    "    ...     [\"cat\", \"outer\", \"space\"],\n",
    "    ...     [\"wag\", \"dog\"]\n",
    "    ... ]\n",
    "    >>> result = get_bm25_weights(corpus)\n",
    "    \"\"\"\n",
    "    bm25 = BM25(corpus)\n",
    "    average_idf = sum(float(val) for val in bm25.idf.values()) / len(bm25.idf)\n",
    "\n",
    "    weights = []\n",
    "    for doc in corpus:\n",
    "        scores = bm25.get_scores(doc, average_idf)\n",
    "        weights.append(scores)\n",
    "\n",
    "    return weights"
   ]
  },
  {
   "cell_type": "code",
   "execution_count": 99,
   "metadata": {
    "id": "fagEGfOGg7KJ"
   },
   "outputs": [
    {
     "name": "stderr",
     "output_type": "stream",
     "text": [
      "<ipython-input-99-94e7105d1ed2>:1: VisibleDeprecationWarning: Creating an ndarray from ragged nested sequences (which is a list-or-tuple of lists-or-tuples-or ndarrays with different lengths or shapes) is deprecated. If you meant to do this, you must specify 'dtype=object' when creating the ndarray\n",
      "  norm_corpus_tokens = np.array([nltk.word_tokenize(doc) for doc in norm_corpus])\n"
     ]
    },
    {
     "data": {
      "text/plain": [
       "array([list(['enter', 'world', 'pandora', '22nd', 'century', 'paraplegic', 'marine', 'dispatched', 'moon', 'pandora', 'unique', 'mission', 'becomes', 'torn', 'following', 'orders', 'protecting', 'alien', 'civilization']),\n",
       "       list(['end', 'world', 'adventure', 'begins', 'captain', 'barbossa', 'long', 'believed', 'dead', 'come', 'back', 'life', 'headed', 'edge', 'earth', 'turner', 'elizabeth', 'swann', 'nothing', 'quite', 'seems']),\n",
       "       list(['plan', 'one', 'escapes', 'cryptic', 'message', 'bonds', 'past', 'sends', 'trail', 'uncover', 'sinister', 'organization', 'battles', 'political', 'forces', 'keep', 'secret', 'service', 'alive', 'bond', 'peels', 'back', 'layers', 'deceit', 'reveal', 'terrible', 'truth', 'behind', 'spectre'])],\n",
       "      dtype=object)"
      ]
     },
     "execution_count": 99,
     "metadata": {},
     "output_type": "execute_result"
    }
   ],
   "source": [
    "norm_corpus_tokens = np.array([nltk.word_tokenize(doc) for doc in norm_corpus])\n",
    "norm_corpus_tokens[:3]"
   ]
  },
  {
   "cell_type": "markdown",
   "metadata": {
    "id": "HJ86y1RdA1gr"
   },
   "source": [
    "The following line may take some time to execute depending on compute"
   ]
  },
  {
   "cell_type": "code",
   "execution_count": 100,
   "metadata": {
    "id": "J_Rlehs6g695"
   },
   "outputs": [
    {
     "name": "stdout",
     "output_type": "stream",
     "text": [
      "Wall time: 1min 19s\n"
     ]
    }
   ],
   "source": [
    "%%time\n",
    "wts = get_bm25_weights(norm_corpus_tokens)"
   ]
  },
  {
   "cell_type": "code",
   "execution_count": null,
   "metadata": {
    "id": "ZZkEb8BLg_YV"
   },
   "outputs": [],
   "source": [
    "bm25_wts_df = pd.DataFrame(wts)\n",
    "bm25_wts_df.head()"
   ]
  },
  {
   "cell_type": "code",
   "execution_count": null,
   "metadata": {
    "id": "jyub65-MhFkk"
   },
   "outputs": [],
   "source": [
    "for movie in popular_movies:\n",
    "    print('Movie:', movie)\n",
    "    print('Top 5 recommended Movies:', movie_recommender(movie_title=movie, doc_sims=bm25_wts_df))\n",
    "    print()"
   ]
  }
 ],
 "metadata": {
  "colab": {
   "collapsed_sections": [],
   "name": "Exercise 1 - Movie Recommender System.ipynb",
   "provenance": [],
   "toc_visible": true
  },
  "kernelspec": {
   "display_name": "Python 3",
   "language": "python",
   "name": "python3"
  },
  "language_info": {
   "codemirror_mode": {
    "name": "ipython",
    "version": 3
   },
   "file_extension": ".py",
   "mimetype": "text/x-python",
   "name": "python",
   "nbconvert_exporter": "python",
   "pygments_lexer": "ipython3",
   "version": "3.8.5"
  }
 },
 "nbformat": 4,
 "nbformat_minor": 1
}
